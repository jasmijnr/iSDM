{
 "cells": [
  {
   "cell_type": "code",
   "execution_count": 1,
   "metadata": {
    "collapsed": false
   },
   "outputs": [],
   "source": [
    "from enum import Enum\n",
    "\n",
    "class Source(Enum):\n",
    "    WORLDCLIM = 1\n",
    "    GLOBE = 2"
   ]
  },
  {
   "cell_type": "code",
   "execution_count": 2,
   "metadata": {
    "collapsed": false
   },
   "outputs": [
    {
     "name": "stdout",
     "output_type": "stream",
     "text": [
      "This will be it ['WORLDCLIM', 'GLOBE'] \n"
     ]
    }
   ],
   "source": [
    "print(\"This will be it %s \" % list(Source.__members__))"
   ]
  },
  {
   "cell_type": "code",
   "execution_count": 3,
   "metadata": {
    "collapsed": true
   },
   "outputs": [],
   "source": [
    "import rasterio\n",
    "tmax_january = rasterio.open(\"/home/daniela/git/iSDM/data/tmax1/tmax1.bil\")"
   ]
  },
  {
   "cell_type": "code",
   "execution_count": 4,
   "metadata": {
    "collapsed": false
   },
   "outputs": [
    {
     "data": {
      "text/plain": [
       "BoundingBox(left=-180.00000000000335, bottom=-60.000000000001165, right=179.9999999999995, top=90.00000000000003)"
      ]
     },
     "execution_count": 4,
     "metadata": {},
     "output_type": "execute_result"
    }
   ],
   "source": [
    "tmax_january.bounds # it's part of the metadata (header) MinX MinY MaxX MaxY"
   ]
  },
  {
   "cell_type": "code",
   "execution_count": 5,
   "metadata": {
    "collapsed": false
   },
   "outputs": [
    {
     "data": {
      "text/plain": [
       "[-9999.0]"
      ]
     },
     "execution_count": 5,
     "metadata": {},
     "output_type": "execute_result"
    }
   ],
   "source": [
    "tmax_january.get_nodatavals() # also metadata"
   ]
  },
  {
   "cell_type": "code",
   "execution_count": 6,
   "metadata": {
    "collapsed": false
   },
   "outputs": [
    {
     "data": {
      "text/plain": [
       "{'init': 'epsg:4326'}"
      ]
     },
     "execution_count": 6,
     "metadata": {},
     "output_type": "execute_result"
    }
   ],
   "source": [
    "tmax_january.crs"
   ]
  },
  {
   "cell_type": "code",
   "execution_count": 7,
   "metadata": {
    "collapsed": false
   },
   "outputs": [
    {
     "data": {
      "text/plain": [
       "3600"
      ]
     },
     "execution_count": 7,
     "metadata": {},
     "output_type": "execute_result"
    }
   ],
   "source": [
    "tmax_january.height # NROWS metadata"
   ]
  },
  {
   "cell_type": "code",
   "execution_count": 8,
   "metadata": {
    "collapsed": false
   },
   "outputs": [
    {
     "data": {
      "text/plain": [
       "(-1.9326762412674725e-12, 14.999999999999432)"
      ]
     },
     "execution_count": 8,
     "metadata": {},
     "output_type": "execute_result"
    }
   ],
   "source": [
    "tmax_january.lnglat()"
   ]
  },
  {
   "cell_type": "code",
   "execution_count": 9,
   "metadata": {
    "collapsed": false
   },
   "outputs": [
    {
     "data": {
      "text/plain": [
       "(0.041666666666667, 0.041666666666667)"
      ]
     },
     "execution_count": 9,
     "metadata": {},
     "output_type": "execute_result"
    }
   ],
   "source": [
    "tmax_january.res  # pixel size? XDIM YDIM metadata"
   ]
  },
  {
   "cell_type": "code",
   "execution_count": 10,
   "metadata": {
    "collapsed": false
   },
   "outputs": [
    {
     "data": {
      "text/plain": [
       "{'affine': Affine(0.041666666666667, 0.0, -180.00000000000335,\n",
       "       0.0, -0.041666666666667, 90.00000000000003),\n",
       " 'count': 1,\n",
       " 'crs': {'init': 'epsg:4326'},\n",
       " 'driver': 'EHdr',\n",
       " 'dtype': 'int16',\n",
       " 'height': 3600,\n",
       " 'nodata': -9999.0,\n",
       " 'transform': (-180.00000000000335,\n",
       "  0.041666666666667,\n",
       "  0.0,\n",
       "  90.00000000000003,\n",
       "  0.0,\n",
       "  -0.041666666666667),\n",
       " 'width': 8640}"
      ]
     },
     "execution_count": 10,
     "metadata": {},
     "output_type": "execute_result"
    }
   ],
   "source": [
    "tmax_january.meta # awesome!"
   ]
  },
  {
   "cell_type": "code",
   "execution_count": 11,
   "metadata": {
    "collapsed": false
   },
   "outputs": [
    {
     "data": {
      "text/plain": [
       "(-180.00000000000335,\n",
       " 0.041666666666667,\n",
       " 0.0,\n",
       " 90.00000000000003,\n",
       " 0.0,\n",
       " -0.041666666666667)"
      ]
     },
     "execution_count": 11,
     "metadata": {},
     "output_type": "execute_result"
    }
   ],
   "source": [
    "tmax_january.meta['transform']"
   ]
  },
  {
   "cell_type": "code",
   "execution_count": 12,
   "metadata": {
    "collapsed": false
   },
   "outputs": [
    {
     "data": {
      "text/plain": [
       "<generator object sample_gen at 0x7fe5f06d2438>"
      ]
     },
     "execution_count": 12,
     "metadata": {},
     "output_type": "execute_result"
    }
   ],
   "source": [
    "tmax_january.sample(0.4)"
   ]
  },
  {
   "cell_type": "code",
   "execution_count": 13,
   "metadata": {
    "collapsed": false
   },
   "outputs": [
    {
     "name": "stdout",
     "output_type": "stream",
     "text": [
      "1 -489 419 -7087.92549322\n"
     ]
    }
   ],
   "source": [
    "npixels = tmax_january.width * tmax_january.height\n",
    "for i in tmax_january.indexes:\n",
    "    band = tmax_january.read(i)\n",
    "    print(i, band[band!=tmax_january.nodata].min(), band.max(), band.sum()/npixels)"
   ]
  },
  {
   "cell_type": "code",
   "execution_count": 14,
   "metadata": {
    "collapsed": false
   },
   "outputs": [
    {
     "data": {
      "text/plain": [
       "31104000"
      ]
     },
     "execution_count": 14,
     "metadata": {},
     "output_type": "execute_result"
    }
   ],
   "source": [
    "npixels"
   ]
  },
  {
   "cell_type": "code",
   "execution_count": 15,
   "metadata": {
    "collapsed": false
   },
   "outputs": [
    {
     "name": "stdout",
     "output_type": "stream",
     "text": [
      "transform : (-180.00000000000335, 0.041666666666667, 0.0, 90.00000000000003, 0.0, -0.041666666666667)\n",
      "count : 1\n",
      "driver : EHdr\n",
      "width : 8640\n",
      "height : 3600\n",
      "dtype : int16\n",
      "nodata : -9999.0\n",
      "crs : {'init': 'epsg:4326'}\n",
      "affine : | 0.04, 0.00,-180.00|\n",
      "| 0.00,-0.04, 90.00|\n",
      "| 0.00, 0.00, 1.00|\n"
     ]
    }
   ],
   "source": [
    "for key in tmax_january.meta.keys():\n",
    "    print(key,\":\",tmax_january.meta[key])"
   ]
  },
  {
   "cell_type": "code",
   "execution_count": 16,
   "metadata": {
    "collapsed": false
   },
   "outputs": [
    {
     "name": "stdout",
     "output_type": "stream",
     "text": [
      "[[[-9999 -9999 -9999 ..., -9999 -9999 -9999]\n",
      "  [-9999 -9999 -9999 ..., -9999 -9999 -9999]\n",
      "  [-9999 -9999 -9999 ..., -9999 -9999 -9999]\n",
      "  ..., \n",
      "  [-9999 -9999 -9999 ..., -9999 -9999 -9999]\n",
      "  [-9999 -9999 -9999 ..., -9999 -9999 -9999]\n",
      "  [-9999 -9999 -9999 ..., -9999 -9999 -9999]]]\n"
     ]
    }
   ],
   "source": [
    "print(tmax_january.read())"
   ]
  },
  {
   "cell_type": "code",
   "execution_count": 17,
   "metadata": {
    "collapsed": false
   },
   "outputs": [
    {
     "name": "stdout",
     "output_type": "stream",
     "text": [
      "{'transform': (-180.00000000000335, 0.041666666666667, 0.0, 90.00000000000003, 0.0, -0.041666666666667), 'count': 1, 'driver': 'EHdr', 'width': 8640, 'height': 3600, 'dtype': 'int16', 'nodata': -9999.0, 'crs': {'init': 'epsg:4326'}, 'affine': Affine(0.041666666666667, 0.0, -180.00000000000335,\n",
      "       0.0, -0.041666666666667, 90.00000000000003)}\n"
     ]
    }
   ],
   "source": [
    "print(tmax_january.meta)"
   ]
  },
  {
   "cell_type": "code",
   "execution_count": 18,
   "metadata": {
    "collapsed": false
   },
   "outputs": [
    {
     "name": "stdout",
     "output_type": "stream",
     "text": [
      "{\n",
      "  \"transform\": [\n",
      "    -180.00000000000335,\n",
      "    0.041666666666667,\n",
      "    0.0,\n",
      "    90.00000000000003,\n",
      "    0.0,\n",
      "    -0.041666666666667\n",
      "  ],\n",
      "  \"count\": 1,\n",
      "  \"driver\": \"EHdr\",\n",
      "  \"width\": 8640,\n",
      "  \"height\": 3600,\n",
      "  \"dtype\": \"int16\",\n",
      "  \"nodata\": -9999.0,\n",
      "  \"crs\": {\n",
      "    \"init\": \"epsg:4326\"\n",
      "  },\n",
      "  \"affine\": [\n",
      "    0.041666666666667,\n",
      "    0.0,\n",
      "    -180.00000000000335,\n",
      "    0.0,\n",
      "    -0.041666666666667,\n",
      "    90.00000000000003,\n",
      "    0.0,\n",
      "    0.0,\n",
      "    1.0\n",
      "  ]\n",
      "}\n"
     ]
    }
   ],
   "source": [
    "import json\n",
    "print(json.dumps(tmax_january.meta, indent=2))"
   ]
  },
  {
   "cell_type": "code",
   "execution_count": 19,
   "metadata": {
    "collapsed": true
   },
   "outputs": [],
   "source": [
    " import pprint"
   ]
  },
  {
   "cell_type": "code",
   "execution_count": 20,
   "metadata": {
    "collapsed": true
   },
   "outputs": [],
   "source": [
    "pp = pprint.PrettyPrinter(depth=6)"
   ]
  },
  {
   "cell_type": "code",
   "execution_count": 21,
   "metadata": {
    "collapsed": false
   },
   "outputs": [
    {
     "name": "stdout",
     "output_type": "stream",
     "text": [
      "{'affine': Affine(0.041666666666667, 0.0, -180.00000000000335,\n",
      "       0.0, -0.041666666666667, 90.00000000000003),\n",
      " 'count': 1,\n",
      " 'crs': {'init': 'epsg:4326'},\n",
      " 'driver': 'EHdr',\n",
      " 'dtype': 'int16',\n",
      " 'height': 3600,\n",
      " 'nodata': -9999.0,\n",
      " 'transform': (-180.00000000000335,\n",
      "               0.041666666666667,\n",
      "               0.0,\n",
      "               90.00000000000003,\n",
      "               0.0,\n",
      "               -0.041666666666667),\n",
      " 'width': 8640}\n",
      "None\n"
     ]
    }
   ],
   "source": [
    "print(pp.pprint(tmax_january.meta))"
   ]
  },
  {
   "cell_type": "code",
   "execution_count": null,
   "metadata": {
    "collapsed": false
   },
   "outputs": [],
   "source": []
  },
  {
   "cell_type": "code",
   "execution_count": 1,
   "metadata": {
    "collapsed": false
   },
   "outputs": [],
   "source": []
  },
  {
   "cell_type": "code",
   "execution_count": 2,
   "metadata": {
    "collapsed": true
   },
   "outputs": [],
   "source": []
  },
  {
   "cell_type": "code",
   "execution_count": 3,
   "metadata": {
    "collapsed": false
   },
   "outputs": [
    {
     "name": "stderr",
     "output_type": "stream",
     "text": [
      "Loaded data from /home/daniela/git/iSDM/data/tmax1/tmax1.bil \n",
      "Metadata: {'affine': Affine(0.041666666666667, 0.0, -180.00000000000335,\n",
      "       0.0, -0.041666666666667, 90.00000000000003),\n",
      " 'count': 1,\n",
      " 'crs': {'init': 'epsg:4326'},\n",
      " 'driver': 'EHdr',\n",
      " 'dtype': 'int16',\n",
      " 'height': 3600,\n",
      " 'nodata': -9999.0,\n",
      " 'transform': (-180.00000000000335,\n",
      "               0.041666666666667,\n",
      "               0.0,\n",
      "               90.00000000000003,\n",
      "               0.0,\n",
      "               -0.041666666666667),\n",
      " 'width': 8640} \n",
      "Resolution: (0.041666666666667, 0.041666666666667) \n",
      "Bounds: BoundingBox(left=-180.00000000000335, bottom=-60.000000000001165, right=179.9999999999995, top=90.00000000000003) \n"
     ]
    },
    {
     "data": {
      "text/plain": [
       "array([[[-9999, -9999, -9999, ..., -9999, -9999, -9999],\n",
       "        [-9999, -9999, -9999, ..., -9999, -9999, -9999],\n",
       "        [-9999, -9999, -9999, ..., -9999, -9999, -9999],\n",
       "        ..., \n",
       "        [-9999, -9999, -9999, ..., -9999, -9999, -9999],\n",
       "        [-9999, -9999, -9999, ..., -9999, -9999, -9999],\n",
       "        [-9999, -9999, -9999, ..., -9999, -9999, -9999]]], dtype=int16)"
      ]
     },
     "execution_count": 3,
     "metadata": {},
     "output_type": "execute_result"
    }
   ],
   "source": [
    "temperature_max_january.load_data()"
   ]
  },
  {
   "cell_type": "code",
   "execution_count": 4,
   "metadata": {
    "collapsed": false
   },
   "outputs": [
    {
     "ename": "NameError",
     "evalue": "name 'pp' is not defined",
     "output_type": "error",
     "traceback": [
      "\u001b[1;31m---------------------------------------------------------------------------\u001b[0m",
      "\u001b[1;31mNameError\u001b[0m                                 Traceback (most recent call last)",
      "\u001b[1;32m<ipython-input-4-fdc26d6e9d0b>\u001b[0m in \u001b[0;36m<module>\u001b[1;34m()\u001b[0m\n\u001b[1;32m----> 1\u001b[1;33m \u001b[0mpp\u001b[0m\u001b[1;33m.\u001b[0m\u001b[0mpformat\u001b[0m\u001b[1;33m(\u001b[0m\u001b[0mtmax_january\u001b[0m\u001b[1;33m.\u001b[0m\u001b[0mmeta\u001b[0m\u001b[1;33m)\u001b[0m\u001b[1;33m\u001b[0m\u001b[0m\n\u001b[0m",
      "\u001b[1;31mNameError\u001b[0m: name 'pp' is not defined"
     ]
    }
   ],
   "source": [
    "pp.pformat(tmax_january.meta)"
   ]
  },
  {
   "cell_type": "code",
   "execution_count": 18,
   "metadata": {
    "collapsed": false
   },
   "outputs": [
    {
     "ename": "NameError",
     "evalue": "name 'tmax_january' is not defined",
     "output_type": "error",
     "traceback": [
      "\u001b[1;31m---------------------------------------------------------------------------\u001b[0m",
      "\u001b[1;31mNameError\u001b[0m                                 Traceback (most recent call last)",
      "\u001b[1;32m<ipython-input-18-bb7acd4942a1>\u001b[0m in \u001b[0;36m<module>\u001b[1;34m()\u001b[0m\n\u001b[0;32m      2\u001b[0m \u001b[1;33m\u001b[0m\u001b[0m\n\u001b[0;32m      3\u001b[0m \u001b[1;32mimport\u001b[0m \u001b[0mnumpy\u001b[0m \u001b[1;32mas\u001b[0m \u001b[0mnp\u001b[0m\u001b[1;33m\u001b[0m\u001b[0m\n\u001b[1;32m----> 4\u001b[1;33m \u001b[0mdestination\u001b[0m \u001b[1;33m=\u001b[0m \u001b[0mnp\u001b[0m\u001b[1;33m.\u001b[0m\u001b[0mzeros\u001b[0m\u001b[1;33m(\u001b[0m\u001b[0mtmax_january\u001b[0m\u001b[1;33m.\u001b[0m\u001b[0mread\u001b[0m\u001b[1;33m(\u001b[0m\u001b[1;36m1\u001b[0m\u001b[1;33m)\u001b[0m\u001b[1;33m.\u001b[0m\u001b[0mshape\u001b[0m\u001b[1;33m,\u001b[0m \u001b[0mnp\u001b[0m\u001b[1;33m.\u001b[0m\u001b[0muint8\u001b[0m\u001b[1;33m)\u001b[0m\u001b[1;33m\u001b[0m\u001b[0m\n\u001b[0m\u001b[0;32m      5\u001b[0m \u001b[0msource\u001b[0m\u001b[1;33m=\u001b[0m\u001b[0mrasterio\u001b[0m\u001b[1;33m.\u001b[0m\u001b[0mband\u001b[0m\u001b[1;33m(\u001b[0m\u001b[0mtmax_january\u001b[0m\u001b[1;33m,\u001b[0m \u001b[1;36m1\u001b[0m\u001b[1;33m)\u001b[0m\u001b[1;33m\u001b[0m\u001b[0m\n\u001b[0;32m      6\u001b[0m \u001b[0mband\u001b[0m \u001b[1;33m=\u001b[0m \u001b[0mtmax_january\u001b[0m\u001b[1;33m.\u001b[0m\u001b[0mread\u001b[0m\u001b[1;33m(\u001b[0m\u001b[1;33m)\u001b[0m\u001b[1;33m\u001b[0m\u001b[0m\n",
      "\u001b[1;31mNameError\u001b[0m: name 'tmax_january' is not defined"
     ]
    }
   ],
   "source": [
    "from rasterio.warp import calculate_default_transform, reproject, RESAMPLING\n",
    "\n",
    "import numpy as np\n",
    "destination = np.zeros(tmax_january.read(1).shape, np.uint8)\n",
    "source=rasterio.band(tmax_january, 1)\n",
    "band = tmax_january.read()"
   ]
  },
  {
   "cell_type": "code",
   "execution_count": 19,
   "metadata": {
    "collapsed": false
   },
   "outputs": [
    {
     "ename": "NameError",
     "evalue": "name 'tmax_january' is not defined",
     "output_type": "error",
     "traceback": [
      "\u001b[1;31m---------------------------------------------------------------------------\u001b[0m",
      "\u001b[1;31mNameError\u001b[0m                                 Traceback (most recent call last)",
      "\u001b[1;32m<ipython-input-19-28831d38db48>\u001b[0m in \u001b[0;36m<module>\u001b[1;34m()\u001b[0m\n\u001b[1;32m----> 1\u001b[1;33m affine, width, height = calculate_default_transform(src_crs=tmax_january.crs, \n\u001b[0m\u001b[0;32m      2\u001b[0m                             \u001b[0mdst_crs\u001b[0m\u001b[1;33m=\u001b[0m\u001b[0mtmax_january\u001b[0m\u001b[1;33m.\u001b[0m\u001b[0mcrs\u001b[0m\u001b[1;33m,\u001b[0m\u001b[1;33m\u001b[0m\u001b[0m\n\u001b[0;32m      3\u001b[0m                             \u001b[0mwidth\u001b[0m\u001b[1;33m=\u001b[0m\u001b[0mtmax_january\u001b[0m\u001b[1;33m.\u001b[0m\u001b[0mwidth\u001b[0m\u001b[1;33m,\u001b[0m\u001b[1;33m\u001b[0m\u001b[0m\n\u001b[0;32m      4\u001b[0m                             \u001b[0mheight\u001b[0m\u001b[1;33m=\u001b[0m\u001b[0mtmax_january\u001b[0m\u001b[1;33m.\u001b[0m\u001b[0mheight\u001b[0m\u001b[1;33m,\u001b[0m\u001b[1;33m\u001b[0m\u001b[0m\n\u001b[0;32m      5\u001b[0m                             \u001b[0mleft\u001b[0m\u001b[1;33m=\u001b[0m\u001b[0mtmax_january\u001b[0m\u001b[1;33m.\u001b[0m\u001b[0mbounds\u001b[0m\u001b[1;33m.\u001b[0m\u001b[0mleft\u001b[0m\u001b[1;33m,\u001b[0m\u001b[1;33m\u001b[0m\u001b[0m\n",
      "\u001b[1;31mNameError\u001b[0m: name 'tmax_january' is not defined"
     ]
    }
   ],
   "source": [
    "affine, width, height = calculate_default_transform(src_crs=tmax_january.crs, \n",
    "                            dst_crs=tmax_january.crs, \n",
    "                            width=tmax_january.width, \n",
    "                            height=tmax_january.height, \n",
    "                            left=tmax_january.bounds.left,\n",
    "                            bottom=tmax_january.bounds.bottom,\n",
    "                            right=tmax_january.bounds.right,\n",
    "                            top=tmax_january.bounds.top,\n",
    "                            resolution=5) # CHNGE RESOLUTION"
   ]
  },
  {
   "cell_type": "code",
   "execution_count": 122,
   "metadata": {
    "collapsed": false
   },
   "outputs": [],
   "source": [
    "destination = np.zeros((height,width), np.int16)"
   ]
  },
  {
   "cell_type": "code",
   "execution_count": 123,
   "metadata": {
    "collapsed": false
   },
   "outputs": [],
   "source": [
    "reproject(source=source, \n",
    "          destination=destination, src_transform=tmax_january.affine, \n",
    "          src_crs=tmax_january.crs, \n",
    "          dst_transform=affine, \n",
    "          dst_crs=tmax_january.crs, \n",
    "          resampling=RESAMPLING.nearest)"
   ]
  },
  {
   "cell_type": "code",
   "execution_count": 25,
   "metadata": {
    "collapsed": false
   },
   "outputs": [
    {
     "ename": "NameError",
     "evalue": "name 'destination' is not defined",
     "output_type": "error",
     "traceback": [
      "\u001b[1;31m---------------------------------------------------------------------------\u001b[0m",
      "\u001b[1;31mNameError\u001b[0m                                 Traceback (most recent call last)",
      "\u001b[1;32m<ipython-input-25-35e66a178b8a>\u001b[0m in \u001b[0;36m<module>\u001b[1;34m()\u001b[0m\n\u001b[1;32m----> 1\u001b[1;33m \u001b[0mdestination\u001b[0m\u001b[1;33m.\u001b[0m\u001b[0mshape\u001b[0m\u001b[1;33m\u001b[0m\u001b[0m\n\u001b[0m",
      "\u001b[1;31mNameError\u001b[0m: name 'destination' is not defined"
     ]
    }
   ],
   "source": [
    "destination.shape"
   ]
  },
  {
   "cell_type": "code",
   "execution_count": 1,
   "metadata": {
    "collapsed": false
   },
   "outputs": [
    {
     "ename": "NameError",
     "evalue": "name 'destination' is not defined",
     "output_type": "error",
     "traceback": [
      "\u001b[1;31m---------------------------------------------------------------------------\u001b[0m",
      "\u001b[1;31mNameError\u001b[0m                                 Traceback (most recent call last)",
      "\u001b[1;32m<ipython-input-1-aa5272fd41aa>\u001b[0m in \u001b[0;36m<module>\u001b[1;34m()\u001b[0m\n\u001b[0;32m      1\u001b[0m \u001b[0mget_ipython\u001b[0m\u001b[1;33m(\u001b[0m\u001b[1;33m)\u001b[0m\u001b[1;33m.\u001b[0m\u001b[0mmagic\u001b[0m\u001b[1;33m(\u001b[0m\u001b[1;34m'matplotlib inline'\u001b[0m\u001b[1;33m)\u001b[0m\u001b[1;33m\u001b[0m\u001b[0m\n\u001b[0;32m      2\u001b[0m \u001b[1;32mimport\u001b[0m \u001b[0mmatplotlib\u001b[0m\u001b[1;33m.\u001b[0m\u001b[0mpyplot\u001b[0m \u001b[1;32mas\u001b[0m \u001b[0mplt\u001b[0m\u001b[1;33m\u001b[0m\u001b[0m\n\u001b[1;32m----> 3\u001b[1;33m \u001b[0mplt\u001b[0m\u001b[1;33m.\u001b[0m\u001b[0mimshow\u001b[0m\u001b[1;33m(\u001b[0m\u001b[0mdestination\u001b[0m\u001b[1;33m,\u001b[0m \u001b[0mcmap\u001b[0m\u001b[1;33m=\u001b[0m\u001b[1;34m\"hot\"\u001b[0m\u001b[1;33m,\u001b[0m \u001b[0minterpolation\u001b[0m\u001b[1;33m=\u001b[0m\u001b[1;34m\"none\"\u001b[0m\u001b[1;33m)\u001b[0m\u001b[1;33m\u001b[0m\u001b[0m\n\u001b[0m",
      "\u001b[1;31mNameError\u001b[0m: name 'destination' is not defined"
     ]
    }
   ],
   "source": [
    "%matplotlib inline\n",
    "import matplotlib.pyplot as plt\n",
    "plt.imshow(destination, cmap=\"hot\", interpolation=\"none\")"
   ]
  },
  {
   "cell_type": "code",
   "execution_count": 104,
   "metadata": {
    "collapsed": false
   },
   "outputs": [
    {
     "data": {
      "text/plain": [
       "<matplotlib.image.AxesImage at 0x7fe5c6ffbf28>"
      ]
     },
     "execution_count": 104,
     "metadata": {},
     "output_type": "execute_result"
    },
    {
     "data": {
      "image/png": "[encoded data removed]",
      "text/plain": [
       "<matplotlib.figure.Figure at 0x7fe5c70a6ac8>"
      ]
     },
     "metadata": {},
     "output_type": "display_data"
    }
   ],
   "source": [
    "plt.imshow(band[0], cmap=\"hot\", interpolation=\"none\")"
   ]
  },
  {
   "cell_type": "code",
   "execution_count": 1,
   "metadata": {
    "collapsed": false
   },
   "outputs": [
    {
     "name": "stderr",
     "output_type": "stream",
     "text": [
      "Loaded data from /home/daniela/git/iSDM/data/tmax1/tmax1.bil \n",
      "Metadata: {'affine': Affine(0.041666666666667, 0.0, -180.00000000000335,\n",
      "       0.0, -0.041666666666667, 90.00000000000003),\n",
      " 'count': 1,\n",
      " 'crs': {'init': 'epsg:4326'},\n",
      " 'driver': 'EHdr',\n",
      " 'dtype': 'int16',\n",
      " 'height': 3600,\n",
      " 'nodata': -9999.0,\n",
      " 'transform': (-180.00000000000335,\n",
      "               0.041666666666667,\n",
      "               0.0,\n",
      "               90.00000000000003,\n",
      "               0.0,\n",
      "               -0.041666666666667),\n",
      " 'width': 8640} \n",
      "Resolution: (0.041666666666667, 0.041666666666667) \n",
      "Bounds: BoundingBox(left=-180.00000000000335, bottom=-60.000000000001165, right=179.9999999999995, top=90.00000000000003) \n"
     ]
    },
    {
     "data": {
      "text/plain": [
       "array([[[-9999, -9999, -9999, ..., -9999, -9999, -9999],\n",
       "        [-9999, -9999, -9999, ..., -9999, -9999, -9999],\n",
       "        [-9999, -9999, -9999, ..., -9999, -9999, -9999],\n",
       "        ..., \n",
       "        [-9999, -9999, -9999, ..., -9999, -9999, -9999],\n",
       "        [-9999, -9999, -9999, ..., -9999, -9999, -9999],\n",
       "        [-9999, -9999, -9999, ..., -9999, -9999, -9999]]], dtype=int16)"
      ]
     },
     "execution_count": 1,
     "metadata": {},
     "output_type": "execute_result"
    }
   ],
   "source": [
    "%matplotlib inline\n",
    "import matplotlib.pyplot as plt\n",
    "import logging\n",
    "root = logging.getLogger()\n",
    "root.addHandler(logging.StreamHandler())\n",
    "\n",
    "from iSDM.environment import ClimateLayer\n",
    "temperature_max_january = ClimateLayer(file_path=\"/home/daniela/git/iSDM/data/tmax1/tmax1.bil\")\n",
    "temperature_max_january.load_data()"
   ]
  },
  {
   "cell_type": "code",
   "execution_count": 2,
   "metadata": {
    "collapsed": true
   },
   "outputs": [],
   "source": [
    "temperature_max_january.reproject(destination_file=\"./here.tif\", resolution=10, dst_crs='EPSG:4326')"
   ]
  },
  {
   "cell_type": "code",
   "execution_count": 3,
   "metadata": {
    "collapsed": false
   },
   "outputs": [],
   "source": [
    "import rasterio\n",
    "here = rasterio.open(\"./here.tif\")"
   ]
  },
  {
   "cell_type": "code",
   "execution_count": 4,
   "metadata": {
    "collapsed": false
   },
   "outputs": [
    {
     "data": {
      "text/plain": [
       "(1, 16, 37)"
      ]
     },
     "execution_count": 4,
     "metadata": {},
     "output_type": "execute_result"
    }
   ],
   "source": [
    "here.read().shape"
   ]
  },
  {
   "cell_type": "code",
   "execution_count": 5,
   "metadata": {
    "collapsed": false
   },
   "outputs": [
    {
     "data": {
      "text/plain": [
       "<matplotlib.image.AxesImage at 0x7f8004b4d5c0>"
      ]
     },
     "execution_count": 5,
     "metadata": {},
     "output_type": "execute_result"
    },
    {
     "data": {
      "image/png": "[encoded data removed]",
      "text/plain": [
       "<matplotlib.figure.Figure at 0x7f800b5ce8d0>"
      ]
     },
     "metadata": {},
     "output_type": "display_data"
    }
   ],
   "source": [
    "plt.imshow(here.read()[0], cmap=\"hot\", interpolation=\"none\")"
   ]
  },
  {
   "cell_type": "code",
   "execution_count": 6,
   "metadata": {
    "collapsed": false
   },
   "outputs": [
    {
     "name": "stderr",
     "output_type": "stream",
     "text": [
      "Loaded data from /home/daniela/git/iSDM/data/tmax1/tmax1.bil \n",
      "Metadata: {'affine': Affine(0.041666666666667, 0.0, -180.00000000000335,\n",
      "       0.0, -0.041666666666667, 90.00000000000003),\n",
      " 'count': 1,\n",
      " 'crs': {'init': 'epsg:4326'},\n",
      " 'driver': 'EHdr',\n",
      " 'dtype': 'int16',\n",
      " 'height': 3600,\n",
      " 'nodata': -9999.0,\n",
      " 'transform': (-180.00000000000335,\n",
      "               0.041666666666667,\n",
      "               0.0,\n",
      "               90.00000000000003,\n",
      "               0.0,\n",
      "               -0.041666666666667),\n",
      " 'width': 8640} \n",
      "Resolution: (0.041666666666667, 0.041666666666667) \n",
      "Bounds: BoundingBox(left=-180.00000000000335, bottom=-60.000000000001165, right=179.9999999999995, top=90.00000000000003) \n"
     ]
    }
   ],
   "source": [
    "original_data = temperature_max_january.load_data()"
   ]
  },
  {
   "cell_type": "code",
   "execution_count": 7,
   "metadata": {
    "collapsed": false
   },
   "outputs": [
    {
     "data": {
      "text/plain": [
       "(1, 3600, 8640)"
      ]
     },
     "execution_count": 7,
     "metadata": {},
     "output_type": "execute_result"
    }
   ],
   "source": [
    "original_data.shape"
   ]
  },
  {
   "cell_type": "code",
   "execution_count": 8,
   "metadata": {
    "collapsed": false
   },
   "outputs": [
    {
     "data": {
      "text/plain": [
       "-9999.0"
      ]
     },
     "execution_count": 8,
     "metadata": {},
     "output_type": "execute_result"
    }
   ],
   "source": [
    "here.nodata"
   ]
  },
  {
   "cell_type": "code",
   "execution_count": 9,
   "metadata": {
    "collapsed": false
   },
   "outputs": [
    {
     "data": {
      "text/plain": [
       "{'affine': Affine(10.0, 0.0, -180.000000000003,\n",
       "       0.0, -10.0, 90.0),\n",
       " 'count': 1,\n",
       " 'crs': {'init': 'epsg:4326'},\n",
       " 'driver': 'EHdr',\n",
       " 'dtype': 'int16',\n",
       " 'height': 16,\n",
       " 'nodata': -9999.0,\n",
       " 'transform': (-180.000000000003, 10.0, 0.0, 90.0, 0.0, -10.0),\n",
       " 'width': 37}"
      ]
     },
     "execution_count": 9,
     "metadata": {},
     "output_type": "execute_result"
    }
   ],
   "source": [
    "here.meta"
   ]
  },
  {
   "cell_type": "code",
   "execution_count": 10,
   "metadata": {
    "collapsed": false
   },
   "outputs": [
    {
     "data": {
      "text/plain": [
       "BoundingBox(left=-180.000000000003, bottom=-70.0, right=189.999999999997, top=90.0)"
      ]
     },
     "execution_count": 10,
     "metadata": {},
     "output_type": "execute_result"
    }
   ],
   "source": [
    "here.bounds"
   ]
  },
  {
   "cell_type": "code",
   "execution_count": null,
   "metadata": {
    "collapsed": false
   },
   "outputs": [],
   "source": []
  },
  {
   "cell_type": "code",
   "execution_count": null,
   "metadata": {
    "collapsed": true
   },
   "outputs": [],
   "source": []
  }
 ],
 "metadata": {
  "kernelspec": {
   "display_name": "Python 3",
   "language": "python",
   "name": "python3"
  },
  "language_info": {
   "codemirror_mode": {
    "name": "ipython",
    "version": 3
   },
   "file_extension": ".py",
   "mimetype": "text/x-python",
   "name": "python",
   "nbconvert_exporter": "python",
   "pygments_lexer": "ipython3",
   "version": "3.4.4"
  }
 },
 "nbformat": 4,
 "nbformat_minor": 0
}
