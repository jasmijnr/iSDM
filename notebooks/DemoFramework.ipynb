{
 "cells": [
  {
   "cell_type": "code",
   "execution_count": 1,
   "metadata": {
    "collapsed": false
   },
   "outputs": [],
   "source": [
    "from iSDM.species import Species, GBIFSpecies"
   ]
  },
  {
   "cell_type": "code",
   "execution_count": 2,
   "metadata": {
    "collapsed": false
   },
   "outputs": [],
   "source": [
    "my_species = GBIFSpecies(name_species=\"Etheostoma_blennioides\")"
   ]
  },
  {
   "cell_type": "code",
   "execution_count": 3,
   "metadata": {
    "collapsed": false
   },
   "outputs": [
    {
     "data": {
      "text/plain": [
       "'Etheostoma_blennioides'"
      ]
     },
     "execution_count": 3,
     "metadata": {},
     "output_type": "execute_result"
    }
   ],
   "source": [
    "my_species.name_species"
   ]
  },
  {
   "cell_type": "markdown",
   "metadata": {},
   "source": [
    "#### just some logging logic to output in this notebook, nothing to care about."
   ]
  },
  {
   "cell_type": "code",
   "execution_count": 4,
   "metadata": {
    "collapsed": false
   },
   "outputs": [],
   "source": [
    "import logging\n",
    "root = logging.getLogger()\n",
    "root.addHandler(logging.StreamHandler())"
   ]
  },
  {
   "cell_type": "markdown",
   "metadata": {},
   "source": [
    "## 1. Find and download all matching species data from GBIF, show only first 5 observation rows (head()). At this point no data cleaning is done yet."
   ]
  },
  {
   "cell_type": "code",
   "execution_count": 5,
   "metadata": {
    "collapsed": false
   },
   "outputs": [
    {
     "name": "stderr",
     "output_type": "stream",
     "text": [
      "Loading species ... \n",
      "Number of occurrences: 7226 \n",
      "True\n",
      "Loaded species: ['Etheostoma blennioides'] \n"
     ]
    },
    {
     "data": {
      "text/html": [
       "<div>\n",
       "<table border=\"1\" class=\"dataframe\">\n",
       "  <thead>\n",
       "    <tr style=\"text-align: right;\">\n",
       "      <th></th>\n",
       "      <th>accessRights</th>\n",
       "      <th>associatedOccurrences</th>\n",
       "      <th>associatedReferences</th>\n",
       "      <th>associatedSequences</th>\n",
       "      <th>basisOfRecord</th>\n",
       "      <th>bibliographicCitation</th>\n",
       "      <th>catalogNumber</th>\n",
       "      <th>class</th>\n",
       "      <th>classKey</th>\n",
       "      <th>collectionCode</th>\n",
       "      <th>...</th>\n",
       "      <th>type</th>\n",
       "      <th>typeStatus</th>\n",
       "      <th>verbatimCoordinateSystem</th>\n",
       "      <th>verbatimDepth</th>\n",
       "      <th>verbatimElevation</th>\n",
       "      <th>verbatimEventDate</th>\n",
       "      <th>verbatimLocality</th>\n",
       "      <th>vernacularName</th>\n",
       "      <th>waterBody</th>\n",
       "      <th>year</th>\n",
       "    </tr>\n",
       "  </thead>\n",
       "  <tbody>\n",
       "    <tr>\n",
       "      <th>0</th>\n",
       "      <td>Open Access, http://creativecommons.org/public...</td>\n",
       "      <td>NaN</td>\n",
       "      <td>NaN</td>\n",
       "      <td>NaN</td>\n",
       "      <td>PRESERVED_SPECIMEN</td>\n",
       "      <td>Etheostoma blennioides (YPM ICH 028456)</td>\n",
       "      <td>YPM ICH 028456</td>\n",
       "      <td>Actinopterygii</td>\n",
       "      <td>204</td>\n",
       "      <td>VZ</td>\n",
       "      <td>...</td>\n",
       "      <td>PhysicalObject</td>\n",
       "      <td>NaN</td>\n",
       "      <td>NaN</td>\n",
       "      <td>NaN</td>\n",
       "      <td>NaN</td>\n",
       "      <td>NaN</td>\n",
       "      <td>NaN</td>\n",
       "      <td>perches; perch-like fishes; ray-finned fishes;...</td>\n",
       "      <td>NaN</td>\n",
       "      <td>2015.0</td>\n",
       "    </tr>\n",
       "    <tr>\n",
       "      <th>1</th>\n",
       "      <td>NaN</td>\n",
       "      <td>NaN</td>\n",
       "      <td>NaN</td>\n",
       "      <td>NaN</td>\n",
       "      <td>HUMAN_OBSERVATION</td>\n",
       "      <td>NaN</td>\n",
       "      <td>1937841</td>\n",
       "      <td>Actinopterygii</td>\n",
       "      <td>204</td>\n",
       "      <td>Observations</td>\n",
       "      <td>...</td>\n",
       "      <td>NaN</td>\n",
       "      <td>NaN</td>\n",
       "      <td>NaN</td>\n",
       "      <td>NaN</td>\n",
       "      <td>NaN</td>\n",
       "      <td>Thu Sep 10 2015 14:51:49 GMT-0400 (EDT)</td>\n",
       "      <td>3827–4235 Fobes Rd, Rock Creek, OH, US</td>\n",
       "      <td>NaN</td>\n",
       "      <td>NaN</td>\n",
       "      <td>2015.0</td>\n",
       "    </tr>\n",
       "    <tr>\n",
       "      <th>2</th>\n",
       "      <td>NaN</td>\n",
       "      <td>NaN</td>\n",
       "      <td>NaN</td>\n",
       "      <td>NaN</td>\n",
       "      <td>HUMAN_OBSERVATION</td>\n",
       "      <td>NaN</td>\n",
       "      <td>623289</td>\n",
       "      <td>Actinopterygii</td>\n",
       "      <td>204</td>\n",
       "      <td>Observations</td>\n",
       "      <td>...</td>\n",
       "      <td>NaN</td>\n",
       "      <td>NaN</td>\n",
       "      <td>NaN</td>\n",
       "      <td>NaN</td>\n",
       "      <td>NaN</td>\n",
       "      <td>2014-04-13</td>\n",
       "      <td>Beaver Creek</td>\n",
       "      <td>NaN</td>\n",
       "      <td>NaN</td>\n",
       "      <td>2014.0</td>\n",
       "    </tr>\n",
       "    <tr>\n",
       "      <th>3</th>\n",
       "      <td>Open Access, http://creativecommons.org/public...</td>\n",
       "      <td>NaN</td>\n",
       "      <td>Det. by: Thomas J. Near</td>\n",
       "      <td>NaN</td>\n",
       "      <td>PRESERVED_SPECIMEN</td>\n",
       "      <td>Etheostoma blennioides (YPM ICH 026964)</td>\n",
       "      <td>YPM ICH 026964</td>\n",
       "      <td>Actinopterygii</td>\n",
       "      <td>204</td>\n",
       "      <td>VZ</td>\n",
       "      <td>...</td>\n",
       "      <td>PhysicalObject</td>\n",
       "      <td>NaN</td>\n",
       "      <td>NaN</td>\n",
       "      <td>NaN</td>\n",
       "      <td>NaN</td>\n",
       "      <td>NaN</td>\n",
       "      <td>NaN</td>\n",
       "      <td>perches; perch-like fishes; ray-finned fishes;...</td>\n",
       "      <td>NaN</td>\n",
       "      <td>2014.0</td>\n",
       "    </tr>\n",
       "    <tr>\n",
       "      <th>4</th>\n",
       "      <td>Open Access, http://creativecommons.org/public...</td>\n",
       "      <td>NaN</td>\n",
       "      <td>Det. by: William Freedburg, Thomas J. Near</td>\n",
       "      <td>NaN</td>\n",
       "      <td>PRESERVED_SPECIMEN</td>\n",
       "      <td>Etheostoma blennioides (YPM ICH 027023)</td>\n",
       "      <td>YPM ICH 027023</td>\n",
       "      <td>Actinopterygii</td>\n",
       "      <td>204</td>\n",
       "      <td>VZ</td>\n",
       "      <td>...</td>\n",
       "      <td>PhysicalObject</td>\n",
       "      <td>NaN</td>\n",
       "      <td>NaN</td>\n",
       "      <td>NaN</td>\n",
       "      <td>NaN</td>\n",
       "      <td>NaN</td>\n",
       "      <td>NaN</td>\n",
       "      <td>perches; perch-like fishes; ray-finned fishes;...</td>\n",
       "      <td>NaN</td>\n",
       "      <td>2014.0</td>\n",
       "    </tr>\n",
       "  </tbody>\n",
       "</table>\n",
       "<p>5 rows × 138 columns</p>\n",
       "</div>"
      ],
      "text/plain": [
       "                                        accessRights associatedOccurrences  \\\n",
       "0  Open Access, http://creativecommons.org/public...                   NaN   \n",
       "1                                                NaN                   NaN   \n",
       "2                                                NaN                   NaN   \n",
       "3  Open Access, http://creativecommons.org/public...                   NaN   \n",
       "4  Open Access, http://creativecommons.org/public...                   NaN   \n",
       "\n",
       "                         associatedReferences associatedSequences  \\\n",
       "0                                         NaN                 NaN   \n",
       "1                                         NaN                 NaN   \n",
       "2                                         NaN                 NaN   \n",
       "3                     Det. by: Thomas J. Near                 NaN   \n",
       "4  Det. by: William Freedburg, Thomas J. Near                 NaN   \n",
       "\n",
       "        basisOfRecord                    bibliographicCitation  \\\n",
       "0  PRESERVED_SPECIMEN  Etheostoma blennioides (YPM ICH 028456)   \n",
       "1   HUMAN_OBSERVATION                                      NaN   \n",
       "2   HUMAN_OBSERVATION                                      NaN   \n",
       "3  PRESERVED_SPECIMEN  Etheostoma blennioides (YPM ICH 026964)   \n",
       "4  PRESERVED_SPECIMEN  Etheostoma blennioides (YPM ICH 027023)   \n",
       "\n",
       "    catalogNumber           class  classKey collectionCode   ...    \\\n",
       "0  YPM ICH 028456  Actinopterygii       204             VZ   ...     \n",
       "1         1937841  Actinopterygii       204   Observations   ...     \n",
       "2          623289  Actinopterygii       204   Observations   ...     \n",
       "3  YPM ICH 026964  Actinopterygii       204             VZ   ...     \n",
       "4  YPM ICH 027023  Actinopterygii       204             VZ   ...     \n",
       "\n",
       "             type typeStatus  verbatimCoordinateSystem  verbatimDepth  \\\n",
       "0  PhysicalObject        NaN                       NaN            NaN   \n",
       "1             NaN        NaN                       NaN            NaN   \n",
       "2             NaN        NaN                       NaN            NaN   \n",
       "3  PhysicalObject        NaN                       NaN            NaN   \n",
       "4  PhysicalObject        NaN                       NaN            NaN   \n",
       "\n",
       "  verbatimElevation                        verbatimEventDate  \\\n",
       "0               NaN                                      NaN   \n",
       "1               NaN  Thu Sep 10 2015 14:51:49 GMT-0400 (EDT)   \n",
       "2               NaN                               2014-04-13   \n",
       "3               NaN                                      NaN   \n",
       "4               NaN                                      NaN   \n",
       "\n",
       "                         verbatimLocality  \\\n",
       "0                                     NaN   \n",
       "1  3827–4235 Fobes Rd, Rock Creek, OH, US   \n",
       "2                            Beaver Creek   \n",
       "3                                     NaN   \n",
       "4                                     NaN   \n",
       "\n",
       "                                      vernacularName waterBody    year  \n",
       "0  perches; perch-like fishes; ray-finned fishes;...       NaN  2015.0  \n",
       "1                                                NaN       NaN  2015.0  \n",
       "2                                                NaN       NaN  2014.0  \n",
       "3  perches; perch-like fishes; ray-finned fishes;...       NaN  2014.0  \n",
       "4  perches; perch-like fishes; ray-finned fishes;...       NaN  2014.0  \n",
       "\n",
       "[5 rows x 138 columns]"
      ]
     },
     "execution_count": 5,
     "metadata": {},
     "output_type": "execute_result"
    }
   ],
   "source": [
    "my_species.find_species_occurrences().head()"
   ]
  },
  {
   "cell_type": "markdown",
   "metadata": {},
   "source": [
    "#### taxonkey derived from GBIF data. It's a sort of unique ID per species"
   ]
  },
  {
   "cell_type": "code",
   "execution_count": 6,
   "metadata": {
    "collapsed": false
   },
   "outputs": [
    {
     "data": {
      "text/plain": [
       "2382397"
      ]
     },
     "execution_count": 6,
     "metadata": {},
     "output_type": "execute_result"
    }
   ],
   "source": [
    "my_species.ID # taxonkey derived from GBIF. It's a sort of unique ID per species"
   ]
  },
  {
   "cell_type": "markdown",
   "metadata": {},
   "source": [
    "### Data is serialized and saved in a file. \n",
    "Default location: current working directory. Default filename: GBIFID of the species"
   ]
  },
  {
   "cell_type": "code",
   "execution_count": 7,
   "metadata": {
    "collapsed": false
   },
   "outputs": [
    {
     "name": "stderr",
     "output_type": "stream",
     "text": [
      "Saved data: /home/daniela/git/iSDM/notebooks/2382397.pkl \n"
     ]
    }
   ],
   "source": [
    "my_species.save_data()"
   ]
  },
  {
   "cell_type": "code",
   "execution_count": 8,
   "metadata": {
    "collapsed": false
   },
   "outputs": [
    {
     "data": {
      "text/plain": [
       "'GBIF'"
      ]
     },
     "execution_count": 8,
     "metadata": {},
     "output_type": "execute_result"
    }
   ],
   "source": [
    "my_species.source.name"
   ]
  },
  {
   "cell_type": "markdown",
   "metadata": {},
   "source": [
    "### Let's get a general idea of where the species is distributed on the map"
   ]
  },
  {
   "cell_type": "code",
   "execution_count": 9,
   "metadata": {
    "collapsed": false
   },
   "outputs": [
    {
     "data": {
      "image/png": "[encoded data removed]",
      "text/plain": [
       "<matplotlib.figure.Figure at 0x7fe0c0763390>"
      ]
     },
     "metadata": {},
     "output_type": "display_data"
    }
   ],
   "source": [
    "%matplotlib inline\n",
    "my_species.plot_species_occurrence()"
   ]
  },
  {
   "cell_type": "markdown",
   "metadata": {},
   "source": [
    "#### The map is always zoomed to the species borders. Notice low right corner also has one red point."
   ]
  },
  {
   "cell_type": "markdown",
   "metadata": {},
   "source": [
    "### 2. Or just load existing data into a Species object. Let's use the file we saved before."
   ]
  },
  {
   "cell_type": "code",
   "execution_count": 10,
   "metadata": {
    "collapsed": false
   },
   "outputs": [
    {
     "name": "stderr",
     "output_type": "stream",
     "text": [
      "Loading data from: ./2382397.pkl\n",
      "Succesfully loaded previously saved data.\n"
     ]
    }
   ],
   "source": [
    "data = my_species.load_data(\"./2382397.pkl\") # or just load existing data into Species object"
   ]
  },
  {
   "cell_type": "code",
   "execution_count": 11,
   "metadata": {
    "collapsed": false
   },
   "outputs": [
    {
     "data": {
      "text/plain": [
       "Index(['accessRights', 'associatedOccurrences', 'associatedReferences',\n",
       "       'associatedSequences', 'basisOfRecord', 'bibliographicCitation',\n",
       "       'catalogNumber', 'class', 'classKey', 'collectionCode',\n",
       "       ...\n",
       "       'type', 'typeStatus', 'verbatimCoordinateSystem', 'verbatimDepth',\n",
       "       'verbatimElevation', 'verbatimEventDate', 'verbatimLocality',\n",
       "       'vernacularName', 'waterBody', 'year'],\n",
       "      dtype='object', length=138)"
      ]
     },
     "execution_count": 11,
     "metadata": {},
     "output_type": "execute_result"
    }
   ],
   "source": [
    "data.columns # all the columns available per observation"
   ]
  },
  {
   "cell_type": "markdown",
   "metadata": {},
   "source": [
    "## 3. Examples of simple (meta-)data exploration\n",
    "\n",
    "#### Show all unique values of the 'country' column"
   ]
  },
  {
   "cell_type": "code",
   "execution_count": 12,
   "metadata": {
    "collapsed": false
   },
   "outputs": [
    {
     "data": {
      "text/plain": [
       "['United States', nan, 'Canada', 'Namibia', 'India']"
      ]
     },
     "execution_count": 12,
     "metadata": {},
     "output_type": "execute_result"
    }
   ],
   "source": [
    "data['country'].unique().tolist()"
   ]
  },
  {
   "cell_type": "code",
   "execution_count": 13,
   "metadata": {
    "collapsed": false
   },
   "outputs": [
    {
     "data": {
      "text/plain": [
       "(7226, 138)"
      ]
     },
     "execution_count": 13,
     "metadata": {},
     "output_type": "execute_result"
    }
   ],
   "source": [
    "data.shape # there are 7226 observations, 138 parameters per observation"
   ]
  },
  {
   "cell_type": "code",
   "execution_count": 14,
   "metadata": {
    "collapsed": false
   },
   "outputs": [
    {
     "data": {
      "text/plain": [
       "['perches; perch-like fishes; ray-finned fishes; vertebrates; chordates; animals',\n",
       " nan,\n",
       " 'Greenside Darter',\n",
       " 'GREENSIDE DARTER',\n",
       " 'greenside darter']"
      ]
     },
     "execution_count": 14,
     "metadata": {},
     "output_type": "execute_result"
    }
   ],
   "source": [
    "data['vernacularName'].unique().tolist() # self-explanatory"
   ]
  },
  {
   "cell_type": "markdown",
   "metadata": {},
   "source": [
    "### How about latitude/longitude? Does the data need cleaning?\n",
    "head() or tail() is only used to limit the tabular output in this notebook. The \"data\" structure contains it all."
   ]
  },
  {
   "cell_type": "code",
   "execution_count": 15,
   "metadata": {
    "collapsed": false
   },
   "outputs": [
    {
     "data": {
      "text/plain": [
       "7216    43.03333\n",
       "7217    34.84256\n",
       "7218         NaN\n",
       "7219    43.03333\n",
       "7220         NaN\n",
       "7221         NaN\n",
       "7222         NaN\n",
       "7223         NaN\n",
       "7224         NaN\n",
       "7225    41.38022\n",
       "Name: decimalLatitude, dtype: float64"
      ]
     },
     "execution_count": 15,
     "metadata": {},
     "output_type": "execute_result"
    }
   ],
   "source": [
    "data['decimalLatitude'].tail(10)"
   ]
  },
  {
   "cell_type": "markdown",
   "metadata": {},
   "source": [
    "### Hmm, so some values are 'NaN', which means not available.  \n",
    "We can fill them with something (default?), or drop those records where latitude/longitude are not available. Let's drop records where the latitude/longitude data is not available"
   ]
  },
  {
   "cell_type": "code",
   "execution_count": 16,
   "metadata": {
    "collapsed": false
   },
   "outputs": [],
   "source": [
    "import numpy as np\n",
    "data_cleaned = data.dropna(subset = ['decimalLatitude', 'decimalLongitude']) # drop records where data not available"
   ]
  },
  {
   "cell_type": "code",
   "execution_count": 17,
   "metadata": {
    "collapsed": false
   },
   "outputs": [
    {
     "data": {
      "text/plain": [
       "(5223, 138)"
      ]
     },
     "execution_count": 17,
     "metadata": {},
     "output_type": "execute_result"
    }
   ],
   "source": [
    "data_cleaned.shape # less occurrence records now: 5223"
   ]
  },
  {
   "cell_type": "code",
   "execution_count": 18,
   "metadata": {
    "collapsed": false
   },
   "outputs": [
    {
     "data": {
      "text/plain": [
       "array(['PRESERVED_SPECIMEN', 'HUMAN_OBSERVATION', 'UNKNOWN'], dtype=object)"
      ]
     },
     "execution_count": 18,
     "metadata": {},
     "output_type": "execute_result"
    }
   ],
   "source": [
    "data_cleaned['basisOfRecord'].unique()"
   ]
  },
  {
   "cell_type": "code",
   "execution_count": 20,
   "metadata": {
    "collapsed": false
   },
   "outputs": [
    {
     "data": {
      "text/plain": [
       "276414"
      ]
     },
     "execution_count": 20,
     "metadata": {},
     "output_type": "execute_result"
    }
   ],
   "source": [
    "# this many records with no decimalLatitude and decimalLongitude\n",
    "import numpy as np\n",
    "data[data['decimalLatitude'].isnull() & data['decimalLongitude'].isnull()].size"
   ]
  },
  {
   "cell_type": "markdown",
   "metadata": {},
   "source": [
    "#### How many of those have no 'locality' or 'verbatimLocality'? : 27 apparently."
   ]
  },
  {
   "cell_type": "code",
   "execution_count": 21,
   "metadata": {
    "collapsed": false
   },
   "outputs": [
    {
     "data": {
      "text/html": [
       "<div>\n",
       "<table border=\"1\" class=\"dataframe\">\n",
       "  <thead>\n",
       "    <tr style=\"text-align: right;\">\n",
       "      <th></th>\n",
       "      <th>accessRights</th>\n",
       "      <th>associatedOccurrences</th>\n",
       "      <th>associatedReferences</th>\n",
       "      <th>associatedSequences</th>\n",
       "      <th>basisOfRecord</th>\n",
       "      <th>bibliographicCitation</th>\n",
       "      <th>catalogNumber</th>\n",
       "      <th>class</th>\n",
       "      <th>classKey</th>\n",
       "      <th>collectionCode</th>\n",
       "      <th>...</th>\n",
       "      <th>type</th>\n",
       "      <th>typeStatus</th>\n",
       "      <th>verbatimCoordinateSystem</th>\n",
       "      <th>verbatimDepth</th>\n",
       "      <th>verbatimElevation</th>\n",
       "      <th>verbatimEventDate</th>\n",
       "      <th>verbatimLocality</th>\n",
       "      <th>vernacularName</th>\n",
       "      <th>waterBody</th>\n",
       "      <th>year</th>\n",
       "    </tr>\n",
       "  </thead>\n",
       "  <tbody>\n",
       "    <tr>\n",
       "      <th>1277</th>\n",
       "      <td>http://fieldmuseum.org/about/copyright-informa...</td>\n",
       "      <td>NaN</td>\n",
       "      <td>NaN</td>\n",
       "      <td>NaN</td>\n",
       "      <td>PRESERVED_SPECIMEN</td>\n",
       "      <td>NaN</td>\n",
       "      <td>112647</td>\n",
       "      <td>Actinopterygii</td>\n",
       "      <td>204</td>\n",
       "      <td>Fishes</td>\n",
       "      <td>...</td>\n",
       "      <td>PhysicalObject</td>\n",
       "      <td>NaN</td>\n",
       "      <td>NaN</td>\n",
       "      <td>NaN</td>\n",
       "      <td>NaN</td>\n",
       "      <td>NaN</td>\n",
       "      <td>NaN</td>\n",
       "      <td>NaN</td>\n",
       "      <td>NaN</td>\n",
       "      <td>1999.0</td>\n",
       "    </tr>\n",
       "    <tr>\n",
       "      <th>4342</th>\n",
       "      <td>NaN</td>\n",
       "      <td>NaN</td>\n",
       "      <td>NaN</td>\n",
       "      <td>NaN</td>\n",
       "      <td>UNKNOWN</td>\n",
       "      <td>NaN</td>\n",
       "      <td>56-5116</td>\n",
       "      <td>Actinopterygii</td>\n",
       "      <td>204</td>\n",
       "      <td>ON-CDC</td>\n",
       "      <td>...</td>\n",
       "      <td>NaN</td>\n",
       "      <td>NaN</td>\n",
       "      <td>NaN</td>\n",
       "      <td>NaN</td>\n",
       "      <td>NaN</td>\n",
       "      <td>NaN</td>\n",
       "      <td>NaN</td>\n",
       "      <td>NaN</td>\n",
       "      <td>NaN</td>\n",
       "      <td>1972.0</td>\n",
       "    </tr>\n",
       "    <tr>\n",
       "      <th>4729</th>\n",
       "      <td>NaN</td>\n",
       "      <td>NULL</td>\n",
       "      <td>NaN</td>\n",
       "      <td>NaN</td>\n",
       "      <td>PRESERVED_SPECIMEN</td>\n",
       "      <td>NaN</td>\n",
       "      <td>GCRL 17588</td>\n",
       "      <td>Actinopterygii</td>\n",
       "      <td>204</td>\n",
       "      <td>Occurrence</td>\n",
       "      <td>...</td>\n",
       "      <td>NaN</td>\n",
       "      <td>NaN</td>\n",
       "      <td>NULL</td>\n",
       "      <td>NULL</td>\n",
       "      <td>NULL</td>\n",
       "      <td>NULL</td>\n",
       "      <td>NaN</td>\n",
       "      <td>NaN</td>\n",
       "      <td>NaN</td>\n",
       "      <td>1968.0</td>\n",
       "    </tr>\n",
       "    <tr>\n",
       "      <th>5207</th>\n",
       "      <td>NaN</td>\n",
       "      <td>NULL</td>\n",
       "      <td>NaN</td>\n",
       "      <td>NaN</td>\n",
       "      <td>PRESERVED_SPECIMEN</td>\n",
       "      <td>NaN</td>\n",
       "      <td>GCRL 17580</td>\n",
       "      <td>Actinopterygii</td>\n",
       "      <td>204</td>\n",
       "      <td>Occurrence</td>\n",
       "      <td>...</td>\n",
       "      <td>NaN</td>\n",
       "      <td>NaN</td>\n",
       "      <td>NULL</td>\n",
       "      <td>NULL</td>\n",
       "      <td>NULL</td>\n",
       "      <td>NULL</td>\n",
       "      <td>NaN</td>\n",
       "      <td>NaN</td>\n",
       "      <td>NaN</td>\n",
       "      <td>1964.0</td>\n",
       "    </tr>\n",
       "    <tr>\n",
       "      <th>5220</th>\n",
       "      <td>NaN</td>\n",
       "      <td>NULL</td>\n",
       "      <td>NaN</td>\n",
       "      <td>NaN</td>\n",
       "      <td>PRESERVED_SPECIMEN</td>\n",
       "      <td>NaN</td>\n",
       "      <td>GCRL 17585</td>\n",
       "      <td>Actinopterygii</td>\n",
       "      <td>204</td>\n",
       "      <td>Occurrence</td>\n",
       "      <td>...</td>\n",
       "      <td>NaN</td>\n",
       "      <td>NaN</td>\n",
       "      <td>NULL</td>\n",
       "      <td>NULL</td>\n",
       "      <td>NULL</td>\n",
       "      <td>NULL</td>\n",
       "      <td>NaN</td>\n",
       "      <td>NaN</td>\n",
       "      <td>NaN</td>\n",
       "      <td>1964.0</td>\n",
       "    </tr>\n",
       "    <tr>\n",
       "      <th>5236</th>\n",
       "      <td>NaN</td>\n",
       "      <td>NULL</td>\n",
       "      <td>NaN</td>\n",
       "      <td>NaN</td>\n",
       "      <td>PRESERVED_SPECIMEN</td>\n",
       "      <td>NaN</td>\n",
       "      <td>GCRL 17592</td>\n",
       "      <td>Actinopterygii</td>\n",
       "      <td>204</td>\n",
       "      <td>Occurrence</td>\n",
       "      <td>...</td>\n",
       "      <td>NaN</td>\n",
       "      <td>NaN</td>\n",
       "      <td>NULL</td>\n",
       "      <td>NULL</td>\n",
       "      <td>NULL</td>\n",
       "      <td>NULL</td>\n",
       "      <td>NaN</td>\n",
       "      <td>NaN</td>\n",
       "      <td>NaN</td>\n",
       "      <td>1964.0</td>\n",
       "    </tr>\n",
       "    <tr>\n",
       "      <th>5243</th>\n",
       "      <td>NaN</td>\n",
       "      <td>NULL</td>\n",
       "      <td>NaN</td>\n",
       "      <td>NaN</td>\n",
       "      <td>PRESERVED_SPECIMEN</td>\n",
       "      <td>NaN</td>\n",
       "      <td>GCRL 17598</td>\n",
       "      <td>Actinopterygii</td>\n",
       "      <td>204</td>\n",
       "      <td>Occurrence</td>\n",
       "      <td>...</td>\n",
       "      <td>NaN</td>\n",
       "      <td>NaN</td>\n",
       "      <td>NULL</td>\n",
       "      <td>NULL</td>\n",
       "      <td>NULL</td>\n",
       "      <td>NULL</td>\n",
       "      <td>NaN</td>\n",
       "      <td>NaN</td>\n",
       "      <td>NaN</td>\n",
       "      <td>1964.0</td>\n",
       "    </tr>\n",
       "    <tr>\n",
       "      <th>5250</th>\n",
       "      <td>NaN</td>\n",
       "      <td>NULL</td>\n",
       "      <td>NaN</td>\n",
       "      <td>NaN</td>\n",
       "      <td>PRESERVED_SPECIMEN</td>\n",
       "      <td>NaN</td>\n",
       "      <td>GCRL 17583</td>\n",
       "      <td>Actinopterygii</td>\n",
       "      <td>204</td>\n",
       "      <td>Occurrence</td>\n",
       "      <td>...</td>\n",
       "      <td>NaN</td>\n",
       "      <td>NaN</td>\n",
       "      <td>NULL</td>\n",
       "      <td>NULL</td>\n",
       "      <td>NULL</td>\n",
       "      <td>NULL</td>\n",
       "      <td>NaN</td>\n",
       "      <td>NaN</td>\n",
       "      <td>NaN</td>\n",
       "      <td>1964.0</td>\n",
       "    </tr>\n",
       "    <tr>\n",
       "      <th>5253</th>\n",
       "      <td>NaN</td>\n",
       "      <td>NULL</td>\n",
       "      <td>NaN</td>\n",
       "      <td>NaN</td>\n",
       "      <td>PRESERVED_SPECIMEN</td>\n",
       "      <td>NaN</td>\n",
       "      <td>GCRL 17578</td>\n",
       "      <td>Actinopterygii</td>\n",
       "      <td>204</td>\n",
       "      <td>Occurrence</td>\n",
       "      <td>...</td>\n",
       "      <td>NaN</td>\n",
       "      <td>NaN</td>\n",
       "      <td>NULL</td>\n",
       "      <td>NULL</td>\n",
       "      <td>NULL</td>\n",
       "      <td>NULL</td>\n",
       "      <td>NaN</td>\n",
       "      <td>NaN</td>\n",
       "      <td>NaN</td>\n",
       "      <td>1964.0</td>\n",
       "    </tr>\n",
       "    <tr>\n",
       "      <th>5275</th>\n",
       "      <td>NaN</td>\n",
       "      <td>NULL</td>\n",
       "      <td>NaN</td>\n",
       "      <td>NaN</td>\n",
       "      <td>PRESERVED_SPECIMEN</td>\n",
       "      <td>NaN</td>\n",
       "      <td>GCRL 17582</td>\n",
       "      <td>Actinopterygii</td>\n",
       "      <td>204</td>\n",
       "      <td>Occurrence</td>\n",
       "      <td>...</td>\n",
       "      <td>NaN</td>\n",
       "      <td>NaN</td>\n",
       "      <td>NULL</td>\n",
       "      <td>NULL</td>\n",
       "      <td>NULL</td>\n",
       "      <td>NULL</td>\n",
       "      <td>NaN</td>\n",
       "      <td>NaN</td>\n",
       "      <td>NaN</td>\n",
       "      <td>1964.0</td>\n",
       "    </tr>\n",
       "    <tr>\n",
       "      <th>5276</th>\n",
       "      <td>NaN</td>\n",
       "      <td>NULL</td>\n",
       "      <td>NaN</td>\n",
       "      <td>NaN</td>\n",
       "      <td>PRESERVED_SPECIMEN</td>\n",
       "      <td>NaN</td>\n",
       "      <td>GCRL 17591</td>\n",
       "      <td>Actinopterygii</td>\n",
       "      <td>204</td>\n",
       "      <td>Occurrence</td>\n",
       "      <td>...</td>\n",
       "      <td>NaN</td>\n",
       "      <td>NaN</td>\n",
       "      <td>NULL</td>\n",
       "      <td>NULL</td>\n",
       "      <td>NULL</td>\n",
       "      <td>NULL</td>\n",
       "      <td>NaN</td>\n",
       "      <td>NaN</td>\n",
       "      <td>NaN</td>\n",
       "      <td>1964.0</td>\n",
       "    </tr>\n",
       "    <tr>\n",
       "      <th>5277</th>\n",
       "      <td>NaN</td>\n",
       "      <td>NULL</td>\n",
       "      <td>NaN</td>\n",
       "      <td>NaN</td>\n",
       "      <td>PRESERVED_SPECIMEN</td>\n",
       "      <td>NaN</td>\n",
       "      <td>GCRL 17584</td>\n",
       "      <td>Actinopterygii</td>\n",
       "      <td>204</td>\n",
       "      <td>Occurrence</td>\n",
       "      <td>...</td>\n",
       "      <td>NaN</td>\n",
       "      <td>NaN</td>\n",
       "      <td>NULL</td>\n",
       "      <td>NULL</td>\n",
       "      <td>NULL</td>\n",
       "      <td>NULL</td>\n",
       "      <td>NaN</td>\n",
       "      <td>NaN</td>\n",
       "      <td>NaN</td>\n",
       "      <td>1964.0</td>\n",
       "    </tr>\n",
       "    <tr>\n",
       "      <th>6038</th>\n",
       "      <td>not-for-profit use only</td>\n",
       "      <td>NaN</td>\n",
       "      <td>NaN</td>\n",
       "      <td>NaN</td>\n",
       "      <td>PRESERVED_SPECIMEN</td>\n",
       "      <td>NaN</td>\n",
       "      <td>21736</td>\n",
       "      <td>Actinopterygii</td>\n",
       "      <td>204</td>\n",
       "      <td>Fishes</td>\n",
       "      <td>...</td>\n",
       "      <td>PhysicalObject</td>\n",
       "      <td>NaN</td>\n",
       "      <td>NaN</td>\n",
       "      <td>NaN</td>\n",
       "      <td>NaN</td>\n",
       "      <td>19500000</td>\n",
       "      <td>NaN</td>\n",
       "      <td>NaN</td>\n",
       "      <td>NaN</td>\n",
       "      <td>1950.0</td>\n",
       "    </tr>\n",
       "    <tr>\n",
       "      <th>6057</th>\n",
       "      <td>not-for-profit use only</td>\n",
       "      <td>NaN</td>\n",
       "      <td>NaN</td>\n",
       "      <td>NaN</td>\n",
       "      <td>PRESERVED_SPECIMEN</td>\n",
       "      <td>NaN</td>\n",
       "      <td>22581</td>\n",
       "      <td>Actinopterygii</td>\n",
       "      <td>204</td>\n",
       "      <td>Fishes</td>\n",
       "      <td>...</td>\n",
       "      <td>PhysicalObject</td>\n",
       "      <td>NaN</td>\n",
       "      <td>NaN</td>\n",
       "      <td>NaN</td>\n",
       "      <td>NaN</td>\n",
       "      <td>19500700</td>\n",
       "      <td>NaN</td>\n",
       "      <td>NaN</td>\n",
       "      <td>NaN</td>\n",
       "      <td>1950.0</td>\n",
       "    </tr>\n",
       "    <tr>\n",
       "      <th>6624</th>\n",
       "      <td>not-for-profit use only</td>\n",
       "      <td>NaN</td>\n",
       "      <td>NaN</td>\n",
       "      <td>NaN</td>\n",
       "      <td>PRESERVED_SPECIMEN</td>\n",
       "      <td>NaN</td>\n",
       "      <td>7092</td>\n",
       "      <td>Actinopterygii</td>\n",
       "      <td>204</td>\n",
       "      <td>Fishes</td>\n",
       "      <td>...</td>\n",
       "      <td>PhysicalObject</td>\n",
       "      <td>NaN</td>\n",
       "      <td>NaN</td>\n",
       "      <td>NaN</td>\n",
       "      <td>NaN</td>\n",
       "      <td>19380625</td>\n",
       "      <td>NaN</td>\n",
       "      <td>NaN</td>\n",
       "      <td>NaN</td>\n",
       "      <td>1938.0</td>\n",
       "    </tr>\n",
       "    <tr>\n",
       "      <th>6989</th>\n",
       "      <td>NaN</td>\n",
       "      <td>NaN</td>\n",
       "      <td>NaN</td>\n",
       "      <td>NaN</td>\n",
       "      <td>PRESERVED_SPECIMEN</td>\n",
       "      <td>NaN</td>\n",
       "      <td>A-2469</td>\n",
       "      <td>Actinopterygii</td>\n",
       "      <td>204</td>\n",
       "      <td>IC</td>\n",
       "      <td>...</td>\n",
       "      <td>NaN</td>\n",
       "      <td>NaN</td>\n",
       "      <td>NaN</td>\n",
       "      <td>NaN</td>\n",
       "      <td>NaN</td>\n",
       "      <td>NaN</td>\n",
       "      <td>NaN</td>\n",
       "      <td>NaN</td>\n",
       "      <td>NaN</td>\n",
       "      <td>1880.0</td>\n",
       "    </tr>\n",
       "    <tr>\n",
       "      <th>7045</th>\n",
       "      <td>NaN</td>\n",
       "      <td>NaN</td>\n",
       "      <td>NaN</td>\n",
       "      <td>NaN</td>\n",
       "      <td>PRESERVED_SPECIMEN</td>\n",
       "      <td>NaN</td>\n",
       "      <td>SU 5326</td>\n",
       "      <td>Actinopterygii</td>\n",
       "      <td>204</td>\n",
       "      <td>Occurrence</td>\n",
       "      <td>...</td>\n",
       "      <td>NaN</td>\n",
       "      <td>NaN</td>\n",
       "      <td>NaN</td>\n",
       "      <td>NaN</td>\n",
       "      <td>NaN</td>\n",
       "      <td>NaN</td>\n",
       "      <td>NaN</td>\n",
       "      <td>NaN</td>\n",
       "      <td>NaN</td>\n",
       "      <td>NaN</td>\n",
       "    </tr>\n",
       "    <tr>\n",
       "      <th>7064</th>\n",
       "      <td>NaN</td>\n",
       "      <td>NaN</td>\n",
       "      <td>NaN</td>\n",
       "      <td>NaN</td>\n",
       "      <td>PRESERVED_SPECIMEN</td>\n",
       "      <td>NaN</td>\n",
       "      <td>5326</td>\n",
       "      <td>Actinopterygii</td>\n",
       "      <td>204</td>\n",
       "      <td>SU (ICH)</td>\n",
       "      <td>...</td>\n",
       "      <td>PhysicalObject</td>\n",
       "      <td>NaN</td>\n",
       "      <td>NaN</td>\n",
       "      <td>NaN</td>\n",
       "      <td>NaN</td>\n",
       "      <td>NaN</td>\n",
       "      <td>NaN</td>\n",
       "      <td>NaN</td>\n",
       "      <td>NaN</td>\n",
       "      <td>NaN</td>\n",
       "    </tr>\n",
       "    <tr>\n",
       "      <th>7085</th>\n",
       "      <td>not-for-profit use only</td>\n",
       "      <td>NaN</td>\n",
       "      <td>NaN</td>\n",
       "      <td>NaN</td>\n",
       "      <td>PRESERVED_SPECIMEN</td>\n",
       "      <td>NaN</td>\n",
       "      <td>8498</td>\n",
       "      <td>Actinopterygii</td>\n",
       "      <td>204</td>\n",
       "      <td>Fishes</td>\n",
       "      <td>...</td>\n",
       "      <td>PhysicalObject</td>\n",
       "      <td>NaN</td>\n",
       "      <td>NaN</td>\n",
       "      <td>NaN</td>\n",
       "      <td>NaN</td>\n",
       "      <td>NaN</td>\n",
       "      <td>NaN</td>\n",
       "      <td>NaN</td>\n",
       "      <td>NaN</td>\n",
       "      <td>NaN</td>\n",
       "    </tr>\n",
       "    <tr>\n",
       "      <th>7087</th>\n",
       "      <td>http://fieldmuseum.org/about/copyright-informa...</td>\n",
       "      <td>NaN</td>\n",
       "      <td>NaN</td>\n",
       "      <td>NaN</td>\n",
       "      <td>PRESERVED_SPECIMEN</td>\n",
       "      <td>NaN</td>\n",
       "      <td>112640</td>\n",
       "      <td>Actinopterygii</td>\n",
       "      <td>204</td>\n",
       "      <td>Fishes</td>\n",
       "      <td>...</td>\n",
       "      <td>PhysicalObject</td>\n",
       "      <td>NaN</td>\n",
       "      <td>NaN</td>\n",
       "      <td>NaN</td>\n",
       "      <td>NaN</td>\n",
       "      <td>NaN</td>\n",
       "      <td>NaN</td>\n",
       "      <td>NaN</td>\n",
       "      <td>NaN</td>\n",
       "      <td>NaN</td>\n",
       "    </tr>\n",
       "    <tr>\n",
       "      <th>7094</th>\n",
       "      <td>NaN</td>\n",
       "      <td>NaN</td>\n",
       "      <td>NaN</td>\n",
       "      <td>NaN</td>\n",
       "      <td>PRESERVED_SPECIMEN</td>\n",
       "      <td>Etheostoma blennioides UAMZ F2503</td>\n",
       "      <td>F2503</td>\n",
       "      <td>Actinopterygii</td>\n",
       "      <td>204</td>\n",
       "      <td>UAMZ</td>\n",
       "      <td>...</td>\n",
       "      <td>PhysicalObject</td>\n",
       "      <td>NaN</td>\n",
       "      <td>NaN</td>\n",
       "      <td>NaN</td>\n",
       "      <td>NaN</td>\n",
       "      <td>unknown</td>\n",
       "      <td>NaN</td>\n",
       "      <td>NaN</td>\n",
       "      <td>NaN</td>\n",
       "      <td>NaN</td>\n",
       "    </tr>\n",
       "    <tr>\n",
       "      <th>7096</th>\n",
       "      <td>NaN</td>\n",
       "      <td>NaN</td>\n",
       "      <td>NaN</td>\n",
       "      <td>NaN</td>\n",
       "      <td>PRESERVED_SPECIMEN</td>\n",
       "      <td>NaN</td>\n",
       "      <td>SU 715</td>\n",
       "      <td>Actinopterygii</td>\n",
       "      <td>204</td>\n",
       "      <td>Occurrence</td>\n",
       "      <td>...</td>\n",
       "      <td>NaN</td>\n",
       "      <td>NaN</td>\n",
       "      <td>NaN</td>\n",
       "      <td>NaN</td>\n",
       "      <td>NaN</td>\n",
       "      <td>NaN</td>\n",
       "      <td>NaN</td>\n",
       "      <td>NaN</td>\n",
       "      <td>Eel river</td>\n",
       "      <td>NaN</td>\n",
       "    </tr>\n",
       "    <tr>\n",
       "      <th>7110</th>\n",
       "      <td>NaN</td>\n",
       "      <td>NaN</td>\n",
       "      <td>NaN</td>\n",
       "      <td>NaN</td>\n",
       "      <td>PRESERVED_SPECIMEN</td>\n",
       "      <td>NaN</td>\n",
       "      <td>SU 692</td>\n",
       "      <td>Actinopterygii</td>\n",
       "      <td>204</td>\n",
       "      <td>Occurrence</td>\n",
       "      <td>...</td>\n",
       "      <td>NaN</td>\n",
       "      <td>NaN</td>\n",
       "      <td>NaN</td>\n",
       "      <td>NaN</td>\n",
       "      <td>NaN</td>\n",
       "      <td>NaN</td>\n",
       "      <td>NaN</td>\n",
       "      <td>NaN</td>\n",
       "      <td>Roaring river</td>\n",
       "      <td>NaN</td>\n",
       "    </tr>\n",
       "    <tr>\n",
       "      <th>7117</th>\n",
       "      <td>http://fieldmuseum.org/about/copyright-informa...</td>\n",
       "      <td>NaN</td>\n",
       "      <td>NaN</td>\n",
       "      <td>NaN</td>\n",
       "      <td>PRESERVED_SPECIMEN</td>\n",
       "      <td>NaN</td>\n",
       "      <td>112677</td>\n",
       "      <td>Actinopterygii</td>\n",
       "      <td>204</td>\n",
       "      <td>Fishes</td>\n",
       "      <td>...</td>\n",
       "      <td>PhysicalObject</td>\n",
       "      <td>NaN</td>\n",
       "      <td>NaN</td>\n",
       "      <td>NaN</td>\n",
       "      <td>NaN</td>\n",
       "      <td>NaN</td>\n",
       "      <td>NaN</td>\n",
       "      <td>NaN</td>\n",
       "      <td>NaN</td>\n",
       "      <td>NaN</td>\n",
       "    </tr>\n",
       "    <tr>\n",
       "      <th>7129</th>\n",
       "      <td>NaN</td>\n",
       "      <td>NaN</td>\n",
       "      <td>NaN</td>\n",
       "      <td>NaN</td>\n",
       "      <td>PRESERVED_SPECIMEN</td>\n",
       "      <td>NaN</td>\n",
       "      <td>715</td>\n",
       "      <td>Actinopterygii</td>\n",
       "      <td>204</td>\n",
       "      <td>SU (ICH)</td>\n",
       "      <td>...</td>\n",
       "      <td>PhysicalObject</td>\n",
       "      <td>NaN</td>\n",
       "      <td>NaN</td>\n",
       "      <td>NaN</td>\n",
       "      <td>NaN</td>\n",
       "      <td>NaN</td>\n",
       "      <td>NaN</td>\n",
       "      <td>NaN</td>\n",
       "      <td>Eel river</td>\n",
       "      <td>NaN</td>\n",
       "    </tr>\n",
       "    <tr>\n",
       "      <th>7132</th>\n",
       "      <td>not-for-profit use only</td>\n",
       "      <td>NaN</td>\n",
       "      <td>NaN</td>\n",
       "      <td>NaN</td>\n",
       "      <td>PRESERVED_SPECIMEN</td>\n",
       "      <td>NaN</td>\n",
       "      <td>9050</td>\n",
       "      <td>Actinopterygii</td>\n",
       "      <td>204</td>\n",
       "      <td>Vertebrate Paleontology</td>\n",
       "      <td>...</td>\n",
       "      <td>PhysicalObject</td>\n",
       "      <td>NaN</td>\n",
       "      <td>NaN</td>\n",
       "      <td>NaN</td>\n",
       "      <td>NaN</td>\n",
       "      <td>NaN</td>\n",
       "      <td>NaN</td>\n",
       "      <td>NaN</td>\n",
       "      <td>NaN</td>\n",
       "      <td>NaN</td>\n",
       "    </tr>\n",
       "    <tr>\n",
       "      <th>7155</th>\n",
       "      <td>NaN</td>\n",
       "      <td>NaN</td>\n",
       "      <td>NaN</td>\n",
       "      <td>NaN</td>\n",
       "      <td>PRESERVED_SPECIMEN</td>\n",
       "      <td>NaN</td>\n",
       "      <td>692</td>\n",
       "      <td>Actinopterygii</td>\n",
       "      <td>204</td>\n",
       "      <td>SU (ICH)</td>\n",
       "      <td>...</td>\n",
       "      <td>PhysicalObject</td>\n",
       "      <td>NaN</td>\n",
       "      <td>NaN</td>\n",
       "      <td>NaN</td>\n",
       "      <td>NaN</td>\n",
       "      <td>NaN</td>\n",
       "      <td>NaN</td>\n",
       "      <td>NaN</td>\n",
       "      <td>Roaring river</td>\n",
       "      <td>NaN</td>\n",
       "    </tr>\n",
       "  </tbody>\n",
       "</table>\n",
       "<p>27 rows × 138 columns</p>\n",
       "</div>"
      ],
      "text/plain": [
       "                                           accessRights associatedOccurrences  \\\n",
       "1277  http://fieldmuseum.org/about/copyright-informa...                   NaN   \n",
       "4342                                                NaN                   NaN   \n",
       "4729                                                NaN                  NULL   \n",
       "5207                                                NaN                  NULL   \n",
       "5220                                                NaN                  NULL   \n",
       "5236                                                NaN                  NULL   \n",
       "5243                                                NaN                  NULL   \n",
       "5250                                                NaN                  NULL   \n",
       "5253                                                NaN                  NULL   \n",
       "5275                                                NaN                  NULL   \n",
       "5276                                                NaN                  NULL   \n",
       "5277                                                NaN                  NULL   \n",
       "6038                            not-for-profit use only                   NaN   \n",
       "6057                            not-for-profit use only                   NaN   \n",
       "6624                            not-for-profit use only                   NaN   \n",
       "6989                                                NaN                   NaN   \n",
       "7045                                                NaN                   NaN   \n",
       "7064                                                NaN                   NaN   \n",
       "7085                            not-for-profit use only                   NaN   \n",
       "7087  http://fieldmuseum.org/about/copyright-informa...                   NaN   \n",
       "7094                                                NaN                   NaN   \n",
       "7096                                                NaN                   NaN   \n",
       "7110                                                NaN                   NaN   \n",
       "7117  http://fieldmuseum.org/about/copyright-informa...                   NaN   \n",
       "7129                                                NaN                   NaN   \n",
       "7132                            not-for-profit use only                   NaN   \n",
       "7155                                                NaN                   NaN   \n",
       "\n",
       "     associatedReferences associatedSequences       basisOfRecord  \\\n",
       "1277                  NaN                 NaN  PRESERVED_SPECIMEN   \n",
       "4342                  NaN                 NaN             UNKNOWN   \n",
       "4729                  NaN                 NaN  PRESERVED_SPECIMEN   \n",
       "5207                  NaN                 NaN  PRESERVED_SPECIMEN   \n",
       "5220                  NaN                 NaN  PRESERVED_SPECIMEN   \n",
       "5236                  NaN                 NaN  PRESERVED_SPECIMEN   \n",
       "5243                  NaN                 NaN  PRESERVED_SPECIMEN   \n",
       "5250                  NaN                 NaN  PRESERVED_SPECIMEN   \n",
       "5253                  NaN                 NaN  PRESERVED_SPECIMEN   \n",
       "5275                  NaN                 NaN  PRESERVED_SPECIMEN   \n",
       "5276                  NaN                 NaN  PRESERVED_SPECIMEN   \n",
       "5277                  NaN                 NaN  PRESERVED_SPECIMEN   \n",
       "6038                  NaN                 NaN  PRESERVED_SPECIMEN   \n",
       "6057                  NaN                 NaN  PRESERVED_SPECIMEN   \n",
       "6624                  NaN                 NaN  PRESERVED_SPECIMEN   \n",
       "6989                  NaN                 NaN  PRESERVED_SPECIMEN   \n",
       "7045                  NaN                 NaN  PRESERVED_SPECIMEN   \n",
       "7064                  NaN                 NaN  PRESERVED_SPECIMEN   \n",
       "7085                  NaN                 NaN  PRESERVED_SPECIMEN   \n",
       "7087                  NaN                 NaN  PRESERVED_SPECIMEN   \n",
       "7094                  NaN                 NaN  PRESERVED_SPECIMEN   \n",
       "7096                  NaN                 NaN  PRESERVED_SPECIMEN   \n",
       "7110                  NaN                 NaN  PRESERVED_SPECIMEN   \n",
       "7117                  NaN                 NaN  PRESERVED_SPECIMEN   \n",
       "7129                  NaN                 NaN  PRESERVED_SPECIMEN   \n",
       "7132                  NaN                 NaN  PRESERVED_SPECIMEN   \n",
       "7155                  NaN                 NaN  PRESERVED_SPECIMEN   \n",
       "\n",
       "                  bibliographicCitation catalogNumber           class  \\\n",
       "1277                                NaN        112647  Actinopterygii   \n",
       "4342                                NaN       56-5116  Actinopterygii   \n",
       "4729                                NaN    GCRL 17588  Actinopterygii   \n",
       "5207                                NaN    GCRL 17580  Actinopterygii   \n",
       "5220                                NaN    GCRL 17585  Actinopterygii   \n",
       "5236                                NaN    GCRL 17592  Actinopterygii   \n",
       "5243                                NaN    GCRL 17598  Actinopterygii   \n",
       "5250                                NaN    GCRL 17583  Actinopterygii   \n",
       "5253                                NaN    GCRL 17578  Actinopterygii   \n",
       "5275                                NaN    GCRL 17582  Actinopterygii   \n",
       "5276                                NaN    GCRL 17591  Actinopterygii   \n",
       "5277                                NaN    GCRL 17584  Actinopterygii   \n",
       "6038                                NaN         21736  Actinopterygii   \n",
       "6057                                NaN         22581  Actinopterygii   \n",
       "6624                                NaN          7092  Actinopterygii   \n",
       "6989                                NaN        A-2469  Actinopterygii   \n",
       "7045                                NaN       SU 5326  Actinopterygii   \n",
       "7064                                NaN          5326  Actinopterygii   \n",
       "7085                                NaN          8498  Actinopterygii   \n",
       "7087                                NaN        112640  Actinopterygii   \n",
       "7094  Etheostoma blennioides UAMZ F2503         F2503  Actinopterygii   \n",
       "7096                                NaN        SU 715  Actinopterygii   \n",
       "7110                                NaN        SU 692  Actinopterygii   \n",
       "7117                                NaN        112677  Actinopterygii   \n",
       "7129                                NaN           715  Actinopterygii   \n",
       "7132                                NaN          9050  Actinopterygii   \n",
       "7155                                NaN           692  Actinopterygii   \n",
       "\n",
       "      classKey           collectionCode   ...              type typeStatus  \\\n",
       "1277       204                   Fishes   ...    PhysicalObject        NaN   \n",
       "4342       204                   ON-CDC   ...               NaN        NaN   \n",
       "4729       204               Occurrence   ...               NaN        NaN   \n",
       "5207       204               Occurrence   ...               NaN        NaN   \n",
       "5220       204               Occurrence   ...               NaN        NaN   \n",
       "5236       204               Occurrence   ...               NaN        NaN   \n",
       "5243       204               Occurrence   ...               NaN        NaN   \n",
       "5250       204               Occurrence   ...               NaN        NaN   \n",
       "5253       204               Occurrence   ...               NaN        NaN   \n",
       "5275       204               Occurrence   ...               NaN        NaN   \n",
       "5276       204               Occurrence   ...               NaN        NaN   \n",
       "5277       204               Occurrence   ...               NaN        NaN   \n",
       "6038       204                   Fishes   ...    PhysicalObject        NaN   \n",
       "6057       204                   Fishes   ...    PhysicalObject        NaN   \n",
       "6624       204                   Fishes   ...    PhysicalObject        NaN   \n",
       "6989       204                       IC   ...               NaN        NaN   \n",
       "7045       204               Occurrence   ...               NaN        NaN   \n",
       "7064       204                 SU (ICH)   ...    PhysicalObject        NaN   \n",
       "7085       204                   Fishes   ...    PhysicalObject        NaN   \n",
       "7087       204                   Fishes   ...    PhysicalObject        NaN   \n",
       "7094       204                     UAMZ   ...    PhysicalObject        NaN   \n",
       "7096       204               Occurrence   ...               NaN        NaN   \n",
       "7110       204               Occurrence   ...               NaN        NaN   \n",
       "7117       204                   Fishes   ...    PhysicalObject        NaN   \n",
       "7129       204                 SU (ICH)   ...    PhysicalObject        NaN   \n",
       "7132       204  Vertebrate Paleontology   ...    PhysicalObject        NaN   \n",
       "7155       204                 SU (ICH)   ...    PhysicalObject        NaN   \n",
       "\n",
       "      verbatimCoordinateSystem  verbatimDepth verbatimElevation  \\\n",
       "1277                       NaN            NaN               NaN   \n",
       "4342                       NaN            NaN               NaN   \n",
       "4729                      NULL           NULL              NULL   \n",
       "5207                      NULL           NULL              NULL   \n",
       "5220                      NULL           NULL              NULL   \n",
       "5236                      NULL           NULL              NULL   \n",
       "5243                      NULL           NULL              NULL   \n",
       "5250                      NULL           NULL              NULL   \n",
       "5253                      NULL           NULL              NULL   \n",
       "5275                      NULL           NULL              NULL   \n",
       "5276                      NULL           NULL              NULL   \n",
       "5277                      NULL           NULL              NULL   \n",
       "6038                       NaN            NaN               NaN   \n",
       "6057                       NaN            NaN               NaN   \n",
       "6624                       NaN            NaN               NaN   \n",
       "6989                       NaN            NaN               NaN   \n",
       "7045                       NaN            NaN               NaN   \n",
       "7064                       NaN            NaN               NaN   \n",
       "7085                       NaN            NaN               NaN   \n",
       "7087                       NaN            NaN               NaN   \n",
       "7094                       NaN            NaN               NaN   \n",
       "7096                       NaN            NaN               NaN   \n",
       "7110                       NaN            NaN               NaN   \n",
       "7117                       NaN            NaN               NaN   \n",
       "7129                       NaN            NaN               NaN   \n",
       "7132                       NaN            NaN               NaN   \n",
       "7155                       NaN            NaN               NaN   \n",
       "\n",
       "     verbatimEventDate verbatimLocality vernacularName      waterBody    year  \n",
       "1277               NaN              NaN            NaN            NaN  1999.0  \n",
       "4342               NaN              NaN            NaN            NaN  1972.0  \n",
       "4729              NULL              NaN            NaN            NaN  1968.0  \n",
       "5207              NULL              NaN            NaN            NaN  1964.0  \n",
       "5220              NULL              NaN            NaN            NaN  1964.0  \n",
       "5236              NULL              NaN            NaN            NaN  1964.0  \n",
       "5243              NULL              NaN            NaN            NaN  1964.0  \n",
       "5250              NULL              NaN            NaN            NaN  1964.0  \n",
       "5253              NULL              NaN            NaN            NaN  1964.0  \n",
       "5275              NULL              NaN            NaN            NaN  1964.0  \n",
       "5276              NULL              NaN            NaN            NaN  1964.0  \n",
       "5277              NULL              NaN            NaN            NaN  1964.0  \n",
       "6038          19500000              NaN            NaN            NaN  1950.0  \n",
       "6057          19500700              NaN            NaN            NaN  1950.0  \n",
       "6624          19380625              NaN            NaN            NaN  1938.0  \n",
       "6989               NaN              NaN            NaN            NaN  1880.0  \n",
       "7045               NaN              NaN            NaN            NaN     NaN  \n",
       "7064               NaN              NaN            NaN            NaN     NaN  \n",
       "7085               NaN              NaN            NaN            NaN     NaN  \n",
       "7087               NaN              NaN            NaN            NaN     NaN  \n",
       "7094           unknown              NaN            NaN            NaN     NaN  \n",
       "7096               NaN              NaN            NaN      Eel river     NaN  \n",
       "7110               NaN              NaN            NaN  Roaring river     NaN  \n",
       "7117               NaN              NaN            NaN            NaN     NaN  \n",
       "7129               NaN              NaN            NaN      Eel river     NaN  \n",
       "7132               NaN              NaN            NaN            NaN     NaN  \n",
       "7155               NaN              NaN            NaN  Roaring river     NaN  \n",
       "\n",
       "[27 rows x 138 columns]"
      ]
     },
     "execution_count": 21,
     "metadata": {},
     "output_type": "execute_result"
    }
   ],
   "source": [
    "data[data['decimalLatitude'].isnull() & \n",
    "     data['decimalLongitude'].isnull() & \n",
    "     data['locality'].isnull() & \n",
    "     data['verbatimLocality'].isnull()]"
   ]
  },
  {
   "cell_type": "code",
   "execution_count": 22,
   "metadata": {
    "collapsed": false
   },
   "outputs": [
    {
     "data": {
      "text/html": [
       "<div>\n",
       "<table border=\"1\" class=\"dataframe\">\n",
       "  <thead>\n",
       "    <tr style=\"text-align: right;\">\n",
       "      <th></th>\n",
       "      <th>dateIdentified</th>\n",
       "      <th>day</th>\n",
       "      <th>month</th>\n",
       "      <th>year</th>\n",
       "    </tr>\n",
       "  </thead>\n",
       "  <tbody>\n",
       "    <tr>\n",
       "      <th>0</th>\n",
       "      <td>NaN</td>\n",
       "      <td>23.0</td>\n",
       "      <td>5.0</td>\n",
       "      <td>2015.0</td>\n",
       "    </tr>\n",
       "    <tr>\n",
       "      <th>1</th>\n",
       "      <td>2015-09-11T23:37:54.000+0000</td>\n",
       "      <td>10.0</td>\n",
       "      <td>9.0</td>\n",
       "      <td>2015.0</td>\n",
       "    </tr>\n",
       "    <tr>\n",
       "      <th>2</th>\n",
       "      <td>2014-04-14T00:24:18.000+0000</td>\n",
       "      <td>13.0</td>\n",
       "      <td>4.0</td>\n",
       "      <td>2014.0</td>\n",
       "    </tr>\n",
       "    <tr>\n",
       "      <th>3</th>\n",
       "      <td>NaN</td>\n",
       "      <td>13.0</td>\n",
       "      <td>5.0</td>\n",
       "      <td>2014.0</td>\n",
       "    </tr>\n",
       "    <tr>\n",
       "      <th>4</th>\n",
       "      <td>NaN</td>\n",
       "      <td>14.0</td>\n",
       "      <td>5.0</td>\n",
       "      <td>2014.0</td>\n",
       "    </tr>\n",
       "  </tbody>\n",
       "</table>\n",
       "</div>"
      ],
      "text/plain": [
       "                 dateIdentified   day  month    year\n",
       "0                           NaN  23.0    5.0  2015.0\n",
       "1  2015-09-11T23:37:54.000+0000  10.0    9.0  2015.0\n",
       "2  2014-04-14T00:24:18.000+0000  13.0    4.0  2014.0\n",
       "3                           NaN  13.0    5.0  2014.0\n",
       "4                           NaN  14.0    5.0  2014.0"
      ]
     },
     "execution_count": 22,
     "metadata": {},
     "output_type": "execute_result"
    }
   ],
   "source": [
    "data_cleaned[['dateIdentified', 'day', 'month', 'year']].head()"
   ]
  },
  {
   "cell_type": "markdown",
   "metadata": {},
   "source": [
    "Seems like not all records have a 'dateIdentified', but 'day','month', 'year' fields are there for many (all?) records. TODO: what about verbatimDate\n",
    "\n",
    "### Select only observation records newer than 2010; \n",
    "Say that only latitude, longitude, rightsHolder, datasetName columns are interesting for our selection."
   ]
  },
  {
   "cell_type": "code",
   "execution_count": 23,
   "metadata": {
    "collapsed": false
   },
   "outputs": [],
   "source": [
    "data_selected = data_cleaned[data_cleaned['year']>2010][['decimalLatitude','decimalLongitude', 'rightsHolder', 'datasetName']]"
   ]
  },
  {
   "cell_type": "markdown",
   "metadata": {},
   "source": [
    "#### more filtering: select only those with a non-null datasetName"
   ]
  },
  {
   "cell_type": "code",
   "execution_count": 24,
   "metadata": {
    "collapsed": false
   },
   "outputs": [
    {
     "data": {
      "text/html": [
       "<div>\n",
       "<table border=\"1\" class=\"dataframe\">\n",
       "  <thead>\n",
       "    <tr style=\"text-align: right;\">\n",
       "      <th></th>\n",
       "      <th>decimalLatitude</th>\n",
       "      <th>decimalLongitude</th>\n",
       "      <th>rightsHolder</th>\n",
       "      <th>datasetName</th>\n",
       "    </tr>\n",
       "  </thead>\n",
       "  <tbody>\n",
       "    <tr>\n",
       "      <th>1</th>\n",
       "      <td>41.79664</td>\n",
       "      <td>-80.97289</td>\n",
       "      <td>Robert L Curtis</td>\n",
       "      <td>iNaturalist research-grade observations</td>\n",
       "    </tr>\n",
       "    <tr>\n",
       "      <th>2</th>\n",
       "      <td>37.97240</td>\n",
       "      <td>-83.56716</td>\n",
       "      <td>Brian Wulker</td>\n",
       "      <td>iNaturalist research-grade observations</td>\n",
       "    </tr>\n",
       "    <tr>\n",
       "      <th>10</th>\n",
       "      <td>35.07780</td>\n",
       "      <td>-83.97430</td>\n",
       "      <td>North Carolina Museum of Natural Sciences</td>\n",
       "      <td>NCSM Fishes Collection</td>\n",
       "    </tr>\n",
       "    <tr>\n",
       "      <th>13</th>\n",
       "      <td>35.17770</td>\n",
       "      <td>-83.88780</td>\n",
       "      <td>North Carolina Museum of Natural Sciences</td>\n",
       "      <td>NCSM Fishes Collection</td>\n",
       "    </tr>\n",
       "    <tr>\n",
       "      <th>20</th>\n",
       "      <td>35.16030</td>\n",
       "      <td>-83.92020</td>\n",
       "      <td>North Carolina Museum of Natural Sciences</td>\n",
       "      <td>NCSM Fishes Collection</td>\n",
       "    </tr>\n",
       "    <tr>\n",
       "      <th>39</th>\n",
       "      <td>36.40790</td>\n",
       "      <td>-81.40160</td>\n",
       "      <td>North Carolina Museum of Natural Sciences</td>\n",
       "      <td>NCSM Fishes Collection</td>\n",
       "    </tr>\n",
       "    <tr>\n",
       "      <th>48</th>\n",
       "      <td>36.41300</td>\n",
       "      <td>-81.40710</td>\n",
       "      <td>North Carolina Museum of Natural Sciences</td>\n",
       "      <td>NCSM Fishes Collection</td>\n",
       "    </tr>\n",
       "    <tr>\n",
       "      <th>51</th>\n",
       "      <td>36.55790</td>\n",
       "      <td>-81.21670</td>\n",
       "      <td>North Carolina Museum of Natural Sciences</td>\n",
       "      <td>NCSM Fishes Collection</td>\n",
       "    </tr>\n",
       "    <tr>\n",
       "      <th>52</th>\n",
       "      <td>36.54960</td>\n",
       "      <td>-81.00230</td>\n",
       "      <td>North Carolina Museum of Natural Sciences</td>\n",
       "      <td>NCSM Fishes Collection</td>\n",
       "    </tr>\n",
       "    <tr>\n",
       "      <th>54</th>\n",
       "      <td>36.38760</td>\n",
       "      <td>-91.53010</td>\n",
       "      <td>NaN</td>\n",
       "      <td>Auburn University Museum Fish Collection</td>\n",
       "    </tr>\n",
       "  </tbody>\n",
       "</table>\n",
       "</div>"
      ],
      "text/plain": [
       "    decimalLatitude  decimalLongitude  \\\n",
       "1          41.79664         -80.97289   \n",
       "2          37.97240         -83.56716   \n",
       "10         35.07780         -83.97430   \n",
       "13         35.17770         -83.88780   \n",
       "20         35.16030         -83.92020   \n",
       "39         36.40790         -81.40160   \n",
       "48         36.41300         -81.40710   \n",
       "51         36.55790         -81.21670   \n",
       "52         36.54960         -81.00230   \n",
       "54         36.38760         -91.53010   \n",
       "\n",
       "                                 rightsHolder  \\\n",
       "1                             Robert L Curtis   \n",
       "2                                Brian Wulker   \n",
       "10  North Carolina Museum of Natural Sciences   \n",
       "13  North Carolina Museum of Natural Sciences   \n",
       "20  North Carolina Museum of Natural Sciences   \n",
       "39  North Carolina Museum of Natural Sciences   \n",
       "48  North Carolina Museum of Natural Sciences   \n",
       "51  North Carolina Museum of Natural Sciences   \n",
       "52  North Carolina Museum of Natural Sciences   \n",
       "54                                        NaN   \n",
       "\n",
       "                                 datasetName  \n",
       "1    iNaturalist research-grade observations  \n",
       "2    iNaturalist research-grade observations  \n",
       "10                    NCSM Fishes Collection  \n",
       "13                    NCSM Fishes Collection  \n",
       "20                    NCSM Fishes Collection  \n",
       "39                    NCSM Fishes Collection  \n",
       "48                    NCSM Fishes Collection  \n",
       "51                    NCSM Fishes Collection  \n",
       "52                    NCSM Fishes Collection  \n",
       "54  Auburn University Museum Fish Collection  "
      ]
     },
     "execution_count": 24,
     "metadata": {},
     "output_type": "execute_result"
    }
   ],
   "source": [
    "data_selected[~data_selected.datasetName.isnull()].head(10)"
   ]
  },
  {
   "cell_type": "markdown",
   "metadata": {},
   "source": [
    "### If you hare happy with this filtering, and you want to save the species data:"
   ]
  },
  {
   "cell_type": "code",
   "execution_count": 25,
   "metadata": {
    "collapsed": false
   },
   "outputs": [],
   "source": [
    "my_species.set_data(data_selected) # update the object \"my_species\" to contain the filtered data"
   ]
  },
  {
   "cell_type": "code",
   "execution_count": 26,
   "metadata": {
    "collapsed": false
   },
   "outputs": [
    {
     "name": "stderr",
     "output_type": "stream",
     "text": [
      "Saved data: /home/daniela/git/iSDM/notebooks/updated_dataset.pkl \n"
     ]
    }
   ],
   "source": [
    "my_species.save_data(file_name=\"updated_dataset.pkl\")"
   ]
  },
  {
   "cell_type": "markdown",
   "metadata": {},
   "source": [
    "### Plot our filtered selection "
   ]
  },
  {
   "cell_type": "code",
   "execution_count": 27,
   "metadata": {
    "collapsed": false
   },
   "outputs": [
    {
     "data": {
      "image/png": "[encoded data removed]",
      "text/plain": [
       "<matplotlib.figure.Figure at 0x7fe0b8852978>"
      ]
     },
     "metadata": {},
     "output_type": "display_data"
    }
   ],
   "source": [
    "my_species.plot_species_occurrence()"
   ]
  },
  {
   "cell_type": "code",
   "execution_count": 29,
   "metadata": {
    "collapsed": false
   },
   "outputs": [
    {
     "data": {
      "text/plain": [
       "(119, 4)"
      ]
     },
     "execution_count": 29,
     "metadata": {},
     "output_type": "execute_result"
    }
   ],
   "source": [
    "my_species.get_data().shape # there are 119 records now"
   ]
  },
  {
   "cell_type": "markdown",
   "metadata": {},
   "source": [
    "### 4. Load data from downloaded csv file (from GBIF website, not API; differs a bit)"
   ]
  },
  {
   "cell_type": "code",
   "execution_count": 32,
   "metadata": {
    "collapsed": false
   },
   "outputs": [
    {
     "name": "stderr",
     "output_type": "stream",
     "text": [
      "Loading data from: ../data/GBIF.csv\n",
      "Succesfully loaded previously CSV data.\n",
      "Updated species ID: 2382397 \n"
     ]
    }
   ],
   "source": [
    "csv_data = my_species.load_csv('../data/GBIF.csv') "
   ]
  },
  {
   "cell_type": "code",
   "execution_count": 33,
   "metadata": {
    "collapsed": false
   },
   "outputs": [
    {
     "data": {
      "text/html": [
       "<div>\n",
       "<table border=\"1\" class=\"dataframe\">\n",
       "  <thead>\n",
       "    <tr style=\"text-align: right;\">\n",
       "      <th></th>\n",
       "      <th>gbifid</th>\n",
       "      <th>datasetkey</th>\n",
       "      <th>occurrenceid</th>\n",
       "      <th>kingdom</th>\n",
       "      <th>phylum</th>\n",
       "      <th>class</th>\n",
       "      <th>order</th>\n",
       "      <th>family</th>\n",
       "      <th>genus</th>\n",
       "      <th>species</th>\n",
       "      <th>...</th>\n",
       "      <th>recordnumber</th>\n",
       "      <th>identifiedby</th>\n",
       "      <th>rights</th>\n",
       "      <th>rightsholder</th>\n",
       "      <th>recordedby</th>\n",
       "      <th>typestatus</th>\n",
       "      <th>establishmentmeans</th>\n",
       "      <th>lastinterpreted</th>\n",
       "      <th>mediatype</th>\n",
       "      <th>issue</th>\n",
       "    </tr>\n",
       "  </thead>\n",
       "  <tbody>\n",
       "    <tr>\n",
       "      <th>0</th>\n",
       "      <td>1224542608</td>\n",
       "      <td>71e6db8e-f762-11e1-a439-00145eb45e9a</td>\n",
       "      <td>urn:catalog:OMNH:FISH:85718</td>\n",
       "      <td>Animalia</td>\n",
       "      <td>Chordata</td>\n",
       "      <td>Actinopterygii</td>\n",
       "      <td>Perciformes</td>\n",
       "      <td>Percidae</td>\n",
       "      <td>Etheostoma</td>\n",
       "      <td>Etheostoma blennioides</td>\n",
       "      <td>...</td>\n",
       "      <td>NaN</td>\n",
       "      <td>Dr. Aaron Geheber</td>\n",
       "      <td>NaN</td>\n",
       "      <td>Sam Noble Oklahoma Museum of Natural History</td>\n",
       "      <td>Aaron Geheber</td>\n",
       "      <td>NaN</td>\n",
       "      <td>NaN</td>\n",
       "      <td>2015-12-23T21:01Z</td>\n",
       "      <td>NaN</td>\n",
       "      <td>GEODETIC_DATUM_ASSUMED_WGS84</td>\n",
       "    </tr>\n",
       "    <tr>\n",
       "      <th>1</th>\n",
       "      <td>17598896</td>\n",
       "      <td>83a8c0da-f762-11e1-a439-00145eb45e9a</td>\n",
       "      <td>NaN</td>\n",
       "      <td>Animalia</td>\n",
       "      <td>Chordata</td>\n",
       "      <td>Actinopterygii</td>\n",
       "      <td>Perciformes</td>\n",
       "      <td>Percidae</td>\n",
       "      <td>Etheostoma</td>\n",
       "      <td>Etheostoma blennioides</td>\n",
       "      <td>...</td>\n",
       "      <td>NaN</td>\n",
       "      <td>Baldwin, M.E.</td>\n",
       "      <td>NaN</td>\n",
       "      <td>NaN</td>\n",
       "      <td>Baldwin, M.E.; Bowlby, J.N.</td>\n",
       "      <td>NaN</td>\n",
       "      <td>NaN</td>\n",
       "      <td>2014-06-04T23:44Z</td>\n",
       "      <td>NaN</td>\n",
       "      <td>GEODETIC_DATUM_ASSUMED_WGS84</td>\n",
       "    </tr>\n",
       "    <tr>\n",
       "      <th>2</th>\n",
       "      <td>17598905</td>\n",
       "      <td>83a8c0da-f762-11e1-a439-00145eb45e9a</td>\n",
       "      <td>NaN</td>\n",
       "      <td>Animalia</td>\n",
       "      <td>Chordata</td>\n",
       "      <td>Actinopterygii</td>\n",
       "      <td>Perciformes</td>\n",
       "      <td>Percidae</td>\n",
       "      <td>Etheostoma</td>\n",
       "      <td>Etheostoma blennioides</td>\n",
       "      <td>...</td>\n",
       "      <td>NaN</td>\n",
       "      <td>Baldwin, Mary Elizabeth</td>\n",
       "      <td>NaN</td>\n",
       "      <td>NaN</td>\n",
       "      <td>Baldwin, Mary Elizabeth; Casbourn, Hugh R.</td>\n",
       "      <td>NaN</td>\n",
       "      <td>NaN</td>\n",
       "      <td>2014-06-04T23:44Z</td>\n",
       "      <td>NaN</td>\n",
       "      <td>GEODETIC_DATUM_ASSUMED_WGS84</td>\n",
       "    </tr>\n",
       "    <tr>\n",
       "      <th>3</th>\n",
       "      <td>198193430</td>\n",
       "      <td>961f602a-f762-11e1-a439-00145eb45e9a</td>\n",
       "      <td>NaN</td>\n",
       "      <td>Animalia</td>\n",
       "      <td>Chordata</td>\n",
       "      <td>Actinopterygii</td>\n",
       "      <td>Perciformes</td>\n",
       "      <td>Percidae</td>\n",
       "      <td>Etheostoma</td>\n",
       "      <td>Etheostoma blennioides</td>\n",
       "      <td>...</td>\n",
       "      <td>NaN</td>\n",
       "      <td>NaN</td>\n",
       "      <td>NaN</td>\n",
       "      <td>NaN</td>\n",
       "      <td>R.D. Suttkus, Eaton &amp; Donahue</td>\n",
       "      <td>NaN</td>\n",
       "      <td>NaN</td>\n",
       "      <td>2014-06-05T03:09Z</td>\n",
       "      <td>NaN</td>\n",
       "      <td>GEODETIC_DATUM_ASSUMED_WGS84</td>\n",
       "    </tr>\n",
       "    <tr>\n",
       "      <th>4</th>\n",
       "      <td>198193618</td>\n",
       "      <td>961f602a-f762-11e1-a439-00145eb45e9a</td>\n",
       "      <td>NaN</td>\n",
       "      <td>Animalia</td>\n",
       "      <td>Chordata</td>\n",
       "      <td>Actinopterygii</td>\n",
       "      <td>Perciformes</td>\n",
       "      <td>Percidae</td>\n",
       "      <td>Etheostoma</td>\n",
       "      <td>Etheostoma blennioides</td>\n",
       "      <td>...</td>\n",
       "      <td>NaN</td>\n",
       "      <td>NaN</td>\n",
       "      <td>NaN</td>\n",
       "      <td>NaN</td>\n",
       "      <td>R.D. Suttkus, J.S. Ramsey &amp; M.D. Dahlberg</td>\n",
       "      <td>NaN</td>\n",
       "      <td>NaN</td>\n",
       "      <td>2014-06-05T03:09Z</td>\n",
       "      <td>NaN</td>\n",
       "      <td>TAXON_MATCH_HIGHERRANK;GEODETIC_DATUM_ASSUMED_...</td>\n",
       "    </tr>\n",
       "  </tbody>\n",
       "</table>\n",
       "<p>5 rows × 42 columns</p>\n",
       "</div>"
      ],
      "text/plain": [
       "       gbifid                            datasetkey  \\\n",
       "0  1224542608  71e6db8e-f762-11e1-a439-00145eb45e9a   \n",
       "1    17598896  83a8c0da-f762-11e1-a439-00145eb45e9a   \n",
       "2    17598905  83a8c0da-f762-11e1-a439-00145eb45e9a   \n",
       "3   198193430  961f602a-f762-11e1-a439-00145eb45e9a   \n",
       "4   198193618  961f602a-f762-11e1-a439-00145eb45e9a   \n",
       "\n",
       "                  occurrenceid   kingdom    phylum           class  \\\n",
       "0  urn:catalog:OMNH:FISH:85718  Animalia  Chordata  Actinopterygii   \n",
       "1                          NaN  Animalia  Chordata  Actinopterygii   \n",
       "2                          NaN  Animalia  Chordata  Actinopterygii   \n",
       "3                          NaN  Animalia  Chordata  Actinopterygii   \n",
       "4                          NaN  Animalia  Chordata  Actinopterygii   \n",
       "\n",
       "         order    family       genus                 species  \\\n",
       "0  Perciformes  Percidae  Etheostoma  Etheostoma blennioides   \n",
       "1  Perciformes  Percidae  Etheostoma  Etheostoma blennioides   \n",
       "2  Perciformes  Percidae  Etheostoma  Etheostoma blennioides   \n",
       "3  Perciformes  Percidae  Etheostoma  Etheostoma blennioides   \n",
       "4  Perciformes  Percidae  Etheostoma  Etheostoma blennioides   \n",
       "\n",
       "                         ...                         recordnumber  \\\n",
       "0                        ...                                  NaN   \n",
       "1                        ...                                  NaN   \n",
       "2                        ...                                  NaN   \n",
       "3                        ...                                  NaN   \n",
       "4                        ...                                  NaN   \n",
       "\n",
       "              identifiedby rights  \\\n",
       "0        Dr. Aaron Geheber    NaN   \n",
       "1            Baldwin, M.E.    NaN   \n",
       "2  Baldwin, Mary Elizabeth    NaN   \n",
       "3                      NaN    NaN   \n",
       "4                      NaN    NaN   \n",
       "\n",
       "                                   rightsholder  \\\n",
       "0  Sam Noble Oklahoma Museum of Natural History   \n",
       "1                                           NaN   \n",
       "2                                           NaN   \n",
       "3                                           NaN   \n",
       "4                                           NaN   \n",
       "\n",
       "                                   recordedby typestatus  establishmentmeans  \\\n",
       "0                               Aaron Geheber        NaN                 NaN   \n",
       "1                 Baldwin, M.E.; Bowlby, J.N.        NaN                 NaN   \n",
       "2  Baldwin, Mary Elizabeth; Casbourn, Hugh R.        NaN                 NaN   \n",
       "3               R.D. Suttkus, Eaton & Donahue        NaN                 NaN   \n",
       "4   R.D. Suttkus, J.S. Ramsey & M.D. Dahlberg        NaN                 NaN   \n",
       "\n",
       "     lastinterpreted  mediatype  \\\n",
       "0  2015-12-23T21:01Z        NaN   \n",
       "1  2014-06-04T23:44Z        NaN   \n",
       "2  2014-06-04T23:44Z        NaN   \n",
       "3  2014-06-05T03:09Z        NaN   \n",
       "4  2014-06-05T03:09Z        NaN   \n",
       "\n",
       "                                               issue  \n",
       "0                       GEODETIC_DATUM_ASSUMED_WGS84  \n",
       "1                       GEODETIC_DATUM_ASSUMED_WGS84  \n",
       "2                       GEODETIC_DATUM_ASSUMED_WGS84  \n",
       "3                       GEODETIC_DATUM_ASSUMED_WGS84  \n",
       "4  TAXON_MATCH_HIGHERRANK;GEODETIC_DATUM_ASSUMED_...  \n",
       "\n",
       "[5 rows x 42 columns]"
      ]
     },
     "execution_count": 33,
     "metadata": {},
     "output_type": "execute_result"
    }
   ],
   "source": [
    "csv_data.head() # let's peak into the data"
   ]
  },
  {
   "cell_type": "code",
   "execution_count": 34,
   "metadata": {
    "collapsed": false
   },
   "outputs": [
    {
     "data": {
      "text/plain": [
       "array([2382397])"
      ]
     },
     "execution_count": 34,
     "metadata": {},
     "output_type": "execute_result"
    }
   ],
   "source": [
    "csv_data['specieskey'].unique()"
   ]
  },
  {
   "cell_type": "code",
   "execution_count": 35,
   "metadata": {
    "collapsed": false
   },
   "outputs": [
    {
     "name": "stderr",
     "output_type": "stream",
     "text": [
      "Saved data: /home/daniela/git/iSDM/notebooks/2382397.pkl \n"
     ]
    }
   ],
   "source": [
    "my_species.save_data() # by default this 'speciesKey' is used. Alternative name can be provided"
   ]
  },
  {
   "cell_type": "code",
   "execution_count": 36,
   "metadata": {
    "collapsed": false
   },
   "outputs": [
    {
     "data": {
      "text/plain": [
       "42"
      ]
     },
     "execution_count": 36,
     "metadata": {},
     "output_type": "execute_result"
    }
   ],
   "source": [
    "csv_data.columns.size # csv data for some reason a lot less columns"
   ]
  },
  {
   "cell_type": "code",
   "execution_count": 39,
   "metadata": {
    "collapsed": false
   },
   "outputs": [
    {
     "data": {
      "text/plain": [
       "138"
      ]
     },
     "execution_count": 39,
     "metadata": {},
     "output_type": "execute_result"
    }
   ],
   "source": [
    "data.columns.size # data from using GBIF API directly"
   ]
  },
  {
   "cell_type": "markdown",
   "metadata": {},
   "source": [
    "#### Which columns are in 'data', but not in 'csv_data'?"
   ]
  },
  {
   "cell_type": "code",
   "execution_count": 19,
   "metadata": {
    "collapsed": false,
    "scrolled": true
   },
   "outputs": [
    {
     "data": {
      "text/plain": [
       "['infraspecificEpithet',\n",
       " 'collectionCode',\n",
       " 'individualCount',\n",
       " 'orderKey',\n",
       " 'dynamicProperties',\n",
       " 'depthAccuracy',\n",
       " 'identifier',\n",
       " 'geodeticDatum',\n",
       " 'created',\n",
       " 'rightsHolder',\n",
       " 'datasetName',\n",
       " 'taxonRemarks',\n",
       " 'recordNumber',\n",
       " 'taxonKey',\n",
       " 'facts',\n",
       " 'georeferenceSources',\n",
       " 'license',\n",
       " 'county',\n",
       " 'elevationAccuracy',\n",
       " 'eventID',\n",
       " 'verbatimElevation',\n",
       " 'islandGroup',\n",
       " 'collectionID',\n",
       " 'dateIdentified',\n",
       " 'occurrenceRemarks',\n",
       " 'eventDate',\n",
       " 'media',\n",
       " 'verbatimDepth',\n",
       " 'higherClassification',\n",
       " 'accessRights',\n",
       " 'identifiedBy',\n",
       " 'associatedSequences',\n",
       " 'protocol',\n",
       " 'phylumKey',\n",
       " 'issues',\n",
       " 'vernacularName',\n",
       " 'otherCatalogNumbers',\n",
       " 'coordinateAccuracyInMeters',\n",
       " 'institutionCode',\n",
       " 'disposition',\n",
       " 'modified',\n",
       " 'fieldNotes',\n",
       " 'verbatimCoordinateSystem',\n",
       " 'occurrenceStatus',\n",
       " 'lastCrawled',\n",
       " 'associatedOccurrences',\n",
       " 'decimalLongitude',\n",
       " 'locationID',\n",
       " 'http://unknown.org/occurrenceDetails',\n",
       " 'type',\n",
       " 'locationAccordingTo',\n",
       " 'familyKey',\n",
       " 'stateProvince',\n",
       " 'startDayOfYear',\n",
       " 'typeStatus',\n",
       " 'island',\n",
       " 'publishingCountry',\n",
       " 'locationRemarks',\n",
       " 'institutionID',\n",
       " 'extensions',\n",
       " 'kingdomKey',\n",
       " 'datasetKey',\n",
       " 'municipality',\n",
       " 'nomenclaturalCode',\n",
       " 'language',\n",
       " 'identifiers',\n",
       " 'georeferencedDate',\n",
       " 'associatedReferences',\n",
       " 'identificationRemarks',\n",
       " 'bibliographicCitation',\n",
       " 'georeferenceRemarks',\n",
       " 'specificEpithet',\n",
       " 'georeferencedBy',\n",
       " 'basisOfRecord',\n",
       " 'taxonRank',\n",
       " 'genusKey',\n",
       " 'eventRemarks',\n",
       " 'informationWithheld',\n",
       " 'scientificName',\n",
       " 'waterBody',\n",
       " 'lastInterpreted',\n",
       " 'catalogNumber',\n",
       " 'scientificNameID',\n",
       " 'occurrenceID',\n",
       " 'verbatimEventDate',\n",
       " 'classKey',\n",
       " 'recordedBy',\n",
       " 'lastParsed',\n",
       " 'relations',\n",
       " 'georeferenceProtocol',\n",
       " 'coordinateAccuracy',\n",
       " 'genericName',\n",
       " 'habitat',\n",
       " 'publishingOrgKey',\n",
       " 'footprintWKT',\n",
       " 'gbifID',\n",
       " 'eventTime',\n",
       " 'speciesKey',\n",
       " 'organismID',\n",
       " 'higherGeography',\n",
       " 'decimalLatitude',\n",
       " 'establishmentMeans',\n",
       " 'fieldNumber',\n",
       " 'references',\n",
       " 'lifeStage',\n",
       " 'identificationVerificationStatus',\n",
       " 'ownerInstitutionCode',\n",
       " 'verbatimLocality',\n",
       " 'taxonID',\n",
       " 'samplingProtocol',\n",
       " 'endDayOfYear',\n",
       " 'datasetID',\n",
       " 'identificationQualifier',\n",
       " 'continent',\n",
       " 'parentNameUsage',\n",
       " 'country',\n",
       " 'key',\n",
       " 'source',\n",
       " 'http://unknown.org/organismID',\n",
       " 'preparations',\n",
       " 'countryCode',\n",
       " 'identificationID',\n",
       " 'previousIdentifications',\n",
       " 'georeferenceVerificationStatus']"
      ]
     },
     "execution_count": 19,
     "metadata": {},
     "output_type": "execute_result"
    }
   ],
   "source": [
    "list(set(data.columns.tolist()) - set(csv_data.columns.tolist())) # hmm, 'decimalLatitude' vs 'decimallatitude'"
   ]
  },
  {
   "cell_type": "markdown",
   "metadata": {},
   "source": [
    "#### Which columns are in 'csv_data' but not in 'data'?"
   ]
  },
  {
   "cell_type": "code",
   "execution_count": 40,
   "metadata": {
    "collapsed": false
   },
   "outputs": [
    {
     "data": {
      "text/plain": [
       "['recordedby',\n",
       " 'decimallatitude',\n",
       " 'decimallongitude',\n",
       " 'datasetkey',\n",
       " 'typestatus',\n",
       " 'collectioncode',\n",
       " 'issue',\n",
       " 'establishmentmeans',\n",
       " 'rightsholder',\n",
       " 'identifiedby',\n",
       " 'lastinterpreted',\n",
       " 'infraspecificepithet',\n",
       " 'taxonrank',\n",
       " 'occurrenceid',\n",
       " 'publishingorgkey',\n",
       " 'scientificname',\n",
       " 'eventdate',\n",
       " 'taxonkey',\n",
       " 'elevationaccuracy',\n",
       " 'countrycode',\n",
       " 'depthaccuracy',\n",
       " 'institutioncode',\n",
       " 'mediatype',\n",
       " 'gbifid',\n",
       " 'catalognumber',\n",
       " 'specieskey',\n",
       " 'basisofrecord',\n",
       " 'recordnumber']"
      ]
     },
     "execution_count": 40,
     "metadata": {},
     "output_type": "execute_result"
    }
   ],
   "source": [
    "list(set(csv_data.columns.tolist()) - set(data.columns.tolist()))"
   ]
  },
  {
   "cell_type": "code",
   "execution_count": null,
   "metadata": {
    "collapsed": true
   },
   "outputs": [],
   "source": []
  },
  {
   "cell_type": "code",
   "execution_count": null,
   "metadata": {
    "collapsed": true
   },
   "outputs": [],
   "source": []
  }
 ],
 "metadata": {
  "kernelspec": {
   "display_name": "Python 3",
   "language": "python",
   "name": "python3"
  },
  "language_info": {
   "codemirror_mode": {
    "name": "ipython",
    "version": 3
   },
   "file_extension": ".py",
   "mimetype": "text/x-python",
   "name": "python",
   "nbconvert_exporter": "python",
   "pygments_lexer": "ipython3",
   "version": "3.5.1"
  }
 },
 "nbformat": 4,
 "nbformat_minor": 0
}
