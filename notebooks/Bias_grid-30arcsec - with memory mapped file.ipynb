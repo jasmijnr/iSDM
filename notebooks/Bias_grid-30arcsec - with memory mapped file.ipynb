{
 "cells": [
  {
   "cell_type": "code",
   "execution_count": 1,
   "metadata": {
    "collapsed": true
   },
   "outputs": [],
   "source": [
    "import logging\n",
    "import numpy as np\n",
    "import pandas as pd\n",
    "root = logging.getLogger()\n",
    "root.addHandler(logging.StreamHandler())\n",
    "import datetime\n",
    "%matplotlib inline\n",
    "from shapely.prepared import prep\n",
    "from shapely import speedups\n",
    "speedups.enable()"
   ]
  },
  {
   "cell_type": "code",
   "execution_count": null,
   "metadata": {
    "collapsed": false
   },
   "outputs": [
    {
     "name": "stdout",
     "output_type": "stream",
     "text": [
      "15:04:05.390324 Processing.. 100 \n",
      "15:04:17.992654 Processing.. 200 \n",
      "15:04:33.019456 Processing.. 300 \n",
      "15:04:51.353167 Processing.. 400 \n",
      "15:05:11.014846 Processing.. 500 \n",
      "15:05:32.764214 Processing.. 600 \n",
      "15:05:56.665404 Processing.. 700 \n",
      "15:06:23.198995 Processing.. 800 \n",
      "15:06:51.932699 Processing.. 900 \n",
      "15:07:26.564767 Processing.. 1000 \n",
      "15:08:03.810959 Processing.. 1100 \n",
      "15:08:47.837072 Processing.. 1200 \n",
      "15:09:31.719969 Processing.. 1300 \n",
      "15:10:18.034893 Processing.. 1400 \n",
      "15:11:12.971453 Processing.. 1500 \n",
      "15:12:08.266557 Processing.. 1600 \n",
      "15:13:10.106589 Processing.. 1700 \n",
      "15:14:13.539186 Processing.. 1800 \n",
      "15:15:17.949457 Processing.. 1900 \n",
      "15:16:26.108047 Processing.. 2000 \n",
      "15:17:40.069562 Processing.. 2100 \n",
      "15:19:08.791963 Processing.. 2200 \n",
      "15:20:36.307465 Processing.. 2300 \n",
      "15:22:18.219172 Processing.. 2400 \n",
      "15:23:52.060455 Processing.. 2500 \n",
      "15:25:36.458143 Processing.. 2600 \n",
      "15:27:14.736542 Processing.. 2700 \n",
      "15:28:38.109453 Processing.. 2800 \n",
      "15:30:07.359079 Processing.. 2900 \n",
      "15:31:46.442218 Processing.. 3000 \n",
      "15:33:21.544590 Processing.. 3100 \n",
      "15:34:57.250393 Processing.. 3200 \n",
      "15:36:48.141724 Processing.. 3300 \n",
      "15:38:48.266840 Processing.. 3400 \n",
      "15:41:12.213891 Processing.. 3500 \n",
      "15:43:05.406919 Processing.. 3600 \n",
      "15:45:11.116797 Processing.. 3700 \n",
      "15:47:26.784023 Processing.. 3800 \n",
      "15:49:44.004158 Processing.. 3900 \n",
      "15:51:58.750333 Processing.. 4000 \n",
      "15:54:21.594642 Processing.. 4100 \n",
      "15:56:45.095902 Processing.. 4200 \n",
      "15:59:17.855855 Processing.. 4300 \n",
      "16:01:54.443593 Processing.. 4400 \n"
     ]
    }
   ],
   "source": [
    "import pandas as pd\n",
    "important_columns1 = ['species', 'dateidentified', 'eventdate', 'basisofrecord', 'decimallatitude','decimallongitude', 'day', 'month', 'year' ]\n",
    "result_with_lat_long = pd.DataFrame(columns=important_columns1)\n",
    "counter = 0\n",
    "for df in pd.read_msgpack(\"../data/fish/selection/merged.msg\", iterator=True):\n",
    "    counter += 1\n",
    "    if (counter%100==0):\n",
    "        print(\"%s Processing.. %s \" % (datetime.datetime.now().time().isoformat(), counter))\n",
    "    if \"decimallatitude\" in df.columns.tolist() and \"decimallongitude\" in df.columns.tolist():\n",
    "        common_columns = list(set(important_columns1).intersection(set(df.columns.tolist())))\n",
    "        result_with_lat_long = result_with_lat_long.append(df[common_columns], ignore_index=True)\n",
    "      "
   ]
  },
  {
   "cell_type": "markdown",
   "metadata": {},
   "source": [
    "## 1. Collect and filter all observations"
   ]
  },
  {
   "cell_type": "markdown",
   "metadata": {},
   "source": [
    "### Recrods with latitude/longitude"
   ]
  },
  {
   "cell_type": "code",
   "execution_count": null,
   "metadata": {
    "collapsed": true
   },
   "outputs": [],
   "source": [
    "result_with_lat_long = result_with_lat_long[result_with_lat_long.decimallatitude.notnull() & result_with_lat_long.decimallongitude.notnull()]"
   ]
  },
  {
   "cell_type": "markdown",
   "metadata": {},
   "source": [
    "### How many unique species have occurrence records with latitude/longitude?"
   ]
  },
  {
   "cell_type": "code",
   "execution_count": null,
   "metadata": {
    "collapsed": false
   },
   "outputs": [],
   "source": [
    "result_with_lat_long['species'].unique().size"
   ]
  },
  {
   "cell_type": "markdown",
   "metadata": {},
   "source": [
    "Best to take into account all observations which **have either \"year\" or \"eventdate\" present. (or both)** Let's group them by species name, and count the number of observation records."
   ]
  },
  {
   "cell_type": "code",
   "execution_count": null,
   "metadata": {
    "collapsed": false
   },
   "outputs": [],
   "source": [
    "grouped_lat_long_year_or_eventdate = pd.DataFrame()\n",
    "grouped_lat_long_year_or_eventdate['count'] = result_with_lat_long[result_with_lat_long.eventdate.notnull() | result_with_lat_long.year.notnull()].groupby(['species']).apply(lambda x: x['species'].count())\n",
    "grouped_lat_long_year_or_eventdate.head(10) # peak at the top 10 only"
   ]
  },
  {
   "cell_type": "markdown",
   "metadata": {},
   "source": [
    "### How many unique species HAVE records with latitude/longitude, AND date of event (at least year)"
   ]
  },
  {
   "cell_type": "code",
   "execution_count": null,
   "metadata": {
    "collapsed": false
   },
   "outputs": [],
   "source": [
    "result_with_lat_long['species'].unique().size"
   ]
  },
  {
   "cell_type": "markdown",
   "metadata": {},
   "source": [
    "### How many unique species with latitude/longitude, AND event date after 1990?"
   ]
  },
  {
   "cell_type": "code",
   "execution_count": null,
   "metadata": {
    "collapsed": false
   },
   "outputs": [],
   "source": [
    "year_or_eventdate_1990 = result_with_lat_long[['species', 'year', 'eventdate', 'basisofrecord', 'decimallatitude', 'decimallongitude']][(result_with_lat_long.year>1990) | (result_with_lat_long.eventdate>\"1990\")]\n",
    "\n",
    "grouped_year_or_eventdate_1990 = pd.DataFrame()\n",
    "grouped_year_or_eventdate_1990['numobservations'] = year_or_eventdate_1990.groupby(['species']).apply(lambda x: x['species'].count())\n",
    "grouped_year_or_eventdate_1990.shape[0]"
   ]
  },
  {
   "cell_type": "code",
   "execution_count": null,
   "metadata": {
    "collapsed": false
   },
   "outputs": [],
   "source": [
    "year_or_eventdate_1990.basisofrecord.unique()"
   ]
  },
  {
   "cell_type": "markdown",
   "metadata": {},
   "source": [
    "I guess we should keep only observations of type 'OBSERVATION', 'MACHINE_OBSERVATION' and 'HUMAN_OBSERVATION'?"
   ]
  },
  {
   "cell_type": "code",
   "execution_count": null,
   "metadata": {
    "collapsed": false
   },
   "outputs": [],
   "source": [
    "final_selection = year_or_eventdate_1990[(year_or_eventdate_1990.basisofrecord=='OBSERVATION') | (year_or_eventdate_1990.basisofrecord=='HUMAN_OBSERVATION') | (year_or_eventdate_1990.basisofrecord=='MACHINE_OBSERVATION')]"
   ]
  },
  {
   "cell_type": "code",
   "execution_count": null,
   "metadata": {
    "collapsed": false
   },
   "outputs": [],
   "source": [
    "final_selection.species.unique().shape"
   ]
  },
  {
   "cell_type": "code",
   "execution_count": null,
   "metadata": {
    "collapsed": false
   },
   "outputs": [],
   "source": [
    "final_selection"
   ]
  },
  {
   "cell_type": "code",
   "execution_count": null,
   "metadata": {
    "collapsed": true
   },
   "outputs": [],
   "source": [
    "from iSDM.species import GBIFSpecies"
   ]
  },
  {
   "cell_type": "code",
   "execution_count": null,
   "metadata": {
    "collapsed": false
   },
   "outputs": [],
   "source": [
    "all_species = GBIFSpecies(name_species='All')"
   ]
  },
  {
   "cell_type": "code",
   "execution_count": null,
   "metadata": {
    "collapsed": true
   },
   "outputs": [],
   "source": [
    "all_species.set_data(final_selection)"
   ]
  },
  {
   "cell_type": "code",
   "execution_count": null,
   "metadata": {
    "collapsed": false
   },
   "outputs": [],
   "source": [
    "all_species.get_data().species.unique().shape # these many different species"
   ]
  },
  {
   "cell_type": "code",
   "execution_count": null,
   "metadata": {
    "collapsed": false
   },
   "outputs": [],
   "source": [
    "all_species.get_data().shape[0] # 1939675? this many observations satisfying our criteria (after 1990, with the correct observation type)"
   ]
  },
  {
   "cell_type": "code",
   "execution_count": null,
   "metadata": {
    "collapsed": false
   },
   "outputs": [],
   "source": [
    "year_or_eventdate_1990.shape[0] # before filtering out types of observations"
   ]
  },
  {
   "cell_type": "code",
   "execution_count": null,
   "metadata": {
    "collapsed": false
   },
   "outputs": [],
   "source": [
    "all_species.geometrize()"
   ]
  },
  {
   "cell_type": "code",
   "execution_count": null,
   "metadata": {
    "collapsed": false
   },
   "outputs": [],
   "source": [
    "all_species.get_data().species.unique().shape"
   ]
  },
  {
   "cell_type": "code",
   "execution_count": null,
   "metadata": {
    "collapsed": false
   },
   "outputs": [],
   "source": [
    "final_observations = all_species.get_data()[['species', 'year','eventdate', 'basisofrecord','geometry']]"
   ]
  },
  {
   "cell_type": "code",
   "execution_count": null,
   "metadata": {
    "collapsed": false
   },
   "outputs": [],
   "source": [
    "# final_observations.to_file(\"../data/bias_grid/final_observations\", driver=\"ESRI Shapefile\")"
   ]
  },
  {
   "cell_type": "markdown",
   "metadata": {},
   "source": [
    "### Read all filtered data.\n",
    "To this point all the operations were to filter out data and finally store the remaining observations in a file.\n",
    "We can start with the stored file from here."
   ]
  },
  {
   "cell_type": "code",
   "execution_count": 4,
   "metadata": {
    "collapsed": true
   },
   "outputs": [],
   "source": [
    "from geopandas import GeoDataFrame\n",
    "final_observations = GeoDataFrame.from_file(\"../data/bias_grid/final_observations/\")"
   ]
  },
  {
   "cell_type": "code",
   "execution_count": 5,
   "metadata": {
    "collapsed": false
   },
   "outputs": [
    {
     "data": {
      "text/html": [
       "<div>\n",
       "<table border=\"1\" class=\"dataframe\">\n",
       "  <thead>\n",
       "    <tr style=\"text-align: right;\">\n",
       "      <th></th>\n",
       "      <th>basisofrec</th>\n",
       "      <th>eventdate</th>\n",
       "      <th>geometry</th>\n",
       "      <th>species</th>\n",
       "      <th>year</th>\n",
       "    </tr>\n",
       "  </thead>\n",
       "  <tbody>\n",
       "    <tr>\n",
       "      <th>0</th>\n",
       "      <td>HUMAN_OBSERVATION</td>\n",
       "      <td>2007-01-29T23:00:00.000+0000</td>\n",
       "      <td>POINT (30.1543 0.0581)</td>\n",
       "      <td>Haplochromis elegans</td>\n",
       "      <td>2007.0</td>\n",
       "    </tr>\n",
       "    <tr>\n",
       "      <th>1</th>\n",
       "      <td>HUMAN_OBSERVATION</td>\n",
       "      <td>2007-01-27T23:00:00.000+0000</td>\n",
       "      <td>POINT (29.9497 -0.1893)</td>\n",
       "      <td>Haplochromis elegans</td>\n",
       "      <td>2007.0</td>\n",
       "    </tr>\n",
       "    <tr>\n",
       "      <th>2</th>\n",
       "      <td>HUMAN_OBSERVATION</td>\n",
       "      <td>2007-01-28T23:00:00.000+0000</td>\n",
       "      <td>POINT (30.0797 0.0562)</td>\n",
       "      <td>Haplochromis elegans</td>\n",
       "      <td>2007.0</td>\n",
       "    </tr>\n",
       "    <tr>\n",
       "      <th>3</th>\n",
       "      <td>HUMAN_OBSERVATION</td>\n",
       "      <td>2007-01-31T23:00:00.000+0000</td>\n",
       "      <td>POINT (30.1871 -0.0805)</td>\n",
       "      <td>Haplochromis elegans</td>\n",
       "      <td>2007.0</td>\n",
       "    </tr>\n",
       "    <tr>\n",
       "      <th>4</th>\n",
       "      <td>HUMAN_OBSERVATION</td>\n",
       "      <td>2006-11-21T23:00:00.000+0000</td>\n",
       "      <td>POINT (30.1448 0.0567)</td>\n",
       "      <td>Haplochromis elegans</td>\n",
       "      <td>2006.0</td>\n",
       "    </tr>\n",
       "  </tbody>\n",
       "</table>\n",
       "</div>"
      ],
      "text/plain": [
       "          basisofrec                     eventdate                 geometry  \\\n",
       "0  HUMAN_OBSERVATION  2007-01-29T23:00:00.000+0000   POINT (30.1543 0.0581)   \n",
       "1  HUMAN_OBSERVATION  2007-01-27T23:00:00.000+0000  POINT (29.9497 -0.1893)   \n",
       "2  HUMAN_OBSERVATION  2007-01-28T23:00:00.000+0000   POINT (30.0797 0.0562)   \n",
       "3  HUMAN_OBSERVATION  2007-01-31T23:00:00.000+0000  POINT (30.1871 -0.0805)   \n",
       "4  HUMAN_OBSERVATION  2006-11-21T23:00:00.000+0000   POINT (30.1448 0.0567)   \n",
       "\n",
       "                species    year  \n",
       "0  Haplochromis elegans  2007.0  \n",
       "1  Haplochromis elegans  2007.0  \n",
       "2  Haplochromis elegans  2007.0  \n",
       "3  Haplochromis elegans  2007.0  \n",
       "4  Haplochromis elegans  2006.0  "
      ]
     },
     "execution_count": 5,
     "metadata": {},
     "output_type": "execute_result"
    }
   ],
   "source": [
    "final_observations.head()"
   ]
  },
  {
   "cell_type": "markdown",
   "metadata": {
    "collapsed": true
   },
   "source": [
    "## 2. Create a background grid at a resolution of 30arcsec"
   ]
  },
  {
   "cell_type": "markdown",
   "metadata": {},
   "source": [
    "30 arcsec = 0.5/60 pixel = 0.0083333333 'height': 21600, 'width': 43200 for a global map\n",
    "\n",
    "Generate 2D array and use it as a basis for bias grid."
   ]
  },
  {
   "cell_type": "code",
   "execution_count": 3,
   "metadata": {
    "collapsed": true
   },
   "outputs": [],
   "source": [
    "x_min, y_min, x_max, y_max = -180, -90, 180, 90\n",
    "pixel_size = 0.0083333333\n",
    "x_res = int((x_max - x_min) / pixel_size)\n",
    "y_res = int((y_max - y_min) / pixel_size)"
   ]
  },
  {
   "cell_type": "code",
   "execution_count": 9,
   "metadata": {
    "collapsed": false
   },
   "outputs": [
    {
     "data": {
      "text/plain": [
       "43200"
      ]
     },
     "execution_count": 9,
     "metadata": {},
     "output_type": "execute_result"
    }
   ],
   "source": [
    "x_res"
   ]
  },
  {
   "cell_type": "code",
   "execution_count": 10,
   "metadata": {
    "collapsed": false
   },
   "outputs": [
    {
     "data": {
      "text/plain": [
       "21600"
      ]
     },
     "execution_count": 10,
     "metadata": {},
     "output_type": "execute_result"
    }
   ],
   "source": [
    "y_res"
   ]
  },
  {
   "cell_type": "markdown",
   "metadata": {},
   "source": [
    "We will use a memory-mapped biasgrid file to prevent the RAM from exploding."
   ]
  },
  {
   "cell_type": "code",
   "execution_count": 6,
   "metadata": {
    "collapsed": false
   },
   "outputs": [],
   "source": [
    "bias_grid_mm = np.memmap(\"../data/bias_grid/bias_grid_mm.dat\", dtype='int32', mode='w+', shape=(y_res,x_res))"
   ]
  },
  {
   "cell_type": "code",
   "execution_count": 7,
   "metadata": {
    "collapsed": true
   },
   "outputs": [],
   "source": [
    "def increase_pixel(row):\n",
    "    bias_grid_mm[np.abs(int((row.y - 90) / pixel_size)),\n",
    "              np.abs(int((row.x + 180) / pixel_size))]+=1"
   ]
  },
  {
   "cell_type": "code",
   "execution_count": 8,
   "metadata": {
    "collapsed": true
   },
   "outputs": [],
   "source": [
    "here = final_observations.geometry.apply(lambda row: increase_pixel(row)) # keeps the memory usage stable, but kinda slower"
   ]
  },
  {
   "cell_type": "code",
   "execution_count": 12,
   "metadata": {
    "collapsed": false
   },
   "outputs": [
    {
     "data": {
      "text/plain": [
       "memmap(42848, dtype=int32)"
      ]
     },
     "execution_count": 12,
     "metadata": {},
     "output_type": "execute_result"
    }
   ],
   "source": [
    "bias_grid_mm.max()"
   ]
  },
  {
   "cell_type": "code",
   "execution_count": 13,
   "metadata": {
    "collapsed": false
   },
   "outputs": [
    {
     "data": {
      "text/plain": [
       "memmap(1.8395193632862339)"
      ]
     },
     "execution_count": 13,
     "metadata": {},
     "output_type": "execute_result"
    }
   ],
   "source": [
    "bias_grid_mm.std() # sh*t this still eats memory (uses intermediate datastructures, of course)"
   ]
  },
  {
   "cell_type": "code",
   "execution_count": 15,
   "metadata": {
    "collapsed": false
   },
   "outputs": [
    {
     "data": {
      "text/plain": [
       "memmap(1939676)"
      ]
     },
     "execution_count": 15,
     "metadata": {},
     "output_type": "execute_result"
    }
   ],
   "source": [
    "bias_grid_mm.sum()"
   ]
  },
  {
   "cell_type": "code",
   "execution_count": 17,
   "metadata": {
    "collapsed": false
   },
   "outputs": [
    {
     "data": {
      "text/plain": [
       "memmap(True, dtype=bool)"
      ]
     },
     "execution_count": 17,
     "metadata": {},
     "output_type": "execute_result"
    }
   ],
   "source": [
    "bias_grid_mm.sum() == final_observations.shape[0]"
   ]
  },
  {
   "cell_type": "code",
   "execution_count": 18,
   "metadata": {
    "collapsed": true
   },
   "outputs": [],
   "source": [
    "bias_grid_mm.flush()"
   ]
  },
  {
   "cell_type": "code",
   "execution_count": 19,
   "metadata": {
    "collapsed": true
   },
   "outputs": [],
   "source": [
    "del bias_grid_mm"
   ]
  },
  {
   "cell_type": "code",
   "execution_count": null,
   "metadata": {
    "collapsed": false
   },
   "outputs": [],
   "source": [
    "# to read it, the following is used:"
   ]
  },
  {
   "cell_type": "code",
   "execution_count": 20,
   "metadata": {
    "collapsed": true
   },
   "outputs": [],
   "source": [
    "bias_grid_mm = np.memmap(\"../data/bias_grid/bias_grid_mm.dat\", dtype='int32', mode='r', shape=(y_res,x_res))"
   ]
  },
  {
   "cell_type": "code",
   "execution_count": 22,
   "metadata": {
    "collapsed": false
   },
   "outputs": [
    {
     "data": {
      "text/plain": [
       "memmap(1939676)"
      ]
     },
     "execution_count": 22,
     "metadata": {},
     "output_type": "execute_result"
    }
   ],
   "source": [
    "bias_grid_mm.sum()"
   ]
  },
  {
   "cell_type": "code",
   "execution_count": null,
   "metadata": {
    "collapsed": true
   },
   "outputs": [],
   "source": []
  }
 ],
 "metadata": {
  "kernelspec": {
   "display_name": "Python 3",
   "language": "python",
   "name": "python3"
  },
  "language_info": {
   "codemirror_mode": {
    "name": "ipython",
    "version": 3
   },
   "file_extension": ".py",
   "mimetype": "text/x-python",
   "name": "python",
   "nbconvert_exporter": "python",
   "pygments_lexer": "ipython3",
   "version": "3.4.4"
  }
 },
 "nbformat": 4,
 "nbformat_minor": 0
}
