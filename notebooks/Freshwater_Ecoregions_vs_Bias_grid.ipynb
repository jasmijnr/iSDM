{
 "cells": [
  {
   "cell_type": "code",
   "execution_count": 1,
   "metadata": {
    "collapsed": true
   },
   "outputs": [],
   "source": [
    "import logging\n",
    "import numpy as np\n",
    "import pandas as pd\n",
    "root = logging.getLogger()\n",
    "root.addHandler(logging.StreamHandler())\n",
    "import datetime\n",
    "%matplotlib inline\n",
    "from shapely.prepared import prep\n",
    "from shapely import speedups\n",
    "speedups.enable()\n",
    "from iSDM.environment import RealmsLayer"
   ]
  },
  {
   "cell_type": "code",
   "execution_count": 2,
   "metadata": {
    "collapsed": false
   },
   "outputs": [
    {
     "name": "stderr",
     "output_type": "stream",
     "text": [
      "Loading data from ../data/freshwater_ecoregions/ \n"
     ]
    },
    {
     "ename": "IndexError",
     "evalue": "list index out of range",
     "output_type": "error",
     "traceback": [
      "\u001b[1;31m---------------------------------------------------------------------------\u001b[0m",
      "\u001b[1;31mIndexError\u001b[0m                                Traceback (most recent call last)",
      "\u001b[1;32m<ipython-input-2-040d1dd5432f>\u001b[0m in \u001b[0;36m<module>\u001b[1;34m()\u001b[0m\n\u001b[0;32m      1\u001b[0m \u001b[0mfreshwater_ecoregions\u001b[0m \u001b[1;33m=\u001b[0m \u001b[0mRealmsLayer\u001b[0m\u001b[1;33m(\u001b[0m\u001b[0mfile_path\u001b[0m\u001b[1;33m=\u001b[0m\u001b[1;34m\"../data/freshwater_ecoregions/\"\u001b[0m\u001b[1;33m)\u001b[0m\u001b[1;33m\u001b[0m\u001b[0m\n\u001b[1;32m----> 2\u001b[1;33m \u001b[0mfreshwater_ecoregions\u001b[0m\u001b[1;33m.\u001b[0m\u001b[0mload_data\u001b[0m\u001b[1;33m(\u001b[0m\u001b[1;33m)\u001b[0m\u001b[1;33m\u001b[0m\u001b[0m\n\u001b[0m\u001b[0;32m      3\u001b[0m \u001b[0mfreshwater_ecoregions_data\u001b[0m \u001b[1;33m=\u001b[0m \u001b[0mfreshwater_ecoregions\u001b[0m\u001b[1;33m.\u001b[0m\u001b[0mget_data\u001b[0m\u001b[1;33m(\u001b[0m\u001b[1;33m)\u001b[0m\u001b[1;33m\u001b[0m\u001b[0m\n",
      "\u001b[1;32m/home/daniela/anaconda/envs/biodiversity_py3/lib/python3.4/site-packages/iSDM-0.0.1-py3.4.egg/iSDM/environment.py\u001b[0m in \u001b[0;36mload_data\u001b[1;34m(self, file_path)\u001b[0m\n\u001b[0;32m    768\u001b[0m \u001b[1;33m\u001b[0m\u001b[0m\n\u001b[0;32m    769\u001b[0m         \u001b[0mlogger\u001b[0m\u001b[1;33m.\u001b[0m\u001b[0minfo\u001b[0m\u001b[1;33m(\u001b[0m\u001b[1;34m\"Loading data from %s \"\u001b[0m \u001b[1;33m%\u001b[0m \u001b[0mself\u001b[0m\u001b[1;33m.\u001b[0m\u001b[0mfile_path\u001b[0m\u001b[1;33m)\u001b[0m\u001b[1;33m\u001b[0m\u001b[0m\n\u001b[1;32m--> 770\u001b[1;33m         \u001b[0mself\u001b[0m\u001b[1;33m.\u001b[0m\u001b[0mdata_full\u001b[0m \u001b[1;33m=\u001b[0m \u001b[0mGeoDataFrame\u001b[0m\u001b[1;33m.\u001b[0m\u001b[0mfrom_file\u001b[0m\u001b[1;33m(\u001b[0m\u001b[0mself\u001b[0m\u001b[1;33m.\u001b[0m\u001b[0mfile_path\u001b[0m\u001b[1;33m)\u001b[0m\u001b[1;33m\u001b[0m\u001b[0m\n\u001b[0m\u001b[0;32m    771\u001b[0m         \u001b[0mself\u001b[0m\u001b[1;33m.\u001b[0m\u001b[0mdata_full\u001b[0m\u001b[1;33m.\u001b[0m\u001b[0mcolumns\u001b[0m \u001b[1;33m=\u001b[0m \u001b[1;33m[\u001b[0m\u001b[0mx\u001b[0m\u001b[1;33m.\u001b[0m\u001b[0mlower\u001b[0m\u001b[1;33m(\u001b[0m\u001b[1;33m)\u001b[0m \u001b[1;32mfor\u001b[0m \u001b[0mx\u001b[0m \u001b[1;32min\u001b[0m \u001b[0mself\u001b[0m\u001b[1;33m.\u001b[0m\u001b[0mdata_full\u001b[0m\u001b[1;33m.\u001b[0m\u001b[0mcolumns\u001b[0m\u001b[1;33m]\u001b[0m\u001b[1;33m\u001b[0m\u001b[0m\n\u001b[0;32m    772\u001b[0m         \u001b[0mlogger\u001b[0m\u001b[1;33m.\u001b[0m\u001b[0minfo\u001b[0m\u001b[1;33m(\u001b[0m\u001b[1;34m\"The shapefile contains data on %d environmental regions.\"\u001b[0m \u001b[1;33m%\u001b[0m \u001b[0mself\u001b[0m\u001b[1;33m.\u001b[0m\u001b[0mdata_full\u001b[0m\u001b[1;33m.\u001b[0m\u001b[0mshape\u001b[0m\u001b[1;33m[\u001b[0m\u001b[1;36m0\u001b[0m\u001b[1;33m]\u001b[0m\u001b[1;33m)\u001b[0m\u001b[1;33m\u001b[0m\u001b[0m\n",
      "\u001b[1;32m/home/daniela/anaconda/envs/biodiversity_py3/lib/python3.4/site-packages/geopandas/geodataframe.py\u001b[0m in \u001b[0;36mfrom_file\u001b[1;34m(cls, filename, **kwargs)\u001b[0m\n\u001b[0;32m    159\u001b[0m \u001b[1;33m\u001b[0m\u001b[0m\n\u001b[0;32m    160\u001b[0m         \"\"\"\n\u001b[1;32m--> 161\u001b[1;33m         \u001b[1;32mreturn\u001b[0m \u001b[0mgeopandas\u001b[0m\u001b[1;33m.\u001b[0m\u001b[0mio\u001b[0m\u001b[1;33m.\u001b[0m\u001b[0mfile\u001b[0m\u001b[1;33m.\u001b[0m\u001b[0mread_file\u001b[0m\u001b[1;33m(\u001b[0m\u001b[0mfilename\u001b[0m\u001b[1;33m,\u001b[0m \u001b[1;33m**\u001b[0m\u001b[0mkwargs\u001b[0m\u001b[1;33m)\u001b[0m\u001b[1;33m\u001b[0m\u001b[0m\n\u001b[0m\u001b[0;32m    162\u001b[0m \u001b[1;33m\u001b[0m\u001b[0m\n\u001b[0;32m    163\u001b[0m     \u001b[1;33m@\u001b[0m\u001b[0mclassmethod\u001b[0m\u001b[1;33m\u001b[0m\u001b[0m\n",
      "\u001b[1;32m/home/daniela/anaconda/envs/biodiversity_py3/lib/python3.4/site-packages/geopandas/io/file.py\u001b[0m in \u001b[0;36mread_file\u001b[1;34m(filename, **kwargs)\u001b[0m\n\u001b[0;32m     18\u001b[0m         \u001b[1;32melse\u001b[0m\u001b[1;33m:\u001b[0m\u001b[1;33m\u001b[0m\u001b[0m\n\u001b[0;32m     19\u001b[0m             \u001b[0mf_filt\u001b[0m \u001b[1;33m=\u001b[0m \u001b[0mf\u001b[0m\u001b[1;33m\u001b[0m\u001b[0m\n\u001b[1;32m---> 20\u001b[1;33m         \u001b[0mgdf\u001b[0m \u001b[1;33m=\u001b[0m \u001b[0mGeoDataFrame\u001b[0m\u001b[1;33m.\u001b[0m\u001b[0mfrom_features\u001b[0m\u001b[1;33m(\u001b[0m\u001b[0mf\u001b[0m\u001b[1;33m,\u001b[0m \u001b[0mcrs\u001b[0m\u001b[1;33m=\u001b[0m\u001b[0mcrs\u001b[0m\u001b[1;33m)\u001b[0m\u001b[1;33m\u001b[0m\u001b[0m\n\u001b[0m\u001b[0;32m     21\u001b[0m \u001b[1;33m\u001b[0m\u001b[0m\n\u001b[0;32m     22\u001b[0m     \u001b[1;32mreturn\u001b[0m \u001b[0mgdf\u001b[0m\u001b[1;33m\u001b[0m\u001b[0m\n",
      "\u001b[1;32m/home/daniela/anaconda/envs/biodiversity_py3/lib/python3.4/site-packages/geopandas/geodataframe.py\u001b[0m in \u001b[0;36mfrom_features\u001b[1;34m(cls, features, crs)\u001b[0m\n\u001b[0;32m    171\u001b[0m         \"\"\"\n\u001b[0;32m    172\u001b[0m         \u001b[0mrows\u001b[0m \u001b[1;33m=\u001b[0m \u001b[1;33m[\u001b[0m\u001b[1;33m]\u001b[0m\u001b[1;33m\u001b[0m\u001b[0m\n\u001b[1;32m--> 173\u001b[1;33m         \u001b[1;32mfor\u001b[0m \u001b[0mf\u001b[0m \u001b[1;32min\u001b[0m \u001b[0mfeatures\u001b[0m\u001b[1;33m:\u001b[0m\u001b[1;33m\u001b[0m\u001b[0m\n\u001b[0m\u001b[0;32m    174\u001b[0m             \u001b[1;32mif\u001b[0m \u001b[0mhasattr\u001b[0m\u001b[1;33m(\u001b[0m\u001b[0mf\u001b[0m\u001b[1;33m,\u001b[0m \u001b[1;34m\"__geo_interface__\"\u001b[0m\u001b[1;33m)\u001b[0m\u001b[1;33m:\u001b[0m\u001b[1;33m\u001b[0m\u001b[0m\n\u001b[0;32m    175\u001b[0m                 \u001b[0mf\u001b[0m \u001b[1;33m=\u001b[0m \u001b[0mf\u001b[0m\u001b[1;33m.\u001b[0m\u001b[0m__geo_interface__\u001b[0m\u001b[1;33m\u001b[0m\u001b[0m\n",
      "\u001b[1;32mfiona/ogrext.pyx\u001b[0m in \u001b[0;36mfiona.ogrext.Iterator.__next__ (fiona/ogrext.c:17244)\u001b[1;34m()\u001b[0m\n",
      "\u001b[1;32mfiona/ogrext.pyx\u001b[0m in \u001b[0;36mfiona.ogrext.FeatureBuilder.build (fiona/ogrext.c:3254)\u001b[1;34m()\u001b[0m\n",
      "\u001b[1;31mIndexError\u001b[0m: list index out of range"
     ]
    }
   ],
   "source": [
    "freshwater_ecoregions = RealmsLayer(file_path=\"../data/freshwater_ecoregions/\")\n",
    "freshwater_ecoregions.load_data()\n",
    "freshwater_ecoregions_data = freshwater_ecoregions.get_data()"
   ]
  },
  {
   "cell_type": "code",
   "execution_count": 3,
   "metadata": {
    "collapsed": false
   },
   "outputs": [
    {
     "ename": "IndexError",
     "evalue": "list index out of range",
     "output_type": "error",
     "traceback": [
      "\u001b[1;31m---------------------------------------------------------------------------\u001b[0m",
      "\u001b[1;31mIndexError\u001b[0m                                Traceback (most recent call last)",
      "\u001b[1;32m<ipython-input-3-1a07d7720e51>\u001b[0m in \u001b[0;36m<module>\u001b[1;34m()\u001b[0m\n\u001b[0;32m      3\u001b[0m \u001b[1;32mfrom\u001b[0m \u001b[0mfiona\u001b[0m \u001b[1;32mimport\u001b[0m \u001b[0mcollection\u001b[0m\u001b[1;33m\u001b[0m\u001b[0m\n\u001b[0;32m      4\u001b[0m \u001b[1;32mwith\u001b[0m \u001b[0mfiona\u001b[0m\u001b[1;33m.\u001b[0m\u001b[0mopen\u001b[0m\u001b[1;33m(\u001b[0m\u001b[1;34m\"../data/freshwater_ecoregions/feow_hydrosheds.shp\"\u001b[0m\u001b[1;33m,\u001b[0m \u001b[1;34m'r'\u001b[0m\u001b[1;33m)\u001b[0m \u001b[1;32mas\u001b[0m \u001b[0msrc\u001b[0m\u001b[1;33m:\u001b[0m\u001b[1;33m\u001b[0m\u001b[0m\n\u001b[1;32m----> 5\u001b[1;33m     \u001b[1;32mfor\u001b[0m \u001b[0mfeature\u001b[0m \u001b[1;32min\u001b[0m \u001b[0msrc\u001b[0m\u001b[1;33m:\u001b[0m\u001b[1;33m\u001b[0m\u001b[0m\n\u001b[0m\u001b[0;32m      6\u001b[0m         \u001b[0mprint\u001b[0m\u001b[1;33m(\u001b[0m\u001b[0mfeature\u001b[0m\u001b[1;33m)\u001b[0m\u001b[1;33m\u001b[0m\u001b[0m\n",
      "\u001b[1;32mfiona/ogrext.pyx\u001b[0m in \u001b[0;36mfiona.ogrext.Iterator.__next__ (fiona/ogrext.c:17244)\u001b[1;34m()\u001b[0m\n",
      "\u001b[1;32mfiona/ogrext.pyx\u001b[0m in \u001b[0;36mfiona.ogrext.FeatureBuilder.build (fiona/ogrext.c:3254)\u001b[1;34m()\u001b[0m\n",
      "\u001b[1;31mIndexError\u001b[0m: list index out of range"
     ]
    }
   ],
   "source": [
    "import fiona\n",
    "from shapely.geometry import mapping, shape\n",
    "from fiona import collection\n",
    "with fiona.open(\"../data/freshwater_ecoregions/feow_hydrosheds.shp\", 'r') as src:\n",
    "    for feature in src:\n",
    "        print(feature)"
   ]
  },
  {
   "cell_type": "markdown",
   "metadata": {},
   "source": [
    "This is most likely due to fiona not yet supporting GDAL 2 (there is an open pull request). Try downgrading to GDAL 1.11 and let us know if that fixes the problem."
   ]
  },
  {
   "cell_type": "markdown",
   "metadata": {},
   "source": [
    "### The issue does exist because fiona is not 100% OK with gdal 2.0.0. Try directly OGR/GDAL\n",
    "awesome, works"
   ]
  },
  {
   "cell_type": "code",
   "execution_count": 157,
   "metadata": {
    "collapsed": true
   },
   "outputs": [],
   "source": [
    "import ogr, gdal, osr\n",
    "source_ds = ogr.Open(\"../data/freshwater_ecoregions/feow_hydrosheds.shp\")\n",
    "source_layer = source_ds.GetLayer()"
   ]
  },
  {
   "cell_type": "code",
   "execution_count": 158,
   "metadata": {
    "collapsed": false
   },
   "outputs": [
    {
     "data": {
      "text/plain": [
       "<osgeo.ogr.Layer; proxy of <Swig Object of type 'OGRLayerShadow *' at 0x7fd062cbb150> >"
      ]
     },
     "execution_count": 158,
     "metadata": {},
     "output_type": "execute_result"
    }
   ],
   "source": [
    "source_layer"
   ]
  },
  {
   "cell_type": "code",
   "execution_count": 196,
   "metadata": {
    "collapsed": false
   },
   "outputs": [],
   "source": [
    "pixelWidth = pixelHeight = 0.083333333\n",
    "x_min, y_min, x_max, y_max = -180, -90, 180, 90\n",
    "cols = int((x_max - x_min) / pixelHeight)\n",
    "rows = int((y_max - y_min) / pixelWidth)\n",
    "# GDT_Byte buffer will map all values greater than 255 to 255\n",
    "target_ds = gdal.GetDriverByName('GTiff').Create('../data/freshwater_ecoregions/freshwater_ecoregions.tif', cols, rows, 1, gdal.GDT_UInt16) \n",
    "target_ds.SetGeoTransform((x_min, pixelWidth, 0, y_max, 0, -pixelHeight))\n",
    "band = target_ds.GetRasterBand(1)\n",
    "NoData_value = 0\n",
    "band.SetNoDataValue(NoData_value)\n",
    "band.FlushCache()\n",
    "# band = None\n",
    "# target_ds = None"
   ]
  },
  {
   "cell_type": "code",
   "execution_count": 197,
   "metadata": {
    "collapsed": false
   },
   "outputs": [
    {
     "name": "stderr",
     "output_type": "stream",
     "text": [
      "CPLE_AppDefined in b'Failed to fetch spatial reference on layer feow_hydrosheds to build transformer, assuming matching coordinate systems.\\n'\n"
     ]
    },
    {
     "data": {
      "text/plain": [
       "0"
      ]
     },
     "execution_count": 197,
     "metadata": {},
     "output_type": "execute_result"
    }
   ],
   "source": [
    "gdal.RasterizeLayer(target_ds, [1], source_layer, burn_values=[255], options = [\"ATTRIBUTE=FEOW_ID\", \"ALL_TOUCHED=TRUE\"])  "
   ]
  },
  {
   "cell_type": "code",
   "execution_count": 198,
   "metadata": {
    "collapsed": false
   },
   "outputs": [
    {
     "data": {
      "text/plain": [
       "0"
      ]
     },
     "execution_count": 198,
     "metadata": {},
     "output_type": "execute_result"
    }
   ],
   "source": [
    "target_dsSRS = osr.SpatialReference()\n",
    "target_dsSRS.ImportFromEPSG(4326)\n",
    "target_ds.SetProjection(target_dsSRS.ExportToWkt())"
   ]
  },
  {
   "cell_type": "code",
   "execution_count": 199,
   "metadata": {
    "collapsed": true
   },
   "outputs": [],
   "source": [
    "band = None\n",
    "target_ds = None"
   ]
  },
  {
   "cell_type": "code",
   "execution_count": 200,
   "metadata": {
    "collapsed": false
   },
   "outputs": [
    {
     "name": "stderr",
     "output_type": "stream",
     "text": [
      "Loaded raster data from ../data/freshwater_ecoregions/freshwater_ecoregions.tif \n",
      "Driver name: GTiff \n",
      "Metadata: {'affine': Affine(0.083333333, 0.0, -180.0,\n",
      "       0.0, -0.083333333, 90.0),\n",
      " 'count': 1,\n",
      " 'crs': {'init': 'epsg:4326'},\n",
      " 'driver': 'GTiff',\n",
      " 'dtype': 'uint16',\n",
      " 'height': 2160,\n",
      " 'nodata': 0.0,\n",
      " 'transform': (-180.0, 0.083333333, 0.0, 90.0, 0.0, -0.083333333),\n",
      " 'width': 4320} \n",
      "Resolution: x_res=4320 y_res=2160.\n",
      "Bounds: BoundingBox(left=-180.0, bottom=-89.99999928, right=179.99999856, top=90.0) \n",
      "Coordinate reference system: {'init': 'epsg:4326'} \n",
      "Affine transformation: (-180.0, 0.083333333, 0.0, 90.0, 0.0, -0.083333333) \n",
      "Number of layers: 1 \n",
      "Dataset loaded. Use .read() or .read_masks() to access the layers.\n"
     ]
    }
   ],
   "source": [
    "from iSDM.environment import RasterEnvironmentalLayer\n",
    "freshwater_ecoregions = RasterEnvironmentalLayer(file_path=\"../data/freshwater_ecoregions/freshwater_ecoregions.tif\")\n",
    "freshwater_ecoregions_reader = freshwater_ecoregions.load_data()"
   ]
  },
  {
   "cell_type": "code",
   "execution_count": 201,
   "metadata": {
    "collapsed": true
   },
   "outputs": [],
   "source": [
    "freshwater_ecoregions_data = freshwater_ecoregions_reader.read(1)"
   ]
  },
  {
   "cell_type": "code",
   "execution_count": 202,
   "metadata": {
    "collapsed": false
   },
   "outputs": [
    {
     "data": {
      "text/plain": [
       "array([  0, 101, 102, 103, 104, 105, 106, 107, 108, 109, 110, 111, 112,\n",
       "       113, 114, 115, 116, 117, 118, 119, 120, 121, 122, 123, 124, 125,\n",
       "       126, 127, 128, 129, 130, 131, 132, 133, 134, 135, 136, 137, 138,\n",
       "       139, 140, 141, 142, 143, 144, 145, 146, 147, 148, 149, 150, 151,\n",
       "       152, 153, 154, 155, 156, 157, 158, 159, 160, 161, 162, 163, 164,\n",
       "       165, 166, 167, 168, 169, 170, 171, 172, 173, 174, 175, 176, 201,\n",
       "       202, 203, 204, 205, 206, 207, 208, 209, 210, 211, 212, 213, 214,\n",
       "       215, 216, 217, 301, 302, 303, 304, 305, 306, 307, 308, 309, 310,\n",
       "       311, 312, 313, 314, 315, 316, 317, 318, 319, 320, 321, 322, 323,\n",
       "       324, 325, 326, 327, 328, 329, 330, 331, 332, 333, 334, 335, 336,\n",
       "       337, 338, 339, 340, 341, 342, 343, 344, 345, 346, 347, 348, 349,\n",
       "       350, 351, 352, 401, 402, 403, 404, 405, 406, 407, 408, 409, 410,\n",
       "       411, 412, 413, 414, 415, 416, 417, 418, 419, 420, 421, 422, 423,\n",
       "       424, 425, 426, 427, 428, 429, 430, 431, 432, 433, 434, 435, 436,\n",
       "       437, 438, 439, 440, 441, 442, 443, 444, 445, 446, 447, 448, 449,\n",
       "       450, 451, 452, 453, 501, 502, 503, 504, 505, 506, 507, 508, 509,\n",
       "       510, 511, 512, 513, 514, 515, 516, 517, 518, 519, 520, 521, 522,\n",
       "       523, 524, 525, 526, 527, 528, 529, 530, 531, 532, 533, 534, 535,\n",
       "       536, 537, 538, 539, 540, 541, 542, 543, 544, 545, 546, 547, 548,\n",
       "       549, 550, 551, 552, 553, 554, 555, 556, 557, 558, 559, 560, 561,\n",
       "       562, 563, 564, 565, 566, 567, 568, 569, 570, 571, 572, 573, 574,\n",
       "       575, 576, 577, 578, 579, 580, 581, 582, 583, 584, 585, 586, 587,\n",
       "       601, 602, 603, 604, 605, 606, 607, 608, 609, 610, 611, 612, 613,\n",
       "       614, 615, 616, 617, 618, 619, 620, 621, 622, 623, 624, 625, 626,\n",
       "       627, 628, 629, 630, 631, 632, 633, 634, 635, 636, 637, 638, 639,\n",
       "       640, 641, 642, 643, 701, 702, 703, 704, 705, 706, 707, 708, 709,\n",
       "       710, 711, 712, 713, 714, 715, 716, 717, 718, 719, 720, 721, 722,\n",
       "       723, 724, 725, 726, 727, 728, 729, 730, 731, 732, 733, 734, 735,\n",
       "       736, 737, 738, 739, 740, 741, 742, 743, 744, 745, 746, 747, 748,\n",
       "       749, 750, 751, 752, 753, 755, 756, 757, 758, 759, 760, 761, 762,\n",
       "       763, 764, 765, 766, 767, 768, 769, 801, 802, 803, 804, 805, 806,\n",
       "       807, 808, 809, 810, 811, 812, 813, 814, 815, 816, 817, 818, 819,\n",
       "       820, 821, 822, 823, 824, 825, 826, 827, 828, 829, 830, 901, 902,\n",
       "       903, 904, 905, 906, 907, 908, 909, 910, 911, 912, 913, 914, 915,\n",
       "       916, 917, 918, 919, 920, 921, 998, 999], dtype=uint16)"
      ]
     },
     "execution_count": 202,
     "metadata": {},
     "output_type": "execute_result"
    }
   ],
   "source": [
    "np.unique(freshwater_ecoregions_data) # hmm, don't like this, there are more layers."
   ]
  },
  {
   "cell_type": "code",
   "execution_count": 203,
   "metadata": {
    "collapsed": false
   },
   "outputs": [
    {
     "data": {
      "text/plain": [
       "449"
      ]
     },
     "execution_count": 203,
     "metadata": {},
     "output_type": "execute_result"
    }
   ],
   "source": [
    "source_layer.GetFeatureCount() # this many unique regions. "
   ]
  },
  {
   "cell_type": "code",
   "execution_count": 205,
   "metadata": {
    "collapsed": false
   },
   "outputs": [
    {
     "data": {
      "text/plain": [
       "(450,)"
      ]
     },
     "execution_count": 205,
     "metadata": {},
     "output_type": "execute_result"
    }
   ],
   "source": [
    "np.unique(freshwater_ecoregions_data).shape # cool, 0 layer for no data"
   ]
  },
  {
   "cell_type": "code",
   "execution_count": 292,
   "metadata": {
    "collapsed": false
   },
   "outputs": [],
   "source": [
    "freshwater_ecoregions_data_selected = freshwater_ecoregions_data.copy()\n",
    "freshwater_ecoregions_data_selected[freshwater_ecoregions_data_selected!=405] = 0"
   ]
  },
  {
   "cell_type": "code",
   "execution_count": 293,
   "metadata": {
    "collapsed": false
   },
   "outputs": [
    {
     "data": {
      "text/plain": [
       "<matplotlib.image.AxesImage at 0x7fd061cfe860>"
      ]
     },
     "execution_count": 293,
     "metadata": {},
     "output_type": "execute_result"
    },
    {
     "data": {
      "image/png": "[encoded data removed]",
      "text/plain": [
       "<matplotlib.figure.Figure at 0x7fd061e5b710>"
      ]
     },
     "metadata": {},
     "output_type": "display_data"
    }
   ],
   "source": [
    "import matplotlib.pyplot as plt\n",
    "%matplotlib inline\n",
    "plt.figure(figsize=(25,20))\n",
    "plt.imshow(freshwater_ecoregions_data_selected, cmap=\"hot\", interpolation=\"none\")"
   ]
  },
  {
   "cell_type": "code",
   "execution_count": 212,
   "metadata": {
    "collapsed": false
   },
   "outputs": [
    {
     "data": {
      "text/plain": [
       "(2160, 4320)"
      ]
     },
     "execution_count": 212,
     "metadata": {},
     "output_type": "execute_result"
    }
   ],
   "source": [
    "freshwater_ecoregions_data.shape"
   ]
  },
  {
   "cell_type": "code",
   "execution_count": 217,
   "metadata": {
    "collapsed": true
   },
   "outputs": [],
   "source": [
    "unique_freshwater_ecoregions = np.unique(freshwater_ecoregions_data)[1:] # discard the \"0\" == nodata"
   ]
  },
  {
   "cell_type": "code",
   "execution_count": 238,
   "metadata": {
    "collapsed": true
   },
   "outputs": [],
   "source": [
    "import pickle\n",
    "bias_grid = pickle.load(open(\"../data/bias_grid/bias_grid.pkl\", \"rb\"))"
   ]
  },
  {
   "cell_type": "code",
   "execution_count": 240,
   "metadata": {
    "collapsed": false
   },
   "outputs": [
    {
     "data": {
      "text/plain": [
       "(2160, 4320)"
      ]
     },
     "execution_count": 240,
     "metadata": {},
     "output_type": "execute_result"
    }
   ],
   "source": [
    "bias_grid.shape"
   ]
  },
  {
   "cell_type": "code",
   "execution_count": 254,
   "metadata": {
    "collapsed": false
   },
   "outputs": [
    {
     "data": {
      "text/plain": [
       "88"
      ]
     },
     "execution_count": 254,
     "metadata": {},
     "output_type": "execute_result"
    }
   ],
   "source": [
    "bias_grid[np.where(freshwater_ecoregions_data==101)] # number of cells in ecoregion"
   ]
  },
  {
   "cell_type": "code",
   "execution_count": 268,
   "metadata": {
    "collapsed": false
   },
   "outputs": [
    {
     "data": {
      "text/plain": [
       "32"
      ]
     },
     "execution_count": 268,
     "metadata": {},
     "output_type": "execute_result"
    }
   ],
   "source": [
    "len(np.where(bias_grid[np.where(freshwater_ecoregions_data==101)]>0)[0]) # number of positive cells in biasGrid"
   ]
  },
  {
   "cell_type": "code",
   "execution_count": 271,
   "metadata": {
    "collapsed": false
   },
   "outputs": [
    {
     "name": "stdout",
     "output_type": "stream",
     "text": [
      "Processed 101, num_cells_ecoregion=28772, number_positive_bias=32, ratio=0.0011121924092868066 \n",
      "Processed 102, num_cells_ecoregion=15228, number_positive_bias=7, ratio=0.00045967953769372207 \n",
      "Processed 103, num_cells_ecoregion=21111, number_positive_bias=347, ratio=0.016436928615413765 \n",
      "Processed 104, num_cells_ecoregion=13196, number_positive_bias=16, ratio=0.0012124886329190664 \n",
      "Processed 105, num_cells_ecoregion=28304, number_positive_bias=5, ratio=0.00017665347654041832 \n",
      "Processed 106, num_cells_ecoregion=18108, number_positive_bias=0, ratio=0.0 \n",
      "Processed 107, num_cells_ecoregion=4022, number_positive_bias=2, ratio=0.0004972650422675286 \n",
      "Processed 108, num_cells_ecoregion=6138, number_positive_bias=0, ratio=0.0 \n",
      "Processed 109, num_cells_ecoregion=11636, number_positive_bias=113, ratio=0.009711240976280509 \n",
      "Processed 110, num_cells_ecoregion=19331, number_positive_bias=1, ratio=5.173038125290983e-05 \n",
      "Processed 111, num_cells_ecoregion=25556, number_positive_bias=0, ratio=0.0 \n",
      "Processed 112, num_cells_ecoregion=65763, number_positive_bias=0, ratio=0.0 \n",
      "Processed 113, num_cells_ecoregion=23703, number_positive_bias=0, ratio=0.0 \n",
      "Processed 114, num_cells_ecoregion=5195, number_positive_bias=0, ratio=0.0 \n",
      "Processed 115, num_cells_ecoregion=2852, number_positive_bias=6, ratio=0.0021037868162692847 \n",
      "Processed 116, num_cells_ecoregion=12509, number_positive_bias=1074, ratio=0.0858581821088816 \n",
      "Processed 117, num_cells_ecoregion=6871, number_positive_bias=237, ratio=0.03449279580847038 \n",
      "Processed 118, num_cells_ecoregion=6374, number_positive_bias=1401, ratio=0.21979918418575461 \n",
      "Processed 119, num_cells_ecoregion=1202, number_positive_bias=40, ratio=0.033277870216306155 \n",
      "Processed 120, num_cells_ecoregion=4611, number_positive_bias=337, ratio=0.07308609846020386 \n",
      "Processed 121, num_cells_ecoregion=5158, number_positive_bias=415, ratio=0.0804575416828228 \n",
      "Processed 122, num_cells_ecoregion=1424, number_positive_bias=100, ratio=0.0702247191011236 \n",
      "Processed 123, num_cells_ecoregion=1773, number_positive_bias=146, ratio=0.0823463056965595 \n",
      "Processed 124, num_cells_ecoregion=847, number_positive_bias=9, ratio=0.010625737898465172 \n",
      "Processed 125, num_cells_ecoregion=2736, number_positive_bias=173, ratio=0.06323099415204679 \n",
      "Processed 126, num_cells_ecoregion=3155, number_positive_bias=43, ratio=0.013629160063391443 \n",
      "Processed 127, num_cells_ecoregion=2339, number_positive_bias=109, ratio=0.04660111158614793 \n",
      "Processed 128, num_cells_ecoregion=1178, number_positive_bias=27, ratio=0.022920203735144314 \n",
      "Processed 129, num_cells_ecoregion=580, number_positive_bias=28, ratio=0.04827586206896552 \n",
      "Processed 130, num_cells_ecoregion=7271, number_positive_bias=303, ratio=0.04167239719433365 \n",
      "Processed 131, num_cells_ecoregion=2134, number_positive_bias=125, ratio=0.05857544517338332 \n",
      "Processed 132, num_cells_ecoregion=2243, number_positive_bias=43, ratio=0.019170753455193937 \n",
      "Processed 133, num_cells_ecoregion=1535, number_positive_bias=32, ratio=0.020846905537459284 \n",
      "Processed 134, num_cells_ecoregion=830, number_positive_bias=0, ratio=0.0 \n",
      "Processed 135, num_cells_ecoregion=1878, number_positive_bias=24, ratio=0.012779552715654952 \n",
      "Processed 136, num_cells_ecoregion=6, number_positive_bias=0, ratio=0.0 \n",
      "Processed 137, num_cells_ecoregion=812, number_positive_bias=6, ratio=0.007389162561576354 \n",
      "Processed 138, num_cells_ecoregion=535, number_positive_bias=3, ratio=0.005607476635514018 \n",
      "Processed 139, num_cells_ecoregion=998, number_positive_bias=89, ratio=0.08917835671342686 \n",
      "Processed 140, num_cells_ecoregion=3747, number_positive_bias=219, ratio=0.05844675740592474 \n",
      "Processed 141, num_cells_ecoregion=1871, number_positive_bias=135, ratio=0.07215392838054516 \n",
      "Processed 142, num_cells_ecoregion=11495, number_positive_bias=1128, ratio=0.09812962157459765 \n",
      "Processed 143, num_cells_ecoregion=9276, number_positive_bias=796, ratio=0.0858128503665373 \n",
      "Processed 144, num_cells_ecoregion=6162, number_positive_bias=223, ratio=0.0361895488477767 \n",
      "Processed 145, num_cells_ecoregion=1619, number_positive_bias=76, ratio=0.04694255713403336 \n",
      "Processed 146, num_cells_ecoregion=2361, number_positive_bias=105, ratio=0.044472681067344345 \n",
      "Processed 147, num_cells_ecoregion=1257, number_positive_bias=61, ratio=0.04852824184566428 \n",
      "Processed 148, num_cells_ecoregion=7841, number_positive_bias=1401, ratio=0.17867618926157378 \n",
      "Processed 149, num_cells_ecoregion=3652, number_positive_bias=172, ratio=0.047097480832420595 \n",
      "Processed 150, num_cells_ecoregion=5615, number_positive_bias=745, ratio=0.13268032056990206 \n",
      "Processed 151, num_cells_ecoregion=654, number_positive_bias=47, ratio=0.07186544342507645 \n",
      "Processed 152, num_cells_ecoregion=1552, number_positive_bias=323, ratio=0.20811855670103094 \n",
      "Processed 153, num_cells_ecoregion=1652, number_positive_bias=167, ratio=0.10108958837772397 \n",
      "Processed 154, num_cells_ecoregion=506, number_positive_bias=40, ratio=0.07905138339920949 \n",
      "Processed 155, num_cells_ecoregion=754, number_positive_bias=106, ratio=0.14058355437665782 \n",
      "Processed 156, num_cells_ecoregion=2316, number_positive_bias=280, ratio=0.12089810017271158 \n",
      "Processed 157, num_cells_ecoregion=4725, number_positive_bias=1117, ratio=0.2364021164021164 \n",
      "Processed 158, num_cells_ecoregion=2467, number_positive_bias=1022, ratio=0.4142683421159303 \n",
      "Processed 159, num_cells_ecoregion=2866, number_positive_bias=105, ratio=0.0366364270760642 \n",
      "Processed 160, num_cells_ecoregion=2575, number_positive_bias=5, ratio=0.001941747572815534 \n",
      "Processed 161, num_cells_ecoregion=1944, number_positive_bias=4, ratio=0.00205761316872428 \n",
      "Processed 162, num_cells_ecoregion=1703, number_positive_bias=0, ratio=0.0 \n",
      "Processed 163, num_cells_ecoregion=2428, number_positive_bias=0, ratio=0.0 \n",
      "Processed 164, num_cells_ecoregion=1395, number_positive_bias=0, ratio=0.0 \n",
      "Processed 165, num_cells_ecoregion=776, number_positive_bias=3, ratio=0.003865979381443299 \n",
      "Processed 166, num_cells_ecoregion=820, number_positive_bias=0, ratio=0.0 \n",
      "Processed 167, num_cells_ecoregion=1935, number_positive_bias=2, ratio=0.0010335917312661498 \n",
      "Processed 168, num_cells_ecoregion=645, number_positive_bias=2, ratio=0.0031007751937984496 \n",
      "Processed 169, num_cells_ecoregion=1490, number_positive_bias=1, ratio=0.0006711409395973154 \n",
      "Processed 170, num_cells_ecoregion=851, number_positive_bias=1, ratio=0.0011750881316098707 \n",
      "Processed 171, num_cells_ecoregion=753, number_positive_bias=0, ratio=0.0 \n",
      "Processed 172, num_cells_ecoregion=252, number_positive_bias=0, ratio=0.0 \n",
      "Processed 173, num_cells_ecoregion=1322, number_positive_bias=3, ratio=0.0022692889561270802 \n",
      "Processed 174, num_cells_ecoregion=807, number_positive_bias=8, ratio=0.009913258983890954 \n",
      "Processed 175, num_cells_ecoregion=890, number_positive_bias=12, ratio=0.01348314606741573 \n",
      "Processed 176, num_cells_ecoregion=9, number_positive_bias=0, ratio=0.0 \n",
      "Processed 201, num_cells_ecoregion=1208, number_positive_bias=0, ratio=0.0 \n",
      "Processed 202, num_cells_ecoregion=1401, number_positive_bias=5, ratio=0.0035688793718772305 \n",
      "Processed 203, num_cells_ecoregion=1562, number_positive_bias=0, ratio=0.0 \n",
      "Processed 204, num_cells_ecoregion=368, number_positive_bias=1, ratio=0.002717391304347826 \n",
      "Processed 205, num_cells_ecoregion=1381, number_positive_bias=0, ratio=0.0 \n",
      "Processed 206, num_cells_ecoregion=330, number_positive_bias=0, ratio=0.0 \n",
      "Processed 207, num_cells_ecoregion=187, number_positive_bias=0, ratio=0.0 \n",
      "Processed 208, num_cells_ecoregion=249, number_positive_bias=0, ratio=0.0 \n",
      "Processed 209, num_cells_ecoregion=191, number_positive_bias=1, ratio=0.005235602094240838 \n",
      "Processed 210, num_cells_ecoregion=366, number_positive_bias=0, ratio=0.0 \n",
      "Processed 211, num_cells_ecoregion=1959, number_positive_bias=3, ratio=0.0015313935681470138 \n",
      "Processed 212, num_cells_ecoregion=675, number_positive_bias=2, ratio=0.002962962962962963 \n",
      "Processed 213, num_cells_ecoregion=177, number_positive_bias=1, ratio=0.005649717514124294 \n",
      "Processed 214, num_cells_ecoregion=1127, number_positive_bias=1, ratio=0.0008873114463176575 \n",
      "Processed 215, num_cells_ecoregion=203, number_positive_bias=42, ratio=0.20689655172413793 \n",
      "Processed 216, num_cells_ecoregion=240, number_positive_bias=1, ratio=0.004166666666666667 \n",
      "Processed 217, num_cells_ecoregion=3, number_positive_bias=0, ratio=0.0 \n",
      "Processed 301, num_cells_ecoregion=3103, number_positive_bias=0, ratio=0.0 \n",
      "Processed 302, num_cells_ecoregion=3548, number_positive_bias=11, ratio=0.0031003382187147687 \n",
      "Processed 303, num_cells_ecoregion=843, number_positive_bias=0, ratio=0.0 \n",
      "Processed 304, num_cells_ecoregion=1838, number_positive_bias=1, ratio=0.000544069640914037 \n",
      "Processed 305, num_cells_ecoregion=598, number_positive_bias=0, ratio=0.0 \n",
      "Processed 306, num_cells_ecoregion=898, number_positive_bias=0, ratio=0.0 \n",
      "Processed 307, num_cells_ecoregion=5728, number_positive_bias=0, ratio=0.0 \n",
      "Processed 308, num_cells_ecoregion=3491, number_positive_bias=0, ratio=0.0 \n",
      "Processed 309, num_cells_ecoregion=1374, number_positive_bias=0, ratio=0.0 \n",
      "Processed 310, num_cells_ecoregion=1831, number_positive_bias=0, ratio=0.0 \n",
      "Processed 311, num_cells_ecoregion=3542, number_positive_bias=0, ratio=0.0 \n",
      "Processed 312, num_cells_ecoregion=5801, number_positive_bias=1, ratio=0.00017238407171177384 \n",
      "Processed 313, num_cells_ecoregion=2861, number_positive_bias=0, ratio=0.0 \n",
      "Processed 314, num_cells_ecoregion=5399, number_positive_bias=0, ratio=0.0 \n",
      "Processed 315, num_cells_ecoregion=6709, number_positive_bias=0, ratio=0.0 \n",
      "Processed 316, num_cells_ecoregion=22422, number_positive_bias=0, ratio=0.0 \n",
      "Processed 317, num_cells_ecoregion=1682, number_positive_bias=0, ratio=0.0 \n",
      "Processed 318, num_cells_ecoregion=5000, number_positive_bias=0, ratio=0.0 \n",
      "Processed 319, num_cells_ecoregion=4210, number_positive_bias=0, ratio=0.0 \n",
      "Processed 320, num_cells_ecoregion=5131, number_positive_bias=0, ratio=0.0 \n",
      "Processed 321, num_cells_ecoregion=4622, number_positive_bias=0, ratio=0.0 \n",
      "Processed 322, num_cells_ecoregion=5703, number_positive_bias=0, ratio=0.0 \n",
      "Processed 323, num_cells_ecoregion=6714, number_positive_bias=0, ratio=0.0 \n",
      "Processed 324, num_cells_ecoregion=8992, number_positive_bias=1, ratio=0.00011120996441281138 \n",
      "Processed 325, num_cells_ecoregion=4275, number_positive_bias=0, ratio=0.0 \n",
      "Processed 326, num_cells_ecoregion=3442, number_positive_bias=0, ratio=0.0 \n",
      "Processed 327, num_cells_ecoregion=7647, number_positive_bias=0, ratio=0.0 \n",
      "Processed 328, num_cells_ecoregion=6234, number_positive_bias=0, ratio=0.0 \n",
      "Processed 329, num_cells_ecoregion=766, number_positive_bias=0, ratio=0.0 \n",
      "Processed 330, num_cells_ecoregion=463, number_positive_bias=0, ratio=0.0 \n",
      "Processed 331, num_cells_ecoregion=522, number_positive_bias=0, ratio=0.0 \n",
      "Processed 332, num_cells_ecoregion=3464, number_positive_bias=0, ratio=0.0 \n",
      "Processed 333, num_cells_ecoregion=1011, number_positive_bias=0, ratio=0.0 \n",
      "Processed 334, num_cells_ecoregion=2660, number_positive_bias=0, ratio=0.0 \n",
      "Processed 335, num_cells_ecoregion=152, number_positive_bias=0, ratio=0.0 \n",
      "Processed 336, num_cells_ecoregion=3201, number_positive_bias=0, ratio=0.0 \n",
      "Processed 337, num_cells_ecoregion=2547, number_positive_bias=0, ratio=0.0 \n",
      "Processed 338, num_cells_ecoregion=2472, number_positive_bias=0, ratio=0.0 \n",
      "Processed 339, num_cells_ecoregion=7522, number_positive_bias=0, ratio=0.0 \n",
      "Processed 340, num_cells_ecoregion=4123, number_positive_bias=0, ratio=0.0 \n",
      "Processed 341, num_cells_ecoregion=2970, number_positive_bias=0, ratio=0.0 \n",
      "Processed 342, num_cells_ecoregion=7397, number_positive_bias=0, ratio=0.0 \n",
      "Processed 343, num_cells_ecoregion=6858, number_positive_bias=0, ratio=0.0 \n",
      "Processed 344, num_cells_ecoregion=10679, number_positive_bias=1, ratio=9.364172675344133e-05 \n",
      "Processed 345, num_cells_ecoregion=8944, number_positive_bias=0, ratio=0.0 \n",
      "Processed 346, num_cells_ecoregion=993, number_positive_bias=0, ratio=0.0 \n",
      "Processed 347, num_cells_ecoregion=4049, number_positive_bias=0, ratio=0.0 \n",
      "Processed 348, num_cells_ecoregion=20836, number_positive_bias=2, ratio=9.59877135726627e-05 \n",
      "Processed 349, num_cells_ecoregion=1110, number_positive_bias=0, ratio=0.0 \n",
      "Processed 350, num_cells_ecoregion=196, number_positive_bias=1, ratio=0.00510204081632653 \n",
      "Processed 351, num_cells_ecoregion=14, number_positive_bias=0, ratio=0.0 \n",
      "Processed 352, num_cells_ecoregion=205, number_positive_bias=2, ratio=0.00975609756097561 \n",
      "Processed 401, num_cells_ecoregion=3251, number_positive_bias=3, ratio=0.0009227929867733005 \n",
      "Processed 402, num_cells_ecoregion=4768, number_positive_bias=1969, ratio=0.41296140939597314 \n",
      "Processed 403, num_cells_ecoregion=3516, number_positive_bias=376, ratio=0.10693970420932879 \n",
      "Processed 404, num_cells_ecoregion=27089, number_positive_bias=5877, ratio=0.2169515301413858 \n",
      "Processed 405, num_cells_ecoregion=5231, number_positive_bias=3505, ratio=0.670043968648442 \n",
      "Processed 406, num_cells_ecoregion=24044, number_positive_bias=6533, ratio=0.27171019797038765 \n",
      "Processed 407, num_cells_ecoregion=48006, number_positive_bias=1365, ratio=0.0284339457567804 \n",
      "Processed 408, num_cells_ecoregion=7301, number_positive_bias=39, ratio=0.005341734009039857 \n",
      "Processed 409, num_cells_ecoregion=3059, number_positive_bias=2, ratio=0.0006538084341288003 \n",
      "Processed 410, num_cells_ecoregion=40267, number_positive_bias=1, ratio=2.4834231504706088e-05 \n",
      "Processed 411, num_cells_ecoregion=3063, number_positive_bias=0, ratio=0.0 \n",
      "Processed 412, num_cells_ecoregion=3525, number_positive_bias=1330, ratio=0.3773049645390071 \n",
      "Processed 413, num_cells_ecoregion=2666, number_positive_bias=968, ratio=0.3630907726931733 \n",
      "Processed 414, num_cells_ecoregion=2558, number_positive_bias=1168, ratio=0.45660672400312746 \n",
      "Processed 415, num_cells_ecoregion=2226, number_positive_bias=966, ratio=0.4339622641509434 \n",
      "Processed 416, num_cells_ecoregion=3406, number_positive_bias=554, ratio=0.1626541397533764 \n",
      "Processed 417, num_cells_ecoregion=4476, number_positive_bias=132, ratio=0.029490616621983913 \n",
      "Processed 418, num_cells_ecoregion=10975, number_positive_bias=18, ratio=0.0016400911161731208 \n",
      "Processed 419, num_cells_ecoregion=916, number_positive_bias=12, ratio=0.013100436681222707 \n",
      "Processed 420, num_cells_ecoregion=714, number_positive_bias=6, ratio=0.008403361344537815 \n",
      "Processed 421, num_cells_ecoregion=665, number_positive_bias=8, ratio=0.012030075187969926 \n",
      "Processed 422, num_cells_ecoregion=790, number_positive_bias=0, ratio=0.0 \n",
      "Processed 423, num_cells_ecoregion=2283, number_positive_bias=10, ratio=0.004380201489268506 \n",
      "Processed 424, num_cells_ecoregion=805, number_positive_bias=13, ratio=0.016149068322981366 \n",
      "Processed 425, num_cells_ecoregion=11268, number_positive_bias=1, ratio=8.874689385871494e-05 \n",
      "Processed 426, num_cells_ecoregion=528, number_positive_bias=2, ratio=0.003787878787878788 \n",
      "Processed 427, num_cells_ecoregion=9754, number_positive_bias=1, ratio=0.0001025220422390814 \n",
      "Processed 428, num_cells_ecoregion=932, number_positive_bias=2, ratio=0.002145922746781116 \n",
      "Processed 429, num_cells_ecoregion=1439, number_positive_bias=10, ratio=0.006949270326615705 \n",
      "Processed 430, num_cells_ecoregion=3140, number_positive_bias=6, ratio=0.001910828025477707 \n",
      "Processed 431, num_cells_ecoregion=1082, number_positive_bias=0, ratio=0.0 \n",
      "Processed 432, num_cells_ecoregion=1667, number_positive_bias=12, ratio=0.007198560287942412 \n",
      "Processed 433, num_cells_ecoregion=1434, number_positive_bias=5, ratio=0.003486750348675035 \n",
      "Processed 434, num_cells_ecoregion=3418, number_positive_bias=0, ratio=0.0 \n",
      "Processed 435, num_cells_ecoregion=780, number_positive_bias=5, ratio=0.00641025641025641 \n",
      "Processed 436, num_cells_ecoregion=378, number_positive_bias=9, ratio=0.023809523809523808 \n",
      "Processed 437, num_cells_ecoregion=347, number_positive_bias=0, ratio=0.0 \n",
      "Processed 438, num_cells_ecoregion=575, number_positive_bias=17, ratio=0.029565217391304348 \n",
      "Processed 439, num_cells_ecoregion=6839, number_positive_bias=1, ratio=0.00014622020763269483 \n",
      "Processed 440, num_cells_ecoregion=30086, number_positive_bias=0, ratio=0.0 \n",
      "Processed 441, num_cells_ecoregion=4771, number_positive_bias=0, ratio=0.0 \n",
      "Processed 442, num_cells_ecoregion=7457, number_positive_bias=4, ratio=0.0005364087434625185 \n",
      "Processed 443, num_cells_ecoregion=3123, number_positive_bias=7, ratio=0.002241434518091579 \n",
      "Processed 444, num_cells_ecoregion=315, number_positive_bias=2, ratio=0.006349206349206349 \n",
      "Processed 445, num_cells_ecoregion=793, number_positive_bias=1, ratio=0.0012610340479192938 \n",
      "Processed 446, num_cells_ecoregion=1011, number_positive_bias=0, ratio=0.0 \n",
      "Processed 447, num_cells_ecoregion=1345, number_positive_bias=0, ratio=0.0 \n",
      "Processed 448, num_cells_ecoregion=6904, number_positive_bias=0, ratio=0.0 \n",
      "Processed 449, num_cells_ecoregion=667, number_positive_bias=0, ratio=0.0 \n",
      "Processed 450, num_cells_ecoregion=4283, number_positive_bias=0, ratio=0.0 \n",
      "Processed 451, num_cells_ecoregion=1294, number_positive_bias=0, ratio=0.0 \n",
      "Processed 452, num_cells_ecoregion=5023, number_positive_bias=0, ratio=0.0 \n",
      "Processed 453, num_cells_ecoregion=1918, number_positive_bias=0, ratio=0.0 \n",
      "Processed 501, num_cells_ecoregion=5911, number_positive_bias=0, ratio=0.0 \n",
      "Processed 502, num_cells_ecoregion=6802, number_positive_bias=0, ratio=0.0 \n",
      "Processed 503, num_cells_ecoregion=47754, number_positive_bias=0, ratio=0.0 \n",
      "Processed 504, num_cells_ecoregion=54690, number_positive_bias=1, ratio=1.8284878405558604e-05 \n",
      "Processed 505, num_cells_ecoregion=12821, number_positive_bias=1, ratio=7.799703611262772e-05 \n",
      "Processed 506, num_cells_ecoregion=561, number_positive_bias=0, ratio=0.0 \n",
      "Processed 507, num_cells_ecoregion=2880, number_positive_bias=0, ratio=0.0 \n",
      "Processed 508, num_cells_ecoregion=1634, number_positive_bias=0, ratio=0.0 \n",
      "Processed 509, num_cells_ecoregion=7808, number_positive_bias=7, ratio=0.000896516393442623 \n",
      "Processed 510, num_cells_ecoregion=465, number_positive_bias=0, ratio=0.0 \n",
      "Processed 511, num_cells_ecoregion=2141, number_positive_bias=3, ratio=0.0014012143858010276 \n",
      "Processed 512, num_cells_ecoregion=1512, number_positive_bias=0, ratio=0.0 \n",
      "Processed 513, num_cells_ecoregion=144, number_positive_bias=0, ratio=0.0 \n",
      "Processed 514, num_cells_ecoregion=3272, number_positive_bias=1, ratio=0.0003056234718826406 \n",
      "Processed 515, num_cells_ecoregion=878, number_positive_bias=0, ratio=0.0 \n",
      "Processed 516, num_cells_ecoregion=5068, number_positive_bias=0, ratio=0.0 \n",
      "Processed 517, num_cells_ecoregion=2281, number_positive_bias=1, ratio=0.00043840420868040335 \n",
      "Processed 518, num_cells_ecoregion=978, number_positive_bias=2, ratio=0.002044989775051125 \n",
      "Processed 519, num_cells_ecoregion=177, number_positive_bias=1, ratio=0.005649717514124294 \n",
      "Processed 520, num_cells_ecoregion=13588, number_positive_bias=0, ratio=0.0 \n",
      "Processed 521, num_cells_ecoregion=4266, number_positive_bias=13, ratio=0.0030473511486169714 \n",
      "Processed 522, num_cells_ecoregion=14463, number_positive_bias=2, ratio=0.00013828389684021296 \n",
      "Processed 523, num_cells_ecoregion=14085, number_positive_bias=0, ratio=0.0 \n",
      "Processed 524, num_cells_ecoregion=864, number_positive_bias=0, ratio=0.0 \n",
      "Processed 525, num_cells_ecoregion=4806, number_positive_bias=0, ratio=0.0 \n",
      "Processed 526, num_cells_ecoregion=239, number_positive_bias=0, ratio=0.0 \n",
      "Processed 527, num_cells_ecoregion=4122, number_positive_bias=9, ratio=0.002183406113537118 \n",
      "Processed 528, num_cells_ecoregion=2240, number_positive_bias=0, ratio=0.0 \n",
      "Processed 529, num_cells_ecoregion=3072, number_positive_bias=0, ratio=0.0 \n",
      "Processed 530, num_cells_ecoregion=2835, number_positive_bias=0, ratio=0.0 \n",
      "Processed 531, num_cells_ecoregion=11355, number_positive_bias=0, ratio=0.0 \n",
      "Processed 532, num_cells_ecoregion=3186, number_positive_bias=8, ratio=0.0025109855618330196 \n",
      "Processed 533, num_cells_ecoregion=2499, number_positive_bias=6, ratio=0.0024009603841536613 \n",
      "Processed 534, num_cells_ecoregion=3335, number_positive_bias=1, ratio=0.0002998500749625187 \n",
      "Processed 535, num_cells_ecoregion=6421, number_positive_bias=2, ratio=0.0003114779629341224 \n",
      "Processed 536, num_cells_ecoregion=2178, number_positive_bias=0, ratio=0.0 \n",
      "Processed 537, num_cells_ecoregion=6443, number_positive_bias=0, ratio=0.0 \n",
      "Processed 538, num_cells_ecoregion=143, number_positive_bias=0, ratio=0.0 \n",
      "Processed 539, num_cells_ecoregion=100, number_positive_bias=0, ratio=0.0 \n",
      "Processed 540, num_cells_ecoregion=4761, number_positive_bias=1, ratio=0.00021003990758244065 \n",
      "Processed 541, num_cells_ecoregion=1113, number_positive_bias=0, ratio=0.0 \n",
      "Processed 542, num_cells_ecoregion=1463, number_positive_bias=8, ratio=0.005468215994531784 \n",
      "Processed 543, num_cells_ecoregion=1394, number_positive_bias=0, ratio=0.0 \n",
      "Processed 544, num_cells_ecoregion=2491, number_positive_bias=9, ratio=0.0036130068245684463 \n",
      "Processed 545, num_cells_ecoregion=2015, number_positive_bias=2, ratio=0.0009925558312655087 \n",
      "Processed 546, num_cells_ecoregion=10148, number_positive_bias=1, ratio=9.854158454867954e-05 \n",
      "Processed 547, num_cells_ecoregion=282, number_positive_bias=0, ratio=0.0 \n",
      "Processed 548, num_cells_ecoregion=49, number_positive_bias=0, ratio=0.0 \n",
      "Processed 549, num_cells_ecoregion=203, number_positive_bias=1, ratio=0.0049261083743842365 \n",
      "Processed 550, num_cells_ecoregion=700, number_positive_bias=0, ratio=0.0 \n",
      "Processed 551, num_cells_ecoregion=4010, number_positive_bias=4, ratio=0.000997506234413965 \n",
      "Processed 552, num_cells_ecoregion=3919, number_positive_bias=3, ratio=0.0007655014034192396 \n",
      "Processed 553, num_cells_ecoregion=1638, number_positive_bias=0, ratio=0.0 \n",
      "Processed 554, num_cells_ecoregion=460, number_positive_bias=0, ratio=0.0 \n",
      "Processed 555, num_cells_ecoregion=6923, number_positive_bias=7, ratio=0.0010111223458038423 \n",
      "Processed 556, num_cells_ecoregion=2872, number_positive_bias=5, ratio=0.0017409470752089136 \n",
      "Processed 557, num_cells_ecoregion=1278, number_positive_bias=0, ratio=0.0 \n",
      "Processed 558, num_cells_ecoregion=3463, number_positive_bias=4, ratio=0.001155067860236789 \n",
      "Processed 559, num_cells_ecoregion=1278, number_positive_bias=8, ratio=0.006259780907668232 \n",
      "Processed 560, num_cells_ecoregion=2549, number_positive_bias=0, ratio=0.0 \n",
      "Processed 561, num_cells_ecoregion=1468, number_positive_bias=2, ratio=0.0013623978201634877 \n",
      "Processed 562, num_cells_ecoregion=123, number_positive_bias=1, ratio=0.008130081300813009 \n",
      "Processed 563, num_cells_ecoregion=676, number_positive_bias=0, ratio=0.0 \n",
      "Processed 564, num_cells_ecoregion=9227, number_positive_bias=12, ratio=0.001300531050178823 \n",
      "Processed 565, num_cells_ecoregion=1047, number_positive_bias=0, ratio=0.0 \n",
      "Processed 566, num_cells_ecoregion=1973, number_positive_bias=0, ratio=0.0 \n",
      "Processed 567, num_cells_ecoregion=2074, number_positive_bias=1, ratio=0.00048216007714561236 \n",
      "Processed 568, num_cells_ecoregion=749, number_positive_bias=2, ratio=0.0026702269692923898 \n",
      "Processed 569, num_cells_ecoregion=2199, number_positive_bias=24, ratio=0.010914051841746248 \n",
      "Processed 570, num_cells_ecoregion=5574, number_positive_bias=0, ratio=0.0 \n",
      "Processed 571, num_cells_ecoregion=5873, number_positive_bias=1, ratio=0.00017027073046143367 \n",
      "Processed 572, num_cells_ecoregion=901, number_positive_bias=3, ratio=0.003329633740288568 \n",
      "Processed 573, num_cells_ecoregion=2478, number_positive_bias=2, ratio=0.0008071025020177562 \n",
      "Processed 574, num_cells_ecoregion=576, number_positive_bias=1, ratio=0.001736111111111111 \n",
      "Processed 575, num_cells_ecoregion=7374, number_positive_bias=27, ratio=0.003661513425549227 \n",
      "Processed 576, num_cells_ecoregion=7221, number_positive_bias=30, ratio=0.004154549231408392 \n",
      "Processed 577, num_cells_ecoregion=200, number_positive_bias=3, ratio=0.015 \n",
      "Processed 578, num_cells_ecoregion=2286, number_positive_bias=14, ratio=0.006124234470691163 \n",
      "Processed 579, num_cells_ecoregion=2859, number_positive_bias=0, ratio=0.0 \n",
      "Processed 580, num_cells_ecoregion=1927, number_positive_bias=1, ratio=0.0005189413596263622 \n",
      "Processed 581, num_cells_ecoregion=1630, number_positive_bias=1, ratio=0.0006134969325153375 \n",
      "Processed 582, num_cells_ecoregion=669, number_positive_bias=0, ratio=0.0 \n",
      "Processed 583, num_cells_ecoregion=672, number_positive_bias=3, ratio=0.004464285714285714 \n",
      "Processed 584, num_cells_ecoregion=68, number_positive_bias=0, ratio=0.0 \n",
      "Processed 585, num_cells_ecoregion=37, number_positive_bias=1, ratio=0.02702702702702703 \n",
      "Processed 586, num_cells_ecoregion=97, number_positive_bias=0, ratio=0.0 \n",
      "Processed 587, num_cells_ecoregion=30, number_positive_bias=2, ratio=0.06666666666666667 \n",
      "Processed 601, num_cells_ecoregion=4205, number_positive_bias=0, ratio=0.0 \n",
      "Processed 602, num_cells_ecoregion=77999, number_positive_bias=4, ratio=5.1282708752676314e-05 \n",
      "Processed 603, num_cells_ecoregion=4254, number_positive_bias=0, ratio=0.0 \n",
      "Processed 604, num_cells_ecoregion=511, number_positive_bias=1, ratio=0.0019569471624266144 \n",
      "Processed 605, num_cells_ecoregion=49634, number_positive_bias=0, ratio=0.0 \n",
      "Processed 606, num_cells_ecoregion=10211, number_positive_bias=0, ratio=0.0 \n",
      "Processed 607, num_cells_ecoregion=34486, number_positive_bias=0, ratio=0.0 \n",
      "Processed 608, num_cells_ecoregion=88317, number_positive_bias=0, ratio=0.0 \n",
      "Processed 609, num_cells_ecoregion=36481, number_positive_bias=0, ratio=0.0 \n",
      "Processed 610, num_cells_ecoregion=8751, number_positive_bias=0, ratio=0.0 \n",
      "Processed 611, num_cells_ecoregion=4998, number_positive_bias=0, ratio=0.0 \n",
      "Processed 612, num_cells_ecoregion=6766, number_positive_bias=0, ratio=0.0 \n",
      "Processed 613, num_cells_ecoregion=4631, number_positive_bias=1, ratio=0.00021593608291945585 \n",
      "Processed 614, num_cells_ecoregion=6549, number_positive_bias=0, ratio=0.0 \n",
      "Processed 615, num_cells_ecoregion=2295, number_positive_bias=0, ratio=0.0 \n",
      "Processed 616, num_cells_ecoregion=7857, number_positive_bias=1, ratio=0.00012727504136438844 \n",
      "Processed 617, num_cells_ecoregion=9444, number_positive_bias=0, ratio=0.0 \n",
      "Processed 618, num_cells_ecoregion=5850, number_positive_bias=0, ratio=0.0 \n",
      "Processed 619, num_cells_ecoregion=4627, number_positive_bias=0, ratio=0.0 \n",
      "Processed 620, num_cells_ecoregion=9538, number_positive_bias=0, ratio=0.0 \n",
      "Processed 621, num_cells_ecoregion=16886, number_positive_bias=0, ratio=0.0 \n",
      "Processed 622, num_cells_ecoregion=8497, number_positive_bias=0, ratio=0.0 \n",
      "Processed 623, num_cells_ecoregion=8595, number_positive_bias=0, ratio=0.0 \n",
      "Processed 624, num_cells_ecoregion=8094, number_positive_bias=0, ratio=0.0 \n",
      "Processed 625, num_cells_ecoregion=16806, number_positive_bias=0, ratio=0.0 \n",
      "Processed 626, num_cells_ecoregion=7639, number_positive_bias=0, ratio=0.0 \n",
      "Processed 627, num_cells_ecoregion=843, number_positive_bias=0, ratio=0.0 \n",
      "Processed 628, num_cells_ecoregion=3546, number_positive_bias=0, ratio=0.0 \n",
      "Processed 629, num_cells_ecoregion=7273, number_positive_bias=0, ratio=0.0 \n",
      "Processed 630, num_cells_ecoregion=6726, number_positive_bias=0, ratio=0.0 \n",
      "Processed 631, num_cells_ecoregion=6935, number_positive_bias=0, ratio=0.0 \n",
      "Processed 632, num_cells_ecoregion=4158, number_positive_bias=0, ratio=0.0 \n",
      "Processed 633, num_cells_ecoregion=2447, number_positive_bias=0, ratio=0.0 \n",
      "Processed 634, num_cells_ecoregion=1730, number_positive_bias=0, ratio=0.0 \n",
      "Processed 635, num_cells_ecoregion=2614, number_positive_bias=0, ratio=0.0 \n",
      "Processed 636, num_cells_ecoregion=11711, number_positive_bias=0, ratio=0.0 \n",
      "Processed 637, num_cells_ecoregion=4674, number_positive_bias=0, ratio=0.0 \n",
      "Processed 638, num_cells_ecoregion=2639, number_positive_bias=7, ratio=0.002652519893899204 \n",
      "Processed 639, num_cells_ecoregion=1122, number_positive_bias=2, ratio=0.0017825311942959 \n",
      "Processed 640, num_cells_ecoregion=1114, number_positive_bias=0, ratio=0.0 \n",
      "Processed 641, num_cells_ecoregion=5576, number_positive_bias=0, ratio=0.0 \n",
      "Processed 642, num_cells_ecoregion=5257, number_positive_bias=12, ratio=0.002282670724747955 \n",
      "Processed 643, num_cells_ecoregion=69, number_positive_bias=1, ratio=0.014492753623188406 \n",
      "Processed 701, num_cells_ecoregion=6149, number_positive_bias=0, ratio=0.0 \n",
      "Processed 702, num_cells_ecoregion=5091, number_positive_bias=0, ratio=0.0 \n",
      "Processed 703, num_cells_ecoregion=11816, number_positive_bias=1, ratio=8.463100880162491e-05 \n",
      "Processed 704, num_cells_ecoregion=876, number_positive_bias=0, ratio=0.0 \n",
      "Processed 705, num_cells_ecoregion=3300, number_positive_bias=0, ratio=0.0 \n",
      "Processed 706, num_cells_ecoregion=2458, number_positive_bias=0, ratio=0.0 \n",
      "Processed 707, num_cells_ecoregion=8674, number_positive_bias=0, ratio=0.0 \n",
      "Processed 708, num_cells_ecoregion=3241, number_positive_bias=0, ratio=0.0 \n",
      "Processed 709, num_cells_ecoregion=13635, number_positive_bias=6, ratio=0.00044004400440044003 \n",
      "Processed 710, num_cells_ecoregion=2404, number_positive_bias=2, ratio=0.0008319467554076539 \n",
      "Processed 711, num_cells_ecoregion=3892, number_positive_bias=0, ratio=0.0 \n",
      "Processed 712, num_cells_ecoregion=2599, number_positive_bias=2, ratio=0.0007695267410542517 \n",
      "Processed 713, num_cells_ecoregion=7091, number_positive_bias=0, ratio=0.0 \n",
      "Processed 714, num_cells_ecoregion=3900, number_positive_bias=0, ratio=0.0 \n",
      "Processed 715, num_cells_ecoregion=2008, number_positive_bias=7, ratio=0.0034860557768924302 \n",
      "Processed 716, num_cells_ecoregion=2150, number_positive_bias=0, ratio=0.0 \n",
      "Processed 717, num_cells_ecoregion=657, number_positive_bias=2, ratio=0.0030441400304414 \n",
      "Processed 718, num_cells_ecoregion=240, number_positive_bias=9, ratio=0.0375 \n",
      "Processed 719, num_cells_ecoregion=1584, number_positive_bias=5, ratio=0.0031565656565656565 \n",
      "Processed 720, num_cells_ecoregion=5890, number_positive_bias=15, ratio=0.0025466893039049238 \n",
      "Processed 721, num_cells_ecoregion=1915, number_positive_bias=0, ratio=0.0 \n",
      "Processed 722, num_cells_ecoregion=2741, number_positive_bias=9, ratio=0.003283473184968989 \n",
      "Processed 723, num_cells_ecoregion=18, number_positive_bias=0, ratio=0.0 \n",
      "Processed 724, num_cells_ecoregion=1684, number_positive_bias=0, ratio=0.0 \n",
      "Processed 725, num_cells_ecoregion=74, number_positive_bias=0, ratio=0.0 \n",
      "Processed 726, num_cells_ecoregion=2267, number_positive_bias=5, ratio=0.0022055580061755625 \n",
      "Processed 727, num_cells_ecoregion=2664, number_positive_bias=6, ratio=0.0022522522522522522 \n",
      "Processed 728, num_cells_ecoregion=1238, number_positive_bias=15, ratio=0.012116316639741519 \n",
      "Processed 729, num_cells_ecoregion=2283, number_positive_bias=9, ratio=0.003942181340341655 \n",
      "Processed 730, num_cells_ecoregion=1068, number_positive_bias=61, ratio=0.05711610486891386 \n",
      "Processed 731, num_cells_ecoregion=549, number_positive_bias=2, ratio=0.0036429872495446266 \n",
      "Processed 732, num_cells_ecoregion=2213, number_positive_bias=15, ratio=0.006778129236330773 \n",
      "Processed 733, num_cells_ecoregion=696, number_positive_bias=2, ratio=0.0028735632183908046 \n",
      "Processed 734, num_cells_ecoregion=1987, number_positive_bias=12, ratio=0.006039255158530448 \n",
      "Processed 735, num_cells_ecoregion=1328, number_positive_bias=6, ratio=0.004518072289156626 \n",
      "Processed 736, num_cells_ecoregion=825, number_positive_bias=0, ratio=0.0 \n",
      "Processed 737, num_cells_ecoregion=1655, number_positive_bias=0, ratio=0.0 \n",
      "Processed 738, num_cells_ecoregion=2169, number_positive_bias=1, ratio=0.0004610419548178884 \n",
      "Processed 739, num_cells_ecoregion=2273, number_positive_bias=1, ratio=0.0004399472063352398 \n",
      "Processed 740, num_cells_ecoregion=989, number_positive_bias=0, ratio=0.0 \n",
      "Processed 741, num_cells_ecoregion=1377, number_positive_bias=1, ratio=0.0007262164124909223 \n",
      "Processed 742, num_cells_ecoregion=1413, number_positive_bias=1, ratio=0.0007077140835102619 \n",
      "Processed 743, num_cells_ecoregion=1697, number_positive_bias=0, ratio=0.0 \n",
      "Processed 744, num_cells_ecoregion=1102, number_positive_bias=2, ratio=0.0018148820326678765 \n",
      "Processed 745, num_cells_ecoregion=1368, number_positive_bias=0, ratio=0.0 \n",
      "Processed 746, num_cells_ecoregion=2453, number_positive_bias=2, ratio=0.0008153281695882593 \n",
      "Processed 747, num_cells_ecoregion=1468, number_positive_bias=0, ratio=0.0 \n",
      "Processed 748, num_cells_ecoregion=1664, number_positive_bias=8, ratio=0.004807692307692308 \n",
      "Processed 749, num_cells_ecoregion=2835, number_positive_bias=2, ratio=0.0007054673721340388 \n",
      "Processed 750, num_cells_ecoregion=53, number_positive_bias=0, ratio=0.0 \n",
      "Processed 751, num_cells_ecoregion=37, number_positive_bias=0, ratio=0.0 \n",
      "Processed 752, num_cells_ecoregion=1584, number_positive_bias=2, ratio=0.0012626262626262627 \n",
      "Processed 753, num_cells_ecoregion=32, number_positive_bias=0, ratio=0.0 \n",
      "Processed 755, num_cells_ecoregion=3080, number_positive_bias=5, ratio=0.0016233766233766235 \n",
      "Processed 756, num_cells_ecoregion=603, number_positive_bias=1, ratio=0.001658374792703151 \n",
      "Processed 757, num_cells_ecoregion=380, number_positive_bias=24, ratio=0.06315789473684211 \n",
      "Processed 758, num_cells_ecoregion=198, number_positive_bias=9, ratio=0.045454545454545456 \n",
      "Processed 759, num_cells_ecoregion=496, number_positive_bias=0, ratio=0.0 \n",
      "Processed 760, num_cells_ecoregion=508, number_positive_bias=13, ratio=0.025590551181102362 \n",
      "Processed 761, num_cells_ecoregion=2543, number_positive_bias=2, ratio=0.0007864726700747149 \n",
      "Processed 762, num_cells_ecoregion=35, number_positive_bias=0, ratio=0.0 \n",
      "Processed 763, num_cells_ecoregion=6713, number_positive_bias=12, ratio=0.0017875763444063757 \n",
      "Processed 764, num_cells_ecoregion=7032, number_positive_bias=0, ratio=0.0 \n",
      "Processed 765, num_cells_ecoregion=7010, number_positive_bias=0, ratio=0.0 \n",
      "Processed 766, num_cells_ecoregion=15358, number_positive_bias=0, ratio=0.0 \n",
      "Processed 767, num_cells_ecoregion=3078, number_positive_bias=0, ratio=0.0 \n",
      "Processed 768, num_cells_ecoregion=171, number_positive_bias=1, ratio=0.005847953216374269 \n",
      "Processed 769, num_cells_ecoregion=69, number_positive_bias=0, ratio=0.0 \n",
      "Processed 801, num_cells_ecoregion=2056, number_positive_bias=0, ratio=0.0 \n",
      "Processed 802, num_cells_ecoregion=6965, number_positive_bias=1, ratio=0.00014357501794687725 \n",
      "Processed 803, num_cells_ecoregion=2548, number_positive_bias=0, ratio=0.0 \n",
      "Processed 804, num_cells_ecoregion=29837, number_positive_bias=9, ratio=0.00030163890471562155 \n",
      "Processed 805, num_cells_ecoregion=14219, number_positive_bias=59, ratio=0.004149377593360996 \n",
      "Processed 806, num_cells_ecoregion=21634, number_positive_bias=0, ratio=0.0 \n",
      "Processed 807, num_cells_ecoregion=7688, number_positive_bias=105, ratio=0.013657648283038502 \n",
      "Processed 808, num_cells_ecoregion=15679, number_positive_bias=71, ratio=0.004528350022322852 \n",
      "Processed 809, num_cells_ecoregion=1799, number_positive_bias=15, ratio=0.008337965536409116 \n",
      "Processed 810, num_cells_ecoregion=736, number_positive_bias=5, ratio=0.006793478260869565 \n",
      "Processed 811, num_cells_ecoregion=4888, number_positive_bias=107, ratio=0.02189034369885434 \n",
      "Processed 812, num_cells_ecoregion=1613, number_positive_bias=1, ratio=0.0006199628022318661 \n",
      "Processed 813, num_cells_ecoregion=2774, number_positive_bias=7, ratio=0.0025234318673395817 \n",
      "Processed 814, num_cells_ecoregion=1488, number_positive_bias=3, ratio=0.0020161290322580645 \n",
      "Processed 815, num_cells_ecoregion=3874, number_positive_bias=1, ratio=0.0002581311306143521 \n",
      "Processed 816, num_cells_ecoregion=1439, number_positive_bias=6, ratio=0.004169562195969423 \n",
      "Processed 817, num_cells_ecoregion=963, number_positive_bias=0, ratio=0.0 \n",
      "Processed 818, num_cells_ecoregion=900, number_positive_bias=1, ratio=0.0011111111111111111 \n",
      "Processed 819, num_cells_ecoregion=314, number_positive_bias=1, ratio=0.0031847133757961785 \n",
      "Processed 820, num_cells_ecoregion=433, number_positive_bias=2, ratio=0.004618937644341801 \n",
      "Processed 821, num_cells_ecoregion=557, number_positive_bias=4, ratio=0.00718132854578097 \n",
      "Processed 822, num_cells_ecoregion=16, number_positive_bias=2, ratio=0.125 \n",
      "Processed 823, num_cells_ecoregion=85, number_positive_bias=0, ratio=0.0 \n",
      "Processed 824, num_cells_ecoregion=71, number_positive_bias=1, ratio=0.014084507042253521 \n",
      "Processed 825, num_cells_ecoregion=20, number_positive_bias=0, ratio=0.0 \n",
      "Processed 826, num_cells_ecoregion=51, number_positive_bias=0, ratio=0.0 \n",
      "Processed 827, num_cells_ecoregion=8, number_positive_bias=0, ratio=0.0 \n",
      "Processed 828, num_cells_ecoregion=327, number_positive_bias=23, ratio=0.07033639143730887 \n",
      "Processed 829, num_cells_ecoregion=46, number_positive_bias=0, ratio=0.0 \n",
      "Processed 830, num_cells_ecoregion=59, number_positive_bias=2, ratio=0.03389830508474576 \n",
      "Processed 901, num_cells_ecoregion=104, number_positive_bias=3, ratio=0.028846153846153848 \n",
      "Processed 902, num_cells_ecoregion=134, number_positive_bias=0, ratio=0.0 \n",
      "Processed 903, num_cells_ecoregion=204, number_positive_bias=6, ratio=0.029411764705882353 \n",
      "Processed 904, num_cells_ecoregion=37, number_positive_bias=0, ratio=0.0 \n",
      "Processed 905, num_cells_ecoregion=85, number_positive_bias=0, ratio=0.0 \n",
      "Processed 906, num_cells_ecoregion=321, number_positive_bias=7, ratio=0.021806853582554516 \n",
      "Processed 907, num_cells_ecoregion=34, number_positive_bias=0, ratio=0.0 \n",
      "Processed 908, num_cells_ecoregion=12, number_positive_bias=0, ratio=0.0 \n",
      "Processed 909, num_cells_ecoregion=7, number_positive_bias=0, ratio=0.0 \n",
      "Processed 910, num_cells_ecoregion=24, number_positive_bias=0, ratio=0.0 \n",
      "Processed 911, num_cells_ecoregion=61, number_positive_bias=0, ratio=0.0 \n",
      "Processed 912, num_cells_ecoregion=76, number_positive_bias=0, ratio=0.0 \n",
      "Processed 913, num_cells_ecoregion=1, number_positive_bias=0, ratio=0.0 \n",
      "Processed 914, num_cells_ecoregion=101, number_positive_bias=0, ratio=0.0 \n",
      "Processed 915, num_cells_ecoregion=7, number_positive_bias=0, ratio=0.0 \n",
      "Processed 916, num_cells_ecoregion=5, number_positive_bias=0, ratio=0.0 \n",
      "Processed 917, num_cells_ecoregion=96, number_positive_bias=0, ratio=0.0 \n",
      "Processed 918, num_cells_ecoregion=31, number_positive_bias=0, ratio=0.0 \n",
      "Processed 919, num_cells_ecoregion=34, number_positive_bias=1, ratio=0.029411764705882353 \n",
      "Processed 920, num_cells_ecoregion=12, number_positive_bias=0, ratio=0.0 \n",
      "Processed 921, num_cells_ecoregion=4, number_positive_bias=0, ratio=0.0 \n",
      "Processed 998, num_cells_ecoregion=100605, number_positive_bias=0, ratio=0.0 \n",
      "Processed 999, num_cells_ecoregion=2212, number_positive_bias=27, ratio=0.012206148282097649 \n"
     ]
    }
   ],
   "source": [
    "num_cells_ecoregion_array = []\n",
    "num_positive_cells_bias_grid_array = []\n",
    "ratio_array = []\n",
    "for ecoregion in unique_freshwater_ecoregions:\n",
    "    number_cells_ecoregion = len(np.where(freshwater_ecoregions_data==ecoregion)[0])\n",
    "    number_positive_cells_bias_grid = len(np.where(bias_grid[np.where(freshwater_ecoregions_data==ecoregion)]>0)[0])\n",
    "    ratio = number_positive_cells_bias_grid/number_cells_ecoregion\n",
    "    num_cells_ecoregion_array.append(number_cells_ecoregion)\n",
    "    num_positive_cells_bias_grid_array.append(number_positive_cells_bias_grid)\n",
    "    ratio_array.append(ratio)\n",
    "    print(\"Processed %s, num_cells_ecoregion=%s, number_positive_bias=%s, ratio=%s \" % (ecoregion, number_cells_ecoregion, number_positive_cells_bias_grid, ratio))\n"
   ]
  },
  {
   "cell_type": "code",
   "execution_count": 280,
   "metadata": {
    "collapsed": false
   },
   "outputs": [],
   "source": [
    "ratio_array_np = np.array(ratio_array)"
   ]
  },
  {
   "cell_type": "code",
   "execution_count": 281,
   "metadata": {
    "collapsed": false
   },
   "outputs": [
    {
     "data": {
      "text/plain": [
       "0.67004396864844196"
      ]
     },
     "execution_count": 281,
     "metadata": {},
     "output_type": "execute_result"
    }
   ],
   "source": [
    "ratio_array_np.max()"
   ]
  },
  {
   "cell_type": "code",
   "execution_count": 282,
   "metadata": {
    "collapsed": false
   },
   "outputs": [
    {
     "data": {
      "text/plain": [
       "0.0"
      ]
     },
     "execution_count": 282,
     "metadata": {},
     "output_type": "execute_result"
    }
   ],
   "source": [
    "ratio_array_np.min()"
   ]
  },
  {
   "cell_type": "code",
   "execution_count": 283,
   "metadata": {
    "collapsed": false
   },
   "outputs": [
    {
     "data": {
      "text/plain": [
       "0.065084924732055391"
      ]
     },
     "execution_count": 283,
     "metadata": {},
     "output_type": "execute_result"
    }
   ],
   "source": [
    "ratio_array_np.std()"
   ]
  },
  {
   "cell_type": "code",
   "execution_count": 284,
   "metadata": {
    "collapsed": false
   },
   "outputs": [
    {
     "data": {
      "text/plain": [
       "(array([149]),)"
      ]
     },
     "execution_count": 284,
     "metadata": {},
     "output_type": "execute_result"
    }
   ],
   "source": [
    "np.where(ratio_array_np==ratio_array_np.max())"
   ]
  },
  {
   "cell_type": "code",
   "execution_count": 285,
   "metadata": {
    "collapsed": false
   },
   "outputs": [
    {
     "data": {
      "text/plain": [
       "3505"
      ]
     },
     "execution_count": 285,
     "metadata": {},
     "output_type": "execute_result"
    }
   ],
   "source": [
    "num_positive_cells_bias_grid_array[149]"
   ]
  },
  {
   "cell_type": "code",
   "execution_count": 286,
   "metadata": {
    "collapsed": false
   },
   "outputs": [
    {
     "data": {
      "text/plain": [
       "5231"
      ]
     },
     "execution_count": 286,
     "metadata": {},
     "output_type": "execute_result"
    }
   ],
   "source": [
    "num_cells_ecoregion_array[149]"
   ]
  },
  {
   "cell_type": "code",
   "execution_count": 291,
   "metadata": {
    "collapsed": false
   },
   "outputs": [
    {
     "data": {
      "text/plain": [
       "405"
      ]
     },
     "execution_count": 291,
     "metadata": {},
     "output_type": "execute_result"
    }
   ],
   "source": [
    "unique_freshwater_ecoregions[149]"
   ]
  },
  {
   "cell_type": "code",
   "execution_count": 305,
   "metadata": {
    "collapsed": false
   },
   "outputs": [],
   "source": [
    "ecoregions_vs_biasgrid = pd.DataFrame(columns=['ecoregion', 'num_cells_ecoregion', 'num_positive_bias_grid','ratio'])\n",
    "ecoregions_vs_biasgrid['ecoregion'] = np.array(unique_freshwater_ecoregions)\n",
    "ecoregions_vs_biasgrid['num_cells_ecoregion'] = np.array(num_cells_ecoregion_array)\n",
    "ecoregions_vs_biasgrid['num_positive_bias_grid'] = np.array(num_positive_cells_bias_grid_array)\n",
    "ecoregions_vs_biasgrid['ratio'] = np.array(ratio_array)"
   ]
  },
  {
   "cell_type": "code",
   "execution_count": 306,
   "metadata": {
    "collapsed": false
   },
   "outputs": [
    {
     "data": {
      "text/html": [
       "<div>\n",
       "<table border=\"1\" class=\"dataframe\">\n",
       "  <thead>\n",
       "    <tr style=\"text-align: right;\">\n",
       "      <th></th>\n",
       "      <th>ecoregion</th>\n",
       "      <th>num_cells_ecoregion</th>\n",
       "      <th>num_positive_bias_grid</th>\n",
       "      <th>ratio</th>\n",
       "    </tr>\n",
       "  </thead>\n",
       "  <tbody>\n",
       "    <tr>\n",
       "      <th>0</th>\n",
       "      <td>101</td>\n",
       "      <td>28772</td>\n",
       "      <td>32</td>\n",
       "      <td>0.001112</td>\n",
       "    </tr>\n",
       "    <tr>\n",
       "      <th>1</th>\n",
       "      <td>102</td>\n",
       "      <td>15228</td>\n",
       "      <td>7</td>\n",
       "      <td>0.000460</td>\n",
       "    </tr>\n",
       "    <tr>\n",
       "      <th>2</th>\n",
       "      <td>103</td>\n",
       "      <td>21111</td>\n",
       "      <td>347</td>\n",
       "      <td>0.016437</td>\n",
       "    </tr>\n",
       "    <tr>\n",
       "      <th>3</th>\n",
       "      <td>104</td>\n",
       "      <td>13196</td>\n",
       "      <td>16</td>\n",
       "      <td>0.001212</td>\n",
       "    </tr>\n",
       "    <tr>\n",
       "      <th>4</th>\n",
       "      <td>105</td>\n",
       "      <td>28304</td>\n",
       "      <td>5</td>\n",
       "      <td>0.000177</td>\n",
       "    </tr>\n",
       "    <tr>\n",
       "      <th>5</th>\n",
       "      <td>106</td>\n",
       "      <td>18108</td>\n",
       "      <td>0</td>\n",
       "      <td>0.000000</td>\n",
       "    </tr>\n",
       "    <tr>\n",
       "      <th>6</th>\n",
       "      <td>107</td>\n",
       "      <td>4022</td>\n",
       "      <td>2</td>\n",
       "      <td>0.000497</td>\n",
       "    </tr>\n",
       "    <tr>\n",
       "      <th>7</th>\n",
       "      <td>108</td>\n",
       "      <td>6138</td>\n",
       "      <td>0</td>\n",
       "      <td>0.000000</td>\n",
       "    </tr>\n",
       "    <tr>\n",
       "      <th>8</th>\n",
       "      <td>109</td>\n",
       "      <td>11636</td>\n",
       "      <td>113</td>\n",
       "      <td>0.009711</td>\n",
       "    </tr>\n",
       "    <tr>\n",
       "      <th>9</th>\n",
       "      <td>110</td>\n",
       "      <td>19331</td>\n",
       "      <td>1</td>\n",
       "      <td>0.000052</td>\n",
       "    </tr>\n",
       "    <tr>\n",
       "      <th>10</th>\n",
       "      <td>111</td>\n",
       "      <td>25556</td>\n",
       "      <td>0</td>\n",
       "      <td>0.000000</td>\n",
       "    </tr>\n",
       "    <tr>\n",
       "      <th>11</th>\n",
       "      <td>112</td>\n",
       "      <td>65763</td>\n",
       "      <td>0</td>\n",
       "      <td>0.000000</td>\n",
       "    </tr>\n",
       "    <tr>\n",
       "      <th>12</th>\n",
       "      <td>113</td>\n",
       "      <td>23703</td>\n",
       "      <td>0</td>\n",
       "      <td>0.000000</td>\n",
       "    </tr>\n",
       "    <tr>\n",
       "      <th>13</th>\n",
       "      <td>114</td>\n",
       "      <td>5195</td>\n",
       "      <td>0</td>\n",
       "      <td>0.000000</td>\n",
       "    </tr>\n",
       "    <tr>\n",
       "      <th>14</th>\n",
       "      <td>115</td>\n",
       "      <td>2852</td>\n",
       "      <td>6</td>\n",
       "      <td>0.002104</td>\n",
       "    </tr>\n",
       "    <tr>\n",
       "      <th>15</th>\n",
       "      <td>116</td>\n",
       "      <td>12509</td>\n",
       "      <td>1074</td>\n",
       "      <td>0.085858</td>\n",
       "    </tr>\n",
       "    <tr>\n",
       "      <th>16</th>\n",
       "      <td>117</td>\n",
       "      <td>6871</td>\n",
       "      <td>237</td>\n",
       "      <td>0.034493</td>\n",
       "    </tr>\n",
       "    <tr>\n",
       "      <th>17</th>\n",
       "      <td>118</td>\n",
       "      <td>6374</td>\n",
       "      <td>1401</td>\n",
       "      <td>0.219799</td>\n",
       "    </tr>\n",
       "    <tr>\n",
       "      <th>18</th>\n",
       "      <td>119</td>\n",
       "      <td>1202</td>\n",
       "      <td>40</td>\n",
       "      <td>0.033278</td>\n",
       "    </tr>\n",
       "    <tr>\n",
       "      <th>19</th>\n",
       "      <td>120</td>\n",
       "      <td>4611</td>\n",
       "      <td>337</td>\n",
       "      <td>0.073086</td>\n",
       "    </tr>\n",
       "    <tr>\n",
       "      <th>20</th>\n",
       "      <td>121</td>\n",
       "      <td>5158</td>\n",
       "      <td>415</td>\n",
       "      <td>0.080458</td>\n",
       "    </tr>\n",
       "    <tr>\n",
       "      <th>21</th>\n",
       "      <td>122</td>\n",
       "      <td>1424</td>\n",
       "      <td>100</td>\n",
       "      <td>0.070225</td>\n",
       "    </tr>\n",
       "    <tr>\n",
       "      <th>22</th>\n",
       "      <td>123</td>\n",
       "      <td>1773</td>\n",
       "      <td>146</td>\n",
       "      <td>0.082346</td>\n",
       "    </tr>\n",
       "    <tr>\n",
       "      <th>23</th>\n",
       "      <td>124</td>\n",
       "      <td>847</td>\n",
       "      <td>9</td>\n",
       "      <td>0.010626</td>\n",
       "    </tr>\n",
       "    <tr>\n",
       "      <th>24</th>\n",
       "      <td>125</td>\n",
       "      <td>2736</td>\n",
       "      <td>173</td>\n",
       "      <td>0.063231</td>\n",
       "    </tr>\n",
       "    <tr>\n",
       "      <th>25</th>\n",
       "      <td>126</td>\n",
       "      <td>3155</td>\n",
       "      <td>43</td>\n",
       "      <td>0.013629</td>\n",
       "    </tr>\n",
       "    <tr>\n",
       "      <th>26</th>\n",
       "      <td>127</td>\n",
       "      <td>2339</td>\n",
       "      <td>109</td>\n",
       "      <td>0.046601</td>\n",
       "    </tr>\n",
       "    <tr>\n",
       "      <th>27</th>\n",
       "      <td>128</td>\n",
       "      <td>1178</td>\n",
       "      <td>27</td>\n",
       "      <td>0.022920</td>\n",
       "    </tr>\n",
       "    <tr>\n",
       "      <th>28</th>\n",
       "      <td>129</td>\n",
       "      <td>580</td>\n",
       "      <td>28</td>\n",
       "      <td>0.048276</td>\n",
       "    </tr>\n",
       "    <tr>\n",
       "      <th>29</th>\n",
       "      <td>130</td>\n",
       "      <td>7271</td>\n",
       "      <td>303</td>\n",
       "      <td>0.041672</td>\n",
       "    </tr>\n",
       "    <tr>\n",
       "      <th>...</th>\n",
       "      <td>...</td>\n",
       "      <td>...</td>\n",
       "      <td>...</td>\n",
       "      <td>...</td>\n",
       "    </tr>\n",
       "    <tr>\n",
       "      <th>419</th>\n",
       "      <td>824</td>\n",
       "      <td>71</td>\n",
       "      <td>1</td>\n",
       "      <td>0.014085</td>\n",
       "    </tr>\n",
       "    <tr>\n",
       "      <th>420</th>\n",
       "      <td>825</td>\n",
       "      <td>20</td>\n",
       "      <td>0</td>\n",
       "      <td>0.000000</td>\n",
       "    </tr>\n",
       "    <tr>\n",
       "      <th>421</th>\n",
       "      <td>826</td>\n",
       "      <td>51</td>\n",
       "      <td>0</td>\n",
       "      <td>0.000000</td>\n",
       "    </tr>\n",
       "    <tr>\n",
       "      <th>422</th>\n",
       "      <td>827</td>\n",
       "      <td>8</td>\n",
       "      <td>0</td>\n",
       "      <td>0.000000</td>\n",
       "    </tr>\n",
       "    <tr>\n",
       "      <th>423</th>\n",
       "      <td>828</td>\n",
       "      <td>327</td>\n",
       "      <td>23</td>\n",
       "      <td>0.070336</td>\n",
       "    </tr>\n",
       "    <tr>\n",
       "      <th>424</th>\n",
       "      <td>829</td>\n",
       "      <td>46</td>\n",
       "      <td>0</td>\n",
       "      <td>0.000000</td>\n",
       "    </tr>\n",
       "    <tr>\n",
       "      <th>425</th>\n",
       "      <td>830</td>\n",
       "      <td>59</td>\n",
       "      <td>2</td>\n",
       "      <td>0.033898</td>\n",
       "    </tr>\n",
       "    <tr>\n",
       "      <th>426</th>\n",
       "      <td>901</td>\n",
       "      <td>104</td>\n",
       "      <td>3</td>\n",
       "      <td>0.028846</td>\n",
       "    </tr>\n",
       "    <tr>\n",
       "      <th>427</th>\n",
       "      <td>902</td>\n",
       "      <td>134</td>\n",
       "      <td>0</td>\n",
       "      <td>0.000000</td>\n",
       "    </tr>\n",
       "    <tr>\n",
       "      <th>428</th>\n",
       "      <td>903</td>\n",
       "      <td>204</td>\n",
       "      <td>6</td>\n",
       "      <td>0.029412</td>\n",
       "    </tr>\n",
       "    <tr>\n",
       "      <th>429</th>\n",
       "      <td>904</td>\n",
       "      <td>37</td>\n",
       "      <td>0</td>\n",
       "      <td>0.000000</td>\n",
       "    </tr>\n",
       "    <tr>\n",
       "      <th>430</th>\n",
       "      <td>905</td>\n",
       "      <td>85</td>\n",
       "      <td>0</td>\n",
       "      <td>0.000000</td>\n",
       "    </tr>\n",
       "    <tr>\n",
       "      <th>431</th>\n",
       "      <td>906</td>\n",
       "      <td>321</td>\n",
       "      <td>7</td>\n",
       "      <td>0.021807</td>\n",
       "    </tr>\n",
       "    <tr>\n",
       "      <th>432</th>\n",
       "      <td>907</td>\n",
       "      <td>34</td>\n",
       "      <td>0</td>\n",
       "      <td>0.000000</td>\n",
       "    </tr>\n",
       "    <tr>\n",
       "      <th>433</th>\n",
       "      <td>908</td>\n",
       "      <td>12</td>\n",
       "      <td>0</td>\n",
       "      <td>0.000000</td>\n",
       "    </tr>\n",
       "    <tr>\n",
       "      <th>434</th>\n",
       "      <td>909</td>\n",
       "      <td>7</td>\n",
       "      <td>0</td>\n",
       "      <td>0.000000</td>\n",
       "    </tr>\n",
       "    <tr>\n",
       "      <th>435</th>\n",
       "      <td>910</td>\n",
       "      <td>24</td>\n",
       "      <td>0</td>\n",
       "      <td>0.000000</td>\n",
       "    </tr>\n",
       "    <tr>\n",
       "      <th>436</th>\n",
       "      <td>911</td>\n",
       "      <td>61</td>\n",
       "      <td>0</td>\n",
       "      <td>0.000000</td>\n",
       "    </tr>\n",
       "    <tr>\n",
       "      <th>437</th>\n",
       "      <td>912</td>\n",
       "      <td>76</td>\n",
       "      <td>0</td>\n",
       "      <td>0.000000</td>\n",
       "    </tr>\n",
       "    <tr>\n",
       "      <th>438</th>\n",
       "      <td>913</td>\n",
       "      <td>1</td>\n",
       "      <td>0</td>\n",
       "      <td>0.000000</td>\n",
       "    </tr>\n",
       "    <tr>\n",
       "      <th>439</th>\n",
       "      <td>914</td>\n",
       "      <td>101</td>\n",
       "      <td>0</td>\n",
       "      <td>0.000000</td>\n",
       "    </tr>\n",
       "    <tr>\n",
       "      <th>440</th>\n",
       "      <td>915</td>\n",
       "      <td>7</td>\n",
       "      <td>0</td>\n",
       "      <td>0.000000</td>\n",
       "    </tr>\n",
       "    <tr>\n",
       "      <th>441</th>\n",
       "      <td>916</td>\n",
       "      <td>5</td>\n",
       "      <td>0</td>\n",
       "      <td>0.000000</td>\n",
       "    </tr>\n",
       "    <tr>\n",
       "      <th>442</th>\n",
       "      <td>917</td>\n",
       "      <td>96</td>\n",
       "      <td>0</td>\n",
       "      <td>0.000000</td>\n",
       "    </tr>\n",
       "    <tr>\n",
       "      <th>443</th>\n",
       "      <td>918</td>\n",
       "      <td>31</td>\n",
       "      <td>0</td>\n",
       "      <td>0.000000</td>\n",
       "    </tr>\n",
       "    <tr>\n",
       "      <th>444</th>\n",
       "      <td>919</td>\n",
       "      <td>34</td>\n",
       "      <td>1</td>\n",
       "      <td>0.029412</td>\n",
       "    </tr>\n",
       "    <tr>\n",
       "      <th>445</th>\n",
       "      <td>920</td>\n",
       "      <td>12</td>\n",
       "      <td>0</td>\n",
       "      <td>0.000000</td>\n",
       "    </tr>\n",
       "    <tr>\n",
       "      <th>446</th>\n",
       "      <td>921</td>\n",
       "      <td>4</td>\n",
       "      <td>0</td>\n",
       "      <td>0.000000</td>\n",
       "    </tr>\n",
       "    <tr>\n",
       "      <th>447</th>\n",
       "      <td>998</td>\n",
       "      <td>100605</td>\n",
       "      <td>0</td>\n",
       "      <td>0.000000</td>\n",
       "    </tr>\n",
       "    <tr>\n",
       "      <th>448</th>\n",
       "      <td>999</td>\n",
       "      <td>2212</td>\n",
       "      <td>27</td>\n",
       "      <td>0.012206</td>\n",
       "    </tr>\n",
       "  </tbody>\n",
       "</table>\n",
       "<p>449 rows × 4 columns</p>\n",
       "</div>"
      ],
      "text/plain": [
       "     ecoregion  num_cells_ecoregion  num_positive_bias_grid     ratio\n",
       "0          101                28772                      32  0.001112\n",
       "1          102                15228                       7  0.000460\n",
       "2          103                21111                     347  0.016437\n",
       "3          104                13196                      16  0.001212\n",
       "4          105                28304                       5  0.000177\n",
       "5          106                18108                       0  0.000000\n",
       "6          107                 4022                       2  0.000497\n",
       "7          108                 6138                       0  0.000000\n",
       "8          109                11636                     113  0.009711\n",
       "9          110                19331                       1  0.000052\n",
       "10         111                25556                       0  0.000000\n",
       "11         112                65763                       0  0.000000\n",
       "12         113                23703                       0  0.000000\n",
       "13         114                 5195                       0  0.000000\n",
       "14         115                 2852                       6  0.002104\n",
       "15         116                12509                    1074  0.085858\n",
       "16         117                 6871                     237  0.034493\n",
       "17         118                 6374                    1401  0.219799\n",
       "18         119                 1202                      40  0.033278\n",
       "19         120                 4611                     337  0.073086\n",
       "20         121                 5158                     415  0.080458\n",
       "21         122                 1424                     100  0.070225\n",
       "22         123                 1773                     146  0.082346\n",
       "23         124                  847                       9  0.010626\n",
       "24         125                 2736                     173  0.063231\n",
       "25         126                 3155                      43  0.013629\n",
       "26         127                 2339                     109  0.046601\n",
       "27         128                 1178                      27  0.022920\n",
       "28         129                  580                      28  0.048276\n",
       "29         130                 7271                     303  0.041672\n",
       "..         ...                  ...                     ...       ...\n",
       "419        824                   71                       1  0.014085\n",
       "420        825                   20                       0  0.000000\n",
       "421        826                   51                       0  0.000000\n",
       "422        827                    8                       0  0.000000\n",
       "423        828                  327                      23  0.070336\n",
       "424        829                   46                       0  0.000000\n",
       "425        830                   59                       2  0.033898\n",
       "426        901                  104                       3  0.028846\n",
       "427        902                  134                       0  0.000000\n",
       "428        903                  204                       6  0.029412\n",
       "429        904                   37                       0  0.000000\n",
       "430        905                   85                       0  0.000000\n",
       "431        906                  321                       7  0.021807\n",
       "432        907                   34                       0  0.000000\n",
       "433        908                   12                       0  0.000000\n",
       "434        909                    7                       0  0.000000\n",
       "435        910                   24                       0  0.000000\n",
       "436        911                   61                       0  0.000000\n",
       "437        912                   76                       0  0.000000\n",
       "438        913                    1                       0  0.000000\n",
       "439        914                  101                       0  0.000000\n",
       "440        915                    7                       0  0.000000\n",
       "441        916                    5                       0  0.000000\n",
       "442        917                   96                       0  0.000000\n",
       "443        918                   31                       0  0.000000\n",
       "444        919                   34                       1  0.029412\n",
       "445        920                   12                       0  0.000000\n",
       "446        921                    4                       0  0.000000\n",
       "447        998               100605                       0  0.000000\n",
       "448        999                 2212                      27  0.012206\n",
       "\n",
       "[449 rows x 4 columns]"
      ]
     },
     "execution_count": 306,
     "metadata": {},
     "output_type": "execute_result"
    }
   ],
   "source": [
    "ecoregions_vs_biasgrid"
   ]
  },
  {
   "cell_type": "code",
   "execution_count": 315,
   "metadata": {
    "collapsed": false
   },
   "outputs": [
    {
     "data": {
      "text/plain": [
       "0.06515752366676357"
      ]
     },
     "execution_count": 315,
     "metadata": {},
     "output_type": "execute_result"
    }
   ],
   "source": [
    "ecoregions_vs_biasgrid['ratio'].std()"
   ]
  },
  {
   "cell_type": "code",
   "execution_count": 323,
   "metadata": {
    "collapsed": false
   },
   "outputs": [
    {
     "data": {
      "text/plain": [
       "<matplotlib.axes._subplots.AxesSubplot at 0x7fd0618250f0>"
      ]
     },
     "execution_count": 323,
     "metadata": {},
     "output_type": "execute_result"
    },
    {
     "data": {
      "image/png": "[encoded data removed]",
      "text/plain": [
       "<matplotlib.figure.Figure at 0x7fd0617fde80>"
      ]
     },
     "metadata": {},
     "output_type": "display_data"
    }
   ],
   "source": [
    "ecoregions_vs_biasgrid['ratio'].plot(figsize=(20,25))"
   ]
  },
  {
   "cell_type": "code",
   "execution_count": 325,
   "metadata": {
    "collapsed": false
   },
   "outputs": [
    {
     "data": {
      "text/plain": [
       "<matplotlib.axes._subplots.AxesSubplot at 0x7fd061741a58>"
      ]
     },
     "execution_count": 325,
     "metadata": {},
     "output_type": "execute_result"
    },
    {
     "data": {
      "image/png": "[encoded data removed]",
      "text/plain": [
       "<matplotlib.figure.Figure at 0x7fd0616c9e10>"
      ]
     },
     "metadata": {},
     "output_type": "display_data"
    }
   ],
   "source": [
    "ecoregions_vs_biasgrid[['num_cells_ecoregion','num_positive_bias_grid']].plot(figsize=(20,25))"
   ]
  },
  {
   "cell_type": "code",
   "execution_count": null,
   "metadata": {
    "collapsed": true
   },
   "outputs": [],
   "source": []
  }
 ],
 "metadata": {
  "kernelspec": {
   "display_name": "Python 3",
   "language": "python",
   "name": "python3"
  },
  "language_info": {
   "codemirror_mode": {
    "name": "ipython",
    "version": 3
   },
   "file_extension": ".py",
   "mimetype": "text/x-python",
   "name": "python",
   "nbconvert_exporter": "python",
   "pygments_lexer": "ipython3",
   "version": "3.4.4"
  }
 },
 "nbformat": 4,
 "nbformat_minor": 0
}
