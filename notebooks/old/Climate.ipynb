{
 "cells": [
  {
   "cell_type": "code",
   "execution_count": 1,
   "metadata": {
    "collapsed": false
   },
   "outputs": [],
   "source": [
    "from enum import Enum\n",
    "\n",
    "class Source(Enum):\n",
    "    WORLDCLIM = 1\n",
    "    GLOBE = 2"
   ]
  },
  {
   "cell_type": "code",
   "execution_count": 2,
   "metadata": {
    "collapsed": false
   },
   "outputs": [
    {
     "name": "stdout",
     "output_type": "stream",
     "text": [
      "This will be it ['WORLDCLIM', 'GLOBE'] \n"
     ]
    }
   ],
   "source": [
    "print(\"This will be it %s \" % list(Source.__members__))"
   ]
  },
  {
   "cell_type": "code",
   "execution_count": 3,
   "metadata": {
    "collapsed": true
   },
   "outputs": [],
   "source": [
    "import rasterio\n",
    "tmax_january = rasterio.open(\"/home/daniela/git/iSDM/data/tmax1/tmax1.bil\")"
   ]
  },
  {
   "cell_type": "code",
   "execution_count": 4,
   "metadata": {
    "collapsed": false
   },
   "outputs": [
    {
     "data": {
      "text/plain": [
       "BoundingBox(left=-180.00000000000335, bottom=-60.000000000001165, right=179.9999999999995, top=90.00000000000003)"
      ]
     },
     "execution_count": 4,
     "metadata": {},
     "output_type": "execute_result"
    }
   ],
   "source": [
    "tmax_january.bounds # it's part of the metadata (header) MinX MinY MaxX MaxY"
   ]
  },
  {
   "cell_type": "code",
   "execution_count": 5,
   "metadata": {
    "collapsed": false
   },
   "outputs": [
    {
     "data": {
      "text/plain": [
       "[-9999.0]"
      ]
     },
     "execution_count": 5,
     "metadata": {},
     "output_type": "execute_result"
    }
   ],
   "source": [
    "tmax_january.get_nodatavals() # also metadata"
   ]
  },
  {
   "cell_type": "code",
   "execution_count": 6,
   "metadata": {
    "collapsed": false
   },
   "outputs": [
    {
     "data": {
      "text/plain": [
       "{'init': 'epsg:4326'}"
      ]
     },
     "execution_count": 6,
     "metadata": {},
     "output_type": "execute_result"
    }
   ],
   "source": [
    "tmax_january.crs"
   ]
  },
  {
   "cell_type": "code",
   "execution_count": 7,
   "metadata": {
    "collapsed": false
   },
   "outputs": [
    {
     "data": {
      "text/plain": [
       "3600"
      ]
     },
     "execution_count": 7,
     "metadata": {},
     "output_type": "execute_result"
    }
   ],
   "source": [
    "tmax_january.height # NROWS metadata"
   ]
  },
  {
   "cell_type": "code",
   "execution_count": 8,
   "metadata": {
    "collapsed": false
   },
   "outputs": [
    {
     "data": {
      "text/plain": [
       "(-1.9326762412674725e-12, 14.999999999999432)"
      ]
     },
     "execution_count": 8,
     "metadata": {},
     "output_type": "execute_result"
    }
   ],
   "source": [
    "tmax_january.lnglat()"
   ]
  },
  {
   "cell_type": "code",
   "execution_count": 9,
   "metadata": {
    "collapsed": false
   },
   "outputs": [
    {
     "data": {
      "text/plain": [
       "(0.041666666666667, 0.041666666666667)"
      ]
     },
     "execution_count": 9,
     "metadata": {},
     "output_type": "execute_result"
    }
   ],
   "source": [
    "tmax_january.res  # pixel size? XDIM YDIM metadata"
   ]
  },
  {
   "cell_type": "code",
   "execution_count": 10,
   "metadata": {
    "collapsed": false
   },
   "outputs": [
    {
     "data": {
      "text/plain": [
       "{'affine': Affine(0.041666666666667, 0.0, -180.00000000000335,\n",
       "       0.0, -0.041666666666667, 90.00000000000003),\n",
       " 'count': 1,\n",
       " 'crs': {'init': 'epsg:4326'},\n",
       " 'driver': 'EHdr',\n",
       " 'dtype': 'int16',\n",
       " 'height': 3600,\n",
       " 'nodata': -9999.0,\n",
       " 'transform': (-180.00000000000335,\n",
       "  0.041666666666667,\n",
       "  0.0,\n",
       "  90.00000000000003,\n",
       "  0.0,\n",
       "  -0.041666666666667),\n",
       " 'width': 8640}"
      ]
     },
     "execution_count": 10,
     "metadata": {},
     "output_type": "execute_result"
    }
   ],
   "source": [
    "tmax_january.meta # awesome!"
   ]
  },
  {
   "cell_type": "code",
   "execution_count": 11,
   "metadata": {
    "collapsed": false
   },
   "outputs": [
    {
     "data": {
      "text/plain": [
       "(-180.00000000000335,\n",
       " 0.041666666666667,\n",
       " 0.0,\n",
       " 90.00000000000003,\n",
       " 0.0,\n",
       " -0.041666666666667)"
      ]
     },
     "execution_count": 11,
     "metadata": {},
     "output_type": "execute_result"
    }
   ],
   "source": [
    "tmax_january.meta['transform']"
   ]
  },
  {
   "cell_type": "code",
   "execution_count": 12,
   "metadata": {
    "collapsed": false
   },
   "outputs": [
    {
     "data": {
      "text/plain": [
       "<generator object sample_gen at 0x7fe5f06d2438>"
      ]
     },
     "execution_count": 12,
     "metadata": {},
     "output_type": "execute_result"
    }
   ],
   "source": [
    "tmax_january.sample(0.4)"
   ]
  },
  {
   "cell_type": "code",
   "execution_count": 13,
   "metadata": {
    "collapsed": false
   },
   "outputs": [
    {
     "name": "stdout",
     "output_type": "stream",
     "text": [
      "1 -489 419 -7087.92549322\n"
     ]
    }
   ],
   "source": [
    "npixels = tmax_january.width * tmax_january.height\n",
    "for i in tmax_january.indexes:\n",
    "    band = tmax_january.read(i)\n",
    "    print(i, band[band!=tmax_january.nodata].min(), band.max(), band.sum()/npixels)"
   ]
  },
  {
   "cell_type": "code",
   "execution_count": 14,
   "metadata": {
    "collapsed": false
   },
   "outputs": [
    {
     "data": {
      "text/plain": [
       "31104000"
      ]
     },
     "execution_count": 14,
     "metadata": {},
     "output_type": "execute_result"
    }
   ],
   "source": [
    "npixels"
   ]
  },
  {
   "cell_type": "code",
   "execution_count": 15,
   "metadata": {
    "collapsed": false
   },
   "outputs": [
    {
     "name": "stdout",
     "output_type": "stream",
     "text": [
      "transform : (-180.00000000000335, 0.041666666666667, 0.0, 90.00000000000003, 0.0, -0.041666666666667)\n",
      "count : 1\n",
      "driver : EHdr\n",
      "width : 8640\n",
      "height : 3600\n",
      "dtype : int16\n",
      "nodata : -9999.0\n",
      "crs : {'init': 'epsg:4326'}\n",
      "affine : | 0.04, 0.00,-180.00|\n",
      "| 0.00,-0.04, 90.00|\n",
      "| 0.00, 0.00, 1.00|\n"
     ]
    }
   ],
   "source": [
    "for key in tmax_january.meta.keys():\n",
    "    print(key,\":\",tmax_january.meta[key])"
   ]
  },
  {
   "cell_type": "code",
   "execution_count": 16,
   "metadata": {
    "collapsed": false
   },
   "outputs": [
    {
     "name": "stdout",
     "output_type": "stream",
     "text": [
      "[[[-9999 -9999 -9999 ..., -9999 -9999 -9999]\n",
      "  [-9999 -9999 -9999 ..., -9999 -9999 -9999]\n",
      "  [-9999 -9999 -9999 ..., -9999 -9999 -9999]\n",
      "  ..., \n",
      "  [-9999 -9999 -9999 ..., -9999 -9999 -9999]\n",
      "  [-9999 -9999 -9999 ..., -9999 -9999 -9999]\n",
      "  [-9999 -9999 -9999 ..., -9999 -9999 -9999]]]\n"
     ]
    }
   ],
   "source": [
    "print(tmax_january.read())"
   ]
  },
  {
   "cell_type": "code",
   "execution_count": 17,
   "metadata": {
    "collapsed": false
   },
   "outputs": [
    {
     "name": "stdout",
     "output_type": "stream",
     "text": [
      "{'transform': (-180.00000000000335, 0.041666666666667, 0.0, 90.00000000000003, 0.0, -0.041666666666667), 'count': 1, 'driver': 'EHdr', 'width': 8640, 'height': 3600, 'dtype': 'int16', 'nodata': -9999.0, 'crs': {'init': 'epsg:4326'}, 'affine': Affine(0.041666666666667, 0.0, -180.00000000000335,\n",
      "       0.0, -0.041666666666667, 90.00000000000003)}\n"
     ]
    }
   ],
   "source": [
    "print(tmax_january.meta)"
   ]
  },
  {
   "cell_type": "code",
   "execution_count": 18,
   "metadata": {
    "collapsed": false
   },
   "outputs": [
    {
     "name": "stdout",
     "output_type": "stream",
     "text": [
      "{\n",
      "  \"transform\": [\n",
      "    -180.00000000000335,\n",
      "    0.041666666666667,\n",
      "    0.0,\n",
      "    90.00000000000003,\n",
      "    0.0,\n",
      "    -0.041666666666667\n",
      "  ],\n",
      "  \"count\": 1,\n",
      "  \"driver\": \"EHdr\",\n",
      "  \"width\": 8640,\n",
      "  \"height\": 3600,\n",
      "  \"dtype\": \"int16\",\n",
      "  \"nodata\": -9999.0,\n",
      "  \"crs\": {\n",
      "    \"init\": \"epsg:4326\"\n",
      "  },\n",
      "  \"affine\": [\n",
      "    0.041666666666667,\n",
      "    0.0,\n",
      "    -180.00000000000335,\n",
      "    0.0,\n",
      "    -0.041666666666667,\n",
      "    90.00000000000003,\n",
      "    0.0,\n",
      "    0.0,\n",
      "    1.0\n",
      "  ]\n",
      "}\n"
     ]
    }
   ],
   "source": [
    "import json\n",
    "print(json.dumps(tmax_january.meta, indent=2))"
   ]
  },
  {
   "cell_type": "code",
   "execution_count": 19,
   "metadata": {
    "collapsed": true
   },
   "outputs": [],
   "source": [
    " import pprint"
   ]
  },
  {
   "cell_type": "code",
   "execution_count": 20,
   "metadata": {
    "collapsed": true
   },
   "outputs": [],
   "source": [
    "pp = pprint.PrettyPrinter(depth=6)"
   ]
  },
  {
   "cell_type": "code",
   "execution_count": 21,
   "metadata": {
    "collapsed": false
   },
   "outputs": [
    {
     "name": "stdout",
     "output_type": "stream",
     "text": [
      "{'affine': Affine(0.041666666666667, 0.0, -180.00000000000335,\n",
      "       0.0, -0.041666666666667, 90.00000000000003),\n",
      " 'count': 1,\n",
      " 'crs': {'init': 'epsg:4326'},\n",
      " 'driver': 'EHdr',\n",
      " 'dtype': 'int16',\n",
      " 'height': 3600,\n",
      " 'nodata': -9999.0,\n",
      " 'transform': (-180.00000000000335,\n",
      "               0.041666666666667,\n",
      "               0.0,\n",
      "               90.00000000000003,\n",
      "               0.0,\n",
      "               -0.041666666666667),\n",
      " 'width': 8640}\n",
      "None\n"
     ]
    }
   ],
   "source": [
    "print(pp.pprint(tmax_january.meta))"
   ]
  },
  {
   "cell_type": "code",
   "execution_count": null,
   "metadata": {
    "collapsed": false
   },
   "outputs": [],
   "source": []
  },
  {
   "cell_type": "code",
   "execution_count": 1,
   "metadata": {
    "collapsed": false
   },
   "outputs": [],
   "source": []
  },
  {
   "cell_type": "code",
   "execution_count": 2,
   "metadata": {
    "collapsed": true
   },
   "outputs": [],
   "source": []
  },
  {
   "cell_type": "code",
   "execution_count": 3,
   "metadata": {
    "collapsed": false
   },
   "outputs": [
    {
     "name": "stderr",
     "output_type": "stream",
     "text": [
      "Loaded data from /home/daniela/git/iSDM/data/tmax1/tmax1.bil \n",
      "Metadata: {'affine': Affine(0.041666666666667, 0.0, -180.00000000000335,\n",
      "       0.0, -0.041666666666667, 90.00000000000003),\n",
      " 'count': 1,\n",
      " 'crs': {'init': 'epsg:4326'},\n",
      " 'driver': 'EHdr',\n",
      " 'dtype': 'int16',\n",
      " 'height': 3600,\n",
      " 'nodata': -9999.0,\n",
      " 'transform': (-180.00000000000335,\n",
      "               0.041666666666667,\n",
      "               0.0,\n",
      "               90.00000000000003,\n",
      "               0.0,\n",
      "               -0.041666666666667),\n",
      " 'width': 8640} \n",
      "Resolution: (0.041666666666667, 0.041666666666667) \n",
      "Bounds: BoundingBox(left=-180.00000000000335, bottom=-60.000000000001165, right=179.9999999999995, top=90.00000000000003) \n"
     ]
    },
    {
     "data": {
      "text/plain": [
       "array([[[-9999, -9999, -9999, ..., -9999, -9999, -9999],\n",
       "        [-9999, -9999, -9999, ..., -9999, -9999, -9999],\n",
       "        [-9999, -9999, -9999, ..., -9999, -9999, -9999],\n",
       "        ..., \n",
       "        [-9999, -9999, -9999, ..., -9999, -9999, -9999],\n",
       "        [-9999, -9999, -9999, ..., -9999, -9999, -9999],\n",
       "        [-9999, -9999, -9999, ..., -9999, -9999, -9999]]], dtype=int16)"
      ]
     },
     "execution_count": 3,
     "metadata": {},
     "output_type": "execute_result"
    }
   ],
   "source": [
    "temperature_max_january.load_data()"
   ]
  },
  {
   "cell_type": "code",
   "execution_count": 4,
   "metadata": {
    "collapsed": false
   },
   "outputs": [
    {
     "ename": "NameError",
     "evalue": "name 'pp' is not defined",
     "output_type": "error",
     "traceback": [
      "\u001b[1;31m---------------------------------------------------------------------------\u001b[0m",
      "\u001b[1;31mNameError\u001b[0m                                 Traceback (most recent call last)",
      "\u001b[1;32m<ipython-input-4-fdc26d6e9d0b>\u001b[0m in \u001b[0;36m<module>\u001b[1;34m()\u001b[0m\n\u001b[1;32m----> 1\u001b[1;33m \u001b[0mpp\u001b[0m\u001b[1;33m.\u001b[0m\u001b[0mpformat\u001b[0m\u001b[1;33m(\u001b[0m\u001b[0mtmax_january\u001b[0m\u001b[1;33m.\u001b[0m\u001b[0mmeta\u001b[0m\u001b[1;33m)\u001b[0m\u001b[1;33m\u001b[0m\u001b[0m\n\u001b[0m",
      "\u001b[1;31mNameError\u001b[0m: name 'pp' is not defined"
     ]
    }
   ],
   "source": [
    "pp.pformat(tmax_january.meta)"
   ]
  },
  {
   "cell_type": "code",
   "execution_count": 18,
   "metadata": {
    "collapsed": false
   },
   "outputs": [
    {
     "ename": "NameError",
     "evalue": "name 'tmax_january' is not defined",
     "output_type": "error",
     "traceback": [
      "\u001b[1;31m---------------------------------------------------------------------------\u001b[0m",
      "\u001b[1;31mNameError\u001b[0m                                 Traceback (most recent call last)",
      "\u001b[1;32m<ipython-input-18-bb7acd4942a1>\u001b[0m in \u001b[0;36m<module>\u001b[1;34m()\u001b[0m\n\u001b[0;32m      2\u001b[0m \u001b[1;33m\u001b[0m\u001b[0m\n\u001b[0;32m      3\u001b[0m \u001b[1;32mimport\u001b[0m \u001b[0mnumpy\u001b[0m \u001b[1;32mas\u001b[0m \u001b[0mnp\u001b[0m\u001b[1;33m\u001b[0m\u001b[0m\n\u001b[1;32m----> 4\u001b[1;33m \u001b[0mdestination\u001b[0m \u001b[1;33m=\u001b[0m \u001b[0mnp\u001b[0m\u001b[1;33m.\u001b[0m\u001b[0mzeros\u001b[0m\u001b[1;33m(\u001b[0m\u001b[0mtmax_january\u001b[0m\u001b[1;33m.\u001b[0m\u001b[0mread\u001b[0m\u001b[1;33m(\u001b[0m\u001b[1;36m1\u001b[0m\u001b[1;33m)\u001b[0m\u001b[1;33m.\u001b[0m\u001b[0mshape\u001b[0m\u001b[1;33m,\u001b[0m \u001b[0mnp\u001b[0m\u001b[1;33m.\u001b[0m\u001b[0muint8\u001b[0m\u001b[1;33m)\u001b[0m\u001b[1;33m\u001b[0m\u001b[0m\n\u001b[0m\u001b[0;32m      5\u001b[0m \u001b[0msource\u001b[0m\u001b[1;33m=\u001b[0m\u001b[0mrasterio\u001b[0m\u001b[1;33m.\u001b[0m\u001b[0mband\u001b[0m\u001b[1;33m(\u001b[0m\u001b[0mtmax_january\u001b[0m\u001b[1;33m,\u001b[0m \u001b[1;36m1\u001b[0m\u001b[1;33m)\u001b[0m\u001b[1;33m\u001b[0m\u001b[0m\n\u001b[0;32m      6\u001b[0m \u001b[0mband\u001b[0m \u001b[1;33m=\u001b[0m \u001b[0mtmax_january\u001b[0m\u001b[1;33m.\u001b[0m\u001b[0mread\u001b[0m\u001b[1;33m(\u001b[0m\u001b[1;33m)\u001b[0m\u001b[1;33m\u001b[0m\u001b[0m\n",
      "\u001b[1;31mNameError\u001b[0m: name 'tmax_january' is not defined"
     ]
    }
   ],
   "source": [
    "from rasterio.warp import calculate_default_transform, reproject, RESAMPLING\n",
    "\n",
    "import numpy as np\n",
    "destination = np.zeros(tmax_january.read(1).shape, np.uint8)\n",
    "source=rasterio.band(tmax_january, 1)\n",
    "band = tmax_january.read()"
   ]
  },
  {
   "cell_type": "code",
   "execution_count": 19,
   "metadata": {
    "collapsed": false
   },
   "outputs": [
    {
     "ename": "NameError",
     "evalue": "name 'tmax_january' is not defined",
     "output_type": "error",
     "traceback": [
      "\u001b[1;31m---------------------------------------------------------------------------\u001b[0m",
      "\u001b[1;31mNameError\u001b[0m                                 Traceback (most recent call last)",
      "\u001b[1;32m<ipython-input-19-28831d38db48>\u001b[0m in \u001b[0;36m<module>\u001b[1;34m()\u001b[0m\n\u001b[1;32m----> 1\u001b[1;33m affine, width, height = calculate_default_transform(src_crs=tmax_january.crs, \n\u001b[0m\u001b[0;32m      2\u001b[0m                             \u001b[0mdst_crs\u001b[0m\u001b[1;33m=\u001b[0m\u001b[0mtmax_january\u001b[0m\u001b[1;33m.\u001b[0m\u001b[0mcrs\u001b[0m\u001b[1;33m,\u001b[0m\u001b[1;33m\u001b[0m\u001b[0m\n\u001b[0;32m      3\u001b[0m                             \u001b[0mwidth\u001b[0m\u001b[1;33m=\u001b[0m\u001b[0mtmax_january\u001b[0m\u001b[1;33m.\u001b[0m\u001b[0mwidth\u001b[0m\u001b[1;33m,\u001b[0m\u001b[1;33m\u001b[0m\u001b[0m\n\u001b[0;32m      4\u001b[0m                             \u001b[0mheight\u001b[0m\u001b[1;33m=\u001b[0m\u001b[0mtmax_january\u001b[0m\u001b[1;33m.\u001b[0m\u001b[0mheight\u001b[0m\u001b[1;33m,\u001b[0m\u001b[1;33m\u001b[0m\u001b[0m\n\u001b[0;32m      5\u001b[0m                             \u001b[0mleft\u001b[0m\u001b[1;33m=\u001b[0m\u001b[0mtmax_january\u001b[0m\u001b[1;33m.\u001b[0m\u001b[0mbounds\u001b[0m\u001b[1;33m.\u001b[0m\u001b[0mleft\u001b[0m\u001b[1;33m,\u001b[0m\u001b[1;33m\u001b[0m\u001b[0m\n",
      "\u001b[1;31mNameError\u001b[0m: name 'tmax_january' is not defined"
     ]
    }
   ],
   "source": [
    "affine, width, height = calculate_default_transform(src_crs=tmax_january.crs, \n",
    "                            dst_crs=tmax_january.crs, \n",
    "                            width=tmax_january.width, \n",
    "                            height=tmax_january.height, \n",
    "                            left=tmax_january.bounds.left,\n",
    "                            bottom=tmax_january.bounds.bottom,\n",
    "                            right=tmax_january.bounds.right,\n",
    "                            top=tmax_january.bounds.top,\n",
    "                            resolution=5) # CHNGE RESOLUTION"
   ]
  },
  {
   "cell_type": "code",
   "execution_count": 122,
   "metadata": {
    "collapsed": false
   },
   "outputs": [],
   "source": [
    "destination = np.zeros((height,width), np.int16)"
   ]
  },
  {
   "cell_type": "code",
   "execution_count": 123,
   "metadata": {
    "collapsed": false
   },
   "outputs": [],
   "source": [
    "reproject(source=source, \n",
    "          destination=destination, src_transform=tmax_january.affine, \n",
    "          src_crs=tmax_january.crs, \n",
    "          dst_transform=affine, \n",
    "          dst_crs=tmax_january.crs, \n",
    "          resampling=RESAMPLING.nearest)"
   ]
  },
  {
   "cell_type": "code",
   "execution_count": 25,
   "metadata": {
    "collapsed": false
   },
   "outputs": [
    {
     "ename": "NameError",
     "evalue": "name 'destination' is not defined",
     "output_type": "error",
     "traceback": [
      "\u001b[1;31m---------------------------------------------------------------------------\u001b[0m",
      "\u001b[1;31mNameError\u001b[0m                                 Traceback (most recent call last)",
      "\u001b[1;32m<ipython-input-25-35e66a178b8a>\u001b[0m in \u001b[0;36m<module>\u001b[1;34m()\u001b[0m\n\u001b[1;32m----> 1\u001b[1;33m \u001b[0mdestination\u001b[0m\u001b[1;33m.\u001b[0m\u001b[0mshape\u001b[0m\u001b[1;33m\u001b[0m\u001b[0m\n\u001b[0m",
      "\u001b[1;31mNameError\u001b[0m: name 'destination' is not defined"
     ]
    }
   ],
   "source": [
    "destination.shape"
   ]
  },
  {
   "cell_type": "code",
   "execution_count": 1,
   "metadata": {
    "collapsed": false
   },
   "outputs": [
    {
     "ename": "NameError",
     "evalue": "name 'destination' is not defined",
     "output_type": "error",
     "traceback": [
      "\u001b[1;31m---------------------------------------------------------------------------\u001b[0m",
      "\u001b[1;31mNameError\u001b[0m                                 Traceback (most recent call last)",
      "\u001b[1;32m<ipython-input-1-aa5272fd41aa>\u001b[0m in \u001b[0;36m<module>\u001b[1;34m()\u001b[0m\n\u001b[0;32m      1\u001b[0m \u001b[0mget_ipython\u001b[0m\u001b[1;33m(\u001b[0m\u001b[1;33m)\u001b[0m\u001b[1;33m.\u001b[0m\u001b[0mmagic\u001b[0m\u001b[1;33m(\u001b[0m\u001b[1;34m'matplotlib inline'\u001b[0m\u001b[1;33m)\u001b[0m\u001b[1;33m\u001b[0m\u001b[0m\n\u001b[0;32m      2\u001b[0m \u001b[1;32mimport\u001b[0m \u001b[0mmatplotlib\u001b[0m\u001b[1;33m.\u001b[0m\u001b[0mpyplot\u001b[0m \u001b[1;32mas\u001b[0m \u001b[0mplt\u001b[0m\u001b[1;33m\u001b[0m\u001b[0m\n\u001b[1;32m----> 3\u001b[1;33m \u001b[0mplt\u001b[0m\u001b[1;33m.\u001b[0m\u001b[0mimshow\u001b[0m\u001b[1;33m(\u001b[0m\u001b[0mdestination\u001b[0m\u001b[1;33m,\u001b[0m \u001b[0mcmap\u001b[0m\u001b[1;33m=\u001b[0m\u001b[1;34m\"hot\"\u001b[0m\u001b[1;33m,\u001b[0m \u001b[0minterpolation\u001b[0m\u001b[1;33m=\u001b[0m\u001b[1;34m\"none\"\u001b[0m\u001b[1;33m)\u001b[0m\u001b[1;33m\u001b[0m\u001b[0m\n\u001b[0m",
      "\u001b[1;31mNameError\u001b[0m: name 'destination' is not defined"
     ]
    }
   ],
   "source": [
    "%matplotlib inline\n",
    "import matplotlib.pyplot as plt\n",
    "plt.imshow(destination, cmap=\"hot\", interpolation=\"none\")"
   ]
  },
  {
   "cell_type": "code",
   "execution_count": 104,
   "metadata": {
    "collapsed": false
   },
   "outputs": [
    {
     "data": {
      "text/plain": [
       "<matplotlib.image.AxesImage at 0x7fe5c6ffbf28>"
      ]
     },
     "execution_count": 104,
     "metadata": {},
     "output_type": "execute_result"
    },
    {
     "data": {
      "image/png": "[encoded data removed]",
      "text/plain": [
       "<matplotlib.figure.Figure at 0x7fe5c70a6ac8>"
      ]
     },
     "metadata": {},
     "output_type": "display_data"
    }
   ],
   "source": [
    "plt.imshow(band[0], cmap=\"hot\", interpolation=\"none\")"
   ]
  },
  {
   "cell_type": "code",
   "execution_count": 1,
   "metadata": {
    "collapsed": false
   },
   "outputs": [
    {
     "name": "stderr",
     "output_type": "stream",
     "text": [
      "Loading data from /home/daniela/git/iSDM/data/tmax1/tmax1.bil \n",
      "Metadata: {'affine': Affine(0.041666666666667, 0.0, -180.00000000000335,\n",
      "       0.0, -0.041666666666667, 90.00000000000003),\n",
      " 'count': 1,\n",
      " 'crs': {'init': 'epsg:4326'},\n",
      " 'driver': 'EHdr',\n",
      " 'dtype': 'int16',\n",
      " 'height': 3600,\n",
      " 'nodata': -9999.0,\n",
      " 'transform': (-180.00000000000335,\n",
      "               0.041666666666667,\n",
      "               0.0,\n",
      "               90.00000000000003,\n",
      "               0.0,\n",
      "               -0.041666666666667),\n",
      " 'width': 8640} \n",
      "Resolution: (0.041666666666667, 0.041666666666667) \n",
      "Bounds: BoundingBox(left=-180.00000000000335, bottom=-60.000000000001165, right=179.9999999999995, top=90.00000000000003) \n",
      "Dataset loaded. Use .read() or .read_masks() to access the layers.\n"
     ]
    },
    {
     "data": {
      "text/plain": [
       "<open RasterReader name='/home/daniela/git/iSDM/data/tmax1/tmax1.bil' mode='r'>"
      ]
     },
     "execution_count": 1,
     "metadata": {},
     "output_type": "execute_result"
    }
   ],
   "source": [
    "%matplotlib inline\n",
    "import matplotlib.pyplot as plt\n",
    "import logging\n",
    "import numpy as np\n",
    "root = logging.getLogger()\n",
    "root.addHandler(logging.StreamHandler())\n",
    "\n",
    "from iSDM.environment import ClimateLayer\n",
    "temperature_max_january = ClimateLayer(file_path=\"/home/daniela/git/iSDM/data/tmax1/tmax1.bil\")\n",
    "temperature_max_january.load_dataset()"
   ]
  },
  {
   "cell_type": "code",
   "execution_count": 2,
   "metadata": {
    "collapsed": false
   },
   "outputs": [
    {
     "name": "stderr",
     "output_type": "stream",
     "text": [
      "Calculated default transformation:\n",
      "Affine:\n",
      "| 10.00, 0.00,-180.00|\n",
      "| 0.00,-10.00, 90.00|\n",
      "| 0.00, 0.00, 1.00| \n",
      " width=37, height=16\n",
      "Reprojected data in ./here.tif \n"
     ]
    }
   ],
   "source": [
    "temperature_max_january.reproject(destination_file=\"./here.tif\", resolution=10, dst_crs='EPSG:4326')"
   ]
  },
  {
   "cell_type": "code",
   "execution_count": 3,
   "metadata": {
    "collapsed": false
   },
   "outputs": [
    {
     "data": {
      "text/plain": [
       "array([[[-9999, -9999, -9999, ..., -9999, -9999, -9999],\n",
       "        [-9999, -9999, -9999, ..., -9999, -9999, -9999],\n",
       "        [-9999, -9999, -9999, ..., -9999, -9999, -9999],\n",
       "        ..., \n",
       "        [-9999, -9999, -9999, ..., -9999, -9999, -9999],\n",
       "        [-9999, -9999, -9999, ..., -9999, -9999, -9999],\n",
       "        [-9999, -9999, -9999, ..., -9999, -9999, -9999]]], dtype=int16)"
      ]
     },
     "execution_count": 3,
     "metadata": {},
     "output_type": "execute_result"
    }
   ],
   "source": [
    "temperature_max_january.get_data().read()"
   ]
  },
  {
   "cell_type": "code",
   "execution_count": null,
   "metadata": {
    "collapsed": false
   },
   "outputs": [],
   "source": []
  },
  {
   "cell_type": "code",
   "execution_count": 4,
   "metadata": {
    "collapsed": false
   },
   "outputs": [],
   "source": [
    "import rasterio\n",
    "here = rasterio.open(\"./here.tif\")"
   ]
  },
  {
   "cell_type": "code",
   "execution_count": 5,
   "metadata": {
    "collapsed": false
   },
   "outputs": [
    {
     "data": {
      "text/plain": [
       "(1, 16, 37)"
      ]
     },
     "execution_count": 5,
     "metadata": {},
     "output_type": "execute_result"
    }
   ],
   "source": [
    "here.read().shape"
   ]
  },
  {
   "cell_type": "code",
   "execution_count": 6,
   "metadata": {
    "collapsed": false
   },
   "outputs": [
    {
     "data": {
      "text/plain": [
       "<matplotlib.image.AxesImage at 0x7f88f08ea780>"
      ]
     },
     "execution_count": 6,
     "metadata": {},
     "output_type": "execute_result"
    },
    {
     "data": {
      "image/png": "[encoded data removed]",
      "text/plain": [
       "<matplotlib.figure.Figure at 0x7f88faa49b70>"
      ]
     },
     "metadata": {},
     "output_type": "display_data"
    }
   ],
   "source": [
    "plt.imshow(here.read()[0], cmap=\"hot\", interpolation=\"none\")"
   ]
  },
  {
   "cell_type": "code",
   "execution_count": 7,
   "metadata": {
    "collapsed": false
   },
   "outputs": [
    {
     "name": "stderr",
     "output_type": "stream",
     "text": [
      "Loading data from /home/daniela/git/iSDM/data/tmax1/tmax1.bil \n",
      "Metadata: {'affine': Affine(0.041666666666667, 0.0, -180.00000000000335,\n",
      "       0.0, -0.041666666666667, 90.00000000000003),\n",
      " 'count': 1,\n",
      " 'crs': {'init': 'epsg:4326'},\n",
      " 'driver': 'EHdr',\n",
      " 'dtype': 'int16',\n",
      " 'height': 3600,\n",
      " 'nodata': -9999.0,\n",
      " 'transform': (-180.00000000000335,\n",
      "               0.041666666666667,\n",
      "               0.0,\n",
      "               90.00000000000003,\n",
      "               0.0,\n",
      "               -0.041666666666667),\n",
      " 'width': 8640} \n",
      "Resolution: (0.041666666666667, 0.041666666666667) \n",
      "Bounds: BoundingBox(left=-180.00000000000335, bottom=-60.000000000001165, right=179.9999999999995, top=90.00000000000003) \n",
      "Dataset loaded. Use .read() or .read_masks() to access the layers.\n"
     ]
    }
   ],
   "source": [
    "original_data = temperature_max_january.load_dataset()"
   ]
  },
  {
   "cell_type": "code",
   "execution_count": 8,
   "metadata": {
    "collapsed": false
   },
   "outputs": [
    {
     "data": {
      "text/plain": [
       "(3600, 8640)"
      ]
     },
     "execution_count": 8,
     "metadata": {},
     "output_type": "execute_result"
    }
   ],
   "source": [
    "original_data.shape"
   ]
  },
  {
   "cell_type": "code",
   "execution_count": 9,
   "metadata": {
    "collapsed": false
   },
   "outputs": [
    {
     "data": {
      "text/plain": [
       "array([[[  0,   0,   0,   0,   0,   0,   0,   0,   0,   0,   0,   0,   0,\n",
       "           0,   0,   0,   0,   0,   0,   0,   0,   0,   0,   0,   0,   0,\n",
       "           0,   0,   0,   0,   0,   0,   0,   0,   0,   0,   0],\n",
       "        [  0,   0,   0,   0,   0,   0, 255,   0, 255, 255,   0,   0, 255,\n",
       "         255, 255, 255,   0,   0,   0,   0,   0,   0,   0,   0,   0,   0,\n",
       "           0, 255, 255,   0,   0,   0,   0,   0,   0,   0,   0],\n",
       "        [255, 255, 255, 255, 255, 255, 255, 255, 255, 255, 255,   0,   0,\n",
       "         255,   0,   0, 255,   0,   0, 255,   0, 255, 255, 255, 255, 255,\n",
       "         255, 255, 255, 255, 255, 255, 255, 255, 255, 255,   0],\n",
       "        [  0,   0,   0,   0,   0, 255, 255, 255, 255, 255, 255, 255,   0,\n",
       "           0,   0,   0,   0, 255,   0,   0, 255, 255, 255, 255, 255, 255,\n",
       "         255, 255, 255, 255, 255, 255,   0,   0,   0,   0,   0],\n",
       "        [  0,   0,   0,   0,   0,   0, 255, 255, 255, 255, 255, 255,   0,\n",
       "           0,   0,   0,   0,   0, 255, 255, 255, 255, 255, 255, 255, 255,\n",
       "         255, 255, 255, 255, 255, 255,   0,   0,   0,   0,   0],\n",
       "        [  0,   0,   0,   0,   0,   0, 255, 255, 255, 255,   0,   0,   0,\n",
       "           0,   0,   0,   0, 255, 255,   0,   0,   0, 255, 255, 255, 255,\n",
       "         255, 255, 255, 255,   0, 255,   0,   0,   0,   0,   0],\n",
       "        [  0,   0,   0,   0,   0,   0,   0, 255,   0,   0,   0,   0,   0,\n",
       "           0,   0,   0,   0, 255, 255, 255, 255,   0, 255, 255,   0, 255,\n",
       "         255, 255, 255, 255,   0,   0,   0,   0,   0,   0,   0],\n",
       "        [  0,   0,   0,   0,   0,   0,   0,   0,   0, 255,   0,   0,   0,\n",
       "           0,   0,   0, 255, 255, 255, 255, 255, 255, 255,   0,   0, 255,\n",
       "           0,   0, 255,   0,   0,   0,   0,   0,   0,   0,   0],\n",
       "        [  0,   0,   0,   0,   0,   0,   0,   0,   0,   0, 255, 255, 255,\n",
       "           0,   0,   0,   0,   0,   0, 255, 255, 255, 255,   0,   0,   0,\n",
       "           0,   0,   0, 255,   0,   0,   0,   0,   0,   0,   0],\n",
       "        [  0,   0,   0,   0,   0,   0,   0,   0,   0,   0, 255, 255, 255,\n",
       "         255,   0,   0,   0,   0,   0, 255, 255, 255,   0,   0,   0,   0,\n",
       "           0,   0, 255,   0,   0,   0, 255,   0,   0,   0,   0],\n",
       "        [  0,   0,   0,   0,   0,   0,   0,   0,   0,   0, 255, 255, 255,\n",
       "         255,   0,   0,   0,   0,   0, 255, 255, 255,   0,   0,   0,   0,\n",
       "           0,   0,   0,   0, 255, 255, 255,   0,   0,   0,   0],\n",
       "        [  0,   0,   0,   0,   0,   0,   0,   0,   0,   0,   0, 255, 255,\n",
       "           0,   0,   0,   0,   0,   0, 255, 255,   0, 255,   0,   0,   0,\n",
       "           0,   0,   0, 255, 255, 255, 255,   0,   0,   0,   0],\n",
       "        [  0,   0,   0,   0,   0,   0,   0,   0,   0,   0,   0, 255,   0,\n",
       "           0,   0,   0,   0,   0,   0,   0,   0,   0,   0,   0,   0,   0,\n",
       "           0,   0,   0,   0,   0,   0, 255,   0,   0,   0,   0],\n",
       "        [  0,   0,   0,   0,   0,   0,   0,   0,   0,   0,   0,   0,   0,\n",
       "           0,   0,   0,   0,   0,   0,   0,   0,   0,   0,   0,   0,   0,\n",
       "           0,   0,   0,   0,   0,   0,   0,   0,   0,   0,   0],\n",
       "        [  0,   0,   0,   0,   0,   0,   0,   0,   0,   0,   0,   0,   0,\n",
       "           0,   0,   0,   0,   0,   0,   0,   0,   0,   0,   0,   0,   0,\n",
       "           0,   0,   0,   0,   0,   0,   0,   0,   0,   0,   0],\n",
       "        [  0,   0,   0,   0,   0,   0,   0,   0,   0,   0,   0,   0,   0,\n",
       "           0,   0,   0,   0,   0,   0,   0,   0,   0,   0,   0,   0,   0,\n",
       "           0,   0,   0,   0,   0,   0,   0,   0,   0,   0,   0]]], dtype=uint8)"
      ]
     },
     "execution_count": 9,
     "metadata": {},
     "output_type": "execute_result"
    }
   ],
   "source": [
    "here.read_masks()"
   ]
  },
  {
   "cell_type": "code",
   "execution_count": 10,
   "metadata": {
    "collapsed": false
   },
   "outputs": [
    {
     "data": {
      "text/plain": [
       "{'affine': Affine(10.0, 0.0, -180.000000000003,\n",
       "       0.0, -10.0, 90.0),\n",
       " 'count': 1,\n",
       " 'crs': {'init': 'epsg:4326'},\n",
       " 'driver': 'EHdr',\n",
       " 'dtype': 'int16',\n",
       " 'height': 16,\n",
       " 'nodata': -9999.0,\n",
       " 'transform': (-180.000000000003, 10.0, 0.0, 90.0, 0.0, -10.0),\n",
       " 'width': 37}"
      ]
     },
     "execution_count": 10,
     "metadata": {},
     "output_type": "execute_result"
    }
   ],
   "source": [
    "here.meta"
   ]
  },
  {
   "cell_type": "code",
   "execution_count": 11,
   "metadata": {
    "collapsed": false
   },
   "outputs": [
    {
     "data": {
      "text/plain": [
       "BoundingBox(left=-180.000000000003, bottom=-70.0, right=189.999999999997, top=90.0)"
      ]
     },
     "execution_count": 11,
     "metadata": {},
     "output_type": "execute_result"
    }
   ],
   "source": [
    "here.bounds"
   ]
  },
  {
   "cell_type": "code",
   "execution_count": 12,
   "metadata": {
    "collapsed": false
   },
   "outputs": [
    {
     "data": {
      "text/plain": [
       "419"
      ]
     },
     "execution_count": 12,
     "metadata": {},
     "output_type": "execute_result"
    }
   ],
   "source": [
    "original_data.read().max()  # good, same as /home/daniela/git/iSDM/data/tmax1/tmax1.hdr"
   ]
  },
  {
   "cell_type": "code",
   "execution_count": 13,
   "metadata": {
    "collapsed": false
   },
   "outputs": [
    {
     "data": {
      "text/plain": [
       "-9999"
      ]
     },
     "execution_count": 13,
     "metadata": {},
     "output_type": "execute_result"
    }
   ],
   "source": [
    "original_data.read().min()  # this is the nodata value, we should ignore it"
   ]
  },
  {
   "cell_type": "code",
   "execution_count": 14,
   "metadata": {
    "collapsed": false
   },
   "outputs": [
    {
     "name": "stderr",
     "output_type": "stream",
     "text": [
      "Loading data from /home/daniela/git/iSDM/data/tmean/tmean_1/w001001.adf \n",
      "Metadata: {'affine': Affine(0.08333333767950535, 0.0, -180.0,\n",
      "       0.0, -0.08333333767950535, 90.00000782310963),\n",
      " 'count': 1,\n",
      " 'crs': {'init': 'epsg:4326'},\n",
      " 'driver': 'AIG',\n",
      " 'dtype': 'int16',\n",
      " 'height': 1800,\n",
      " 'nodata': -32768.0,\n",
      " 'transform': (-180.0,\n",
      "               0.08333333767950535,\n",
      "               0.0,\n",
      "               90.00000782310963,\n",
      "               0.0,\n",
      "               -0.08333333767950535),\n",
      " 'width': 4320} \n",
      "Resolution: (0.08333333767950535, 0.08333333767950535) \n",
      "Bounds: BoundingBox(left=-180.0, bottom=-60.0, right=180.0000187754631, top=90.00000782310963) \n",
      "Dataset loaded. Use .read() or .read_masks() to access the layers.\n"
     ]
    },
    {
     "data": {
      "text/plain": [
       "<open RasterReader name='/home/daniela/git/iSDM/data/tmean/tmean_1/w001001.adf' mode='r'>"
      ]
     },
     "execution_count": 14,
     "metadata": {},
     "output_type": "execute_result"
    }
   ],
   "source": [
    "temperature_mean_january = ClimateLayer(file_path=\"/home/daniela/git/iSDM/data/tmean/tmean_1/w001001.adf\")\n",
    "temperature_mean_january.load_dataset()"
   ]
  },
  {
   "cell_type": "code",
   "execution_count": 57,
   "metadata": {
    "collapsed": false
   },
   "outputs": [
    {
     "name": "stderr",
     "output_type": "stream",
     "text": [
      "Loading data from /home/daniela/git/iSDM/data/tmean/tmean_1/w001001x.adf \n",
      "Metadata: {'affine': Affine(0.08333333767950535, 0.0, -180.0,\n",
      "       0.0, -0.08333333767950535, 90.00000782310963),\n",
      " 'count': 1,\n",
      " 'crs': {'init': 'epsg:4326'},\n",
      " 'driver': 'AIG',\n",
      " 'dtype': 'int16',\n",
      " 'height': 1800,\n",
      " 'nodata': -32768.0,\n",
      " 'transform': (-180.0,\n",
      "               0.08333333767950535,\n",
      "               0.0,\n",
      "               90.00000782310963,\n",
      "               0.0,\n",
      "               -0.08333333767950535),\n",
      " 'width': 4320} \n",
      "Resolution: (0.08333333767950535, 0.08333333767950535) \n",
      "Bounds: BoundingBox(left=-180.0, bottom=-60.0, right=180.0000187754631, top=90.00000782310963) \n",
      "Dataset loaded. Use .read() or .read_masks() to access the layers.\n"
     ]
    },
    {
     "data": {
      "text/plain": [
       "<open RasterReader name='/home/daniela/git/iSDM/data/tmean/tmean_1/w001001x.adf' mode='r'>"
      ]
     },
     "execution_count": 57,
     "metadata": {},
     "output_type": "execute_result"
    }
   ],
   "source": [
    "temperature_mean_january = ClimateLayer(file_path=\"/home/daniela/git/iSDM/data/tmean/tmean_1/w001001x.adf\") # same?\n",
    "temperature_mean_january.load_dataset()"
   ]
  },
  {
   "cell_type": "code",
   "execution_count": 60,
   "metadata": {
    "collapsed": false
   },
   "outputs": [
    {
     "name": "stderr",
     "output_type": "stream",
     "text": [
      "Calculated default transformation:\n",
      "Affine:\n",
      "| 1.00, 0.00,-180.00|\n",
      "| 0.00,-1.00, 90.00|\n",
      "| 0.00, 0.00, 1.00| \n",
      " width=361, height=151\n",
      "CPLE_NotSupported in b'GDALDriver::Create() ... no create method implemented for this format.\\n'\n",
      "Reprojected data in ./reprojected.tif \n"
     ]
    }
   ],
   "source": [
    "temperature_mean_january.reproject(destination_file=\"./reprojected.tif\", resolution=1, driver='EHdr')"
   ]
  },
  {
   "cell_type": "code",
   "execution_count": 17,
   "metadata": {
    "collapsed": false
   },
   "outputs": [
    {
     "ename": "NameError",
     "evalue": "name 'source_again' is not defined",
     "output_type": "error",
     "traceback": [
      "\u001b[1;31m---------------------------------------------------------------------------\u001b[0m",
      "\u001b[1;31mNameError\u001b[0m                                 Traceback (most recent call last)",
      "\u001b[1;32m<ipython-input-17-0ad9a15b14b1>\u001b[0m in \u001b[0;36m<module>\u001b[1;34m()\u001b[0m\n\u001b[1;32m----> 1\u001b[1;33m \u001b[0msource_again\u001b[0m\u001b[1;33m.\u001b[0m\u001b[0maffine\u001b[0m\u001b[1;33m\u001b[0m\u001b[0m\n\u001b[0m",
      "\u001b[1;31mNameError\u001b[0m: name 'source_again' is not defined"
     ]
    }
   ],
   "source": [
    "source_again.affine"
   ]
  },
  {
   "cell_type": "code",
   "execution_count": 15,
   "metadata": {
    "collapsed": false
   },
   "outputs": [
    {
     "ename": "NameError",
     "evalue": "name 'source_again' is not defined",
     "output_type": "error",
     "traceback": [
      "\u001b[1;31m---------------------------------------------------------------------------\u001b[0m",
      "\u001b[1;31mNameError\u001b[0m                                 Traceback (most recent call last)",
      "\u001b[1;32m<ipython-input-15-44f276689dea>\u001b[0m in \u001b[0;36m<module>\u001b[1;34m()\u001b[0m\n\u001b[1;32m----> 1\u001b[1;33m \u001b[0msource_again\u001b[0m\u001b[1;33m.\u001b[0m\u001b[0mbounds\u001b[0m\u001b[1;33m\u001b[0m\u001b[0m\n\u001b[0m",
      "\u001b[1;31mNameError\u001b[0m: name 'source_again' is not defined"
     ]
    }
   ],
   "source": [
    "source_again.bounds"
   ]
  },
  {
   "cell_type": "code",
   "execution_count": 14,
   "metadata": {
    "collapsed": false
   },
   "outputs": [],
   "source": [
    "import rasterio\n",
    "climate_data = rasterio.open(\"/home/daniela/git/iSDM/data/tmax1/tmax1.bil\")"
   ]
  },
  {
   "cell_type": "code",
   "execution_count": 17,
   "metadata": {
    "collapsed": false
   },
   "outputs": [
    {
     "data": {
      "text/plain": [
       "array([[[-9999, -9999, -9999, ..., -9999, -9999, -9999],\n",
       "        [-9999, -9999, -9999, ..., -9999, -9999, -9999],\n",
       "        [-9999, -9999, -9999, ..., -9999, -9999, -9999],\n",
       "        ..., \n",
       "        [-9999, -9999, -9999, ..., -9999, -9999, -9999],\n",
       "        [-9999, -9999, -9999, ..., -9999, -9999, -9999],\n",
       "        [-9999, -9999, -9999, ..., -9999, -9999, -9999]]], dtype=int16)"
      ]
     },
     "execution_count": 17,
     "metadata": {},
     "output_type": "execute_result"
    }
   ],
   "source": [
    "climate_data.read()"
   ]
  },
  {
   "cell_type": "code",
   "execution_count": 26,
   "metadata": {
    "collapsed": false
   },
   "outputs": [],
   "source": [
    "climate_data.close()"
   ]
  },
  {
   "cell_type": "code",
   "execution_count": 33,
   "metadata": {
    "collapsed": false
   },
   "outputs": [
    {
     "data": {
      "text/plain": [
       "rasterio._io.RasterReader"
      ]
     },
     "execution_count": 33,
     "metadata": {},
     "output_type": "execute_result"
    }
   ],
   "source": [
    "type(climate_data)"
   ]
  },
  {
   "cell_type": "code",
   "execution_count": 32,
   "metadata": {
    "collapsed": false
   },
   "outputs": [
    {
     "ename": "NameError",
     "evalue": "name 'climate_dataa' is not defined",
     "output_type": "error",
     "traceback": [
      "\u001b[1;31m---------------------------------------------------------------------------\u001b[0m",
      "\u001b[1;31mNameError\u001b[0m                                 Traceback (most recent call last)",
      "\u001b[1;32m<ipython-input-32-456d153f1964>\u001b[0m in \u001b[0;36m<module>\u001b[1;34m()\u001b[0m\n\u001b[1;32m----> 1\u001b[1;33m \u001b[1;32mif\u001b[0m \u001b[1;32mnot\u001b[0m \u001b[0mclimate_dataa\u001b[0m\u001b[1;33m:\u001b[0m\u001b[1;33m\u001b[0m\u001b[0m\n\u001b[0m\u001b[0;32m      2\u001b[0m     \u001b[0mprint\u001b[0m\u001b[1;33m(\u001b[0m\u001b[1;34m\"NO\"\u001b[0m\u001b[1;33m)\u001b[0m\u001b[1;33m\u001b[0m\u001b[0m\n",
      "\u001b[1;31mNameError\u001b[0m: name 'climate_dataa' is not defined"
     ]
    }
   ],
   "source": [
    "if not climate_dataa:\n",
    "    print(\"NO\")"
   ]
  },
  {
   "cell_type": "code",
   "execution_count": 37,
   "metadata": {
    "collapsed": false
   },
   "outputs": [
    {
     "data": {
      "text/plain": [
       "{'affine': Affine(0.041666666666667, 0.0, -180.00000000000335,\n",
       "       0.0, -0.041666666666667, 90.00000000000003),\n",
       " 'count': 1,\n",
       " 'crs': {'init': 'epsg:4326'},\n",
       " 'driver': 'EHdr',\n",
       " 'dtype': 'int16',\n",
       " 'height': 3600,\n",
       " 'nodata': -9999.0,\n",
       " 'transform': (-180.00000000000335,\n",
       "  0.041666666666667,\n",
       "  0.0,\n",
       "  90.00000000000003,\n",
       "  0.0,\n",
       "  -0.041666666666667),\n",
       " 'width': 8640}"
      ]
     },
     "execution_count": 37,
     "metadata": {},
     "output_type": "execute_result"
    }
   ],
   "source": [
    "temperature_max_january.metadata"
   ]
  },
  {
   "cell_type": "code",
   "execution_count": 38,
   "metadata": {
    "collapsed": true
   },
   "outputs": [],
   "source": [
    "temperature_max_january.metadata.update({'something_else':'value'})"
   ]
  },
  {
   "cell_type": "code",
   "execution_count": 39,
   "metadata": {
    "collapsed": false
   },
   "outputs": [
    {
     "data": {
      "text/plain": [
       "{'affine': Affine(0.041666666666667, 0.0, -180.00000000000335,\n",
       "       0.0, -0.041666666666667, 90.00000000000003),\n",
       " 'count': 1,\n",
       " 'crs': {'init': 'epsg:4326'},\n",
       " 'driver': 'EHdr',\n",
       " 'dtype': 'int16',\n",
       " 'height': 3600,\n",
       " 'nodata': -9999.0,\n",
       " 'something_else': 'value',\n",
       " 'transform': (-180.00000000000335,\n",
       "  0.041666666666667,\n",
       "  0.0,\n",
       "  90.00000000000003,\n",
       "  0.0,\n",
       "  -0.041666666666667),\n",
       " 'width': 8640}"
      ]
     },
     "execution_count": 39,
     "metadata": {},
     "output_type": "execute_result"
    }
   ],
   "source": [
    "temperature_max_january.metadata"
   ]
  },
  {
   "cell_type": "code",
   "execution_count": 41,
   "metadata": {
    "collapsed": false
   },
   "outputs": [],
   "source": [
    "from iSDM import environment"
   ]
  },
  {
   "cell_type": "code",
   "execution_count": 42,
   "metadata": {
    "collapsed": true
   },
   "outputs": [],
   "source": [
    "temperature_max_january.source=environment.Source.WORLDCLIM"
   ]
  },
  {
   "cell_type": "code",
   "execution_count": 44,
   "metadata": {
    "collapsed": false
   },
   "outputs": [
    {
     "data": {
      "text/plain": [
       "'WORLDCLIM'"
      ]
     },
     "execution_count": 44,
     "metadata": {},
     "output_type": "execute_result"
    }
   ],
   "source": [
    "temperature_max_january.source.name"
   ]
  },
  {
   "cell_type": "code",
   "execution_count": 45,
   "metadata": {
    "collapsed": true
   },
   "outputs": [],
   "source": [
    "temperature_max_january.metadata.update({'units':'deg C * 10'})"
   ]
  },
  {
   "cell_type": "code",
   "execution_count": 46,
   "metadata": {
    "collapsed": false
   },
   "outputs": [
    {
     "data": {
      "text/plain": [
       "{'affine': Affine(0.041666666666667, 0.0, -180.00000000000335,\n",
       "       0.0, -0.041666666666667, 90.00000000000003),\n",
       " 'count': 1,\n",
       " 'crs': {'init': 'epsg:4326'},\n",
       " 'driver': 'EHdr',\n",
       " 'dtype': 'int16',\n",
       " 'height': 3600,\n",
       " 'nodata': -9999.0,\n",
       " 'something_else': 'value',\n",
       " 'transform': (-180.00000000000335,\n",
       "  0.041666666666667,\n",
       "  0.0,\n",
       "  90.00000000000003,\n",
       "  0.0,\n",
       "  -0.041666666666667),\n",
       " 'units': 'deg C * 10',\n",
       " 'width': 8640}"
      ]
     },
     "execution_count": 46,
     "metadata": {},
     "output_type": "execute_result"
    }
   ],
   "source": [
    "temperature_max_january.metadata"
   ]
  },
  {
   "cell_type": "code",
   "execution_count": 47,
   "metadata": {
    "collapsed": false
   },
   "outputs": [
    {
     "data": {
      "text/plain": [
       "iSDM.environment.ClimateLayer"
      ]
     },
     "execution_count": 47,
     "metadata": {},
     "output_type": "execute_result"
    }
   ],
   "source": [
    "type(temperature_max_january)"
   ]
  },
  {
   "cell_type": "code",
   "execution_count": 54,
   "metadata": {
    "collapsed": false
   },
   "outputs": [
    {
     "name": "stderr",
     "output_type": "stream",
     "text": [
      "/home/daniela/anaconda/envs/biodiversity_py3/lib/python3.4/site-packages/IPython/core/interactiveshell.py:2885: FutureWarning: read_band() is deprecated and will be removed by Rasterio 1.0. Please use read() instead.\n",
      "  exec(code_obj, self.user_global_ns, self.user_ns)\n"
     ]
    }
   ],
   "source": [
    "band = temperature_max_january.get_data().read_band(1)"
   ]
  },
  {
   "cell_type": "code",
   "execution_count": 55,
   "metadata": {
    "collapsed": false
   },
   "outputs": [
    {
     "data": {
      "text/plain": [
       "array([[-9999, -9999, -9999, ..., -9999, -9999, -9999],\n",
       "       [-9999, -9999, -9999, ..., -9999, -9999, -9999],\n",
       "       [-9999, -9999, -9999, ..., -9999, -9999, -9999],\n",
       "       ..., \n",
       "       [-9999, -9999, -9999, ..., -9999, -9999, -9999],\n",
       "       [-9999, -9999, -9999, ..., -9999, -9999, -9999],\n",
       "       [-9999, -9999, -9999, ..., -9999, -9999, -9999]], dtype=int16)"
      ]
     },
     "execution_count": 55,
     "metadata": {},
     "output_type": "execute_result"
    }
   ],
   "source": [
    "band"
   ]
  },
  {
   "cell_type": "code",
   "execution_count": 66,
   "metadata": {
    "collapsed": false
   },
   "outputs": [
    {
     "name": "stderr",
     "output_type": "stream",
     "text": [
      "/home/daniela/anaconda/envs/biodiversity_py3/lib/python3.4/site-packages/IPython/core/interactiveshell.py:2885: FutureWarning: read_mask() is deprecated and will be removed by Rasterio 1.0. Please use read_masks() instead.\n",
      "  exec(code_obj, self.user_global_ns, self.user_ns)\n"
     ]
    }
   ],
   "source": [
    "mask = temperature_max_january.data_full.read_mask(1)"
   ]
  },
  {
   "cell_type": "code",
   "execution_count": 68,
   "metadata": {
    "collapsed": false
   },
   "outputs": [
    {
     "data": {
      "text/plain": [
       "(3600, 8640)"
      ]
     },
     "execution_count": 68,
     "metadata": {},
     "output_type": "execute_result"
    }
   ],
   "source": [
    "mask.shape"
   ]
  },
  {
   "cell_type": "code",
   "execution_count": 69,
   "metadata": {
    "collapsed": false
   },
   "outputs": [
    {
     "data": {
      "text/plain": [
       "<matplotlib.image.AxesImage at 0x7f9a33b3a978>"
      ]
     },
     "execution_count": 69,
     "metadata": {},
     "output_type": "execute_result"
    },
    {
     "data": {
      "image/png": "[encoded data removed]",
      "text/plain": [
       "<matplotlib.figure.Figure at 0x7f9a33b33c18>"
      ]
     },
     "metadata": {},
     "output_type": "display_data"
    }
   ],
   "source": [
    "plt.imshow(mask, cmap=\"hot\", interpolation=\"none\")"
   ]
  },
  {
   "cell_type": "code",
   "execution_count": 70,
   "metadata": {
    "collapsed": false
   },
   "outputs": [
    {
     "data": {
      "text/plain": [
       "array([[0, 0, 0, ..., 0, 0, 0],\n",
       "       [0, 0, 0, ..., 0, 0, 0],\n",
       "       [0, 0, 0, ..., 0, 0, 0],\n",
       "       ..., \n",
       "       [0, 0, 0, ..., 0, 0, 0],\n",
       "       [0, 0, 0, ..., 0, 0, 0],\n",
       "       [0, 0, 0, ..., 0, 0, 0]], dtype=uint8)"
      ]
     },
     "execution_count": 70,
     "metadata": {},
     "output_type": "execute_result"
    }
   ],
   "source": [
    "mask"
   ]
  },
  {
   "cell_type": "code",
   "execution_count": 72,
   "metadata": {
    "collapsed": false
   },
   "outputs": [
    {
     "data": {
      "text/plain": [
       "<matplotlib.image.AxesImage at 0x7f9a590fd2e8>"
      ]
     },
     "execution_count": 72,
     "metadata": {},
     "output_type": "execute_result"
    },
    {
     "data": {
      "image/png": "[encoded data removed]",
      "text/plain": [
       "<matplotlib.figure.Figure at 0x7f9a59185c18>"
      ]
     },
     "metadata": {},
     "output_type": "display_data"
    }
   ],
   "source": [
    "plt.imshow(band, cmap=\"hot\", interpolation=\"none\")"
   ]
  },
  {
   "cell_type": "code",
   "execution_count": 85,
   "metadata": {
    "collapsed": false
   },
   "outputs": [
    {
     "data": {
      "text/plain": [
       "array([  0,   2,   2, ..., 195, 179, 196], dtype=int16)"
      ]
     },
     "execution_count": 85,
     "metadata": {},
     "output_type": "execute_result"
    }
   ],
   "source": [
    "band[band>=0]"
   ]
  },
  {
   "cell_type": "code",
   "execution_count": 86,
   "metadata": {
    "collapsed": false
   },
   "outputs": [
    {
     "data": {
      "text/plain": [
       "array([0, 0, 0, ..., 0, 0, 0], dtype=uint8)"
      ]
     },
     "execution_count": 86,
     "metadata": {},
     "output_type": "execute_result"
    }
   ],
   "source": [
    "mask[mask>=0]"
   ]
  },
  {
   "cell_type": "code",
   "execution_count": 87,
   "metadata": {
    "collapsed": false
   },
   "outputs": [
    {
     "data": {
      "text/plain": [
       "[-9999.0]"
      ]
     },
     "execution_count": 87,
     "metadata": {},
     "output_type": "execute_result"
    }
   ],
   "source": [
    "temperature_max_january.data_full.nodatavals"
   ]
  },
  {
   "cell_type": "code",
   "execution_count": 50,
   "metadata": {
    "collapsed": false
   },
   "outputs": [
    {
     "name": "stderr",
     "output_type": "stream",
     "text": [
      "Loading data from /home/daniela/git/iSDM/data/tmean/tmean_1/w001001.adf \n",
      "Metadata: {'affine': Affine(0.08333333767950535, 0.0, -180.0,\n",
      "       0.0, -0.08333333767950535, 90.00000782310963),\n",
      " 'count': 1,\n",
      " 'crs': {'init': 'epsg:4326'},\n",
      " 'driver': 'AIG',\n",
      " 'dtype': 'int16',\n",
      " 'height': 1800,\n",
      " 'nodata': -32768.0,\n",
      " 'transform': (-180.0,\n",
      "               0.08333333767950535,\n",
      "               0.0,\n",
      "               90.00000782310963,\n",
      "               0.0,\n",
      "               -0.08333333767950535),\n",
      " 'width': 4320} \n",
      "Resolution: (0.08333333767950535, 0.08333333767950535) \n",
      "Bounds: BoundingBox(left=-180.0, bottom=-60.0, right=180.0000187754631, top=90.00000782310963) \n",
      "Dataset loaded. Use .read() or .read_masks() to access the layers.\n"
     ]
    },
    {
     "data": {
      "text/plain": [
       "<open RasterReader name='/home/daniela/git/iSDM/data/tmean/tmean_1/w001001.adf' mode='r'>"
      ]
     },
     "execution_count": 50,
     "metadata": {},
     "output_type": "execute_result"
    }
   ],
   "source": [
    "# worldclim data\n",
    "temperature_mean_january = ClimateLayer(file_path=\"/home/daniela/git/iSDM/data/tmean/tmean_1/w001001.adf\")\n",
    "temperature_mean_january.load_dataset()"
   ]
  },
  {
   "cell_type": "code",
   "execution_count": 51,
   "metadata": {
    "collapsed": false
   },
   "outputs": [
    {
     "data": {
      "text/plain": [
       "(1800, 4320)"
      ]
     },
     "execution_count": 51,
     "metadata": {},
     "output_type": "execute_result"
    }
   ],
   "source": [
    "temperature_mean_january.get_data().read(1).shape"
   ]
  },
  {
   "cell_type": "code",
   "execution_count": 56,
   "metadata": {
    "collapsed": false
   },
   "outputs": [
    {
     "name": "stderr",
     "output_type": "stream",
     "text": [
      "Calculated default transformation:\n",
      "Affine:\n",
      "| 1.00, 0.00,-180.00|\n",
      "| 0.00,-1.00, 90.00|\n",
      "| 0.00, 0.00, 1.00| \n",
      " width=361, height=151\n",
      "CPLE_NotSupported in b'GDALDriver::Create() ... no create method implemented for this format.\\n'\n",
      "Reprojected data in ./reprojected.tif \n"
     ]
    }
   ],
   "source": [
    "temperature_mean_january.reproject(destination_file=\"./reprojected.tif\", resolution=1, dst_crs='EPSG:4326', driver=\"AIG\")"
   ]
  },
  {
   "cell_type": "code",
   "execution_count": 21,
   "metadata": {
    "collapsed": true
   },
   "outputs": [],
   "source": [
    "src = rasterio.open(\"/home/daniela/git/iSDM/data/tmean/tmean_1/w001001.adf\")"
   ]
  },
  {
   "cell_type": "code",
   "execution_count": 22,
   "metadata": {
    "collapsed": false
   },
   "outputs": [
    {
     "data": {
      "text/plain": [
       "<open RasterReader name='/home/daniela/git/iSDM/data/tmean/tmean_1/w001001.adf' mode='r'>"
      ]
     },
     "execution_count": 22,
     "metadata": {},
     "output_type": "execute_result"
    }
   ],
   "source": [
    "src"
   ]
  },
  {
   "cell_type": "code",
   "execution_count": 23,
   "metadata": {
    "collapsed": true
   },
   "outputs": [],
   "source": [
    "from rasterio.warp import calculate_default_transform, RESAMPLING"
   ]
  },
  {
   "cell_type": "code",
   "execution_count": 24,
   "metadata": {
    "collapsed": false
   },
   "outputs": [],
   "source": [
    "affine, width, height = calculate_default_transform(src_crs=src.crs,dst_crs=src.crs, width=src.width, height=src.height,left=src.bounds.left,bottom=src.bounds.bottom,right=src.bounds.right,top=src.bounds.top)"
   ]
  },
  {
   "cell_type": "code",
   "execution_count": 25,
   "metadata": {
    "collapsed": false
   },
   "outputs": [
    {
     "data": {
      "text/plain": [
       "Affine(0.08333333767950535, 0.0, -180.0,\n",
       "       0.0, -0.08333333767950535, 90.00000782310961)"
      ]
     },
     "execution_count": 25,
     "metadata": {},
     "output_type": "execute_result"
    }
   ],
   "source": [
    "affine"
   ]
  },
  {
   "cell_type": "code",
   "execution_count": 26,
   "metadata": {
    "collapsed": false
   },
   "outputs": [
    {
     "data": {
      "text/plain": [
       "4320"
      ]
     },
     "execution_count": 26,
     "metadata": {},
     "output_type": "execute_result"
    }
   ],
   "source": [
    "width"
   ]
  },
  {
   "cell_type": "code",
   "execution_count": 27,
   "metadata": {
    "collapsed": false
   },
   "outputs": [
    {
     "data": {
      "text/plain": [
       "1800"
      ]
     },
     "execution_count": 27,
     "metadata": {},
     "output_type": "execute_result"
    }
   ],
   "source": [
    "height"
   ]
  },
  {
   "cell_type": "code",
   "execution_count": 49,
   "metadata": {
    "collapsed": false
   },
   "outputs": [
    {
     "ename": "NameError",
     "evalue": "name 'width' is not defined",
     "output_type": "error",
     "traceback": [
      "\u001b[1;31m---------------------------------------------------------------------------\u001b[0m",
      "\u001b[1;31mNameError\u001b[0m                                 Traceback (most recent call last)",
      "\u001b[1;32m<ipython-input-49-f2e44ea7103a>\u001b[0m in \u001b[0;36m<module>\u001b[1;34m()\u001b[0m\n\u001b[0;32m      1\u001b[0m \u001b[0mdestination_file\u001b[0m\u001b[1;33m=\u001b[0m\u001b[1;34m\"./here.tif\"\u001b[0m\u001b[1;33m\u001b[0m\u001b[0m\n\u001b[1;32m----> 2\u001b[1;33m \u001b[0mdst\u001b[0m \u001b[1;33m=\u001b[0m \u001b[0mrasterio\u001b[0m\u001b[1;33m.\u001b[0m\u001b[0mopen\u001b[0m\u001b[1;33m(\u001b[0m\u001b[0mdestination_file\u001b[0m\u001b[1;33m,\u001b[0m \u001b[1;34m'w'\u001b[0m\u001b[1;33m,\u001b[0m\u001b[0mdriver\u001b[0m\u001b[1;33m=\u001b[0m\u001b[1;34m'GTiff'\u001b[0m\u001b[1;33m,\u001b[0m \u001b[0mwidth\u001b[0m\u001b[1;33m=\u001b[0m\u001b[0mwidth\u001b[0m\u001b[1;33m,\u001b[0m \u001b[0mheight\u001b[0m\u001b[1;33m=\u001b[0m\u001b[0mheight\u001b[0m\u001b[1;33m,\u001b[0m \u001b[0mcount\u001b[0m\u001b[1;33m=\u001b[0m\u001b[0msrc\u001b[0m\u001b[1;33m.\u001b[0m\u001b[0mcount\u001b[0m\u001b[1;33m,\u001b[0m \u001b[0mdtype\u001b[0m\u001b[1;33m=\u001b[0m\u001b[0mnp\u001b[0m\u001b[1;33m.\u001b[0m\u001b[0mint16\u001b[0m\u001b[1;33m)\u001b[0m\u001b[1;33m\u001b[0m\u001b[0m\n\u001b[0m",
      "\u001b[1;31mNameError\u001b[0m: name 'width' is not defined"
     ]
    }
   ],
   "source": [
    "destination_file=\"./here.tif\"\n",
    "dst = rasterio.open(destination_file, 'w',driver='GTiff', width=width, height=height, count=src.count, dtype=np.int16)"
   ]
  },
  {
   "cell_type": "code",
   "execution_count": 29,
   "metadata": {
    "collapsed": false
   },
   "outputs": [
    {
     "data": {
      "text/plain": [
       "<open RasterUpdater name='./here.tif' mode='w'>"
      ]
     },
     "execution_count": 29,
     "metadata": {},
     "output_type": "execute_result"
    }
   ],
   "source": [
    "dst"
   ]
  },
  {
   "cell_type": "code",
   "execution_count": 48,
   "metadata": {
    "collapsed": false
   },
   "outputs": [
    {
     "ename": "NameError",
     "evalue": "name 'src' is not defined",
     "output_type": "error",
     "traceback": [
      "\u001b[1;31m---------------------------------------------------------------------------\u001b[0m",
      "\u001b[1;31mNameError\u001b[0m                                 Traceback (most recent call last)",
      "\u001b[1;32m<ipython-input-48-948ca19b29d0>\u001b[0m in \u001b[0;36m<module>\u001b[1;34m()\u001b[0m\n\u001b[1;32m----> 1\u001b[1;33m rasterio.warp.reproject(source=rasterio.band(src, 1),\n\u001b[0m\u001b[0;32m      2\u001b[0m                                             \u001b[0mdestination\u001b[0m\u001b[1;33m=\u001b[0m\u001b[0mrasterio\u001b[0m\u001b[1;33m.\u001b[0m\u001b[0mband\u001b[0m\u001b[1;33m(\u001b[0m\u001b[0mdst\u001b[0m\u001b[1;33m,\u001b[0m \u001b[1;36m1\u001b[0m\u001b[1;33m)\u001b[0m\u001b[1;33m,\u001b[0m\u001b[1;33m\u001b[0m\u001b[0m\n\u001b[0;32m      3\u001b[0m                                             \u001b[0msrc_transform\u001b[0m\u001b[1;33m=\u001b[0m\u001b[0msrc\u001b[0m\u001b[1;33m.\u001b[0m\u001b[0maffine\u001b[0m\u001b[1;33m,\u001b[0m\u001b[1;33m\u001b[0m\u001b[0m\n\u001b[0;32m      4\u001b[0m                                             \u001b[0msrc_crs\u001b[0m\u001b[1;33m=\u001b[0m\u001b[0msrc\u001b[0m\u001b[1;33m.\u001b[0m\u001b[0mcrs\u001b[0m\u001b[1;33m,\u001b[0m\u001b[1;33m\u001b[0m\u001b[0m\n\u001b[0;32m      5\u001b[0m                                             \u001b[0mdst_transform\u001b[0m\u001b[1;33m=\u001b[0m\u001b[0maffine\u001b[0m\u001b[1;33m,\u001b[0m\u001b[1;33m\u001b[0m\u001b[0m\n",
      "\u001b[1;31mNameError\u001b[0m: name 'src' is not defined"
     ]
    }
   ],
   "source": [
    "rasterio.warp.reproject(source=rasterio.band(src, 1),\n",
    "                                            destination=rasterio.band(dst, 1),\n",
    "                                            src_transform=src.affine,\n",
    "                                            src_crs=src.crs,\n",
    "                                            dst_transform=affine,\n",
    "                                            dst_crs=src.crs\n",
    "                                            )"
   ]
  },
  {
   "cell_type": "code",
   "execution_count": 46,
   "metadata": {
    "collapsed": false
   },
   "outputs": [
    {
     "name": "stdout",
     "output_type": "stream",
     "text": [
      "| 0.08, 0.00,-180.00|\n",
      "| 0.00,-0.08, 90.00|\n",
      "| 0.00, 0.00, 1.00|\n"
     ]
    }
   ],
   "source": [
    "print(affine)"
   ]
  },
  {
   "cell_type": "code",
   "execution_count": 126,
   "metadata": {
    "collapsed": false
   },
   "outputs": [
    {
     "data": {
      "text/plain": [
       "1800"
      ]
     },
     "execution_count": 126,
     "metadata": {},
     "output_type": "execute_result"
    }
   ],
   "source": [
    "height"
   ]
  },
  {
   "cell_type": "code",
   "execution_count": 47,
   "metadata": {
    "collapsed": false
   },
   "outputs": [
    {
     "data": {
      "text/plain": [
       "[1]"
      ]
     },
     "execution_count": 47,
     "metadata": {},
     "output_type": "execute_result"
    }
   ],
   "source": [
    "src.indexes"
   ]
  },
  {
   "cell_type": "code",
   "execution_count": 31,
   "metadata": {
    "collapsed": false
   },
   "outputs": [
    {
     "ename": "AttributeError",
     "evalue": "'str' object has no attribute 'shape'",
     "output_type": "error",
     "traceback": [
      "\u001b[1;31m---------------------------------------------------------------------------\u001b[0m",
      "\u001b[1;31mAttributeError\u001b[0m                            Traceback (most recent call last)",
      "\u001b[1;32m<ipython-input-31-b7d9342c35f7>\u001b[0m in \u001b[0;36m<module>\u001b[1;34m()\u001b[0m\n\u001b[1;32m----> 1\u001b[1;33m \u001b[0mdst\u001b[0m\u001b[1;33m.\u001b[0m\u001b[0mwrite\u001b[0m\u001b[1;33m(\u001b[0m\u001b[0mdestination_file\u001b[0m\u001b[1;33m)\u001b[0m\u001b[1;33m\u001b[0m\u001b[0m\n\u001b[0m",
      "\u001b[1;32mrasterio/_io.pyx\u001b[0m in \u001b[0;36mrasterio._io.RasterUpdater.write (rasterio/_io.c:20652)\u001b[1;34m()\u001b[0m\n",
      "\u001b[1;31mAttributeError\u001b[0m: 'str' object has no attribute 'shape'"
     ]
    }
   ],
   "source": [
    "dst.write(destination_file)"
   ]
  },
  {
   "cell_type": "code",
   "execution_count": 32,
   "metadata": {
    "collapsed": false
   },
   "outputs": [
    {
     "data": {
      "text/plain": [
       "str"
      ]
     },
     "execution_count": 32,
     "metadata": {},
     "output_type": "execute_result"
    }
   ],
   "source": [
    "type(destination_file)"
   ]
  },
  {
   "cell_type": "code",
   "execution_count": 57,
   "metadata": {
    "collapsed": false
   },
   "outputs": [],
   "source": []
  },
  {
   "cell_type": "code",
   "execution_count": 66,
   "metadata": {
    "collapsed": false
   },
   "outputs": [],
   "source": [
    "# GLOBE DEM DATA\n",
    "dem_a =  ClimateLayer(file_path=\"/home/daniela/git/iSDM/data/all10/g10g\")"
   ]
  },
  {
   "cell_type": "code",
   "execution_count": 67,
   "metadata": {
    "collapsed": false
   },
   "outputs": [
    {
     "name": "stderr",
     "output_type": "stream",
     "text": [
      "Loading data from /home/daniela/git/iSDM/data/all10/g10g \n",
      "Metadata: {'affine': Affine(0.008333333333, 0.0, 5.000002148425331e-13,\n",
      "       0.0, -0.008333333333, 49.9999999999995),\n",
      " 'count': 1,\n",
      " 'crs': {},\n",
      " 'driver': 'EHdr',\n",
      " 'dtype': 'int16',\n",
      " 'height': 6000,\n",
      " 'nodata': -500.0,\n",
      " 'transform': (5.000002148425331e-13,\n",
      "               0.008333333333,\n",
      "               0.0,\n",
      "               49.9999999999995,\n",
      "               0.0,\n",
      "               -0.008333333333),\n",
      " 'width': 10800} \n",
      "Resolution: (0.008333333333, 0.008333333333) \n",
      "Bounds: BoundingBox(left=5.000002148425331e-13, bottom=1.9995098909930675e-09, right=89.99999999640049, top=49.9999999999995) \n",
      "Dataset loaded. Use .read() or .read_masks() to access the layers.\n"
     ]
    },
    {
     "data": {
      "text/plain": [
       "<open RasterReader name='/home/daniela/git/iSDM/data/all10/g10g' mode='r'>"
      ]
     },
     "execution_count": 67,
     "metadata": {},
     "output_type": "execute_result"
    }
   ],
   "source": [
    "dem_a.load_dataset()"
   ]
  },
  {
   "cell_type": "code",
   "execution_count": 68,
   "metadata": {
    "collapsed": true
   },
   "outputs": [],
   "source": [
    "the_data = dem_a.get_data().read(1)"
   ]
  },
  {
   "cell_type": "code",
   "execution_count": 69,
   "metadata": {
    "collapsed": false
   },
   "outputs": [
    {
     "data": {
      "text/plain": [
       "(6000, 10800)"
      ]
     },
     "execution_count": 69,
     "metadata": {},
     "output_type": "execute_result"
    }
   ],
   "source": [
    "the_data.shape"
   ]
  },
  {
   "cell_type": "code",
   "execution_count": 70,
   "metadata": {
    "collapsed": false
   },
   "outputs": [
    {
     "data": {
      "text/plain": [
       "<matplotlib.image.AxesImage at 0x7f663f695b70>"
      ]
     },
     "execution_count": 70,
     "metadata": {},
     "output_type": "execute_result"
    },
    {
     "data": {
      "image/png": "[encoded data removed]",
      "text/plain": [
       "<matplotlib.figure.Figure at 0x7f663f6e6160>"
      ]
     },
     "metadata": {},
     "output_type": "display_data"
    }
   ],
   "source": [
    "plt.imshow(the_data, cmap=\"gray\", interpolation=\"none\")"
   ]
  },
  {
   "cell_type": "code",
   "execution_count": 71,
   "metadata": {
    "collapsed": false
   },
   "outputs": [
    {
     "data": {
      "text/plain": [
       "-407"
      ]
     },
     "execution_count": 71,
     "metadata": {},
     "output_type": "execute_result"
    }
   ],
   "source": [
    "the_data[the_data!=-500].min()"
   ]
  },
  {
   "cell_type": "code",
   "execution_count": 72,
   "metadata": {
    "collapsed": false
   },
   "outputs": [
    {
     "name": "stderr",
     "output_type": "stream",
     "text": [
      "CPLE_NotSupported in b'No translation for an empty SRS to PROJ.4 format is known.'\n",
      "CPLE_ObjectNull in b\"Pointer 'hTransform' is NULL in 'OCTTransform'.\\n\"\n",
      "Calculated default transformation:\n",
      "Affine:\n",
      "| 1.00, 0.00, 0.00|\n",
      "| 0.00,-1.00, 50.00|\n",
      "| 0.00, 0.00, 1.00| \n",
      " width=90, height=50\n",
      "Reprojected data in ./here.tif \n"
     ]
    }
   ],
   "source": [
    "dem_a.reproject(destination_file=\"./here.tif\", resolution=1, dst_crs='EPSG:4326')"
   ]
  },
  {
   "cell_type": "code",
   "execution_count": 76,
   "metadata": {
    "collapsed": false
   },
   "outputs": [
    {
     "data": {
      "text/plain": [
       "(6000, 10800)"
      ]
     },
     "execution_count": 76,
     "metadata": {},
     "output_type": "execute_result"
    }
   ],
   "source": [
    "dem_a.get_data().shape"
   ]
  },
  {
   "cell_type": "code",
   "execution_count": 77,
   "metadata": {
    "collapsed": false
   },
   "outputs": [
    {
     "name": "stderr",
     "output_type": "stream",
     "text": [
      "Loading data from ./here.tif \n",
      "Metadata: {'affine': Affine(1.0, 0.0, 5.000444502911705e-13,\n",
      "       0.0, -1.0, 50.0),\n",
      " 'count': 1,\n",
      " 'crs': {'init': 'epsg:4326'},\n",
      " 'driver': 'EHdr',\n",
      " 'dtype': 'int16',\n",
      " 'height': 50,\n",
      " 'nodata': -500.0,\n",
      " 'transform': (5.000444502911705e-13, 1.0, 0.0, 50.0, 0.0, -1.0),\n",
      " 'width': 90} \n",
      "Resolution: (1.0, 1.0) \n",
      "Bounds: BoundingBox(left=5.000444502911705e-13, bottom=0.0, right=90.0000000000005, top=50.0) \n",
      "Dataset loaded. Use .read() or .read_masks() to access the layers.\n"
     ]
    },
    {
     "data": {
      "text/plain": [
       "<open RasterReader name='./here.tif' mode='r'>"
      ]
     },
     "execution_count": 77,
     "metadata": {},
     "output_type": "execute_result"
    }
   ],
   "source": [
    "dem_a.load_dataset(file_path=\"./here.tif\")"
   ]
  },
  {
   "cell_type": "code",
   "execution_count": 78,
   "metadata": {
    "collapsed": false
   },
   "outputs": [
    {
     "data": {
      "text/plain": [
       "(50, 90)"
      ]
     },
     "execution_count": 78,
     "metadata": {},
     "output_type": "execute_result"
    }
   ],
   "source": [
    "dem_a.get_data().shape # right, updated. Shall I automatically load the new dataset or?"
   ]
  },
  {
   "cell_type": "code",
   "execution_count": 15,
   "metadata": {
    "collapsed": true
   },
   "outputs": [],
   "source": [
    "import rasterio\n",
    "here = rasterio.open(\"./here.tif\")"
   ]
  },
  {
   "cell_type": "code",
   "execution_count": 16,
   "metadata": {
    "collapsed": false
   },
   "outputs": [
    {
     "data": {
      "text/plain": [
       "(1, 50, 90)"
      ]
     },
     "execution_count": 16,
     "metadata": {},
     "output_type": "execute_result"
    }
   ],
   "source": [
    "here.read().shape"
   ]
  },
  {
   "cell_type": "code",
   "execution_count": 18,
   "metadata": {
    "collapsed": false
   },
   "outputs": [
    {
     "data": {
      "text/plain": [
       "<matplotlib.image.AxesImage at 0x7f663f7b8240>"
      ]
     },
     "execution_count": 18,
     "metadata": {},
     "output_type": "execute_result"
    },
    {
     "data": {
      "image/png": "[encoded data removed]",
      "text/plain": [
       "<matplotlib.figure.Figure at 0x7f6644032e48>"
      ]
     },
     "metadata": {},
     "output_type": "display_data"
    }
   ],
   "source": [
    "plt.imshow(here.read()[0], cmap=\"gray\", interpolation=\"none\") # 1 pixel here = 1/0.00833km = 120km"
   ]
  },
  {
   "cell_type": "code",
   "execution_count": 22,
   "metadata": {
    "collapsed": false
   },
   "outputs": [
    {
     "data": {
      "text/plain": [
       "(0.008333333333, 0.008333333333)"
      ]
     },
     "execution_count": 22,
     "metadata": {},
     "output_type": "execute_result"
    }
   ],
   "source": [
    "dem_a.resolution"
   ]
  },
  {
   "cell_type": "code",
   "execution_count": 25,
   "metadata": {
    "collapsed": true
   },
   "outputs": [],
   "source": [
    "# same resolution as GLOBE DEM data, they match in QGIS. But driver is different so reprojection fails\n",
    "#same as with tmean\n",
    "worldclim_alt =  ClimateLayer(file_path=\"/home/daniela/git/iSDM/data/alt/alt/w001001.adf\") "
   ]
  },
  {
   "cell_type": "code",
   "execution_count": 26,
   "metadata": {
    "collapsed": false
   },
   "outputs": [
    {
     "name": "stderr",
     "output_type": "stream",
     "text": [
      "Loading data from /home/daniela/git/iSDM/data/alt/alt/w001001.adf \n",
      "Metadata: {'affine': Affine(0.008333333767950535, 0.0, -180.0,\n",
      "       0.0, -0.008333333767950535, 90.00000782310963),\n",
      " 'count': 1,\n",
      " 'crs': {'init': 'epsg:4326'},\n",
      " 'driver': 'AIG',\n",
      " 'dtype': 'int16',\n",
      " 'height': 18000,\n",
      " 'nodata': -32768.0,\n",
      " 'transform': (-180.0,\n",
      "               0.008333333767950535,\n",
      "               0.0,\n",
      "               90.00000782310963,\n",
      "               0.0,\n",
      "               -0.008333333767950535),\n",
      " 'width': 43200} \n",
      "Resolution: (0.008333333767950535, 0.008333333767950535) \n",
      "Bounds: BoundingBox(left=-180.0, bottom=-60.0, right=180.0000187754631, top=90.00000782310963) \n",
      "Dataset loaded. Use .read() or .read_masks() to access the layers.\n"
     ]
    },
    {
     "data": {
      "text/plain": [
       "<open RasterReader name='/home/daniela/git/iSDM/data/alt/alt/w001001.adf' mode='r'>"
      ]
     },
     "execution_count": 26,
     "metadata": {},
     "output_type": "execute_result"
    }
   ],
   "source": [
    "worldclim_alt.load_dataset()"
   ]
  },
  {
   "cell_type": "code",
   "execution_count": 27,
   "metadata": {
    "collapsed": false
   },
   "outputs": [
    {
     "data": {
      "text/plain": [
       "(1, 18000, 43200)"
      ]
     },
     "execution_count": 27,
     "metadata": {},
     "output_type": "execute_result"
    }
   ],
   "source": [
    "worldclim_alt.get_data().read().shape"
   ]
  },
  {
   "cell_type": "code",
   "execution_count": 28,
   "metadata": {
    "collapsed": false
   },
   "outputs": [
    {
     "data": {
      "text/plain": [
       "(0.008333333767950535, 0.008333333767950535)"
      ]
     },
     "execution_count": 28,
     "metadata": {},
     "output_type": "execute_result"
    }
   ],
   "source": [
    "worldclim_alt.resolution"
   ]
  },
  {
   "cell_type": "code",
   "execution_count": 39,
   "metadata": {
    "collapsed": false
   },
   "outputs": [
    {
     "name": "stderr",
     "output_type": "stream",
     "text": [
      "Calculated default transformation:\n",
      "Affine:\n",
      "| 1.00, 0.00, 0.00|\n",
      "| 0.00,-1.00, 50.00|\n",
      "| 0.00, 0.00, 1.00| \n",
      " width=90, height=50\n",
      "Reprojected data in ./worldclim2.tif \n"
     ]
    }
   ],
   "source": [
    "dem_a.reproject(destination_file=\"./worldclim2.tif\", resolution=1, dst_crs='EPSG:4326', driver=\"AIG\")"
   ]
  },
  {
   "cell_type": "code",
   "execution_count": 40,
   "metadata": {
    "collapsed": true
   },
   "outputs": [],
   "source": [
    "import rasterio\n",
    "worldclim2 = rasterio.open(\"./here.tif\")"
   ]
  },
  {
   "cell_type": "code",
   "execution_count": 46,
   "metadata": {
    "collapsed": false
   },
   "outputs": [
    {
     "data": {
      "text/plain": [
       "(50, 90)"
      ]
     },
     "execution_count": 46,
     "metadata": {},
     "output_type": "execute_result"
    }
   ],
   "source": [
    "worldclim2.read(1).shape"
   ]
  },
  {
   "cell_type": "code",
   "execution_count": 42,
   "metadata": {
    "collapsed": false
   },
   "outputs": [
    {
     "data": {
      "text/plain": [
       "<matplotlib.image.AxesImage at 0x7f663f6c9668>"
      ]
     },
     "execution_count": 42,
     "metadata": {},
     "output_type": "execute_result"
    },
    {
     "data": {
      "image/png": "[encoded data removed]",
      "text/plain": [
       "<matplotlib.figure.Figure at 0x7f6680108eb8>"
      ]
     },
     "metadata": {},
     "output_type": "display_data"
    }
   ],
   "source": [
    "plt.imshow(worldclim2.read()[0], cmap=\"gray\", interpolation=\"none\") # 1 pixel here = 1/0.00833km = 120km"
   ]
  },
  {
   "cell_type": "code",
   "execution_count": 65,
   "metadata": {
    "collapsed": false
   },
   "outputs": [
    {
     "data": {
      "text/plain": [
       "8233"
      ]
     },
     "execution_count": 65,
     "metadata": {},
     "output_type": "execute_result"
    }
   ],
   "source": [
    "worldclim_alt.get_data().read().max()"
   ]
  },
  {
   "cell_type": "code",
   "execution_count": null,
   "metadata": {
    "collapsed": true
   },
   "outputs": [],
   "source": []
  }
 ],
 "metadata": {
  "kernelspec": {
   "display_name": "Python 3",
   "language": "python",
   "name": "python3"
  },
  "language_info": {
   "codemirror_mode": {
    "name": "ipython",
    "version": 3
   },
   "file_extension": ".py",
   "mimetype": "text/x-python",
   "name": "python",
   "nbconvert_exporter": "python",
   "pygments_lexer": "ipython3",
   "version": "3.4.4"
  }
 },
 "nbformat": 4,
 "nbformat_minor": 0
}
