{
 "cells": [
  {
   "cell_type": "code",
   "execution_count": 1,
   "metadata": {
    "collapsed": true
   },
   "outputs": [],
   "source": [
    "import logging\n",
    "import numpy as np\n",
    "import pandas as pd\n",
    "root = logging.getLogger()\n",
    "root.addHandler(logging.StreamHandler())\n",
    "import datetime\n",
    "%matplotlib inline\n",
    "from shapely.prepared import prep\n",
    "from shapely import speedups\n",
    "speedups.enable()"
   ]
  },
  {
   "cell_type": "code",
   "execution_count": 3,
   "metadata": {
    "collapsed": false
   },
   "outputs": [
    {
     "name": "stdout",
     "output_type": "stream",
     "text": [
      "15:04:05.390324 Processing.. 100 \n",
      "15:04:17.992654 Processing.. 200 \n",
      "15:04:33.019456 Processing.. 300 \n",
      "15:04:51.353167 Processing.. 400 \n",
      "15:05:11.014846 Processing.. 500 \n",
      "15:05:32.764214 Processing.. 600 \n",
      "15:05:56.665404 Processing.. 700 \n",
      "15:06:23.198995 Processing.. 800 \n",
      "15:06:51.932699 Processing.. 900 \n",
      "15:07:26.564767 Processing.. 1000 \n",
      "15:08:03.810959 Processing.. 1100 \n",
      "15:08:47.837072 Processing.. 1200 \n",
      "15:09:31.719969 Processing.. 1300 \n",
      "15:10:18.034893 Processing.. 1400 \n",
      "15:11:12.971453 Processing.. 1500 \n",
      "15:12:08.266557 Processing.. 1600 \n",
      "15:13:10.106589 Processing.. 1700 \n",
      "15:14:13.539186 Processing.. 1800 \n",
      "15:15:17.949457 Processing.. 1900 \n",
      "15:16:26.108047 Processing.. 2000 \n",
      "15:17:40.069562 Processing.. 2100 \n",
      "15:19:08.791963 Processing.. 2200 \n",
      "15:20:36.307465 Processing.. 2300 \n",
      "15:22:18.219172 Processing.. 2400 \n",
      "15:23:52.060455 Processing.. 2500 \n",
      "15:25:36.458143 Processing.. 2600 \n",
      "15:27:14.736542 Processing.. 2700 \n",
      "15:28:38.109453 Processing.. 2800 \n",
      "15:30:07.359079 Processing.. 2900 \n",
      "15:31:46.442218 Processing.. 3000 \n",
      "15:33:21.544590 Processing.. 3100 \n",
      "15:34:57.250393 Processing.. 3200 \n",
      "15:36:48.141724 Processing.. 3300 \n",
      "15:38:48.266840 Processing.. 3400 \n",
      "15:41:12.213891 Processing.. 3500 \n",
      "15:43:05.406919 Processing.. 3600 \n",
      "15:45:11.116797 Processing.. 3700 \n",
      "15:47:26.784023 Processing.. 3800 \n",
      "15:49:44.004158 Processing.. 3900 \n",
      "15:51:58.750333 Processing.. 4000 \n",
      "15:54:21.594642 Processing.. 4100 \n",
      "15:56:45.095902 Processing.. 4200 \n",
      "15:59:17.855855 Processing.. 4300 \n",
      "16:01:54.443593 Processing.. 4400 \n",
      "16:04:41.506282 Processing.. 4500 \n",
      "16:07:03.937957 Processing.. 4600 \n",
      "16:09:36.701213 Processing.. 4700 \n",
      "16:12:12.768436 Processing.. 4800 \n",
      "16:15:02.770409 Processing.. 4900 \n",
      "16:18:01.434213 Processing.. 5000 \n",
      "16:21:26.162147 Processing.. 5100 \n",
      "16:24:55.575311 Processing.. 5200 \n",
      "16:28:31.539922 Processing.. 5300 \n",
      "16:31:54.363220 Processing.. 5400 \n",
      "16:35:06.648524 Processing.. 5500 \n",
      "16:38:46.682096 Processing.. 5600 \n",
      "16:42:29.907429 Processing.. 5700 \n",
      "16:45:58.895379 Processing.. 5800 \n"
     ]
    }
   ],
   "source": [
    "import pandas as pd\n",
    "important_columns1 = ['species', 'dateidentified', 'eventdate', 'basisofrecord', 'decimallatitude','decimallongitude', 'day', 'month', 'year' ]\n",
    "result_with_lat_long = pd.DataFrame(columns=important_columns1)\n",
    "counter = 0\n",
    "for df in pd.read_msgpack(\"../data/fish/selection/merged.msg\", iterator=True):\n",
    "    counter += 1\n",
    "    if (counter%100==0):\n",
    "        print(\"%s Processing.. %s \" % (datetime.datetime.now().time().isoformat(), counter))\n",
    "    if \"decimallatitude\" in df.columns.tolist() and \"decimallongitude\" in df.columns.tolist():\n",
    "        common_columns = list(set(important_columns1).intersection(set(df.columns.tolist())))\n",
    "        result_with_lat_long = result_with_lat_long.append(df[common_columns], ignore_index=True)\n",
    "      "
   ]
  },
  {
   "cell_type": "markdown",
   "metadata": {},
   "source": [
    "## 1. Collect and filter all observations"
   ]
  },
  {
   "cell_type": "markdown",
   "metadata": {},
   "source": [
    "### Recrods with latitude/longitude"
   ]
  },
  {
   "cell_type": "code",
   "execution_count": 4,
   "metadata": {
    "collapsed": true
   },
   "outputs": [],
   "source": [
    "result_with_lat_long = result_with_lat_long[result_with_lat_long.decimallatitude.notnull() & result_with_lat_long.decimallongitude.notnull()]"
   ]
  },
  {
   "cell_type": "markdown",
   "metadata": {},
   "source": [
    "### How many unique species have occurrence records with latitude/longitude?"
   ]
  },
  {
   "cell_type": "code",
   "execution_count": 5,
   "metadata": {
    "collapsed": false
   },
   "outputs": [
    {
     "data": {
      "text/plain": [
       "5242"
      ]
     },
     "execution_count": 5,
     "metadata": {},
     "output_type": "execute_result"
    }
   ],
   "source": [
    "result_with_lat_long['species'].unique().size"
   ]
  },
  {
   "cell_type": "markdown",
   "metadata": {},
   "source": [
    "Best to take into account all observations which **have either \"year\" or \"eventdate\" present. (or both)** Let's group them by species name, and count the number of observation records."
   ]
  },
  {
   "cell_type": "code",
   "execution_count": 6,
   "metadata": {
    "collapsed": false
   },
   "outputs": [
    {
     "data": {
      "text/html": [
       "<div>\n",
       "<table border=\"1\" class=\"dataframe\">\n",
       "  <thead>\n",
       "    <tr style=\"text-align: right;\">\n",
       "      <th></th>\n",
       "      <th>count</th>\n",
       "    </tr>\n",
       "    <tr>\n",
       "      <th>species</th>\n",
       "      <th></th>\n",
       "    </tr>\n",
       "  </thead>\n",
       "  <tbody>\n",
       "    <tr>\n",
       "      <th>Aaptosyax grypus</th>\n",
       "      <td>2</td>\n",
       "    </tr>\n",
       "    <tr>\n",
       "      <th>Aborichthys elongatus</th>\n",
       "      <td>1</td>\n",
       "    </tr>\n",
       "    <tr>\n",
       "      <th>Abramis brama</th>\n",
       "      <td>114212</td>\n",
       "    </tr>\n",
       "    <tr>\n",
       "      <th>Acantharchus pomotis</th>\n",
       "      <td>477</td>\n",
       "    </tr>\n",
       "    <tr>\n",
       "      <th>Acanthobrama centisquama</th>\n",
       "      <td>1</td>\n",
       "    </tr>\n",
       "    <tr>\n",
       "      <th>Acanthobrama lissneri</th>\n",
       "      <td>58</td>\n",
       "    </tr>\n",
       "    <tr>\n",
       "      <th>Acanthobrama marmid</th>\n",
       "      <td>18</td>\n",
       "    </tr>\n",
       "    <tr>\n",
       "      <th>Acanthobrama telavivensis</th>\n",
       "      <td>39</td>\n",
       "    </tr>\n",
       "    <tr>\n",
       "      <th>Acanthobrama terraesanctae</th>\n",
       "      <td>11</td>\n",
       "    </tr>\n",
       "    <tr>\n",
       "      <th>Acanthobrama tricolor</th>\n",
       "      <td>1</td>\n",
       "    </tr>\n",
       "  </tbody>\n",
       "</table>\n",
       "</div>"
      ],
      "text/plain": [
       "                             count\n",
       "species                           \n",
       "Aaptosyax grypus                 2\n",
       "Aborichthys elongatus            1\n",
       "Abramis brama               114212\n",
       "Acantharchus pomotis           477\n",
       "Acanthobrama centisquama         1\n",
       "Acanthobrama lissneri           58\n",
       "Acanthobrama marmid             18\n",
       "Acanthobrama telavivensis       39\n",
       "Acanthobrama terraesanctae      11\n",
       "Acanthobrama tricolor            1"
      ]
     },
     "execution_count": 6,
     "metadata": {},
     "output_type": "execute_result"
    }
   ],
   "source": [
    "grouped_lat_long_year_or_eventdate = pd.DataFrame()\n",
    "grouped_lat_long_year_or_eventdate['count'] = result_with_lat_long[result_with_lat_long.eventdate.notnull() | result_with_lat_long.year.notnull()].groupby(['species']).apply(lambda x: x['species'].count())\n",
    "grouped_lat_long_year_or_eventdate.head(10) # peak at the top 10 only"
   ]
  },
  {
   "cell_type": "markdown",
   "metadata": {},
   "source": [
    "### How many unique species HAVE records with latitude/longitude, AND date of event (at least year)"
   ]
  },
  {
   "cell_type": "code",
   "execution_count": 7,
   "metadata": {
    "collapsed": false
   },
   "outputs": [
    {
     "data": {
      "text/plain": [
       "5242"
      ]
     },
     "execution_count": 7,
     "metadata": {},
     "output_type": "execute_result"
    }
   ],
   "source": [
    "result_with_lat_long['species'].unique().size"
   ]
  },
  {
   "cell_type": "markdown",
   "metadata": {},
   "source": [
    "### How many unique species with latitude/longitude, AND event date after 1990?"
   ]
  },
  {
   "cell_type": "code",
   "execution_count": 8,
   "metadata": {
    "collapsed": false
   },
   "outputs": [
    {
     "data": {
      "text/plain": [
       "4036"
      ]
     },
     "execution_count": 8,
     "metadata": {},
     "output_type": "execute_result"
    }
   ],
   "source": [
    "year_or_eventdate_1990 = result_with_lat_long[['species', 'year', 'eventdate', 'basisofrecord', 'decimallatitude', 'decimallongitude']][(result_with_lat_long.year>1990) | (result_with_lat_long.eventdate>\"1990\")]\n",
    "\n",
    "grouped_year_or_eventdate_1990 = pd.DataFrame()\n",
    "grouped_year_or_eventdate_1990['numobservations'] = year_or_eventdate_1990.groupby(['species']).apply(lambda x: x['species'].count())\n",
    "grouped_year_or_eventdate_1990.shape[0]"
   ]
  },
  {
   "cell_type": "code",
   "execution_count": 9,
   "metadata": {
    "collapsed": false
   },
   "outputs": [
    {
     "data": {
      "text/plain": [
       "array(['PRESERVED_SPECIMEN', 'UNKNOWN', 'HUMAN_OBSERVATION', 'OBSERVATION',\n",
       "       'MACHINE_OBSERVATION', 'LITERATURE', 'MATERIAL_SAMPLE',\n",
       "       'LIVING_SPECIMEN', 'FOSSIL_SPECIMEN'], dtype=object)"
      ]
     },
     "execution_count": 9,
     "metadata": {},
     "output_type": "execute_result"
    }
   ],
   "source": [
    "year_or_eventdate_1990.basisofrecord.unique()"
   ]
  },
  {
   "cell_type": "markdown",
   "metadata": {},
   "source": [
    "I guess we should keep only observations of type 'OBSERVATION', 'MACHINE_OBSERVATION' and 'HUMAN_OBSERVATION'?"
   ]
  },
  {
   "cell_type": "code",
   "execution_count": 10,
   "metadata": {
    "collapsed": false
   },
   "outputs": [],
   "source": [
    "final_selection = year_or_eventdate_1990[(year_or_eventdate_1990.basisofrecord=='OBSERVATION') | (year_or_eventdate_1990.basisofrecord=='HUMAN_OBSERVATION') | (year_or_eventdate_1990.basisofrecord=='MACHINE_OBSERVATION')]"
   ]
  },
  {
   "cell_type": "code",
   "execution_count": 11,
   "metadata": {
    "collapsed": false
   },
   "outputs": [
    {
     "data": {
      "text/plain": [
       "(1001,)"
      ]
     },
     "execution_count": 11,
     "metadata": {},
     "output_type": "execute_result"
    }
   ],
   "source": [
    "final_selection.species.unique().shape"
   ]
  },
  {
   "cell_type": "code",
   "execution_count": 12,
   "metadata": {
    "collapsed": false
   },
   "outputs": [
    {
     "data": {
      "text/html": [
       "<div>\n",
       "<table border=\"1\" class=\"dataframe\">\n",
       "  <thead>\n",
       "    <tr style=\"text-align: right;\">\n",
       "      <th></th>\n",
       "      <th>species</th>\n",
       "      <th>year</th>\n",
       "      <th>eventdate</th>\n",
       "      <th>basisofrecord</th>\n",
       "      <th>decimallatitude</th>\n",
       "      <th>decimallongitude</th>\n",
       "    </tr>\n",
       "  </thead>\n",
       "  <tbody>\n",
       "    <tr>\n",
       "      <th>399</th>\n",
       "      <td>Haplochromis elegans</td>\n",
       "      <td>2007.0</td>\n",
       "      <td>2007-01-29T23:00:00.000+0000</td>\n",
       "      <td>HUMAN_OBSERVATION</td>\n",
       "      <td>0.05810</td>\n",
       "      <td>30.15430</td>\n",
       "    </tr>\n",
       "    <tr>\n",
       "      <th>400</th>\n",
       "      <td>Haplochromis elegans</td>\n",
       "      <td>2007.0</td>\n",
       "      <td>2007-01-27T23:00:00.000+0000</td>\n",
       "      <td>HUMAN_OBSERVATION</td>\n",
       "      <td>-0.18930</td>\n",
       "      <td>29.94970</td>\n",
       "    </tr>\n",
       "    <tr>\n",
       "      <th>401</th>\n",
       "      <td>Haplochromis elegans</td>\n",
       "      <td>2007.0</td>\n",
       "      <td>2007-01-28T23:00:00.000+0000</td>\n",
       "      <td>HUMAN_OBSERVATION</td>\n",
       "      <td>0.05620</td>\n",
       "      <td>30.07970</td>\n",
       "    </tr>\n",
       "    <tr>\n",
       "      <th>402</th>\n",
       "      <td>Haplochromis elegans</td>\n",
       "      <td>2007.0</td>\n",
       "      <td>2007-01-31T23:00:00.000+0000</td>\n",
       "      <td>HUMAN_OBSERVATION</td>\n",
       "      <td>-0.08050</td>\n",
       "      <td>30.18710</td>\n",
       "    </tr>\n",
       "    <tr>\n",
       "      <th>403</th>\n",
       "      <td>Haplochromis elegans</td>\n",
       "      <td>2006.0</td>\n",
       "      <td>2006-11-21T23:00:00.000+0000</td>\n",
       "      <td>HUMAN_OBSERVATION</td>\n",
       "      <td>0.05670</td>\n",
       "      <td>30.14480</td>\n",
       "    </tr>\n",
       "    <tr>\n",
       "      <th>404</th>\n",
       "      <td>Haplochromis elegans</td>\n",
       "      <td>2006.0</td>\n",
       "      <td>2006-11-21T23:00:00.000+0000</td>\n",
       "      <td>HUMAN_OBSERVATION</td>\n",
       "      <td>0.05670</td>\n",
       "      <td>30.14480</td>\n",
       "    </tr>\n",
       "    <tr>\n",
       "      <th>561</th>\n",
       "      <td>Cirrhinus molitorella</td>\n",
       "      <td>2013.0</td>\n",
       "      <td>2013-10-12T17:13:31.000+0000</td>\n",
       "      <td>HUMAN_OBSERVATION</td>\n",
       "      <td>40.41930</td>\n",
       "      <td>-79.92587</td>\n",
       "    </tr>\n",
       "    <tr>\n",
       "      <th>593</th>\n",
       "      <td>Cirrhinus molitorella</td>\n",
       "      <td>1990.0</td>\n",
       "      <td>1990-06-26T22:00:00.000+0000</td>\n",
       "      <td>OBSERVATION</td>\n",
       "      <td>23.18000</td>\n",
       "      <td>120.35000</td>\n",
       "    </tr>\n",
       "    <tr>\n",
       "      <th>1497</th>\n",
       "      <td>Nannocharax macropterus</td>\n",
       "      <td>2015.0</td>\n",
       "      <td>2015-05-03T22:00:00.000+0000</td>\n",
       "      <td>HUMAN_OBSERVATION</td>\n",
       "      <td>-15.56737</td>\n",
       "      <td>23.28333</td>\n",
       "    </tr>\n",
       "    <tr>\n",
       "      <th>1589</th>\n",
       "      <td>Nannocharax macropterus</td>\n",
       "      <td>2000.0</td>\n",
       "      <td>2000-06-07T22:00:00.000+0000</td>\n",
       "      <td>HUMAN_OBSERVATION</td>\n",
       "      <td>-18.27400</td>\n",
       "      <td>21.78700</td>\n",
       "    </tr>\n",
       "    <tr>\n",
       "      <th>1592</th>\n",
       "      <td>Nannocharax macropterus</td>\n",
       "      <td>2000.0</td>\n",
       "      <td>2000-06-07T22:00:00.000+0000</td>\n",
       "      <td>HUMAN_OBSERVATION</td>\n",
       "      <td>-18.27200</td>\n",
       "      <td>21.81000</td>\n",
       "    </tr>\n",
       "    <tr>\n",
       "      <th>1593</th>\n",
       "      <td>Nannocharax macropterus</td>\n",
       "      <td>2000.0</td>\n",
       "      <td>2000-06-04T22:00:00.000+0000</td>\n",
       "      <td>HUMAN_OBSERVATION</td>\n",
       "      <td>-18.99000</td>\n",
       "      <td>23.42900</td>\n",
       "    </tr>\n",
       "    <tr>\n",
       "      <th>1594</th>\n",
       "      <td>Nannocharax macropterus</td>\n",
       "      <td>2000.0</td>\n",
       "      <td>2000-06-08T22:00:00.000+0000</td>\n",
       "      <td>HUMAN_OBSERVATION</td>\n",
       "      <td>-18.44000</td>\n",
       "      <td>21.91200</td>\n",
       "    </tr>\n",
       "    <tr>\n",
       "      <th>1595</th>\n",
       "      <td>Nannocharax macropterus</td>\n",
       "      <td>2000.0</td>\n",
       "      <td>2000-06-06T22:00:00.000+0000</td>\n",
       "      <td>HUMAN_OBSERVATION</td>\n",
       "      <td>-18.40700</td>\n",
       "      <td>21.88600</td>\n",
       "    </tr>\n",
       "    <tr>\n",
       "      <th>1598</th>\n",
       "      <td>Nannocharax macropterus</td>\n",
       "      <td>2000.0</td>\n",
       "      <td>2000-06-06T22:00:00.000+0000</td>\n",
       "      <td>HUMAN_OBSERVATION</td>\n",
       "      <td>-18.40700</td>\n",
       "      <td>21.88600</td>\n",
       "    </tr>\n",
       "    <tr>\n",
       "      <th>1601</th>\n",
       "      <td>Nannocharax macropterus</td>\n",
       "      <td>2000.0</td>\n",
       "      <td>2000-06-08T22:00:00.000+0000</td>\n",
       "      <td>HUMAN_OBSERVATION</td>\n",
       "      <td>-18.42400</td>\n",
       "      <td>21.93900</td>\n",
       "    </tr>\n",
       "    <tr>\n",
       "      <th>5716</th>\n",
       "      <td>Rhinichthys falcatus</td>\n",
       "      <td>1993.0</td>\n",
       "      <td>1993-10-23T23:00:00.000+0000</td>\n",
       "      <td>HUMAN_OBSERVATION</td>\n",
       "      <td>50.11667</td>\n",
       "      <td>-120.80000</td>\n",
       "    </tr>\n",
       "    <tr>\n",
       "      <th>5717</th>\n",
       "      <td>Rhinichthys falcatus</td>\n",
       "      <td>1993.0</td>\n",
       "      <td>1993-10-07T23:00:00.000+0000</td>\n",
       "      <td>HUMAN_OBSERVATION</td>\n",
       "      <td>50.43333</td>\n",
       "      <td>-121.31667</td>\n",
       "    </tr>\n",
       "    <tr>\n",
       "      <th>5718</th>\n",
       "      <td>Rhinichthys falcatus</td>\n",
       "      <td>1992.0</td>\n",
       "      <td>1992-09-25T22:00:00.000+0000</td>\n",
       "      <td>HUMAN_OBSERVATION</td>\n",
       "      <td>50.11667</td>\n",
       "      <td>-120.80000</td>\n",
       "    </tr>\n",
       "    <tr>\n",
       "      <th>6227</th>\n",
       "      <td>Salaria fluviatilis</td>\n",
       "      <td>2015.0</td>\n",
       "      <td>2015-06-09T22:00:00.000+0000</td>\n",
       "      <td>HUMAN_OBSERVATION</td>\n",
       "      <td>42.12337</td>\n",
       "      <td>12.17802</td>\n",
       "    </tr>\n",
       "    <tr>\n",
       "      <th>6237</th>\n",
       "      <td>Salaria fluviatilis</td>\n",
       "      <td>2011.0</td>\n",
       "      <td>2011-08-24T22:00:00.000+0000</td>\n",
       "      <td>HUMAN_OBSERVATION</td>\n",
       "      <td>38.98880</td>\n",
       "      <td>-0.18757</td>\n",
       "    </tr>\n",
       "    <tr>\n",
       "      <th>6238</th>\n",
       "      <td>Salaria fluviatilis</td>\n",
       "      <td>2011.0</td>\n",
       "      <td>NaN</td>\n",
       "      <td>HUMAN_OBSERVATION</td>\n",
       "      <td>45.33556</td>\n",
       "      <td>8.89028</td>\n",
       "    </tr>\n",
       "    <tr>\n",
       "      <th>6239</th>\n",
       "      <td>Salaria fluviatilis</td>\n",
       "      <td>2011.0</td>\n",
       "      <td>NaN</td>\n",
       "      <td>HUMAN_OBSERVATION</td>\n",
       "      <td>45.23167</td>\n",
       "      <td>9.02583</td>\n",
       "    </tr>\n",
       "    <tr>\n",
       "      <th>6240</th>\n",
       "      <td>Salaria fluviatilis</td>\n",
       "      <td>2011.0</td>\n",
       "      <td>NaN</td>\n",
       "      <td>HUMAN_OBSERVATION</td>\n",
       "      <td>46.01317</td>\n",
       "      <td>9.26097</td>\n",
       "    </tr>\n",
       "    <tr>\n",
       "      <th>6241</th>\n",
       "      <td>Salaria fluviatilis</td>\n",
       "      <td>2011.0</td>\n",
       "      <td>NaN</td>\n",
       "      <td>HUMAN_OBSERVATION</td>\n",
       "      <td>45.91123</td>\n",
       "      <td>8.56348</td>\n",
       "    </tr>\n",
       "    <tr>\n",
       "      <th>6242</th>\n",
       "      <td>Salaria fluviatilis</td>\n",
       "      <td>2011.0</td>\n",
       "      <td>NaN</td>\n",
       "      <td>HUMAN_OBSERVATION</td>\n",
       "      <td>45.19056</td>\n",
       "      <td>9.12639</td>\n",
       "    </tr>\n",
       "    <tr>\n",
       "      <th>6243</th>\n",
       "      <td>Salaria fluviatilis</td>\n",
       "      <td>2011.0</td>\n",
       "      <td>NaN</td>\n",
       "      <td>HUMAN_OBSERVATION</td>\n",
       "      <td>45.59969</td>\n",
       "      <td>10.63168</td>\n",
       "    </tr>\n",
       "    <tr>\n",
       "      <th>6244</th>\n",
       "      <td>Salaria fluviatilis</td>\n",
       "      <td>2011.0</td>\n",
       "      <td>NaN</td>\n",
       "      <td>HUMAN_OBSERVATION</td>\n",
       "      <td>45.33556</td>\n",
       "      <td>8.89028</td>\n",
       "    </tr>\n",
       "    <tr>\n",
       "      <th>6245</th>\n",
       "      <td>Salaria fluviatilis</td>\n",
       "      <td>2011.0</td>\n",
       "      <td>NaN</td>\n",
       "      <td>HUMAN_OBSERVATION</td>\n",
       "      <td>45.23167</td>\n",
       "      <td>9.02583</td>\n",
       "    </tr>\n",
       "    <tr>\n",
       "      <th>6246</th>\n",
       "      <td>Salaria fluviatilis</td>\n",
       "      <td>2011.0</td>\n",
       "      <td>NaN</td>\n",
       "      <td>HUMAN_OBSERVATION</td>\n",
       "      <td>46.01317</td>\n",
       "      <td>9.26097</td>\n",
       "    </tr>\n",
       "    <tr>\n",
       "      <th>...</th>\n",
       "      <td>...</td>\n",
       "      <td>...</td>\n",
       "      <td>...</td>\n",
       "      <td>...</td>\n",
       "      <td>...</td>\n",
       "      <td>...</td>\n",
       "    </tr>\n",
       "    <tr>\n",
       "      <th>4710646</th>\n",
       "      <td>Capoeta turani</td>\n",
       "      <td>2007.0</td>\n",
       "      <td>2007-11-05T23:00:00.000+0000</td>\n",
       "      <td>HUMAN_OBSERVATION</td>\n",
       "      <td>37.13850</td>\n",
       "      <td>35.14217</td>\n",
       "    </tr>\n",
       "    <tr>\n",
       "      <th>4710647</th>\n",
       "      <td>Capoeta turani</td>\n",
       "      <td>2007.0</td>\n",
       "      <td>2007-11-05T23:00:00.000+0000</td>\n",
       "      <td>HUMAN_OBSERVATION</td>\n",
       "      <td>37.09617</td>\n",
       "      <td>35.11700</td>\n",
       "    </tr>\n",
       "    <tr>\n",
       "      <th>4710849</th>\n",
       "      <td>Schistura kongphengi</td>\n",
       "      <td>2000.0</td>\n",
       "      <td>2000-03-19T23:00:00.000+0000</td>\n",
       "      <td>HUMAN_OBSERVATION</td>\n",
       "      <td>16.31083</td>\n",
       "      <td>107.19350</td>\n",
       "    </tr>\n",
       "    <tr>\n",
       "      <th>4710850</th>\n",
       "      <td>Schistura kongphengi</td>\n",
       "      <td>2000.0</td>\n",
       "      <td>2000-03-19T23:00:00.000+0000</td>\n",
       "      <td>HUMAN_OBSERVATION</td>\n",
       "      <td>16.34283</td>\n",
       "      <td>107.15683</td>\n",
       "    </tr>\n",
       "    <tr>\n",
       "      <th>4710851</th>\n",
       "      <td>Schistura kongphengi</td>\n",
       "      <td>2000.0</td>\n",
       "      <td>2000-03-19T23:00:00.000+0000</td>\n",
       "      <td>HUMAN_OBSERVATION</td>\n",
       "      <td>16.20517</td>\n",
       "      <td>107.29017</td>\n",
       "    </tr>\n",
       "    <tr>\n",
       "      <th>4710852</th>\n",
       "      <td>Schistura kongphengi</td>\n",
       "      <td>1996.0</td>\n",
       "      <td>1996-03-19T23:00:00.000+0000</td>\n",
       "      <td>HUMAN_OBSERVATION</td>\n",
       "      <td>18.11867</td>\n",
       "      <td>105.26750</td>\n",
       "    </tr>\n",
       "    <tr>\n",
       "      <th>4711398</th>\n",
       "      <td>Proterorhinus tataricus</td>\n",
       "      <td>2003.0</td>\n",
       "      <td>2003-06-18T22:00:00.000+0000</td>\n",
       "      <td>HUMAN_OBSERVATION</td>\n",
       "      <td>44.57033</td>\n",
       "      <td>33.63750</td>\n",
       "    </tr>\n",
       "    <tr>\n",
       "      <th>4711399</th>\n",
       "      <td>Proterorhinus tataricus</td>\n",
       "      <td>2003.0</td>\n",
       "      <td>2003-06-17T22:00:00.000+0000</td>\n",
       "      <td>HUMAN_OBSERVATION</td>\n",
       "      <td>44.54500</td>\n",
       "      <td>33.66517</td>\n",
       "    </tr>\n",
       "    <tr>\n",
       "      <th>4711400</th>\n",
       "      <td>Proterorhinus tataricus</td>\n",
       "      <td>2003.0</td>\n",
       "      <td>2003-06-18T22:00:00.000+0000</td>\n",
       "      <td>HUMAN_OBSERVATION</td>\n",
       "      <td>44.57033</td>\n",
       "      <td>33.63750</td>\n",
       "    </tr>\n",
       "    <tr>\n",
       "      <th>4711401</th>\n",
       "      <td>Proterorhinus tataricus</td>\n",
       "      <td>2002.0</td>\n",
       "      <td>2002-06-12T22:00:00.000+0000</td>\n",
       "      <td>HUMAN_OBSERVATION</td>\n",
       "      <td>44.61550</td>\n",
       "      <td>33.60367</td>\n",
       "    </tr>\n",
       "    <tr>\n",
       "      <th>4711402</th>\n",
       "      <td>Proterorhinus tataricus</td>\n",
       "      <td>2002.0</td>\n",
       "      <td>2002-06-12T22:00:00.000+0000</td>\n",
       "      <td>HUMAN_OBSERVATION</td>\n",
       "      <td>44.54467</td>\n",
       "      <td>33.66500</td>\n",
       "    </tr>\n",
       "    <tr>\n",
       "      <th>4712104</th>\n",
       "      <td>Eremichthys acros</td>\n",
       "      <td>1999.0</td>\n",
       "      <td>1998-12-31T23:00:00.000+0000</td>\n",
       "      <td>HUMAN_OBSERVATION</td>\n",
       "      <td>41.39184</td>\n",
       "      <td>-119.16352</td>\n",
       "    </tr>\n",
       "    <tr>\n",
       "      <th>4712810</th>\n",
       "      <td>Gobiomorphus basalis</td>\n",
       "      <td>2013.0</td>\n",
       "      <td>2013-03-31T08:50:00.000+0000</td>\n",
       "      <td>HUMAN_OBSERVATION</td>\n",
       "      <td>-37.07322</td>\n",
       "      <td>175.65800</td>\n",
       "    </tr>\n",
       "    <tr>\n",
       "      <th>4712811</th>\n",
       "      <td>Gobiomorphus basalis</td>\n",
       "      <td>2013.0</td>\n",
       "      <td>2013-03-31T08:50:00.000+0000</td>\n",
       "      <td>HUMAN_OBSERVATION</td>\n",
       "      <td>-37.07322</td>\n",
       "      <td>175.65799</td>\n",
       "    </tr>\n",
       "    <tr>\n",
       "      <th>4715035</th>\n",
       "      <td>Etheostoma fusiforme</td>\n",
       "      <td>2007.0</td>\n",
       "      <td>2007-06-11T22:00:00.000+0000</td>\n",
       "      <td>HUMAN_OBSERVATION</td>\n",
       "      <td>35.45639</td>\n",
       "      <td>-82.56834</td>\n",
       "    </tr>\n",
       "    <tr>\n",
       "      <th>4715037</th>\n",
       "      <td>Etheostoma fusiforme</td>\n",
       "      <td>2007.0</td>\n",
       "      <td>2007-06-13T22:00:00.000+0000</td>\n",
       "      <td>HUMAN_OBSERVATION</td>\n",
       "      <td>35.66694</td>\n",
       "      <td>-82.99111</td>\n",
       "    </tr>\n",
       "    <tr>\n",
       "      <th>4715038</th>\n",
       "      <td>Etheostoma fusiforme</td>\n",
       "      <td>2007.0</td>\n",
       "      <td>2007-06-13T22:00:00.000+0000</td>\n",
       "      <td>HUMAN_OBSERVATION</td>\n",
       "      <td>35.66694</td>\n",
       "      <td>-82.99111</td>\n",
       "    </tr>\n",
       "    <tr>\n",
       "      <th>4715040</th>\n",
       "      <td>Etheostoma fusiforme</td>\n",
       "      <td>2007.0</td>\n",
       "      <td>2007-06-11T22:00:00.000+0000</td>\n",
       "      <td>HUMAN_OBSERVATION</td>\n",
       "      <td>35.45639</td>\n",
       "      <td>-82.56834</td>\n",
       "    </tr>\n",
       "    <tr>\n",
       "      <th>4715041</th>\n",
       "      <td>Etheostoma fusiforme</td>\n",
       "      <td>2007.0</td>\n",
       "      <td>2007-06-11T22:00:00.000+0000</td>\n",
       "      <td>HUMAN_OBSERVATION</td>\n",
       "      <td>35.45639</td>\n",
       "      <td>-82.56834</td>\n",
       "    </tr>\n",
       "    <tr>\n",
       "      <th>4715042</th>\n",
       "      <td>Etheostoma fusiforme</td>\n",
       "      <td>2007.0</td>\n",
       "      <td>2007-06-13T22:00:00.000+0000</td>\n",
       "      <td>HUMAN_OBSERVATION</td>\n",
       "      <td>35.66694</td>\n",
       "      <td>-82.99111</td>\n",
       "    </tr>\n",
       "    <tr>\n",
       "      <th>4715185</th>\n",
       "      <td>Etheostoma fusiforme</td>\n",
       "      <td>2002.0</td>\n",
       "      <td>2002-06-03T22:00:00.000+0000</td>\n",
       "      <td>HUMAN_OBSERVATION</td>\n",
       "      <td>35.30722</td>\n",
       "      <td>-82.42973</td>\n",
       "    </tr>\n",
       "    <tr>\n",
       "      <th>4715187</th>\n",
       "      <td>Etheostoma fusiforme</td>\n",
       "      <td>2002.0</td>\n",
       "      <td>2002-06-03T22:00:00.000+0000</td>\n",
       "      <td>HUMAN_OBSERVATION</td>\n",
       "      <td>35.30722</td>\n",
       "      <td>-82.42973</td>\n",
       "    </tr>\n",
       "    <tr>\n",
       "      <th>4715189</th>\n",
       "      <td>Etheostoma fusiforme</td>\n",
       "      <td>2002.0</td>\n",
       "      <td>2002-06-03T22:00:00.000+0000</td>\n",
       "      <td>HUMAN_OBSERVATION</td>\n",
       "      <td>35.30722</td>\n",
       "      <td>-82.42973</td>\n",
       "    </tr>\n",
       "    <tr>\n",
       "      <th>4715484</th>\n",
       "      <td>Etheostoma fusiforme</td>\n",
       "      <td>1991.0</td>\n",
       "      <td>1990-12-31T23:00:00.000+0000</td>\n",
       "      <td>HUMAN_OBSERVATION</td>\n",
       "      <td>35.71195</td>\n",
       "      <td>-82.44827</td>\n",
       "    </tr>\n",
       "    <tr>\n",
       "      <th>4725965</th>\n",
       "      <td>Macropodus erythropterus</td>\n",
       "      <td>2000.0</td>\n",
       "      <td>2000-03-17T23:00:00.000+0000</td>\n",
       "      <td>HUMAN_OBSERVATION</td>\n",
       "      <td>16.70033</td>\n",
       "      <td>106.87783</td>\n",
       "    </tr>\n",
       "    <tr>\n",
       "      <th>4725966</th>\n",
       "      <td>Macropodus erythropterus</td>\n",
       "      <td>2000.0</td>\n",
       "      <td>2000-03-17T23:00:00.000+0000</td>\n",
       "      <td>HUMAN_OBSERVATION</td>\n",
       "      <td>16.71983</td>\n",
       "      <td>106.86883</td>\n",
       "    </tr>\n",
       "    <tr>\n",
       "      <th>4725967</th>\n",
       "      <td>Macropodus erythropterus</td>\n",
       "      <td>2000.0</td>\n",
       "      <td>2000-03-17T23:00:00.000+0000</td>\n",
       "      <td>HUMAN_OBSERVATION</td>\n",
       "      <td>16.76183</td>\n",
       "      <td>106.86050</td>\n",
       "    </tr>\n",
       "    <tr>\n",
       "      <th>4725974</th>\n",
       "      <td>Macropodus erythropterus</td>\n",
       "      <td>2000.0</td>\n",
       "      <td>2000-04-07T22:00:00.000+0000</td>\n",
       "      <td>HUMAN_OBSERVATION</td>\n",
       "      <td>17.21933</td>\n",
       "      <td>106.65133</td>\n",
       "    </tr>\n",
       "    <tr>\n",
       "      <th>4725976</th>\n",
       "      <td>Macropodus erythropterus</td>\n",
       "      <td>2000.0</td>\n",
       "      <td>2000-04-07T22:00:00.000+0000</td>\n",
       "      <td>HUMAN_OBSERVATION</td>\n",
       "      <td>17.23533</td>\n",
       "      <td>106.62517</td>\n",
       "    </tr>\n",
       "    <tr>\n",
       "      <th>4725983</th>\n",
       "      <td>Macropodus erythropterus</td>\n",
       "      <td>1999.0</td>\n",
       "      <td>1999-03-13T23:00:00.000+0000</td>\n",
       "      <td>HUMAN_OBSERVATION</td>\n",
       "      <td>16.78333</td>\n",
       "      <td>106.89767</td>\n",
       "    </tr>\n",
       "  </tbody>\n",
       "</table>\n",
       "<p>1939676 rows × 6 columns</p>\n",
       "</div>"
      ],
      "text/plain": [
       "                          species    year                     eventdate  \\\n",
       "399          Haplochromis elegans  2007.0  2007-01-29T23:00:00.000+0000   \n",
       "400          Haplochromis elegans  2007.0  2007-01-27T23:00:00.000+0000   \n",
       "401          Haplochromis elegans  2007.0  2007-01-28T23:00:00.000+0000   \n",
       "402          Haplochromis elegans  2007.0  2007-01-31T23:00:00.000+0000   \n",
       "403          Haplochromis elegans  2006.0  2006-11-21T23:00:00.000+0000   \n",
       "404          Haplochromis elegans  2006.0  2006-11-21T23:00:00.000+0000   \n",
       "561         Cirrhinus molitorella  2013.0  2013-10-12T17:13:31.000+0000   \n",
       "593         Cirrhinus molitorella  1990.0  1990-06-26T22:00:00.000+0000   \n",
       "1497      Nannocharax macropterus  2015.0  2015-05-03T22:00:00.000+0000   \n",
       "1589      Nannocharax macropterus  2000.0  2000-06-07T22:00:00.000+0000   \n",
       "1592      Nannocharax macropterus  2000.0  2000-06-07T22:00:00.000+0000   \n",
       "1593      Nannocharax macropterus  2000.0  2000-06-04T22:00:00.000+0000   \n",
       "1594      Nannocharax macropterus  2000.0  2000-06-08T22:00:00.000+0000   \n",
       "1595      Nannocharax macropterus  2000.0  2000-06-06T22:00:00.000+0000   \n",
       "1598      Nannocharax macropterus  2000.0  2000-06-06T22:00:00.000+0000   \n",
       "1601      Nannocharax macropterus  2000.0  2000-06-08T22:00:00.000+0000   \n",
       "5716         Rhinichthys falcatus  1993.0  1993-10-23T23:00:00.000+0000   \n",
       "5717         Rhinichthys falcatus  1993.0  1993-10-07T23:00:00.000+0000   \n",
       "5718         Rhinichthys falcatus  1992.0  1992-09-25T22:00:00.000+0000   \n",
       "6227          Salaria fluviatilis  2015.0  2015-06-09T22:00:00.000+0000   \n",
       "6237          Salaria fluviatilis  2011.0  2011-08-24T22:00:00.000+0000   \n",
       "6238          Salaria fluviatilis  2011.0                           NaN   \n",
       "6239          Salaria fluviatilis  2011.0                           NaN   \n",
       "6240          Salaria fluviatilis  2011.0                           NaN   \n",
       "6241          Salaria fluviatilis  2011.0                           NaN   \n",
       "6242          Salaria fluviatilis  2011.0                           NaN   \n",
       "6243          Salaria fluviatilis  2011.0                           NaN   \n",
       "6244          Salaria fluviatilis  2011.0                           NaN   \n",
       "6245          Salaria fluviatilis  2011.0                           NaN   \n",
       "6246          Salaria fluviatilis  2011.0                           NaN   \n",
       "...                           ...     ...                           ...   \n",
       "4710646            Capoeta turani  2007.0  2007-11-05T23:00:00.000+0000   \n",
       "4710647            Capoeta turani  2007.0  2007-11-05T23:00:00.000+0000   \n",
       "4710849      Schistura kongphengi  2000.0  2000-03-19T23:00:00.000+0000   \n",
       "4710850      Schistura kongphengi  2000.0  2000-03-19T23:00:00.000+0000   \n",
       "4710851      Schistura kongphengi  2000.0  2000-03-19T23:00:00.000+0000   \n",
       "4710852      Schistura kongphengi  1996.0  1996-03-19T23:00:00.000+0000   \n",
       "4711398   Proterorhinus tataricus  2003.0  2003-06-18T22:00:00.000+0000   \n",
       "4711399   Proterorhinus tataricus  2003.0  2003-06-17T22:00:00.000+0000   \n",
       "4711400   Proterorhinus tataricus  2003.0  2003-06-18T22:00:00.000+0000   \n",
       "4711401   Proterorhinus tataricus  2002.0  2002-06-12T22:00:00.000+0000   \n",
       "4711402   Proterorhinus tataricus  2002.0  2002-06-12T22:00:00.000+0000   \n",
       "4712104         Eremichthys acros  1999.0  1998-12-31T23:00:00.000+0000   \n",
       "4712810      Gobiomorphus basalis  2013.0  2013-03-31T08:50:00.000+0000   \n",
       "4712811      Gobiomorphus basalis  2013.0  2013-03-31T08:50:00.000+0000   \n",
       "4715035      Etheostoma fusiforme  2007.0  2007-06-11T22:00:00.000+0000   \n",
       "4715037      Etheostoma fusiforme  2007.0  2007-06-13T22:00:00.000+0000   \n",
       "4715038      Etheostoma fusiforme  2007.0  2007-06-13T22:00:00.000+0000   \n",
       "4715040      Etheostoma fusiforme  2007.0  2007-06-11T22:00:00.000+0000   \n",
       "4715041      Etheostoma fusiforme  2007.0  2007-06-11T22:00:00.000+0000   \n",
       "4715042      Etheostoma fusiforme  2007.0  2007-06-13T22:00:00.000+0000   \n",
       "4715185      Etheostoma fusiforme  2002.0  2002-06-03T22:00:00.000+0000   \n",
       "4715187      Etheostoma fusiforme  2002.0  2002-06-03T22:00:00.000+0000   \n",
       "4715189      Etheostoma fusiforme  2002.0  2002-06-03T22:00:00.000+0000   \n",
       "4715484      Etheostoma fusiforme  1991.0  1990-12-31T23:00:00.000+0000   \n",
       "4725965  Macropodus erythropterus  2000.0  2000-03-17T23:00:00.000+0000   \n",
       "4725966  Macropodus erythropterus  2000.0  2000-03-17T23:00:00.000+0000   \n",
       "4725967  Macropodus erythropterus  2000.0  2000-03-17T23:00:00.000+0000   \n",
       "4725974  Macropodus erythropterus  2000.0  2000-04-07T22:00:00.000+0000   \n",
       "4725976  Macropodus erythropterus  2000.0  2000-04-07T22:00:00.000+0000   \n",
       "4725983  Macropodus erythropterus  1999.0  1999-03-13T23:00:00.000+0000   \n",
       "\n",
       "             basisofrecord  decimallatitude  decimallongitude  \n",
       "399      HUMAN_OBSERVATION          0.05810          30.15430  \n",
       "400      HUMAN_OBSERVATION         -0.18930          29.94970  \n",
       "401      HUMAN_OBSERVATION          0.05620          30.07970  \n",
       "402      HUMAN_OBSERVATION         -0.08050          30.18710  \n",
       "403      HUMAN_OBSERVATION          0.05670          30.14480  \n",
       "404      HUMAN_OBSERVATION          0.05670          30.14480  \n",
       "561      HUMAN_OBSERVATION         40.41930         -79.92587  \n",
       "593            OBSERVATION         23.18000         120.35000  \n",
       "1497     HUMAN_OBSERVATION        -15.56737          23.28333  \n",
       "1589     HUMAN_OBSERVATION        -18.27400          21.78700  \n",
       "1592     HUMAN_OBSERVATION        -18.27200          21.81000  \n",
       "1593     HUMAN_OBSERVATION        -18.99000          23.42900  \n",
       "1594     HUMAN_OBSERVATION        -18.44000          21.91200  \n",
       "1595     HUMAN_OBSERVATION        -18.40700          21.88600  \n",
       "1598     HUMAN_OBSERVATION        -18.40700          21.88600  \n",
       "1601     HUMAN_OBSERVATION        -18.42400          21.93900  \n",
       "5716     HUMAN_OBSERVATION         50.11667        -120.80000  \n",
       "5717     HUMAN_OBSERVATION         50.43333        -121.31667  \n",
       "5718     HUMAN_OBSERVATION         50.11667        -120.80000  \n",
       "6227     HUMAN_OBSERVATION         42.12337          12.17802  \n",
       "6237     HUMAN_OBSERVATION         38.98880          -0.18757  \n",
       "6238     HUMAN_OBSERVATION         45.33556           8.89028  \n",
       "6239     HUMAN_OBSERVATION         45.23167           9.02583  \n",
       "6240     HUMAN_OBSERVATION         46.01317           9.26097  \n",
       "6241     HUMAN_OBSERVATION         45.91123           8.56348  \n",
       "6242     HUMAN_OBSERVATION         45.19056           9.12639  \n",
       "6243     HUMAN_OBSERVATION         45.59969          10.63168  \n",
       "6244     HUMAN_OBSERVATION         45.33556           8.89028  \n",
       "6245     HUMAN_OBSERVATION         45.23167           9.02583  \n",
       "6246     HUMAN_OBSERVATION         46.01317           9.26097  \n",
       "...                    ...              ...               ...  \n",
       "4710646  HUMAN_OBSERVATION         37.13850          35.14217  \n",
       "4710647  HUMAN_OBSERVATION         37.09617          35.11700  \n",
       "4710849  HUMAN_OBSERVATION         16.31083         107.19350  \n",
       "4710850  HUMAN_OBSERVATION         16.34283         107.15683  \n",
       "4710851  HUMAN_OBSERVATION         16.20517         107.29017  \n",
       "4710852  HUMAN_OBSERVATION         18.11867         105.26750  \n",
       "4711398  HUMAN_OBSERVATION         44.57033          33.63750  \n",
       "4711399  HUMAN_OBSERVATION         44.54500          33.66517  \n",
       "4711400  HUMAN_OBSERVATION         44.57033          33.63750  \n",
       "4711401  HUMAN_OBSERVATION         44.61550          33.60367  \n",
       "4711402  HUMAN_OBSERVATION         44.54467          33.66500  \n",
       "4712104  HUMAN_OBSERVATION         41.39184        -119.16352  \n",
       "4712810  HUMAN_OBSERVATION        -37.07322         175.65800  \n",
       "4712811  HUMAN_OBSERVATION        -37.07322         175.65799  \n",
       "4715035  HUMAN_OBSERVATION         35.45639         -82.56834  \n",
       "4715037  HUMAN_OBSERVATION         35.66694         -82.99111  \n",
       "4715038  HUMAN_OBSERVATION         35.66694         -82.99111  \n",
       "4715040  HUMAN_OBSERVATION         35.45639         -82.56834  \n",
       "4715041  HUMAN_OBSERVATION         35.45639         -82.56834  \n",
       "4715042  HUMAN_OBSERVATION         35.66694         -82.99111  \n",
       "4715185  HUMAN_OBSERVATION         35.30722         -82.42973  \n",
       "4715187  HUMAN_OBSERVATION         35.30722         -82.42973  \n",
       "4715189  HUMAN_OBSERVATION         35.30722         -82.42973  \n",
       "4715484  HUMAN_OBSERVATION         35.71195         -82.44827  \n",
       "4725965  HUMAN_OBSERVATION         16.70033         106.87783  \n",
       "4725966  HUMAN_OBSERVATION         16.71983         106.86883  \n",
       "4725967  HUMAN_OBSERVATION         16.76183         106.86050  \n",
       "4725974  HUMAN_OBSERVATION         17.21933         106.65133  \n",
       "4725976  HUMAN_OBSERVATION         17.23533         106.62517  \n",
       "4725983  HUMAN_OBSERVATION         16.78333         106.89767  \n",
       "\n",
       "[1939676 rows x 6 columns]"
      ]
     },
     "execution_count": 12,
     "metadata": {},
     "output_type": "execute_result"
    }
   ],
   "source": [
    "final_selection"
   ]
  },
  {
   "cell_type": "code",
   "execution_count": 13,
   "metadata": {
    "collapsed": true
   },
   "outputs": [],
   "source": [
    "from iSDM.species import GBIFSpecies"
   ]
  },
  {
   "cell_type": "code",
   "execution_count": 14,
   "metadata": {
    "collapsed": false
   },
   "outputs": [
    {
     "name": "stderr",
     "output_type": "stream",
     "text": [
      "Enabled Shapely speedups for performance.\n"
     ]
    }
   ],
   "source": [
    "all_species = GBIFSpecies(name_species='All')"
   ]
  },
  {
   "cell_type": "code",
   "execution_count": 15,
   "metadata": {
    "collapsed": true
   },
   "outputs": [],
   "source": [
    "all_species.set_data(final_selection)"
   ]
  },
  {
   "cell_type": "code",
   "execution_count": 16,
   "metadata": {
    "collapsed": false
   },
   "outputs": [
    {
     "data": {
      "text/plain": [
       "(1001,)"
      ]
     },
     "execution_count": 16,
     "metadata": {},
     "output_type": "execute_result"
    }
   ],
   "source": [
    "all_species.get_data().species.unique().shape # these many different species"
   ]
  },
  {
   "cell_type": "code",
   "execution_count": 17,
   "metadata": {
    "collapsed": false
   },
   "outputs": [
    {
     "data": {
      "text/plain": [
       "1939676"
      ]
     },
     "execution_count": 17,
     "metadata": {},
     "output_type": "execute_result"
    }
   ],
   "source": [
    "all_species.get_data().shape[0] # 1939675? this many observations satisfying our criteria (after 1990, with the correct observation type)"
   ]
  },
  {
   "cell_type": "code",
   "execution_count": 18,
   "metadata": {
    "collapsed": false
   },
   "outputs": [
    {
     "data": {
      "text/plain": [
       "2349853"
      ]
     },
     "execution_count": 18,
     "metadata": {},
     "output_type": "execute_result"
    }
   ],
   "source": [
    "year_or_eventdate_1990.shape[0] # total number, before filtering out observations that match our criteria"
   ]
  },
  {
   "cell_type": "code",
   "execution_count": 19,
   "metadata": {
    "collapsed": false
   },
   "outputs": [
    {
     "name": "stderr",
     "output_type": "stream",
     "text": [
      "Data geometrized: converted into GeoPandas dataframe.\n",
      "Points with NaN coordinates ignored. \n"
     ]
    }
   ],
   "source": [
    "all_species.geometrize()"
   ]
  },
  {
   "cell_type": "code",
   "execution_count": 20,
   "metadata": {
    "collapsed": false
   },
   "outputs": [
    {
     "data": {
      "text/plain": [
       "(1001,)"
      ]
     },
     "execution_count": 20,
     "metadata": {},
     "output_type": "execute_result"
    }
   ],
   "source": [
    "all_species.get_data().species.unique().shape"
   ]
  },
  {
   "cell_type": "code",
   "execution_count": 22,
   "metadata": {
    "collapsed": false
   },
   "outputs": [],
   "source": [
    "final_observations = all_species.get_data()[['species', 'year','eventdate', 'basisofrecord','geometry']]"
   ]
  },
  {
   "cell_type": "code",
   "execution_count": 32,
   "metadata": {
    "collapsed": false
   },
   "outputs": [],
   "source": [
    "final_observations.to_file(\"../data/bias_grid/final_observations\", driver=\"ESRI Shapefile\")"
   ]
  },
  {
   "cell_type": "code",
   "execution_count": 21,
   "metadata": {
    "collapsed": false
   },
   "outputs": [
    {
     "data": {
      "text/plain": [
       "162"
      ]
     },
     "execution_count": 21,
     "metadata": {},
     "output_type": "execute_result"
    }
   ],
   "source": [
    "import gc\n",
    "gc.collect()"
   ]
  },
  {
   "cell_type": "code",
   "execution_count": 2,
   "metadata": {
    "collapsed": true
   },
   "outputs": [],
   "source": [
    "from geopandas import GeoDataFrame\n",
    "final_observations = GeoDataFrame.from_file(\"../data/bias_grid/final_observations/\")"
   ]
  },
  {
   "cell_type": "code",
   "execution_count": 4,
   "metadata": {
    "collapsed": false
   },
   "outputs": [
    {
     "data": {
      "text/html": [
       "<div>\n",
       "<table border=\"1\" class=\"dataframe\">\n",
       "  <thead>\n",
       "    <tr style=\"text-align: right;\">\n",
       "      <th></th>\n",
       "      <th>basisofrec</th>\n",
       "      <th>eventdate</th>\n",
       "      <th>geometry</th>\n",
       "      <th>species</th>\n",
       "      <th>year</th>\n",
       "    </tr>\n",
       "  </thead>\n",
       "  <tbody>\n",
       "    <tr>\n",
       "      <th>0</th>\n",
       "      <td>HUMAN_OBSERVATION</td>\n",
       "      <td>2007-01-29T23:00:00.000+0000</td>\n",
       "      <td>POINT (30.1543 0.0581)</td>\n",
       "      <td>Haplochromis elegans</td>\n",
       "      <td>2007.0</td>\n",
       "    </tr>\n",
       "    <tr>\n",
       "      <th>1</th>\n",
       "      <td>HUMAN_OBSERVATION</td>\n",
       "      <td>2007-01-27T23:00:00.000+0000</td>\n",
       "      <td>POINT (29.9497 -0.1893)</td>\n",
       "      <td>Haplochromis elegans</td>\n",
       "      <td>2007.0</td>\n",
       "    </tr>\n",
       "    <tr>\n",
       "      <th>2</th>\n",
       "      <td>HUMAN_OBSERVATION</td>\n",
       "      <td>2007-01-28T23:00:00.000+0000</td>\n",
       "      <td>POINT (30.0797 0.0562)</td>\n",
       "      <td>Haplochromis elegans</td>\n",
       "      <td>2007.0</td>\n",
       "    </tr>\n",
       "    <tr>\n",
       "      <th>3</th>\n",
       "      <td>HUMAN_OBSERVATION</td>\n",
       "      <td>2007-01-31T23:00:00.000+0000</td>\n",
       "      <td>POINT (30.1871 -0.0805)</td>\n",
       "      <td>Haplochromis elegans</td>\n",
       "      <td>2007.0</td>\n",
       "    </tr>\n",
       "    <tr>\n",
       "      <th>4</th>\n",
       "      <td>HUMAN_OBSERVATION</td>\n",
       "      <td>2006-11-21T23:00:00.000+0000</td>\n",
       "      <td>POINT (30.1448 0.0567)</td>\n",
       "      <td>Haplochromis elegans</td>\n",
       "      <td>2006.0</td>\n",
       "    </tr>\n",
       "  </tbody>\n",
       "</table>\n",
       "</div>"
      ],
      "text/plain": [
       "          basisofrec                     eventdate                 geometry  \\\n",
       "0  HUMAN_OBSERVATION  2007-01-29T23:00:00.000+0000   POINT (30.1543 0.0581)   \n",
       "1  HUMAN_OBSERVATION  2007-01-27T23:00:00.000+0000  POINT (29.9497 -0.1893)   \n",
       "2  HUMAN_OBSERVATION  2007-01-28T23:00:00.000+0000   POINT (30.0797 0.0562)   \n",
       "3  HUMAN_OBSERVATION  2007-01-31T23:00:00.000+0000  POINT (30.1871 -0.0805)   \n",
       "4  HUMAN_OBSERVATION  2006-11-21T23:00:00.000+0000   POINT (30.1448 0.0567)   \n",
       "\n",
       "                species    year  \n",
       "0  Haplochromis elegans  2007.0  \n",
       "1  Haplochromis elegans  2007.0  \n",
       "2  Haplochromis elegans  2007.0  \n",
       "3  Haplochromis elegans  2007.0  \n",
       "4  Haplochromis elegans  2006.0  "
      ]
     },
     "execution_count": 4,
     "metadata": {},
     "output_type": "execute_result"
    }
   ],
   "source": [
    "final_observations.head()"
   ]
  },
  {
   "cell_type": "markdown",
   "metadata": {
    "collapsed": true
   },
   "source": [
    "## 2. Create a bias grid at a resolution of 5arcmin (for the moment it's just counts of observations per pixel)"
   ]
  },
  {
   "cell_type": "markdown",
   "metadata": {},
   "source": [
    "5 arcmin = 5/60 pixel = 0.083333333 => 'height': 2160, 'width': 4320 for a global map\n",
    "\n",
    "(180/0.083333333) ~ 2160             \n",
    "(360/0.083333333) ~ 4320\n",
    "\n",
    "Generate 2D array and use it as a basis for bias grid."
   ]
  },
  {
   "cell_type": "code",
   "execution_count": 5,
   "metadata": {
    "collapsed": true
   },
   "outputs": [],
   "source": [
    "x_min, y_min, x_max, y_max = -180, -90, 180, 90\n",
    "pixel_size = 0.0083333333 # changed from 0.083333333 to 30arcsec\n",
    "x_res = int((x_max - x_min) / pixel_size)\n",
    "y_res = int((y_max - y_min) / pixel_size)"
   ]
  },
  {
   "cell_type": "code",
   "execution_count": 6,
   "metadata": {
    "collapsed": false
   },
   "outputs": [],
   "source": [
    "bias_grid=np.zeros(shape=(y_res, x_res)).astype('int32')"
   ]
  },
  {
   "cell_type": "code",
   "execution_count": 7,
   "metadata": {
    "collapsed": true
   },
   "outputs": [],
   "source": [
    "def increase_pixel_value(row):\n",
    "    bias_grid[np.abs(int((row.y - 90) / pixel_size)),\n",
    "              np.abs(int((row.x + 180) / pixel_size))]+=1"
   ]
  },
  {
   "cell_type": "code",
   "execution_count": 8,
   "metadata": {
    "collapsed": true
   },
   "outputs": [],
   "source": [
    "here = final_observations.geometry.apply(lambda row: increase_pixel_value(row))"
   ]
  },
  {
   "cell_type": "code",
   "execution_count": 22,
   "metadata": {
    "collapsed": false
   },
   "outputs": [
    {
     "data": {
      "text/plain": [
       "42848"
      ]
     },
     "execution_count": 22,
     "metadata": {},
     "output_type": "execute_result"
    }
   ],
   "source": [
    "bias_grid.max()"
   ]
  },
  {
   "cell_type": "code",
   "execution_count": 22,
   "metadata": {
    "collapsed": false
   },
   "outputs": [
    {
     "ename": "MemoryError",
     "evalue": "",
     "output_type": "error",
     "traceback": [
      "\u001b[1;31m---------------------------------------------------------------------------\u001b[0m",
      "\u001b[1;31mMemoryError\u001b[0m                               Traceback (most recent call last)",
      "\u001b[1;32m<ipython-input-22-62a0d89003df>\u001b[0m in \u001b[0;36m<module>\u001b[1;34m()\u001b[0m\n\u001b[1;32m----> 1\u001b[1;33m \u001b[0mbias_grid\u001b[0m\u001b[1;33m.\u001b[0m\u001b[0mstd\u001b[0m\u001b[1;33m(\u001b[0m\u001b[1;33m)\u001b[0m\u001b[1;33m\u001b[0m\u001b[0m\n\u001b[0m",
      "\u001b[1;32m/home/daniela/anaconda/envs/biodiversity_py3/lib/python3.4/site-packages/numpy/core/_methods.py\u001b[0m in \u001b[0;36m_std\u001b[1;34m(a, axis, dtype, out, ddof, keepdims)\u001b[0m\n\u001b[0;32m    122\u001b[0m \u001b[1;32mdef\u001b[0m \u001b[0m_std\u001b[0m\u001b[1;33m(\u001b[0m\u001b[0ma\u001b[0m\u001b[1;33m,\u001b[0m \u001b[0maxis\u001b[0m\u001b[1;33m=\u001b[0m\u001b[1;32mNone\u001b[0m\u001b[1;33m,\u001b[0m \u001b[0mdtype\u001b[0m\u001b[1;33m=\u001b[0m\u001b[1;32mNone\u001b[0m\u001b[1;33m,\u001b[0m \u001b[0mout\u001b[0m\u001b[1;33m=\u001b[0m\u001b[1;32mNone\u001b[0m\u001b[1;33m,\u001b[0m \u001b[0mddof\u001b[0m\u001b[1;33m=\u001b[0m\u001b[1;36m0\u001b[0m\u001b[1;33m,\u001b[0m \u001b[0mkeepdims\u001b[0m\u001b[1;33m=\u001b[0m\u001b[1;32mFalse\u001b[0m\u001b[1;33m)\u001b[0m\u001b[1;33m:\u001b[0m\u001b[1;33m\u001b[0m\u001b[0m\n\u001b[0;32m    123\u001b[0m     ret = _var(a, axis=axis, dtype=dtype, out=out, ddof=ddof,\n\u001b[1;32m--> 124\u001b[1;33m                keepdims=keepdims)\n\u001b[0m\u001b[0;32m    125\u001b[0m \u001b[1;33m\u001b[0m\u001b[0m\n\u001b[0;32m    126\u001b[0m     \u001b[1;32mif\u001b[0m \u001b[0misinstance\u001b[0m\u001b[1;33m(\u001b[0m\u001b[0mret\u001b[0m\u001b[1;33m,\u001b[0m \u001b[0mmu\u001b[0m\u001b[1;33m.\u001b[0m\u001b[0mndarray\u001b[0m\u001b[1;33m)\u001b[0m\u001b[1;33m:\u001b[0m\u001b[1;33m\u001b[0m\u001b[0m\n",
      "\u001b[1;32m/home/daniela/anaconda/envs/biodiversity_py3/lib/python3.4/site-packages/numpy/core/_methods.py\u001b[0m in \u001b[0;36m_var\u001b[1;34m(a, axis, dtype, out, ddof, keepdims)\u001b[0m\n\u001b[0;32m     99\u001b[0m     \u001b[1;31m# Note that x may not be inexact and that we need it to be an array,\u001b[0m\u001b[1;33m\u001b[0m\u001b[1;33m\u001b[0m\u001b[0m\n\u001b[0;32m    100\u001b[0m     \u001b[1;31m# not a scalar.\u001b[0m\u001b[1;33m\u001b[0m\u001b[1;33m\u001b[0m\u001b[0m\n\u001b[1;32m--> 101\u001b[1;33m     \u001b[0mx\u001b[0m \u001b[1;33m=\u001b[0m \u001b[0masanyarray\u001b[0m\u001b[1;33m(\u001b[0m\u001b[0marr\u001b[0m \u001b[1;33m-\u001b[0m \u001b[0marrmean\u001b[0m\u001b[1;33m)\u001b[0m\u001b[1;33m\u001b[0m\u001b[0m\n\u001b[0m\u001b[0;32m    102\u001b[0m     \u001b[1;32mif\u001b[0m \u001b[0missubclass\u001b[0m\u001b[1;33m(\u001b[0m\u001b[0marr\u001b[0m\u001b[1;33m.\u001b[0m\u001b[0mdtype\u001b[0m\u001b[1;33m.\u001b[0m\u001b[0mtype\u001b[0m\u001b[1;33m,\u001b[0m \u001b[0mnt\u001b[0m\u001b[1;33m.\u001b[0m\u001b[0mcomplexfloating\u001b[0m\u001b[1;33m)\u001b[0m\u001b[1;33m:\u001b[0m\u001b[1;33m\u001b[0m\u001b[0m\n\u001b[0;32m    103\u001b[0m         \u001b[0mx\u001b[0m \u001b[1;33m=\u001b[0m \u001b[0mum\u001b[0m\u001b[1;33m.\u001b[0m\u001b[0mmultiply\u001b[0m\u001b[1;33m(\u001b[0m\u001b[0mx\u001b[0m\u001b[1;33m,\u001b[0m \u001b[0mum\u001b[0m\u001b[1;33m.\u001b[0m\u001b[0mconjugate\u001b[0m\u001b[1;33m(\u001b[0m\u001b[0mx\u001b[0m\u001b[1;33m)\u001b[0m\u001b[1;33m,\u001b[0m \u001b[0mout\u001b[0m\u001b[1;33m=\u001b[0m\u001b[0mx\u001b[0m\u001b[1;33m)\u001b[0m\u001b[1;33m.\u001b[0m\u001b[0mreal\u001b[0m\u001b[1;33m\u001b[0m\u001b[0m\n",
      "\u001b[1;31mMemoryError\u001b[0m: "
     ]
    }
   ],
   "source": [
    "bias_grid.std()"
   ]
  },
  {
   "cell_type": "code",
   "execution_count": 10,
   "metadata": {
    "collapsed": false
   },
   "outputs": [
    {
     "data": {
      "text/plain": [
       "1939676"
      ]
     },
     "execution_count": 10,
     "metadata": {},
     "output_type": "execute_result"
    }
   ],
   "source": [
    "bias_grid.sum()"
   ]
  },
  {
   "cell_type": "code",
   "execution_count": 11,
   "metadata": {
    "collapsed": false
   },
   "outputs": [
    {
     "data": {
      "text/plain": [
       "True"
      ]
     },
     "execution_count": 11,
     "metadata": {},
     "output_type": "execute_result"
    }
   ],
   "source": [
    "# is the sum of the bias grid equal to the total number of observations?\n",
    "bias_grid.sum() == final_observations.shape[0] "
   ]
  },
  {
   "cell_type": "code",
   "execution_count": 12,
   "metadata": {
    "collapsed": false
   },
   "outputs": [
    {
     "data": {
      "text/plain": [
       "142"
      ]
     },
     "execution_count": 12,
     "metadata": {},
     "output_type": "execute_result"
    }
   ],
   "source": [
    "import gc\n",
    "gc.collect()"
   ]
  },
  {
   "cell_type": "markdown",
   "metadata": {
    "collapsed": true
   },
   "source": [
    "#### Normalize using log10?"
   ]
  },
  {
   "cell_type": "code",
   "execution_count": 13,
   "metadata": {
    "collapsed": false
   },
   "outputs": [
    {
     "data": {
      "text/plain": [
       "4.6319406909138356"
      ]
     },
     "execution_count": 13,
     "metadata": {},
     "output_type": "execute_result"
    }
   ],
   "source": [
    "# bias_grid_plus_1 = bias_grid + 1\n",
    "bias_grid_log = np.log10(bias_grid + 1)\n",
    "# bias_grid_log[np.isneginf(bias_grid_log)] = 0 # is this a good idea, setting to 0? log10(0) = infinity otherwise\n",
    "bias_grid_log.max()"
   ]
  },
  {
   "cell_type": "code",
   "execution_count": 12,
   "metadata": {
    "collapsed": false
   },
   "outputs": [
    {
     "data": {
      "text/plain": [
       "0.0"
      ]
     },
     "execution_count": 12,
     "metadata": {},
     "output_type": "execute_result"
    }
   ],
   "source": [
    "bias_grid_log.min()"
   ]
  },
  {
   "cell_type": "code",
   "execution_count": 13,
   "metadata": {
    "collapsed": false
   },
   "outputs": [
    {
     "ename": "MemoryError",
     "evalue": "",
     "output_type": "error",
     "traceback": [
      "\u001b[1;31m---------------------------------------------------------------------------\u001b[0m",
      "\u001b[1;31mMemoryError\u001b[0m                               Traceback (most recent call last)",
      "\u001b[1;32m<ipython-input-13-c346a1bc185d>\u001b[0m in \u001b[0;36m<module>\u001b[1;34m()\u001b[0m\n\u001b[1;32m----> 1\u001b[1;33m \u001b[0mbias_grid_log\u001b[0m\u001b[1;33m.\u001b[0m\u001b[0mstd\u001b[0m\u001b[1;33m(\u001b[0m\u001b[1;33m)\u001b[0m\u001b[1;33m\u001b[0m\u001b[0m\n\u001b[0m",
      "\u001b[1;32m/home/daniela/anaconda/envs/biodiversity_py3/lib/python3.4/site-packages/numpy/core/_methods.py\u001b[0m in \u001b[0;36m_std\u001b[1;34m(a, axis, dtype, out, ddof, keepdims)\u001b[0m\n\u001b[0;32m    122\u001b[0m \u001b[1;32mdef\u001b[0m \u001b[0m_std\u001b[0m\u001b[1;33m(\u001b[0m\u001b[0ma\u001b[0m\u001b[1;33m,\u001b[0m \u001b[0maxis\u001b[0m\u001b[1;33m=\u001b[0m\u001b[1;32mNone\u001b[0m\u001b[1;33m,\u001b[0m \u001b[0mdtype\u001b[0m\u001b[1;33m=\u001b[0m\u001b[1;32mNone\u001b[0m\u001b[1;33m,\u001b[0m \u001b[0mout\u001b[0m\u001b[1;33m=\u001b[0m\u001b[1;32mNone\u001b[0m\u001b[1;33m,\u001b[0m \u001b[0mddof\u001b[0m\u001b[1;33m=\u001b[0m\u001b[1;36m0\u001b[0m\u001b[1;33m,\u001b[0m \u001b[0mkeepdims\u001b[0m\u001b[1;33m=\u001b[0m\u001b[1;32mFalse\u001b[0m\u001b[1;33m)\u001b[0m\u001b[1;33m:\u001b[0m\u001b[1;33m\u001b[0m\u001b[0m\n\u001b[0;32m    123\u001b[0m     ret = _var(a, axis=axis, dtype=dtype, out=out, ddof=ddof,\n\u001b[1;32m--> 124\u001b[1;33m                keepdims=keepdims)\n\u001b[0m\u001b[0;32m    125\u001b[0m \u001b[1;33m\u001b[0m\u001b[0m\n\u001b[0;32m    126\u001b[0m     \u001b[1;32mif\u001b[0m \u001b[0misinstance\u001b[0m\u001b[1;33m(\u001b[0m\u001b[0mret\u001b[0m\u001b[1;33m,\u001b[0m \u001b[0mmu\u001b[0m\u001b[1;33m.\u001b[0m\u001b[0mndarray\u001b[0m\u001b[1;33m)\u001b[0m\u001b[1;33m:\u001b[0m\u001b[1;33m\u001b[0m\u001b[0m\n",
      "\u001b[1;32m/home/daniela/anaconda/envs/biodiversity_py3/lib/python3.4/site-packages/numpy/core/_methods.py\u001b[0m in \u001b[0;36m_var\u001b[1;34m(a, axis, dtype, out, ddof, keepdims)\u001b[0m\n\u001b[0;32m     99\u001b[0m     \u001b[1;31m# Note that x may not be inexact and that we need it to be an array,\u001b[0m\u001b[1;33m\u001b[0m\u001b[1;33m\u001b[0m\u001b[0m\n\u001b[0;32m    100\u001b[0m     \u001b[1;31m# not a scalar.\u001b[0m\u001b[1;33m\u001b[0m\u001b[1;33m\u001b[0m\u001b[0m\n\u001b[1;32m--> 101\u001b[1;33m     \u001b[0mx\u001b[0m \u001b[1;33m=\u001b[0m \u001b[0masanyarray\u001b[0m\u001b[1;33m(\u001b[0m\u001b[0marr\u001b[0m \u001b[1;33m-\u001b[0m \u001b[0marrmean\u001b[0m\u001b[1;33m)\u001b[0m\u001b[1;33m\u001b[0m\u001b[0m\n\u001b[0m\u001b[0;32m    102\u001b[0m     \u001b[1;32mif\u001b[0m \u001b[0missubclass\u001b[0m\u001b[1;33m(\u001b[0m\u001b[0marr\u001b[0m\u001b[1;33m.\u001b[0m\u001b[0mdtype\u001b[0m\u001b[1;33m.\u001b[0m\u001b[0mtype\u001b[0m\u001b[1;33m,\u001b[0m \u001b[0mnt\u001b[0m\u001b[1;33m.\u001b[0m\u001b[0mcomplexfloating\u001b[0m\u001b[1;33m)\u001b[0m\u001b[1;33m:\u001b[0m\u001b[1;33m\u001b[0m\u001b[0m\n\u001b[0;32m    103\u001b[0m         \u001b[0mx\u001b[0m \u001b[1;33m=\u001b[0m \u001b[0mum\u001b[0m\u001b[1;33m.\u001b[0m\u001b[0mmultiply\u001b[0m\u001b[1;33m(\u001b[0m\u001b[0mx\u001b[0m\u001b[1;33m,\u001b[0m \u001b[0mum\u001b[0m\u001b[1;33m.\u001b[0m\u001b[0mconjugate\u001b[0m\u001b[1;33m(\u001b[0m\u001b[0mx\u001b[0m\u001b[1;33m)\u001b[0m\u001b[1;33m,\u001b[0m \u001b[0mout\u001b[0m\u001b[1;33m=\u001b[0m\u001b[0mx\u001b[0m\u001b[1;33m)\u001b[0m\u001b[1;33m.\u001b[0m\u001b[0mreal\u001b[0m\u001b[1;33m\u001b[0m\u001b[0m\n",
      "\u001b[1;31mMemoryError\u001b[0m: "
     ]
    }
   ],
   "source": [
    "bias_grid_log.std()"
   ]
  },
  {
   "cell_type": "markdown",
   "metadata": {},
   "source": [
    "#### Standardize?"
   ]
  },
  {
   "cell_type": "code",
   "execution_count": null,
   "metadata": {
    "collapsed": false
   },
   "outputs": [],
   "source": [
    "bias_grid_standardized = (bias_grid - bias_grid.mean()) / bias_grid.std()\n",
    "bias_grid_standardized.max()"
   ]
  },
  {
   "cell_type": "code",
   "execution_count": null,
   "metadata": {
    "collapsed": false
   },
   "outputs": [],
   "source": [
    "bias_grid_standardized.min()"
   ]
  },
  {
   "cell_type": "code",
   "execution_count": null,
   "metadata": {
    "collapsed": false
   },
   "outputs": [],
   "source": [
    "bias_grid_standardized.std()"
   ]
  },
  {
   "cell_type": "markdown",
   "metadata": {},
   "source": [
    "#### Min-Max scaling?"
   ]
  },
  {
   "cell_type": "code",
   "execution_count": null,
   "metadata": {
    "collapsed": false
   },
   "outputs": [],
   "source": [
    "bias_grid_minmax_scale = (bias_grid - bias_grid.min()) / (bias_grid.max() - bias_grid.min())\n",
    "bias_grid_minmax_scale.max()"
   ]
  },
  {
   "cell_type": "code",
   "execution_count": null,
   "metadata": {
    "collapsed": false
   },
   "outputs": [],
   "source": [
    "bias_grid_minmax_scale.min()"
   ]
  },
  {
   "cell_type": "code",
   "execution_count": null,
   "metadata": {
    "collapsed": false
   },
   "outputs": [],
   "source": [
    "bias_grid_minmax_scale.std()"
   ]
  },
  {
   "cell_type": "code",
   "execution_count": 42,
   "metadata": {
    "collapsed": false
   },
   "outputs": [
    {
     "data": {
      "text/plain": [
       "<matplotlib.image.AxesImage at 0x7f4cc2ee2978>"
      ]
     },
     "execution_count": 42,
     "metadata": {},
     "output_type": "execute_result"
    },
    {
     "data": {
      "image/png": "[encoded data removed]",
      "text/plain": [
       "<matplotlib.figure.Figure at 0x7f4cc31169b0>"
      ]
     },
     "metadata": {},
     "output_type": "display_data"
    }
   ],
   "source": [
    "import matplotlib.pyplot as plt\n",
    "plt.figure(figsize=(25,20))\n",
    "plt.imshow(bias_grid_log, cmap=\"hot\", interpolation=\"none\")"
   ]
  },
  {
   "cell_type": "code",
   "execution_count": 17,
   "metadata": {
    "collapsed": false
   },
   "outputs": [
    {
     "ename": "MemoryError",
     "evalue": "",
     "output_type": "error",
     "traceback": [
      "\u001b[1;31m---------------------------------------------------------------------------\u001b[0m",
      "\u001b[1;31mMemoryError\u001b[0m                               Traceback (most recent call last)",
      "\u001b[1;32m<ipython-input-17-5a0024330dc7>\u001b[0m in \u001b[0;36m<module>\u001b[1;34m()\u001b[0m\n\u001b[0;32m      1\u001b[0m \u001b[1;32mimport\u001b[0m \u001b[0mpickle\u001b[0m\u001b[1;33m\u001b[0m\u001b[0m\n\u001b[1;32m----> 2\u001b[1;33m \u001b[0mpickle\u001b[0m\u001b[1;33m.\u001b[0m\u001b[0mdump\u001b[0m\u001b[1;33m(\u001b[0m\u001b[0mbias_grid\u001b[0m\u001b[1;33m,\u001b[0m \u001b[0mopen\u001b[0m\u001b[1;33m(\u001b[0m\u001b[1;34m\"../data/bias_grid/bias_grid_30arcsec.pkl\"\u001b[0m\u001b[1;33m,\u001b[0m \u001b[1;34m\"wb\"\u001b[0m\u001b[1;33m)\u001b[0m\u001b[1;33m)\u001b[0m\u001b[1;33m\u001b[0m\u001b[0m\n\u001b[0m",
      "\u001b[1;31mMemoryError\u001b[0m: "
     ]
    }
   ],
   "source": [
    "import pickle\n",
    "pickle.dump(bias_grid, open(\"../data/bias_grid/bias_grid_30arcsec.pkl\", \"wb\"))"
   ]
  },
  {
   "cell_type": "code",
   "execution_count": null,
   "metadata": {
    "collapsed": false
   },
   "outputs": [],
   "source": [
    "np.count_nonzero(bias_grid)"
   ]
  },
  {
   "cell_type": "code",
   "execution_count": null,
   "metadata": {
    "collapsed": false
   },
   "outputs": [],
   "source": [
    "np.product(bias_grid.shape)"
   ]
  },
  {
   "cell_type": "code",
   "execution_count": 49,
   "metadata": {
    "collapsed": false
   },
   "outputs": [
    {
     "data": {
      "text/plain": [
       "0.004488275891632373"
      ]
     },
     "execution_count": 49,
     "metadata": {},
     "output_type": "execute_result"
    }
   ],
   "source": [
    "41881/9331200"
   ]
  },
  {
   "cell_type": "code",
   "execution_count": 26,
   "metadata": {
    "collapsed": false
   },
   "outputs": [
    {
     "data": {
      "text/plain": [
       "(2160, 4320)"
      ]
     },
     "execution_count": 26,
     "metadata": {},
     "output_type": "execute_result"
    }
   ],
   "source": [
    "bias_grid.shape"
   ]
  },
  {
   "cell_type": "code",
   "execution_count": 21,
   "metadata": {
    "collapsed": false
   },
   "outputs": [],
   "source": [
    "import rasterio\n",
    "from rasterio.transform import Affine\n",
    "x_min, y_min, x_max, y_max = -180, -90, 180, 90\n",
    "pixel_size = 0.083333333\n",
    "x_res = int((x_max - x_min) / pixel_size)\n",
    "y_res = int((y_max - y_min) / pixel_size)\n",
    "crs = {'init': \"EPSG:4326\"}\n",
    "transform = Affine.translation(x_min, y_max) * Affine.scale(pixel_size, -pixel_size)"
   ]
  },
  {
   "cell_type": "code",
   "execution_count": 37,
   "metadata": {
    "collapsed": false
   },
   "outputs": [],
   "source": [
    "with rasterio.open(\"../data/bias_grid/bias_grid_minmax_scale.tif\", 'w', driver='GTiff', width=x_res, height=y_res,\n",
    "                   count=1,\n",
    "                   dtype=np.uint16,\n",
    "                   nodata=0,\n",
    "                   transform=transform,\n",
    "                   crs=crs) as out:\n",
    "    out.write(bias_grid_minmax_scale.astype(np.uint16), indexes=1)\n",
    "    out.close()"
   ]
  },
  {
   "cell_type": "code",
   "execution_count": 27,
   "metadata": {
    "collapsed": false
   },
   "outputs": [
    {
     "data": {
      "text/plain": [
       "0.083333333"
      ]
     },
     "execution_count": 27,
     "metadata": {},
     "output_type": "execute_result"
    }
   ],
   "source": [
    "pixel_size"
   ]
  },
  {
   "cell_type": "code",
   "execution_count": 39,
   "metadata": {
    "collapsed": false
   },
   "outputs": [
    {
     "data": {
      "text/plain": [
       "0.00063270764269115793"
      ]
     },
     "execution_count": 39,
     "metadata": {},
     "output_type": "execute_result"
    }
   ],
   "source": [
    "bias_grid_minmax_scale.std()"
   ]
  },
  {
   "cell_type": "code",
   "execution_count": 19,
   "metadata": {
    "collapsed": false
   },
   "outputs": [
    {
     "data": {
      "text/plain": [
       "(21600, 43200)"
      ]
     },
     "execution_count": 19,
     "metadata": {},
     "output_type": "execute_result"
    }
   ],
   "source": [
    "bias_grid_log.shape"
   ]
  },
  {
   "cell_type": "code",
   "execution_count": 20,
   "metadata": {
    "collapsed": false
   },
   "outputs": [
    {
     "ename": "MemoryError",
     "evalue": "",
     "output_type": "error",
     "traceback": [
      "\u001b[1;31m---------------------------------------------------------------------------\u001b[0m",
      "\u001b[1;31mMemoryError\u001b[0m                               Traceback (most recent call last)",
      "\u001b[1;32m<ipython-input-20-f18e82bcb7e8>\u001b[0m in \u001b[0;36m<module>\u001b[1;34m()\u001b[0m\n\u001b[0;32m      1\u001b[0m \u001b[1;32mimport\u001b[0m \u001b[0mpickle\u001b[0m\u001b[1;33m\u001b[0m\u001b[0m\n\u001b[1;32m----> 2\u001b[1;33m \u001b[0mpickle\u001b[0m\u001b[1;33m.\u001b[0m\u001b[0mdump\u001b[0m\u001b[1;33m(\u001b[0m\u001b[0mbias_grid_log\u001b[0m\u001b[1;33m,\u001b[0m \u001b[0mopen\u001b[0m\u001b[1;33m(\u001b[0m\u001b[1;34m\"../data/bias_grid/bias_grid_log_30arcsec.pkl\"\u001b[0m\u001b[1;33m,\u001b[0m \u001b[1;34m\"wb\"\u001b[0m\u001b[1;33m)\u001b[0m\u001b[1;33m,\u001b[0m \u001b[0mprotocol\u001b[0m\u001b[1;33m=\u001b[0m\u001b[1;36m4\u001b[0m\u001b[1;33m)\u001b[0m\u001b[1;33m\u001b[0m\u001b[0m\n\u001b[0m",
      "\u001b[1;31mMemoryError\u001b[0m: "
     ]
    }
   ],
   "source": [
    "import pickle\n",
    "pickle.dump(bias_grid_log, open(\"../data/bias_grid/bias_grid_log_30arcsec.pkl\", \"wb\"), protocol=4)"
   ]
  },
  {
   "cell_type": "code",
   "execution_count": 43,
   "metadata": {
    "collapsed": true
   },
   "outputs": [],
   "source": [
    "pickle.dump(bias_grid_standardized, open(\"../data/bias_grid/bias_grid_standardized.pkl\", \"wb\"))"
   ]
  },
  {
   "cell_type": "code",
   "execution_count": 44,
   "metadata": {
    "collapsed": true
   },
   "outputs": [],
   "source": [
    "pickle.dump(bias_grid_minmax_scale, open(\"../data/bias_grid/bias_grid_minmax_scale.pkl\", \"wb\"))"
   ]
  },
  {
   "cell_type": "markdown",
   "metadata": {
    "collapsed": true
   },
   "source": [
    "## numpy array memory map"
   ]
  },
  {
   "cell_type": "code",
   "execution_count": 26,
   "metadata": {
    "collapsed": true
   },
   "outputs": [],
   "source": [
    "# bias_grid_mm=np.zeros(shape=(y_res, x_res)).astype('int32')\n",
    "bias_grid_mm = np.memmap(\"../data/bias_grid/bias_grid_mm.dat\", dtype='int32', mode='w+', shape=(y_res,x_res))"
   ]
  },
  {
   "cell_type": "code",
   "execution_count": 27,
   "metadata": {
    "collapsed": true
   },
   "outputs": [],
   "source": [
    "def increase_pixel_value(row):\n",
    "    bias_grid_mm[np.abs(int((row.y - 90) / pixel_size)),\n",
    "              np.abs(int((row.x + 180) / pixel_size))]+=1"
   ]
  },
  {
   "cell_type": "code",
   "execution_count": 28,
   "metadata": {
    "collapsed": true
   },
   "outputs": [],
   "source": [
    "here = final_observations.geometry.apply(lambda row: increase_pixel_value(row))"
   ]
  },
  {
   "cell_type": "code",
   "execution_count": 33,
   "metadata": {
    "collapsed": false
   },
   "outputs": [],
   "source": [
    "bias_grid_mm.flush()"
   ]
  },
  {
   "cell_type": "code",
   "execution_count": 35,
   "metadata": {
    "collapsed": false
   },
   "outputs": [
    {
     "data": {
      "text/plain": [
       "memmap(42848, dtype=int32)"
      ]
     },
     "execution_count": 35,
     "metadata": {},
     "output_type": "execute_result"
    }
   ],
   "source": [
    "bias_grid_mm.max()"
   ]
  },
  {
   "cell_type": "code",
   "execution_count": 36,
   "metadata": {
    "collapsed": false
   },
   "outputs": [
    {
     "data": {
      "text/plain": [
       "memmap(1.8395193632862339)"
      ]
     },
     "execution_count": 36,
     "metadata": {},
     "output_type": "execute_result"
    }
   ],
   "source": [
    "bias_grid_mm.std()"
   ]
  },
  {
   "cell_type": "code",
   "execution_count": 40,
   "metadata": {
    "collapsed": false
   },
   "outputs": [],
   "source": [
    "del bias_grid_mm"
   ]
  },
  {
   "cell_type": "code",
   "execution_count": 41,
   "metadata": {
    "collapsed": false
   },
   "outputs": [
    {
     "data": {
      "text/plain": [
       "87"
      ]
     },
     "execution_count": 41,
     "metadata": {},
     "output_type": "execute_result"
    }
   ],
   "source": [
    "gc.collect()"
   ]
  },
  {
   "cell_type": "code",
   "execution_count": 42,
   "metadata": {
    "collapsed": true
   },
   "outputs": [],
   "source": [
    "fpr = np.memmap(\"../data/bias_grid/bias_grid_mm.dat\", dtype='int32', mode='r', shape=(y_res, x_res))"
   ]
  },
  {
   "cell_type": "code",
   "execution_count": 44,
   "metadata": {
    "collapsed": false
   },
   "outputs": [
    {
     "data": {
      "text/plain": [
       "memmap(42848, dtype=int32)"
      ]
     },
     "execution_count": 44,
     "metadata": {},
     "output_type": "execute_result"
    }
   ],
   "source": [
    "fpr.max()"
   ]
  },
  {
   "cell_type": "code",
   "execution_count": 47,
   "metadata": {
    "collapsed": false
   },
   "outputs": [
    {
     "data": {
      "text/plain": [
       "False"
      ]
     },
     "execution_count": 47,
     "metadata": {},
     "output_type": "execute_result"
    }
   ],
   "source": [
    "fpr.flags.writeable"
   ]
  },
  {
   "cell_type": "markdown",
   "metadata": {},
   "source": [
    "### Can read any tif file as memory map??"
   ]
  },
  {
   "cell_type": "code",
   "execution_count": 81,
   "metadata": {
    "collapsed": false
   },
   "outputs": [],
   "source": [
    "anything = np.memmap(\"/home/daniela/git/iSDM/data/GLWD/downscaled/original_corrected.tif\", dtype='uint8',  mode='r', shape=(y_res,x_res))"
   ]
  },
  {
   "cell_type": "code",
   "execution_count": 82,
   "metadata": {
    "collapsed": false
   },
   "outputs": [
    {
     "data": {
      "text/plain": [
       "memmap([  0,   1,   2,   3,   4,   5,   6,   7,   8,   9,  10,  11,  12,\n",
       "        13,  14,  15,  16,  17,  18,  19,  20,  21,  22,  23,  24,  25,\n",
       "        26,  27,  28,  29,  30,  31,  32,  33,  34,  35,  36,  37,  38,\n",
       "        39,  40,  41,  42,  43,  44,  45,  46,  47,  48,  49,  50,  51,\n",
       "        52,  53,  54,  55,  56,  57,  58,  59,  60,  61,  62,  63,  64,\n",
       "        65,  66,  67,  68,  69,  70,  71,  72,  73,  74,  75,  76,  77,\n",
       "        78,  79,  80,  81,  82,  83,  84,  85,  86,  87,  88,  89,  90,\n",
       "        91,  92,  93,  94,  95,  96,  97,  98,  99, 100, 101, 102, 103,\n",
       "       104, 105, 106, 107, 108, 109, 110, 111, 112, 113, 114, 115, 116,\n",
       "       117, 118, 119, 120, 121, 122, 123, 124, 125, 126, 127, 128, 129,\n",
       "       130, 131, 132, 133, 134, 135, 136, 137, 138, 139, 140, 141, 142,\n",
       "       143, 144, 145, 146, 147, 148, 149, 150, 151, 152, 153, 154, 155,\n",
       "       156, 157, 158, 159, 160, 161, 162, 163, 164, 165, 166, 167, 168,\n",
       "       169, 170, 171, 172, 173, 174, 175, 176, 177, 178, 179, 180, 181,\n",
       "       182, 183, 184, 185, 186, 187, 188, 189, 190, 191, 192, 193, 194,\n",
       "       195, 196, 197, 198, 199, 200, 201, 202, 203, 204, 205, 206, 207,\n",
       "       208, 209, 210, 211, 212, 213, 214, 215, 216, 217, 218, 219, 220,\n",
       "       221, 222, 223, 224, 225, 226, 227, 228, 229, 230, 231, 232, 233,\n",
       "       234, 235, 236, 237, 238, 239, 240, 241, 242, 243, 244, 245, 246,\n",
       "       247, 248, 249, 250, 251, 252, 253, 254, 255], dtype=uint8)"
      ]
     },
     "execution_count": 82,
     "metadata": {},
     "output_type": "execute_result"
    }
   ],
   "source": [
    "np.unique(anything)"
   ]
  },
  {
   "cell_type": "code",
   "execution_count": 67,
   "metadata": {
    "collapsed": false
   },
   "outputs": [
    {
     "data": {
      "text/plain": [
       "numpy.core.memmap.memmap"
      ]
     },
     "execution_count": 67,
     "metadata": {},
     "output_type": "execute_result"
    }
   ],
   "source": [
    "type(anything)"
   ]
  },
  {
   "cell_type": "code",
   "execution_count": 78,
   "metadata": {
    "collapsed": false
   },
   "outputs": [
    {
     "data": {
      "text/plain": [
       "3190"
      ]
     },
     "execution_count": 78,
     "metadata": {},
     "output_type": "execute_result"
    }
   ],
   "source": [
    "gc.collect()"
   ]
  },
  {
   "cell_type": "code",
   "execution_count": 77,
   "metadata": {
    "collapsed": true
   },
   "outputs": [],
   "source": [
    "del anything"
   ]
  },
  {
   "cell_type": "code",
   "execution_count": 101,
   "metadata": {
    "collapsed": true
   },
   "outputs": [],
   "source": [
    "some_data = np.memmap(\"../data/bias_grid/some_data.tif\", dtype='float64', mode='w+', shape=(y_res,x_res))"
   ]
  },
  {
   "cell_type": "code",
   "execution_count": 97,
   "metadata": {
    "collapsed": false
   },
   "outputs": [
    {
     "data": {
      "text/plain": [
       "numpy.core.memmap.memmap"
      ]
     },
     "execution_count": 97,
     "metadata": {},
     "output_type": "execute_result"
    }
   ],
   "source": [
    "type(some_data)"
   ]
  },
  {
   "cell_type": "code",
   "execution_count": 93,
   "metadata": {
    "collapsed": false
   },
   "outputs": [
    {
     "data": {
      "text/plain": [
       "True"
      ]
     },
     "execution_count": 93,
     "metadata": {},
     "output_type": "execute_result"
    }
   ],
   "source": [
    "some_data.flags.writeable"
   ]
  },
  {
   "cell_type": "code",
   "execution_count": 99,
   "metadata": {
    "collapsed": false
   },
   "outputs": [
    {
     "data": {
      "text/plain": [
       "True"
      ]
     },
     "execution_count": 99,
     "metadata": {},
     "output_type": "execute_result"
    }
   ],
   "source": [
    "isinstance(some_data, np.ndarray) "
   ]
  },
  {
   "cell_type": "code",
   "execution_count": 106,
   "metadata": {
    "collapsed": false
   },
   "outputs": [
    {
     "data": {
      "text/plain": [
       "(21600, 43200)"
      ]
     },
     "execution_count": 106,
     "metadata": {},
     "output_type": "execute_result"
    }
   ],
   "source": [
    "some_data.shape"
   ]
  },
  {
   "cell_type": "code",
   "execution_count": 109,
   "metadata": {
    "collapsed": false
   },
   "outputs": [],
   "source": [
    "some_data[:,:] = 1"
   ]
  },
  {
   "cell_type": "code",
   "execution_count": 110,
   "metadata": {
    "collapsed": false
   },
   "outputs": [
    {
     "data": {
      "text/plain": [
       "<mmap.mmap at 0x7f885a06f618>"
      ]
     },
     "execution_count": 110,
     "metadata": {},
     "output_type": "execute_result"
    }
   ],
   "source": [
    "some_data._mmap"
   ]
  },
  {
   "cell_type": "code",
   "execution_count": 112,
   "metadata": {
    "collapsed": false
   },
   "outputs": [
    {
     "data": {
      "text/plain": [
       "memmap([[ 1.,  1.,  1., ...,  1.,  1.,  1.],\n",
       "       [ 1.,  1.,  1., ...,  1.,  1.,  1.],\n",
       "       [ 1.,  1.,  1., ...,  1.,  1.,  1.],\n",
       "       ..., \n",
       "       [ 1.,  1.,  1., ...,  1.,  1.,  1.],\n",
       "       [ 1.,  1.,  1., ...,  1.,  1.,  1.],\n",
       "       [ 1.,  1.,  1., ...,  1.,  1.,  1.]])"
      ]
     },
     "execution_count": 112,
     "metadata": {},
     "output_type": "execute_result"
    }
   ],
   "source": [
    "some_data"
   ]
  },
  {
   "cell_type": "code",
   "execution_count": null,
   "metadata": {
    "collapsed": true
   },
   "outputs": [],
   "source": []
  }
 ],
 "metadata": {
  "kernelspec": {
   "display_name": "Python 3",
   "language": "python",
   "name": "python3"
  },
  "language_info": {
   "codemirror_mode": {
    "name": "ipython",
    "version": 3
   },
   "file_extension": ".py",
   "mimetype": "text/x-python",
   "name": "python",
   "nbconvert_exporter": "python",
   "pygments_lexer": "ipython3",
   "version": "3.4.4"
  }
 },
 "nbformat": 4,
 "nbformat_minor": 0
}
