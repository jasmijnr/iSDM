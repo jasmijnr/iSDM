{
 "cells": [
  {
   "cell_type": "markdown",
   "metadata": {},
   "source": [
    "### Working with IUCN data in shapefiles"
   ]
  },
  {
   "cell_type": "markdown",
   "metadata": {},
   "source": [
    "#### just some logging/plotting magic to output in this notebook, nothing to care about."
   ]
  },
  {
   "cell_type": "code",
   "execution_count": 1,
   "metadata": {
    "collapsed": true
   },
   "outputs": [],
   "source": [
    "import logging\n",
    "root = logging.getLogger()\n",
    "root.addHandler(logging.StreamHandler())\n",
    "%matplotlib inline"
   ]
  },
  {
   "cell_type": "markdown",
   "metadata": {},
   "source": [
    "## 1. Load a shapefile with all turtles data. At this point no data cleaning is done yet."
   ]
  },
  {
   "cell_type": "code",
   "execution_count": 2,
   "metadata": {
    "collapsed": false
   },
   "outputs": [
    {
     "name": "stderr",
     "output_type": "stream",
     "text": [
      "Loading data from: ../data/FW_TURTLES/FW_TURTLES.shp\n",
      "The shapefile contains data on 181 species.\n"
     ]
    }
   ],
   "source": [
    "# download http://bit.ly/1R8pt20 (zipped Turtles shapefiles), and unzip them\n",
    "from iSDM.species import IUCNSpecies\n",
    "turtles = IUCNSpecies(name_species='Acanthochelys pallidipectoris')\n",
    "turtles.load_shapefile('../data/FW_TURTLES/FW_TURTLES.shp')"
   ]
  },
  {
   "cell_type": "markdown",
   "metadata": {},
   "source": [
    "#### Show only first 5 species (meta)data, to get an idea of the data structure."
   ]
  },
  {
   "cell_type": "code",
   "execution_count": 3,
   "metadata": {
    "collapsed": false
   },
   "outputs": [
    {
     "data": {
      "text/html": [
       "<div>\n",
       "<table border=\"1\" class=\"dataframe\">\n",
       "  <thead>\n",
       "    <tr style=\"text-align: right;\">\n",
       "      <th></th>\n",
       "      <th>binomial</th>\n",
       "      <th>category</th>\n",
       "      <th>citation</th>\n",
       "      <th>class_name</th>\n",
       "      <th>compiler</th>\n",
       "      <th>dist_comm</th>\n",
       "      <th>family_nam</th>\n",
       "      <th>genus_name</th>\n",
       "      <th>geometry</th>\n",
       "      <th>id_no</th>\n",
       "      <th>...</th>\n",
       "      <th>presence</th>\n",
       "      <th>seasonal</th>\n",
       "      <th>shape_Area</th>\n",
       "      <th>shape_Leng</th>\n",
       "      <th>source</th>\n",
       "      <th>species_na</th>\n",
       "      <th>subpop</th>\n",
       "      <th>subspecies</th>\n",
       "      <th>tax_comm</th>\n",
       "      <th>year</th>\n",
       "    </tr>\n",
       "  </thead>\n",
       "  <tbody>\n",
       "    <tr>\n",
       "      <th>0</th>\n",
       "      <td>Batagur baska</td>\n",
       "      <td>CR</td>\n",
       "      <td>CRF</td>\n",
       "      <td>REPTILIA</td>\n",
       "      <td>Rhodin</td>\n",
       "      <td>None</td>\n",
       "      <td>GEOEMYDIDAE</td>\n",
       "      <td>Batagur</td>\n",
       "      <td>(POLYGON ((88.17095947265625 21.91680908203125...</td>\n",
       "      <td>2614.0</td>\n",
       "      <td>...</td>\n",
       "      <td>1.0</td>\n",
       "      <td>1.0</td>\n",
       "      <td>11.002731</td>\n",
       "      <td>126.804751</td>\n",
       "      <td>CBFTT</td>\n",
       "      <td>baska</td>\n",
       "      <td>None</td>\n",
       "      <td>None</td>\n",
       "      <td>None</td>\n",
       "      <td>2013.0</td>\n",
       "    </tr>\n",
       "    <tr>\n",
       "      <th>1</th>\n",
       "      <td>Cuora galbinifrons</td>\n",
       "      <td>CR</td>\n",
       "      <td>CRF</td>\n",
       "      <td>REPTILIA</td>\n",
       "      <td>Rhodin</td>\n",
       "      <td>None</td>\n",
       "      <td>GEOEMYDIDAE</td>\n",
       "      <td>Cuora</td>\n",
       "      <td>(POLYGON ((105.4661254882812 21.1263427734375,...</td>\n",
       "      <td>5955.0</td>\n",
       "      <td>...</td>\n",
       "      <td>1.0</td>\n",
       "      <td>1.0</td>\n",
       "      <td>16.619326</td>\n",
       "      <td>52.207722</td>\n",
       "      <td>CBFTT</td>\n",
       "      <td>galbinifrons</td>\n",
       "      <td>None</td>\n",
       "      <td>None</td>\n",
       "      <td>None</td>\n",
       "      <td>2013.0</td>\n",
       "    </tr>\n",
       "    <tr>\n",
       "      <th>2</th>\n",
       "      <td>Graptemys pseudogeographica</td>\n",
       "      <td>LC</td>\n",
       "      <td>CRF</td>\n",
       "      <td>REPTILIA</td>\n",
       "      <td>Rhodin</td>\n",
       "      <td>None</td>\n",
       "      <td>EMYDIDAE</td>\n",
       "      <td>Graptemys</td>\n",
       "      <td>(POLYGON ((-95.635009765625 35.36834716796875,...</td>\n",
       "      <td>165600.0</td>\n",
       "      <td>...</td>\n",
       "      <td>1.0</td>\n",
       "      <td>1.0</td>\n",
       "      <td>97.575806</td>\n",
       "      <td>256.031805</td>\n",
       "      <td>CBFTT</td>\n",
       "      <td>pseudogeographica</td>\n",
       "      <td>None</td>\n",
       "      <td>None</td>\n",
       "      <td>None</td>\n",
       "      <td>2013.0</td>\n",
       "    </tr>\n",
       "    <tr>\n",
       "      <th>3</th>\n",
       "      <td>Malaclemys terrapin</td>\n",
       "      <td>LR/nt</td>\n",
       "      <td>CRF</td>\n",
       "      <td>REPTILIA</td>\n",
       "      <td>Rhodin</td>\n",
       "      <td>None</td>\n",
       "      <td>EMYDIDAE</td>\n",
       "      <td>Malaclemys</td>\n",
       "      <td>(POLYGON ((-76.6082763671875 39.25, -76.615722...</td>\n",
       "      <td>12695.0</td>\n",
       "      <td>...</td>\n",
       "      <td>1.0</td>\n",
       "      <td>1.0</td>\n",
       "      <td>11.345627</td>\n",
       "      <td>347.909301</td>\n",
       "      <td>CBFTT</td>\n",
       "      <td>terrapin</td>\n",
       "      <td>None</td>\n",
       "      <td>None</td>\n",
       "      <td>None</td>\n",
       "      <td>2013.0</td>\n",
       "    </tr>\n",
       "    <tr>\n",
       "      <th>4</th>\n",
       "      <td>Melanochelys trijuga</td>\n",
       "      <td>LR/nt</td>\n",
       "      <td>CRF</td>\n",
       "      <td>REPTILIA</td>\n",
       "      <td>Rhodin</td>\n",
       "      <td>None</td>\n",
       "      <td>GEOEMYDIDAE</td>\n",
       "      <td>Melanochelys</td>\n",
       "      <td>(POLYGON ((84.14166259765625 26.06658935546875...</td>\n",
       "      <td>13039.0</td>\n",
       "      <td>...</td>\n",
       "      <td>1.0</td>\n",
       "      <td>1.0</td>\n",
       "      <td>172.597842</td>\n",
       "      <td>326.610136</td>\n",
       "      <td>CBFTT</td>\n",
       "      <td>trijuga</td>\n",
       "      <td>None</td>\n",
       "      <td>None</td>\n",
       "      <td>None</td>\n",
       "      <td>2013.0</td>\n",
       "    </tr>\n",
       "  </tbody>\n",
       "</table>\n",
       "<p>5 rows × 26 columns</p>\n",
       "</div>"
      ],
      "text/plain": [
       "                      binomial category citation class_name compiler  \\\n",
       "0                Batagur baska       CR      CRF   REPTILIA   Rhodin   \n",
       "1           Cuora galbinifrons       CR      CRF   REPTILIA   Rhodin   \n",
       "2  Graptemys pseudogeographica       LC      CRF   REPTILIA   Rhodin   \n",
       "3          Malaclemys terrapin    LR/nt      CRF   REPTILIA   Rhodin   \n",
       "4         Melanochelys trijuga    LR/nt      CRF   REPTILIA   Rhodin   \n",
       "\n",
       "  dist_comm   family_nam    genus_name  \\\n",
       "0      None  GEOEMYDIDAE       Batagur   \n",
       "1      None  GEOEMYDIDAE         Cuora   \n",
       "2      None     EMYDIDAE     Graptemys   \n",
       "3      None     EMYDIDAE    Malaclemys   \n",
       "4      None  GEOEMYDIDAE  Melanochelys   \n",
       "\n",
       "                                            geometry     id_no   ...    \\\n",
       "0  (POLYGON ((88.17095947265625 21.91680908203125...    2614.0   ...     \n",
       "1  (POLYGON ((105.4661254882812 21.1263427734375,...    5955.0   ...     \n",
       "2  (POLYGON ((-95.635009765625 35.36834716796875,...  165600.0   ...     \n",
       "3  (POLYGON ((-76.6082763671875 39.25, -76.615722...   12695.0   ...     \n",
       "4  (POLYGON ((84.14166259765625 26.06658935546875...   13039.0   ...     \n",
       "\n",
       "  presence seasonal  shape_Area  shape_Leng  source         species_na  \\\n",
       "0      1.0      1.0   11.002731  126.804751   CBFTT              baska   \n",
       "1      1.0      1.0   16.619326   52.207722   CBFTT       galbinifrons   \n",
       "2      1.0      1.0   97.575806  256.031805   CBFTT  pseudogeographica   \n",
       "3      1.0      1.0   11.345627  347.909301   CBFTT           terrapin   \n",
       "4      1.0      1.0  172.597842  326.610136   CBFTT            trijuga   \n",
       "\n",
       "   subpop  subspecies  tax_comm    year  \n",
       "0    None        None      None  2013.0  \n",
       "1    None        None      None  2013.0  \n",
       "2    None        None      None  2013.0  \n",
       "3    None        None      None  2013.0  \n",
       "4    None        None      None  2013.0  \n",
       "\n",
       "[5 rows x 26 columns]"
      ]
     },
     "execution_count": 3,
     "metadata": {},
     "output_type": "execute_result"
    }
   ],
   "source": [
    "turtles.get_data().head()"
   ]
  },
  {
   "cell_type": "code",
   "execution_count": 4,
   "metadata": {
    "collapsed": false
   },
   "outputs": [
    {
     "data": {
      "text/plain": [
       "Index(['binomial', 'category', 'citation', 'class_name', 'compiler',\n",
       "       'dist_comm', 'family_nam', 'genus_name', 'geometry', 'id_no', 'island',\n",
       "       'kingdom_na', 'legend', 'order_name', 'origin', 'phylum_nam',\n",
       "       'presence', 'seasonal', 'shape_Area', 'shape_Leng', 'source',\n",
       "       'species_na', 'subpop', 'subspecies', 'tax_comm', 'year'],\n",
       "      dtype='object')"
      ]
     },
     "execution_count": 4,
     "metadata": {},
     "output_type": "execute_result"
    }
   ],
   "source": [
    "turtles.get_data().columns # all the columns available per species geometry"
   ]
  },
  {
   "cell_type": "markdown",
   "metadata": {},
   "source": [
    "## 2. Filter species by the name given above"
   ]
  },
  {
   "cell_type": "code",
   "execution_count": 5,
   "metadata": {
    "collapsed": false
   },
   "outputs": [
    {
     "name": "stderr",
     "output_type": "stream",
     "text": [
      "Loaded species: ['Acanthochelys pallidipectoris'] \n"
     ]
    }
   ],
   "source": [
    "turtles.find_species_occurrences()"
   ]
  },
  {
   "cell_type": "code",
   "execution_count": 6,
   "metadata": {
    "collapsed": false
   },
   "outputs": [
    {
     "data": {
      "text/html": [
       "<div>\n",
       "<table border=\"1\" class=\"dataframe\">\n",
       "  <thead>\n",
       "    <tr style=\"text-align: right;\">\n",
       "      <th></th>\n",
       "      <th>binomial</th>\n",
       "      <th>category</th>\n",
       "      <th>citation</th>\n",
       "      <th>class_name</th>\n",
       "      <th>compiler</th>\n",
       "      <th>dist_comm</th>\n",
       "      <th>family_nam</th>\n",
       "      <th>genus_name</th>\n",
       "      <th>geometry</th>\n",
       "      <th>id_no</th>\n",
       "      <th>...</th>\n",
       "      <th>presence</th>\n",
       "      <th>seasonal</th>\n",
       "      <th>shape_Area</th>\n",
       "      <th>shape_Leng</th>\n",
       "      <th>source</th>\n",
       "      <th>species_na</th>\n",
       "      <th>subpop</th>\n",
       "      <th>subspecies</th>\n",
       "      <th>tax_comm</th>\n",
       "      <th>year</th>\n",
       "    </tr>\n",
       "  </thead>\n",
       "  <tbody>\n",
       "    <tr>\n",
       "      <th>138</th>\n",
       "      <td>Acanthochelys pallidipectoris</td>\n",
       "      <td>VU</td>\n",
       "      <td>CRF</td>\n",
       "      <td>REPTILIA</td>\n",
       "      <td>Rhodin</td>\n",
       "      <td>None</td>\n",
       "      <td>CHELIDAE</td>\n",
       "      <td>Acanthochelys</td>\n",
       "      <td>POLYGON ((-59.20001220703125 -28.0374755859375...</td>\n",
       "      <td>75.0</td>\n",
       "      <td>...</td>\n",
       "      <td>1.0</td>\n",
       "      <td>1.0</td>\n",
       "      <td>36.632836</td>\n",
       "      <td>54.770042</td>\n",
       "      <td>CBFTT</td>\n",
       "      <td>pallidipectoris</td>\n",
       "      <td>None</td>\n",
       "      <td>None</td>\n",
       "      <td>None</td>\n",
       "      <td>2013.0</td>\n",
       "    </tr>\n",
       "  </tbody>\n",
       "</table>\n",
       "<p>1 rows × 26 columns</p>\n",
       "</div>"
      ],
      "text/plain": [
       "                          binomial category citation class_name compiler  \\\n",
       "138  Acanthochelys pallidipectoris       VU      CRF   REPTILIA   Rhodin   \n",
       "\n",
       "    dist_comm family_nam     genus_name  \\\n",
       "138      None   CHELIDAE  Acanthochelys   \n",
       "\n",
       "                                              geometry  id_no   ...    \\\n",
       "138  POLYGON ((-59.20001220703125 -28.0374755859375...   75.0   ...     \n",
       "\n",
       "    presence seasonal shape_Area shape_Leng  source       species_na  subpop  \\\n",
       "138      1.0      1.0  36.632836  54.770042   CBFTT  pallidipectoris    None   \n",
       "\n",
       "     subspecies  tax_comm    year  \n",
       "138        None      None  2013.0  \n",
       "\n",
       "[1 rows x 26 columns]"
      ]
     },
     "execution_count": 6,
     "metadata": {},
     "output_type": "execute_result"
    }
   ],
   "source": [
    "turtles.get_data() # datatype: geopandas.geodataframe.GeoDataFrame"
   ]
  },
  {
   "cell_type": "code",
   "execution_count": 7,
   "metadata": {
    "collapsed": false
   },
   "outputs": [
    {
     "name": "stderr",
     "output_type": "stream",
     "text": [
      "Saved data: /home/daniela/git/iSDM/notebooks/Acanthochelys pallidipectoris75.pkl \n"
     ]
    }
   ],
   "source": [
    "turtles.save_data() # serialize all the current data to a pickle file, so it can be loaded later on"
   ]
  },
  {
   "cell_type": "code",
   "execution_count": 8,
   "metadata": {
    "collapsed": false
   },
   "outputs": [
    {
     "name": "stderr",
     "output_type": "stream",
     "text": [
      "Loading data from: /home/daniela/git/iSDM/notebooks/Acanthochelys pallidipectoris75.pkl\n",
      "Succesfully loaded previously saved data.\n"
     ]
    },
    {
     "data": {
      "text/html": [
       "<div>\n",
       "<table border=\"1\" class=\"dataframe\">\n",
       "  <thead>\n",
       "    <tr style=\"text-align: right;\">\n",
       "      <th></th>\n",
       "      <th>binomial</th>\n",
       "      <th>category</th>\n",
       "      <th>citation</th>\n",
       "      <th>class_name</th>\n",
       "      <th>compiler</th>\n",
       "      <th>dist_comm</th>\n",
       "      <th>family_nam</th>\n",
       "      <th>genus_name</th>\n",
       "      <th>geometry</th>\n",
       "      <th>id_no</th>\n",
       "      <th>...</th>\n",
       "      <th>presence</th>\n",
       "      <th>seasonal</th>\n",
       "      <th>shape_Area</th>\n",
       "      <th>shape_Leng</th>\n",
       "      <th>source</th>\n",
       "      <th>species_na</th>\n",
       "      <th>subpop</th>\n",
       "      <th>subspecies</th>\n",
       "      <th>tax_comm</th>\n",
       "      <th>year</th>\n",
       "    </tr>\n",
       "  </thead>\n",
       "  <tbody>\n",
       "    <tr>\n",
       "      <th>138</th>\n",
       "      <td>Acanthochelys pallidipectoris</td>\n",
       "      <td>VU</td>\n",
       "      <td>CRF</td>\n",
       "      <td>REPTILIA</td>\n",
       "      <td>Rhodin</td>\n",
       "      <td>None</td>\n",
       "      <td>CHELIDAE</td>\n",
       "      <td>Acanthochelys</td>\n",
       "      <td>POLYGON ((-59.20001220703125 -28.0374755859375...</td>\n",
       "      <td>75.0</td>\n",
       "      <td>...</td>\n",
       "      <td>1.0</td>\n",
       "      <td>1.0</td>\n",
       "      <td>36.632836</td>\n",
       "      <td>54.770042</td>\n",
       "      <td>CBFTT</td>\n",
       "      <td>pallidipectoris</td>\n",
       "      <td>None</td>\n",
       "      <td>None</td>\n",
       "      <td>None</td>\n",
       "      <td>2013.0</td>\n",
       "    </tr>\n",
       "  </tbody>\n",
       "</table>\n",
       "<p>1 rows × 26 columns</p>\n",
       "</div>"
      ],
      "text/plain": [
       "                          binomial category citation class_name compiler  \\\n",
       "138  Acanthochelys pallidipectoris       VU      CRF   REPTILIA   Rhodin   \n",
       "\n",
       "    dist_comm family_nam     genus_name  \\\n",
       "138      None   CHELIDAE  Acanthochelys   \n",
       "\n",
       "                                              geometry  id_no   ...    \\\n",
       "138  POLYGON ((-59.20001220703125 -28.0374755859375...   75.0   ...     \n",
       "\n",
       "    presence seasonal shape_Area shape_Leng  source       species_na  subpop  \\\n",
       "138      1.0      1.0  36.632836  54.770042   CBFTT  pallidipectoris    None   \n",
       "\n",
       "     subspecies  tax_comm    year  \n",
       "138        None      None  2013.0  \n",
       "\n",
       "[1 rows x 26 columns]"
      ]
     },
     "execution_count": 8,
     "metadata": {},
     "output_type": "execute_result"
    }
   ],
   "source": [
    "turtles.load_data()"
   ]
  },
  {
   "cell_type": "code",
   "execution_count": 9,
   "metadata": {
    "collapsed": false
   },
   "outputs": [
    {
     "data": {
      "text/plain": [
       "75"
      ]
     },
     "execution_count": 9,
     "metadata": {},
     "output_type": "execute_result"
    }
   ],
   "source": [
    "turtles.ID # derived from \"id_no\" column. It's a sort of unique ID per species"
   ]
  },
  {
   "cell_type": "markdown",
   "metadata": {},
   "source": [
    "## 3. Plot geometry"
   ]
  },
  {
   "cell_type": "markdown",
   "metadata": {},
   "source": [
    "#### Plot the shapefile data, and a convex hull"
   ]
  },
  {
   "cell_type": "code",
   "execution_count": 10,
   "metadata": {
    "collapsed": false
   },
   "outputs": [
    {
     "data": {
      "text/plain": [
       "<matplotlib.axes._subplots.AxesSubplot at 0x7f2a989259b0>"
      ]
     },
     "execution_count": 10,
     "metadata": {},
     "output_type": "execute_result"
    },
    {
     "data": {
      "image/png": "[encoded data removed]",
      "text/plain": [
       "<matplotlib.figure.Figure at 0x7f2a97315828>"
      ]
     },
     "metadata": {},
     "output_type": "display_data"
    },
    {
     "data": {
      "image/png": "[encoded data removed]",
      "text/plain": [
       "<matplotlib.figure.Figure at 0x7f2a991262b0>"
      ]
     },
     "metadata": {},
     "output_type": "display_data"
    }
   ],
   "source": [
    "turtles.get_data().plot()\n",
    "turtles.data_full.geometry.convex_hull.plot()"
   ]
  },
  {
   "cell_type": "markdown",
   "metadata": {},
   "source": [
    "#### Let's put a buffer around the data, and plot that"
   ]
  },
  {
   "cell_type": "code",
   "execution_count": 11,
   "metadata": {
    "collapsed": false
   },
   "outputs": [
    {
     "data": {
      "text/plain": [
       "<matplotlib.axes._subplots.AxesSubplot at 0x7f2a98c37748>"
      ]
     },
     "execution_count": 11,
     "metadata": {},
     "output_type": "execute_result"
    },
    {
     "data": {
      "image/png": "[encoded data removed]",
      "text/plain": [
       "<matplotlib.figure.Figure at 0x7f2a98fde828>"
      ]
     },
     "metadata": {},
     "output_type": "display_data"
    }
   ],
   "source": [
    "with_buffer = turtles.get_data().geometry.buffer(0.5)\n",
    "with_buffer.plot()"
   ]
  },
  {
   "cell_type": "markdown",
   "metadata": {},
   "source": [
    "#### The currently filtered shape data can be saved. If overwrite=True, the shapefile it was loaded from, will be overwritten. Otherwise you can provide a new shape_file as an argument."
   ]
  },
  {
   "cell_type": "code",
   "execution_count": 12,
   "metadata": {
    "collapsed": false
   },
   "outputs": [
    {
     "name": "stderr",
     "output_type": "stream",
     "text": [
      "Saved data: ../data/FW_TURTLES/FW_TURTLES.shp \n"
     ]
    }
   ],
   "source": [
    "turtles.save_shapefile(overwrite=True)"
   ]
  },
  {
   "cell_type": "markdown",
   "metadata": {},
   "source": [
    "## 4. Rasterize"
   ]
  },
  {
   "cell_type": "markdown",
   "metadata": {},
   "source": [
    "#### Rasterize the data: we need a target raster_file to save it to, and a resolution."
   ]
  },
  {
   "cell_type": "code",
   "execution_count": 13,
   "metadata": {
    "collapsed": false
   },
   "outputs": [
    {
     "name": "stderr",
     "output_type": "stream",
     "text": [
      "Data rasterized into file ./turtles.tif \n",
      "Resolution: x_res=15 y_res=18\n"
     ]
    }
   ],
   "source": [
    "turtles.rasterize_data(raster_file='./turtles.tif', pixel_size=0.5)"
   ]
  },
  {
   "cell_type": "markdown",
   "metadata": {},
   "source": [
    "#### Or at some point later, if you want to load the raster file"
   ]
  },
  {
   "cell_type": "code",
   "execution_count": 14,
   "metadata": {
    "collapsed": false
   },
   "outputs": [
    {
     "name": "stderr",
     "output_type": "stream",
     "text": [
      "Driver name: GeoTIFF \n",
      "Raster data from ./turtles.tif loaded.\n"
     ]
    }
   ],
   "source": [
    "turtles_raster_data = turtles.load_raster_data()"
   ]
  },
  {
   "cell_type": "code",
   "execution_count": 15,
   "metadata": {
    "collapsed": false
   },
   "outputs": [
    {
     "data": {
      "text/plain": [
       "(18, 15)"
      ]
     },
     "execution_count": 15,
     "metadata": {},
     "output_type": "execute_result"
    }
   ],
   "source": [
    "turtles_raster_data.shape"
   ]
  },
  {
   "cell_type": "code",
   "execution_count": 16,
   "metadata": {
    "collapsed": false
   },
   "outputs": [
    {
     "data": {
      "text/plain": [
       "numpy.ndarray"
      ]
     },
     "execution_count": 16,
     "metadata": {},
     "output_type": "execute_result"
    }
   ],
   "source": [
    "type(turtles_raster_data)"
   ]
  },
  {
   "cell_type": "markdown",
   "metadata": {},
   "source": [
    "#### A simple plot of the raster data"
   ]
  },
  {
   "cell_type": "code",
   "execution_count": 17,
   "metadata": {
    "collapsed": false
   },
   "outputs": [
    {
     "data": {
      "text/plain": [
       "<matplotlib.image.AxesImage at 0x7f2a98ebb080>"
      ]
     },
     "execution_count": 17,
     "metadata": {},
     "output_type": "execute_result"
    },
    {
     "data": {
      "image/png": "[encoded data removed]",
      "text/plain": [
       "<matplotlib.figure.Figure at 0x7f2a98c40940>"
      ]
     },
     "metadata": {},
     "output_type": "display_data"
    }
   ],
   "source": [
    "import matplotlib.pyplot as plt\n",
    "plt.figure(figsize=turtles_raster_data.shape) # careful with big images!\n",
    "plt.imshow(turtles_raster_data, cmap=\"hot\", interpolation=\"none\")"
   ]
  },
  {
   "cell_type": "code",
   "execution_count": null,
   "metadata": {
    "collapsed": false
   },
   "outputs": [],
   "source": []
  },
  {
   "cell_type": "code",
   "execution_count": null,
   "metadata": {
    "collapsed": true
   },
   "outputs": [],
   "source": []
  }
 ],
 "metadata": {
  "kernelspec": {
   "display_name": "Python 3",
   "language": "python",
   "name": "python3"
  },
  "language_info": {
   "codemirror_mode": {
    "name": "ipython",
    "version": 3
   },
   "file_extension": ".py",
   "mimetype": "text/x-python",
   "name": "python",
   "nbconvert_exporter": "python",
   "pygments_lexer": "ipython3",
   "version": "3.5.1"
  }
 },
 "nbformat": 4,
 "nbformat_minor": 0
}
