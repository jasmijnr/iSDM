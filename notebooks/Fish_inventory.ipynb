{
 "cells": [
  {
   "cell_type": "code",
   "execution_count": 1,
   "metadata": {
    "collapsed": true
   },
   "outputs": [],
   "source": [
    "import logging\n",
    "import numpy as np\n",
    "import pandas as pd\n",
    "root = logging.getLogger()\n",
    "root.addHandler(logging.StreamHandler())\n",
    "%matplotlib inline"
   ]
  },
  {
   "cell_type": "code",
   "execution_count": 2,
   "metadata": {
    "collapsed": false
   },
   "outputs": [
    {
     "name": "stderr",
     "output_type": "stream",
     "text": [
      "Enabled Shapely speedups for performance.\n",
      "Loading data from: ../data/fish/FW_FISH.shp\n",
      "The shapefile contains data on 12927 species areas.\n"
     ]
    }
   ],
   "source": [
    "# download http://bit.ly/1R8pt20 (zipped Turtles shapefiles), and unzip them\n",
    "# or download from Google Drive: https://drive.google.com/open?id=0B9cazFzBtPuCSFp3YWE1V2JGdnc\n",
    "from iSDM.species import IUCNSpecies\n",
    "fish = IUCNSpecies(name_species='All')\n",
    "fish.load_shapefile('../data/fish/FW_FISH.shp') # warning, 2GB of data will be loaded, may take a while!!"
   ]
  },
  {
   "cell_type": "markdown",
   "metadata": {},
   "source": [
    "## Simple data exploration"
   ]
  },
  {
   "cell_type": "code",
   "execution_count": 3,
   "metadata": {
    "collapsed": false
   },
   "outputs": [
    {
     "data": {
      "text/plain": [
       "Index(['binomial', 'category', 'citation', 'class_name', 'compiler',\n",
       "       'dist_comm', 'family_nam', 'genus_name', 'geometry', 'id_no', 'island',\n",
       "       'kingdom_na', 'legend', 'order_name', 'origin', 'phylum_nam',\n",
       "       'presence', 'seasonal', 'shape_area', 'shape_leng', 'source',\n",
       "       'species_na', 'subpop', 'subspecies', 'tax_comm', 'year'],\n",
       "      dtype='object')"
      ]
     },
     "execution_count": 3,
     "metadata": {},
     "output_type": "execute_result"
    }
   ],
   "source": [
    "fish.get_data().columns"
   ]
  },
  {
   "cell_type": "markdown",
   "metadata": {},
   "source": [
    "How many unique binomials are there?"
   ]
  },
  {
   "cell_type": "code",
   "execution_count": 4,
   "metadata": {
    "collapsed": false
   },
   "outputs": [
    {
     "data": {
      "text/plain": [
       "6328"
      ]
     },
     "execution_count": 4,
     "metadata": {},
     "output_type": "execute_result"
    }
   ],
   "source": [
    "fish_data = fish.get_data()\n",
    "fish_data['binomial'].unique().size "
   ]
  },
  {
   "cell_type": "markdown",
   "metadata": {},
   "source": [
    "Get their names in an array:"
   ]
  },
  {
   "cell_type": "code",
   "execution_count": 5,
   "metadata": {
    "collapsed": false
   },
   "outputs": [
    {
     "data": {
      "text/plain": [
       "array(['Bagarius suchus', 'Rasbora spilocerca', 'Notoglanidium pallidum',\n",
       "       ..., 'Schistura procera', 'Monotrete cambodgiensis',\n",
       "       'Acantopsis spectabilis'], dtype=object)"
      ]
     },
     "execution_count": 5,
     "metadata": {},
     "output_type": "execute_result"
    }
   ],
   "source": [
    "unique_binomials = fish_data['binomial'].unique()\n",
    "unique_binomials"
   ]
  },
  {
   "cell_type": "code",
   "execution_count": 6,
   "metadata": {
    "collapsed": false
   },
   "outputs": [
    {
     "data": {
      "text/html": [
       "<div>\n",
       "<table border=\"1\" class=\"dataframe\">\n",
       "  <thead>\n",
       "    <tr style=\"text-align: right;\">\n",
       "      <th></th>\n",
       "      <th>binomial</th>\n",
       "      <th>category</th>\n",
       "      <th>citation</th>\n",
       "      <th>class_name</th>\n",
       "      <th>compiler</th>\n",
       "      <th>dist_comm</th>\n",
       "      <th>family_nam</th>\n",
       "      <th>genus_name</th>\n",
       "      <th>geometry</th>\n",
       "      <th>id_no</th>\n",
       "      <th>...</th>\n",
       "      <th>presence</th>\n",
       "      <th>seasonal</th>\n",
       "      <th>shape_area</th>\n",
       "      <th>shape_leng</th>\n",
       "      <th>source</th>\n",
       "      <th>species_na</th>\n",
       "      <th>subpop</th>\n",
       "      <th>subspecies</th>\n",
       "      <th>tax_comm</th>\n",
       "      <th>year</th>\n",
       "    </tr>\n",
       "  </thead>\n",
       "  <tbody>\n",
       "    <tr>\n",
       "      <th>0</th>\n",
       "      <td>Bagarius suchus</td>\n",
       "      <td>NT</td>\n",
       "      <td>Indo-Burma freshwater assessment, IUCN</td>\n",
       "      <td>ACTINOPTERYGII</td>\n",
       "      <td>IUCN FBU</td>\n",
       "      <td>None</td>\n",
       "      <td>SISORIDAE</td>\n",
       "      <td>Bagarius</td>\n",
       "      <td>POLYGON ((101.8125000000001 22.48333333300008,...</td>\n",
       "      <td>181271.0</td>\n",
       "      <td>...</td>\n",
       "      <td>2.0</td>\n",
       "      <td>5.0</td>\n",
       "      <td>49.374794</td>\n",
       "      <td>60.288418</td>\n",
       "      <td>Red List assessment</td>\n",
       "      <td>suchus</td>\n",
       "      <td>None</td>\n",
       "      <td>None</td>\n",
       "      <td>None</td>\n",
       "      <td>2012.0</td>\n",
       "    </tr>\n",
       "    <tr>\n",
       "      <th>1</th>\n",
       "      <td>Rasbora spilocerca</td>\n",
       "      <td>LC</td>\n",
       "      <td>Indo-Burma freshwater assessment, IUCN</td>\n",
       "      <td>ACTINOPTERYGII</td>\n",
       "      <td>J. Scott, IUCN</td>\n",
       "      <td>None</td>\n",
       "      <td>CYPRINIDAE</td>\n",
       "      <td>Rasbora</td>\n",
       "      <td>POLYGON ((103.5121466740001 18.53992445200004,...</td>\n",
       "      <td>181127.0</td>\n",
       "      <td>...</td>\n",
       "      <td>2.0</td>\n",
       "      <td>5.0</td>\n",
       "      <td>8.361239</td>\n",
       "      <td>58.345301</td>\n",
       "      <td>Red List assessment</td>\n",
       "      <td>spilocerca</td>\n",
       "      <td>None</td>\n",
       "      <td>None</td>\n",
       "      <td>None</td>\n",
       "      <td>2012.0</td>\n",
       "    </tr>\n",
       "    <tr>\n",
       "      <th>2</th>\n",
       "      <td>Notoglanidium pallidum</td>\n",
       "      <td>VU</td>\n",
       "      <td>IUCN (International Union for Conservation of ...</td>\n",
       "      <td>ACTINOPTERYGII</td>\n",
       "      <td>None</td>\n",
       "      <td>None</td>\n",
       "      <td>CLAROTEIDAE</td>\n",
       "      <td>Notoglanidium</td>\n",
       "      <td>POLYGON ((12.81128506100004 -4.286932711999953...</td>\n",
       "      <td>182359.0</td>\n",
       "      <td>...</td>\n",
       "      <td>1.0</td>\n",
       "      <td>1.0</td>\n",
       "      <td>1.524058</td>\n",
       "      <td>10.000992</td>\n",
       "      <td>None</td>\n",
       "      <td>pallidum</td>\n",
       "      <td>None</td>\n",
       "      <td>None</td>\n",
       "      <td>None</td>\n",
       "      <td>0.0</td>\n",
       "    </tr>\n",
       "    <tr>\n",
       "      <th>3</th>\n",
       "      <td>Parananochromis brevirostris</td>\n",
       "      <td>VU</td>\n",
       "      <td>IUCN (International Union for Conservation of ...</td>\n",
       "      <td>ACTINOPTERYGII</td>\n",
       "      <td>None</td>\n",
       "      <td>None</td>\n",
       "      <td>CICHLIDAE</td>\n",
       "      <td>Parananochromis</td>\n",
       "      <td>(POLYGON ((12.10738288000005 1.628413222000063...</td>\n",
       "      <td>182240.0</td>\n",
       "      <td>...</td>\n",
       "      <td>2.0</td>\n",
       "      <td>1.0</td>\n",
       "      <td>5.563441</td>\n",
       "      <td>30.269691</td>\n",
       "      <td>None</td>\n",
       "      <td>brevirostris</td>\n",
       "      <td>None</td>\n",
       "      <td>None</td>\n",
       "      <td>None</td>\n",
       "      <td>0.0</td>\n",
       "    </tr>\n",
       "    <tr>\n",
       "      <th>4</th>\n",
       "      <td>Parananochromis brevirostris</td>\n",
       "      <td>VU</td>\n",
       "      <td>IUCN (International Union for Conservation of ...</td>\n",
       "      <td>ACTINOPTERYGII</td>\n",
       "      <td>None</td>\n",
       "      <td>None</td>\n",
       "      <td>CICHLIDAE</td>\n",
       "      <td>Parananochromis</td>\n",
       "      <td>(POLYGON ((12.78953162300007 2.117309570000032...</td>\n",
       "      <td>182240.0</td>\n",
       "      <td>...</td>\n",
       "      <td>1.0</td>\n",
       "      <td>1.0</td>\n",
       "      <td>4.872947</td>\n",
       "      <td>39.634665</td>\n",
       "      <td>None</td>\n",
       "      <td>brevirostris</td>\n",
       "      <td>None</td>\n",
       "      <td>None</td>\n",
       "      <td>None</td>\n",
       "      <td>0.0</td>\n",
       "    </tr>\n",
       "    <tr>\n",
       "      <th>5</th>\n",
       "      <td>Parananochromis brevirostris</td>\n",
       "      <td>VU</td>\n",
       "      <td>None</td>\n",
       "      <td>ACTINOPTERYGII</td>\n",
       "      <td>None</td>\n",
       "      <td>None</td>\n",
       "      <td>CICHLIDAE</td>\n",
       "      <td>Parananochromis</td>\n",
       "      <td>(POLYGON ((13.13924221400003 -0.98298000799997...</td>\n",
       "      <td>182240.0</td>\n",
       "      <td>...</td>\n",
       "      <td>1.0</td>\n",
       "      <td>1.0</td>\n",
       "      <td>0.366030</td>\n",
       "      <td>6.770438</td>\n",
       "      <td>None</td>\n",
       "      <td>brevirostris</td>\n",
       "      <td>None</td>\n",
       "      <td>None</td>\n",
       "      <td>None</td>\n",
       "      <td>0.0</td>\n",
       "    </tr>\n",
       "    <tr>\n",
       "      <th>6</th>\n",
       "      <td>Ambassis vachellii</td>\n",
       "      <td>LC</td>\n",
       "      <td>H.Larson and IUCN (International Union for Con...</td>\n",
       "      <td>ACTINOPTERYGII</td>\n",
       "      <td>M.Raiwalui/IUCN</td>\n",
       "      <td>None</td>\n",
       "      <td>AMBASSIDAE</td>\n",
       "      <td>Ambassis</td>\n",
       "      <td>(POLYGON ((105.2625 -6.754166666999936, 105.25...</td>\n",
       "      <td>166893.0</td>\n",
       "      <td>...</td>\n",
       "      <td>1.0</td>\n",
       "      <td>1.0</td>\n",
       "      <td>121.742461</td>\n",
       "      <td>1817.507950</td>\n",
       "      <td>H.Larson</td>\n",
       "      <td>vachellii</td>\n",
       "      <td>None</td>\n",
       "      <td>None</td>\n",
       "      <td>None</td>\n",
       "      <td>2011.0</td>\n",
       "    </tr>\n",
       "    <tr>\n",
       "      <th>7</th>\n",
       "      <td>Parasikukia maculata</td>\n",
       "      <td>LC</td>\n",
       "      <td>Indo-Burma freshwater assessment, IUCN</td>\n",
       "      <td>ACTINOPTERYGII</td>\n",
       "      <td>D. Allen, IUCN</td>\n",
       "      <td>None</td>\n",
       "      <td>CYPRINIDAE</td>\n",
       "      <td>Parasikukia</td>\n",
       "      <td>(POLYGON ((100.374432712 18.59657999700005, 10...</td>\n",
       "      <td>181017.0</td>\n",
       "      <td>...</td>\n",
       "      <td>2.0</td>\n",
       "      <td>1.0</td>\n",
       "      <td>12.017594</td>\n",
       "      <td>58.052434</td>\n",
       "      <td>Red List assessment</td>\n",
       "      <td>maculata</td>\n",
       "      <td>None</td>\n",
       "      <td>None</td>\n",
       "      <td>None</td>\n",
       "      <td>2012.0</td>\n",
       "    </tr>\n",
       "    <tr>\n",
       "      <th>8</th>\n",
       "      <td>Parasikukia maculata</td>\n",
       "      <td>LC</td>\n",
       "      <td>Indo-Burma freshwater assessment, IUCN</td>\n",
       "      <td>ACTINOPTERYGII</td>\n",
       "      <td>D. Allen, IUCN</td>\n",
       "      <td>None</td>\n",
       "      <td>CYPRINIDAE</td>\n",
       "      <td>Parasikukia</td>\n",
       "      <td>(POLYGON ((100.8458333330001 12.69166666700005...</td>\n",
       "      <td>181017.0</td>\n",
       "      <td>...</td>\n",
       "      <td>2.0</td>\n",
       "      <td>1.0</td>\n",
       "      <td>4.081329</td>\n",
       "      <td>37.348873</td>\n",
       "      <td>C. Vidthayanon pers. comm. 2011</td>\n",
       "      <td>maculata</td>\n",
       "      <td>None</td>\n",
       "      <td>None</td>\n",
       "      <td>None</td>\n",
       "      <td>2012.0</td>\n",
       "    </tr>\n",
       "    <tr>\n",
       "      <th>9</th>\n",
       "      <td>Parasikukia maculata</td>\n",
       "      <td>LC</td>\n",
       "      <td>Indo-Burma freshwater assessment, IUCN</td>\n",
       "      <td>ACTINOPTERYGII</td>\n",
       "      <td>IUCN FBU</td>\n",
       "      <td>None</td>\n",
       "      <td>CYPRINIDAE</td>\n",
       "      <td>Parasikukia</td>\n",
       "      <td>(POLYGON ((99.65793745300005 16.53653225300008...</td>\n",
       "      <td>181017.0</td>\n",
       "      <td>...</td>\n",
       "      <td>2.0</td>\n",
       "      <td>5.0</td>\n",
       "      <td>0.374677</td>\n",
       "      <td>6.355700</td>\n",
       "      <td>Red List assessment</td>\n",
       "      <td>maculata</td>\n",
       "      <td>None</td>\n",
       "      <td>None</td>\n",
       "      <td>None</td>\n",
       "      <td>2012.0</td>\n",
       "    </tr>\n",
       "  </tbody>\n",
       "</table>\n",
       "<p>10 rows × 26 columns</p>\n",
       "</div>"
      ],
      "text/plain": [
       "                       binomial category  \\\n",
       "0               Bagarius suchus       NT   \n",
       "1            Rasbora spilocerca       LC   \n",
       "2        Notoglanidium pallidum       VU   \n",
       "3  Parananochromis brevirostris       VU   \n",
       "4  Parananochromis brevirostris       VU   \n",
       "5  Parananochromis brevirostris       VU   \n",
       "6            Ambassis vachellii       LC   \n",
       "7          Parasikukia maculata       LC   \n",
       "8          Parasikukia maculata       LC   \n",
       "9          Parasikukia maculata       LC   \n",
       "\n",
       "                                            citation      class_name  \\\n",
       "0             Indo-Burma freshwater assessment, IUCN  ACTINOPTERYGII   \n",
       "1             Indo-Burma freshwater assessment, IUCN  ACTINOPTERYGII   \n",
       "2  IUCN (International Union for Conservation of ...  ACTINOPTERYGII   \n",
       "3  IUCN (International Union for Conservation of ...  ACTINOPTERYGII   \n",
       "4  IUCN (International Union for Conservation of ...  ACTINOPTERYGII   \n",
       "5                                               None  ACTINOPTERYGII   \n",
       "6  H.Larson and IUCN (International Union for Con...  ACTINOPTERYGII   \n",
       "7             Indo-Burma freshwater assessment, IUCN  ACTINOPTERYGII   \n",
       "8             Indo-Burma freshwater assessment, IUCN  ACTINOPTERYGII   \n",
       "9             Indo-Burma freshwater assessment, IUCN  ACTINOPTERYGII   \n",
       "\n",
       "          compiler dist_comm   family_nam       genus_name  \\\n",
       "0         IUCN FBU      None    SISORIDAE         Bagarius   \n",
       "1   J. Scott, IUCN      None   CYPRINIDAE          Rasbora   \n",
       "2             None      None  CLAROTEIDAE    Notoglanidium   \n",
       "3             None      None    CICHLIDAE  Parananochromis   \n",
       "4             None      None    CICHLIDAE  Parananochromis   \n",
       "5             None      None    CICHLIDAE  Parananochromis   \n",
       "6  M.Raiwalui/IUCN      None   AMBASSIDAE         Ambassis   \n",
       "7   D. Allen, IUCN      None   CYPRINIDAE      Parasikukia   \n",
       "8   D. Allen, IUCN      None   CYPRINIDAE      Parasikukia   \n",
       "9         IUCN FBU      None   CYPRINIDAE      Parasikukia   \n",
       "\n",
       "                                            geometry     id_no   ...    \\\n",
       "0  POLYGON ((101.8125000000001 22.48333333300008,...  181271.0   ...     \n",
       "1  POLYGON ((103.5121466740001 18.53992445200004,...  181127.0   ...     \n",
       "2  POLYGON ((12.81128506100004 -4.286932711999953...  182359.0   ...     \n",
       "3  (POLYGON ((12.10738288000005 1.628413222000063...  182240.0   ...     \n",
       "4  (POLYGON ((12.78953162300007 2.117309570000032...  182240.0   ...     \n",
       "5  (POLYGON ((13.13924221400003 -0.98298000799997...  182240.0   ...     \n",
       "6  (POLYGON ((105.2625 -6.754166666999936, 105.25...  166893.0   ...     \n",
       "7  (POLYGON ((100.374432712 18.59657999700005, 10...  181017.0   ...     \n",
       "8  (POLYGON ((100.8458333330001 12.69166666700005...  181017.0   ...     \n",
       "9  (POLYGON ((99.65793745300005 16.53653225300008...  181017.0   ...     \n",
       "\n",
       "  presence seasonal  shape_area   shape_leng                           source  \\\n",
       "0      2.0      5.0   49.374794    60.288418              Red List assessment   \n",
       "1      2.0      5.0    8.361239    58.345301              Red List assessment   \n",
       "2      1.0      1.0    1.524058    10.000992                             None   \n",
       "3      2.0      1.0    5.563441    30.269691                             None   \n",
       "4      1.0      1.0    4.872947    39.634665                             None   \n",
       "5      1.0      1.0    0.366030     6.770438                             None   \n",
       "6      1.0      1.0  121.742461  1817.507950                         H.Larson   \n",
       "7      2.0      1.0   12.017594    58.052434              Red List assessment   \n",
       "8      2.0      1.0    4.081329    37.348873  C. Vidthayanon pers. comm. 2011   \n",
       "9      2.0      5.0    0.374677     6.355700              Red List assessment   \n",
       "\n",
       "     species_na  subpop  subspecies  tax_comm    year  \n",
       "0        suchus    None        None      None  2012.0  \n",
       "1    spilocerca    None        None      None  2012.0  \n",
       "2      pallidum    None        None      None     0.0  \n",
       "3  brevirostris    None        None      None     0.0  \n",
       "4  brevirostris    None        None      None     0.0  \n",
       "5  brevirostris    None        None      None     0.0  \n",
       "6     vachellii    None        None      None  2011.0  \n",
       "7      maculata    None        None      None  2012.0  \n",
       "8      maculata    None        None      None  2012.0  \n",
       "9      maculata    None        None      None  2012.0  \n",
       "\n",
       "[10 rows x 26 columns]"
      ]
     },
     "execution_count": 6,
     "metadata": {},
     "output_type": "execute_result"
    }
   ],
   "source": [
    "fish_data.head(10) # peak at the first 10 records"
   ]
  },
  {
   "cell_type": "markdown",
   "metadata": {},
   "source": [
    "Sort them by their \"shape_area\" column, to get the biggest and smallest areas"
   ]
  },
  {
   "cell_type": "code",
   "execution_count": 7,
   "metadata": {
    "collapsed": false
   },
   "outputs": [
    {
     "name": "stderr",
     "output_type": "stream",
     "text": [
      "/home/daniela/anaconda/envs/biodiversity_py3/lib/python3.4/site-packages/ipykernel/__main__.py:1: FutureWarning: sort(columns=....) is deprecated, use sort_values(by=.....)\n",
      "  if __name__ == '__main__':\n"
     ]
    }
   ],
   "source": [
    "fish_data.sort(columns='shape_area', inplace=True)"
   ]
  },
  {
   "cell_type": "markdown",
   "metadata": {},
   "source": [
    "Peak at the first 5 records with the smallest area"
   ]
  },
  {
   "cell_type": "code",
   "execution_count": 8,
   "metadata": {
    "collapsed": false
   },
   "outputs": [
    {
     "data": {
      "text/html": [
       "<div>\n",
       "<table border=\"1\" class=\"dataframe\">\n",
       "  <thead>\n",
       "    <tr style=\"text-align: right;\">\n",
       "      <th></th>\n",
       "      <th>binomial</th>\n",
       "      <th>category</th>\n",
       "      <th>citation</th>\n",
       "      <th>class_name</th>\n",
       "      <th>compiler</th>\n",
       "      <th>dist_comm</th>\n",
       "      <th>family_nam</th>\n",
       "      <th>genus_name</th>\n",
       "      <th>geometry</th>\n",
       "      <th>id_no</th>\n",
       "      <th>...</th>\n",
       "      <th>presence</th>\n",
       "      <th>seasonal</th>\n",
       "      <th>shape_area</th>\n",
       "      <th>shape_leng</th>\n",
       "      <th>source</th>\n",
       "      <th>species_na</th>\n",
       "      <th>subpop</th>\n",
       "      <th>subspecies</th>\n",
       "      <th>tax_comm</th>\n",
       "      <th>year</th>\n",
       "    </tr>\n",
       "  </thead>\n",
       "  <tbody>\n",
       "    <tr>\n",
       "      <th>1396</th>\n",
       "      <td>Astatotilapia burtoni</td>\n",
       "      <td>LC</td>\n",
       "      <td>IUCN (International Union for Conservation of ...</td>\n",
       "      <td>ACTINOPTERYGII</td>\n",
       "      <td>None</td>\n",
       "      <td>None</td>\n",
       "      <td>CICHLIDAE</td>\n",
       "      <td>Astatotilapia</td>\n",
       "      <td>POLYGON ((29.81538226200007 -5.175785492999978...</td>\n",
       "      <td>60462.0</td>\n",
       "      <td>...</td>\n",
       "      <td>1.0</td>\n",
       "      <td>0.0</td>\n",
       "      <td>0.000122</td>\n",
       "      <td>0.060842</td>\n",
       "      <td>None</td>\n",
       "      <td>burtoni</td>\n",
       "      <td>None</td>\n",
       "      <td>None</td>\n",
       "      <td>None</td>\n",
       "      <td>0.0</td>\n",
       "    </tr>\n",
       "    <tr>\n",
       "      <th>6610</th>\n",
       "      <td>Channa striata</td>\n",
       "      <td>LC</td>\n",
       "      <td>Chaudhry S., 2009</td>\n",
       "      <td>ACTINOPTERYGII</td>\n",
       "      <td>Shivaji Chaudhry</td>\n",
       "      <td>None</td>\n",
       "      <td>CHANNIDAE</td>\n",
       "      <td>Channa</td>\n",
       "      <td>POLYGON ((121.2046038030001 14.44001242700006,...</td>\n",
       "      <td>166563.0</td>\n",
       "      <td>...</td>\n",
       "      <td>1.0</td>\n",
       "      <td>4.0</td>\n",
       "      <td>0.000242</td>\n",
       "      <td>0.073176</td>\n",
       "      <td>CAS 204572</td>\n",
       "      <td>striata</td>\n",
       "      <td>None</td>\n",
       "      <td>None</td>\n",
       "      <td>None</td>\n",
       "      <td>2007.0</td>\n",
       "    </tr>\n",
       "    <tr>\n",
       "      <th>6889</th>\n",
       "      <td>Rasbora rasbora</td>\n",
       "      <td>LC</td>\n",
       "      <td>IUCN</td>\n",
       "      <td>ACTINOPTERYGII</td>\n",
       "      <td>W. Vishwanath</td>\n",
       "      <td>None</td>\n",
       "      <td>CYPRINIDAE</td>\n",
       "      <td>Rasbora</td>\n",
       "      <td>POLYGON ((97.65833333300009 16.53333333300003,...</td>\n",
       "      <td>166440.0</td>\n",
       "      <td>...</td>\n",
       "      <td>1.0</td>\n",
       "      <td>1.0</td>\n",
       "      <td>0.000286</td>\n",
       "      <td>0.075311</td>\n",
       "      <td>Fishbase, 2026</td>\n",
       "      <td>rasbora</td>\n",
       "      <td>None</td>\n",
       "      <td>None</td>\n",
       "      <td>None</td>\n",
       "      <td>2007.0</td>\n",
       "    </tr>\n",
       "    <tr>\n",
       "      <th>11988</th>\n",
       "      <td>Puntius chola</td>\n",
       "      <td>LC</td>\n",
       "      <td>Dahanukar, N.</td>\n",
       "      <td>ACTINOPTERYGII</td>\n",
       "      <td>Dahanukar, N.</td>\n",
       "      <td>None</td>\n",
       "      <td>CYPRINIDAE</td>\n",
       "      <td>Puntius</td>\n",
       "      <td>POLYGON ((97.65833333300009 16.53333333300003,...</td>\n",
       "      <td>166443.0</td>\n",
       "      <td>...</td>\n",
       "      <td>1.0</td>\n",
       "      <td>1.0</td>\n",
       "      <td>0.000286</td>\n",
       "      <td>0.075311</td>\n",
       "      <td>accessed through GBIF data portal, NRM-Fishes,...</td>\n",
       "      <td>chola</td>\n",
       "      <td>None</td>\n",
       "      <td>None</td>\n",
       "      <td>None</td>\n",
       "      <td>2007.0</td>\n",
       "    </tr>\n",
       "    <tr>\n",
       "      <th>5382</th>\n",
       "      <td>Pisodonophis boro</td>\n",
       "      <td>LC</td>\n",
       "      <td>Chaudhry S., 2009</td>\n",
       "      <td>ACTINOPTERYGII</td>\n",
       "      <td>Shivaji Chaudhry</td>\n",
       "      <td>None</td>\n",
       "      <td>OPHICHTHIDAE</td>\n",
       "      <td>Pisodonophis</td>\n",
       "      <td>POLYGON ((85.46407583500007 19.66257255000005,...</td>\n",
       "      <td>166552.0</td>\n",
       "      <td>...</td>\n",
       "      <td>1.0</td>\n",
       "      <td>4.0</td>\n",
       "      <td>0.000393</td>\n",
       "      <td>0.101212</td>\n",
       "      <td>FISH 387621</td>\n",
       "      <td>boro</td>\n",
       "      <td>None</td>\n",
       "      <td>None</td>\n",
       "      <td>None</td>\n",
       "      <td>2007.0</td>\n",
       "    </tr>\n",
       "  </tbody>\n",
       "</table>\n",
       "<p>5 rows × 26 columns</p>\n",
       "</div>"
      ],
      "text/plain": [
       "                    binomial category  \\\n",
       "1396   Astatotilapia burtoni       LC   \n",
       "6610          Channa striata       LC   \n",
       "6889         Rasbora rasbora       LC   \n",
       "11988          Puntius chola       LC   \n",
       "5382       Pisodonophis boro       LC   \n",
       "\n",
       "                                                citation      class_name  \\\n",
       "1396   IUCN (International Union for Conservation of ...  ACTINOPTERYGII   \n",
       "6610                                   Chaudhry S., 2009  ACTINOPTERYGII   \n",
       "6889                                                IUCN  ACTINOPTERYGII   \n",
       "11988                                      Dahanukar, N.  ACTINOPTERYGII   \n",
       "5382                                   Chaudhry S., 2009  ACTINOPTERYGII   \n",
       "\n",
       "               compiler dist_comm    family_nam     genus_name  \\\n",
       "1396               None      None     CICHLIDAE  Astatotilapia   \n",
       "6610   Shivaji Chaudhry      None     CHANNIDAE         Channa   \n",
       "6889      W. Vishwanath      None    CYPRINIDAE        Rasbora   \n",
       "11988     Dahanukar, N.      None    CYPRINIDAE        Puntius   \n",
       "5382   Shivaji Chaudhry      None  OPHICHTHIDAE   Pisodonophis   \n",
       "\n",
       "                                                geometry     id_no   ...    \\\n",
       "1396   POLYGON ((29.81538226200007 -5.175785492999978...   60462.0   ...     \n",
       "6610   POLYGON ((121.2046038030001 14.44001242700006,...  166563.0   ...     \n",
       "6889   POLYGON ((97.65833333300009 16.53333333300003,...  166440.0   ...     \n",
       "11988  POLYGON ((97.65833333300009 16.53333333300003,...  166443.0   ...     \n",
       "5382   POLYGON ((85.46407583500007 19.66257255000005,...  166552.0   ...     \n",
       "\n",
       "      presence seasonal shape_area shape_leng  \\\n",
       "1396       1.0      0.0   0.000122   0.060842   \n",
       "6610       1.0      4.0   0.000242   0.073176   \n",
       "6889       1.0      1.0   0.000286   0.075311   \n",
       "11988      1.0      1.0   0.000286   0.075311   \n",
       "5382       1.0      4.0   0.000393   0.101212   \n",
       "\n",
       "                                                  source species_na  subpop  \\\n",
       "1396                                                None    burtoni    None   \n",
       "6610                                          CAS 204572    striata    None   \n",
       "6889                                      Fishbase, 2026    rasbora    None   \n",
       "11988  accessed through GBIF data portal, NRM-Fishes,...      chola    None   \n",
       "5382                                         FISH 387621       boro    None   \n",
       "\n",
       "       subspecies  tax_comm    year  \n",
       "1396         None      None     0.0  \n",
       "6610         None      None  2007.0  \n",
       "6889         None      None  2007.0  \n",
       "11988        None      None  2007.0  \n",
       "5382         None      None  2007.0  \n",
       "\n",
       "[5 rows x 26 columns]"
      ]
     },
     "execution_count": 8,
     "metadata": {},
     "output_type": "execute_result"
    }
   ],
   "source": [
    "fish_data.head(5)"
   ]
  },
  {
   "cell_type": "markdown",
   "metadata": {},
   "source": [
    "The last 5 records (biggest area)"
   ]
  },
  {
   "cell_type": "code",
   "execution_count": 9,
   "metadata": {
    "collapsed": false
   },
   "outputs": [
    {
     "data": {
      "text/html": [
       "<div>\n",
       "<table border=\"1\" class=\"dataframe\">\n",
       "  <thead>\n",
       "    <tr style=\"text-align: right;\">\n",
       "      <th></th>\n",
       "      <th>binomial</th>\n",
       "      <th>category</th>\n",
       "      <th>citation</th>\n",
       "      <th>class_name</th>\n",
       "      <th>compiler</th>\n",
       "      <th>dist_comm</th>\n",
       "      <th>family_nam</th>\n",
       "      <th>genus_name</th>\n",
       "      <th>geometry</th>\n",
       "      <th>id_no</th>\n",
       "      <th>...</th>\n",
       "      <th>presence</th>\n",
       "      <th>seasonal</th>\n",
       "      <th>shape_area</th>\n",
       "      <th>shape_leng</th>\n",
       "      <th>source</th>\n",
       "      <th>species_na</th>\n",
       "      <th>subpop</th>\n",
       "      <th>subspecies</th>\n",
       "      <th>tax_comm</th>\n",
       "      <th>year</th>\n",
       "    </tr>\n",
       "  </thead>\n",
       "  <tbody>\n",
       "    <tr>\n",
       "      <th>10436</th>\n",
       "      <td>Rutilus rutilus</td>\n",
       "      <td>LC</td>\n",
       "      <td>None</td>\n",
       "      <td>ACTINOPTERYGII</td>\n",
       "      <td>None</td>\n",
       "      <td>None</td>\n",
       "      <td>CYPRINIDAE</td>\n",
       "      <td>Rutilus</td>\n",
       "      <td>(POLYGON ((-4.770833332999928 48.5250000000000...</td>\n",
       "      <td>19787.0</td>\n",
       "      <td>...</td>\n",
       "      <td>1.0</td>\n",
       "      <td>1.0</td>\n",
       "      <td>2987.465593</td>\n",
       "      <td>1978.210580</td>\n",
       "      <td>None</td>\n",
       "      <td>rutilus</td>\n",
       "      <td>None</td>\n",
       "      <td>None</td>\n",
       "      <td>None</td>\n",
       "      <td>0.0</td>\n",
       "    </tr>\n",
       "    <tr>\n",
       "      <th>271</th>\n",
       "      <td>Cottus confusus</td>\n",
       "      <td>LC</td>\n",
       "      <td>Freshwater Biodiversity Unit, IUCN</td>\n",
       "      <td>ACTINOPTERYGII</td>\n",
       "      <td>Phillipa Palmeirin, FBU, IUCN</td>\n",
       "      <td>None</td>\n",
       "      <td>COTTIDAE</td>\n",
       "      <td>Cottus</td>\n",
       "      <td>(POLYGON ((-167.666666666 65.79166666700007, -...</td>\n",
       "      <td>202659.0</td>\n",
       "      <td>...</td>\n",
       "      <td>2.0</td>\n",
       "      <td>1.0</td>\n",
       "      <td>3031.001694</td>\n",
       "      <td>5133.731779</td>\n",
       "      <td>Page, L.M. and Burr, B.M. 2011. Peterson Field...</td>\n",
       "      <td>confusus</td>\n",
       "      <td>None</td>\n",
       "      <td>None</td>\n",
       "      <td>None</td>\n",
       "      <td>2012.0</td>\n",
       "    </tr>\n",
       "    <tr>\n",
       "      <th>4886</th>\n",
       "      <td>Perca fluviatilis</td>\n",
       "      <td>LC</td>\n",
       "      <td>None</td>\n",
       "      <td>ACTINOPTERYGII</td>\n",
       "      <td>None</td>\n",
       "      <td>None</td>\n",
       "      <td>PERCIDAE</td>\n",
       "      <td>Perca</td>\n",
       "      <td>(POLYGON ((-4.770833332999928 48.5250000000000...</td>\n",
       "      <td>16580.0</td>\n",
       "      <td>...</td>\n",
       "      <td>1.0</td>\n",
       "      <td>1.0</td>\n",
       "      <td>3365.103170</td>\n",
       "      <td>2218.467787</td>\n",
       "      <td>None</td>\n",
       "      <td>fluviatilis</td>\n",
       "      <td>None</td>\n",
       "      <td>None</td>\n",
       "      <td>None</td>\n",
       "      <td>0.0</td>\n",
       "    </tr>\n",
       "    <tr>\n",
       "      <th>5973</th>\n",
       "      <td>Lota lota</td>\n",
       "      <td>LC</td>\n",
       "      <td>None</td>\n",
       "      <td>ACTINOPTERYGII</td>\n",
       "      <td>None</td>\n",
       "      <td>None</td>\n",
       "      <td>LOTIDAE</td>\n",
       "      <td>Lota</td>\n",
       "      <td>(POLYGON ((4.038374837000049 51.96308458100003...</td>\n",
       "      <td>135675.0</td>\n",
       "      <td>...</td>\n",
       "      <td>1.0</td>\n",
       "      <td>1.0</td>\n",
       "      <td>4264.651654</td>\n",
       "      <td>4250.283811</td>\n",
       "      <td>None</td>\n",
       "      <td>lota</td>\n",
       "      <td>None</td>\n",
       "      <td>None</td>\n",
       "      <td>None</td>\n",
       "      <td>0.0</td>\n",
       "    </tr>\n",
       "    <tr>\n",
       "      <th>10370</th>\n",
       "      <td>Esox lucius</td>\n",
       "      <td>LC</td>\n",
       "      <td>None</td>\n",
       "      <td>ACTINOPTERYGII</td>\n",
       "      <td>None</td>\n",
       "      <td>None</td>\n",
       "      <td>ESOCIDAE</td>\n",
       "      <td>Esox</td>\n",
       "      <td>(POLYGON ((-4.770833332999928 48.5250000000000...</td>\n",
       "      <td>135631.0</td>\n",
       "      <td>...</td>\n",
       "      <td>1.0</td>\n",
       "      <td>1.0</td>\n",
       "      <td>5225.451235</td>\n",
       "      <td>4405.111110</td>\n",
       "      <td>None</td>\n",
       "      <td>lucius</td>\n",
       "      <td>None</td>\n",
       "      <td>None</td>\n",
       "      <td>None</td>\n",
       "      <td>0.0</td>\n",
       "    </tr>\n",
       "  </tbody>\n",
       "</table>\n",
       "<p>5 rows × 26 columns</p>\n",
       "</div>"
      ],
      "text/plain": [
       "                binomial category                            citation  \\\n",
       "10436    Rutilus rutilus       LC                                None   \n",
       "271      Cottus confusus       LC  Freshwater Biodiversity Unit, IUCN   \n",
       "4886   Perca fluviatilis       LC                                None   \n",
       "5973           Lota lota       LC                                None   \n",
       "10370        Esox lucius       LC                                None   \n",
       "\n",
       "           class_name                       compiler dist_comm  family_nam  \\\n",
       "10436  ACTINOPTERYGII                           None      None  CYPRINIDAE   \n",
       "271    ACTINOPTERYGII  Phillipa Palmeirin, FBU, IUCN      None    COTTIDAE   \n",
       "4886   ACTINOPTERYGII                           None      None    PERCIDAE   \n",
       "5973   ACTINOPTERYGII                           None      None     LOTIDAE   \n",
       "10370  ACTINOPTERYGII                           None      None    ESOCIDAE   \n",
       "\n",
       "      genus_name                                           geometry     id_no  \\\n",
       "10436    Rutilus  (POLYGON ((-4.770833332999928 48.5250000000000...   19787.0   \n",
       "271       Cottus  (POLYGON ((-167.666666666 65.79166666700007, -...  202659.0   \n",
       "4886       Perca  (POLYGON ((-4.770833332999928 48.5250000000000...   16580.0   \n",
       "5973        Lota  (POLYGON ((4.038374837000049 51.96308458100003...  135675.0   \n",
       "10370       Esox  (POLYGON ((-4.770833332999928 48.5250000000000...  135631.0   \n",
       "\n",
       "        ...   presence seasonal   shape_area   shape_leng  \\\n",
       "10436   ...        1.0      1.0  2987.465593  1978.210580   \n",
       "271     ...        2.0      1.0  3031.001694  5133.731779   \n",
       "4886    ...        1.0      1.0  3365.103170  2218.467787   \n",
       "5973    ...        1.0      1.0  4264.651654  4250.283811   \n",
       "10370   ...        1.0      1.0  5225.451235  4405.111110   \n",
       "\n",
       "                                                  source   species_na  subpop  \\\n",
       "10436                                               None      rutilus    None   \n",
       "271    Page, L.M. and Burr, B.M. 2011. Peterson Field...     confusus    None   \n",
       "4886                                                None  fluviatilis    None   \n",
       "5973                                                None         lota    None   \n",
       "10370                                               None       lucius    None   \n",
       "\n",
       "       subspecies  tax_comm    year  \n",
       "10436        None      None     0.0  \n",
       "271          None      None  2012.0  \n",
       "4886         None      None     0.0  \n",
       "5973         None      None     0.0  \n",
       "10370        None      None     0.0  \n",
       "\n",
       "[5 rows x 26 columns]"
      ]
     },
     "execution_count": 9,
     "metadata": {},
     "output_type": "execute_result"
    }
   ],
   "source": [
    "fish_data.tail(5)"
   ]
  },
  {
   "cell_type": "markdown",
   "metadata": {},
   "source": [
    "Decision: **\"We will include all species except those that are completely extinct. For the (possibly) extant species, we will include their entire range (including polygons from which they are currently extinct) in order to cover their full potential distribution.\"**\n",
    "\n",
    "From IUCN, these are the codes for presence:\n",
    "1. Extant\n",
    "2. Probably extant\n",
    "3. Possibly extant\n",
    "4. Possibly extinct\n",
    "5. Extinct\n",
    "6. Presence uncertain"
   ]
  },
  {
   "cell_type": "markdown",
   "metadata": {},
   "source": [
    "Are there species for which the presence category isn't any of the above? (the \"~\" is negation, so this below says \"select all fish data, for which the \"presence\" column is NOT in [1,2,3,4,5,6])"
   ]
  },
  {
   "cell_type": "code",
   "execution_count": 10,
   "metadata": {
    "collapsed": false
   },
   "outputs": [
    {
     "data": {
      "text/html": [
       "<div>\n",
       "<table border=\"1\" class=\"dataframe\">\n",
       "  <thead>\n",
       "    <tr style=\"text-align: right;\">\n",
       "      <th></th>\n",
       "      <th>binomial</th>\n",
       "      <th>category</th>\n",
       "      <th>citation</th>\n",
       "      <th>class_name</th>\n",
       "      <th>compiler</th>\n",
       "      <th>dist_comm</th>\n",
       "      <th>family_nam</th>\n",
       "      <th>genus_name</th>\n",
       "      <th>geometry</th>\n",
       "      <th>id_no</th>\n",
       "      <th>...</th>\n",
       "      <th>presence</th>\n",
       "      <th>seasonal</th>\n",
       "      <th>shape_area</th>\n",
       "      <th>shape_leng</th>\n",
       "      <th>source</th>\n",
       "      <th>species_na</th>\n",
       "      <th>subpop</th>\n",
       "      <th>subspecies</th>\n",
       "      <th>tax_comm</th>\n",
       "      <th>year</th>\n",
       "    </tr>\n",
       "  </thead>\n",
       "  <tbody>\n",
       "    <tr>\n",
       "      <th>3269</th>\n",
       "      <td>Acipenser fulvescens</td>\n",
       "      <td>LC</td>\n",
       "      <td>Freshwater Biodiversity Unit, IUCN</td>\n",
       "      <td>ACTINOPTERYGII</td>\n",
       "      <td>IUCN</td>\n",
       "      <td>None</td>\n",
       "      <td>ACIPENSERIDAE</td>\n",
       "      <td>Acipenser</td>\n",
       "      <td>(POLYGON ((-77.20221048999997 44.0297339540000...</td>\n",
       "      <td>223.0</td>\n",
       "      <td>...</td>\n",
       "      <td>0.0</td>\n",
       "      <td>0.0</td>\n",
       "      <td>0.061229</td>\n",
       "      <td>5.069857</td>\n",
       "      <td>Page and Burr, 1991</td>\n",
       "      <td>fulvescens</td>\n",
       "      <td>None</td>\n",
       "      <td>None</td>\n",
       "      <td>None</td>\n",
       "      <td>2013.0</td>\n",
       "    </tr>\n",
       "    <tr>\n",
       "      <th>2312</th>\n",
       "      <td>Sicyopterus sarasini</td>\n",
       "      <td>EN</td>\n",
       "      <td>None</td>\n",
       "      <td>ACTINOPTERYGII</td>\n",
       "      <td>None</td>\n",
       "      <td>None</td>\n",
       "      <td>GOBIIDAE</td>\n",
       "      <td>Sicyopterus</td>\n",
       "      <td>(POLYGON ((165.0041666660001 -21.3374999999999...</td>\n",
       "      <td>196370.0</td>\n",
       "      <td>...</td>\n",
       "      <td>0.0</td>\n",
       "      <td>0.0</td>\n",
       "      <td>0.299701</td>\n",
       "      <td>4.962775</td>\n",
       "      <td>None</td>\n",
       "      <td>sarasini</td>\n",
       "      <td>None</td>\n",
       "      <td>None</td>\n",
       "      <td>None</td>\n",
       "      <td>0.0</td>\n",
       "    </tr>\n",
       "    <tr>\n",
       "      <th>4669</th>\n",
       "      <td>Chanodichthys erythropterus</td>\n",
       "      <td>LC</td>\n",
       "      <td>None</td>\n",
       "      <td>ACTINOPTERYGII</td>\n",
       "      <td>None</td>\n",
       "      <td>None</td>\n",
       "      <td>CYPRINIDAE</td>\n",
       "      <td>Chanodichthys</td>\n",
       "      <td>(POLYGON ((117.40221049 48.42859937900005, 117...</td>\n",
       "      <td>166143.0</td>\n",
       "      <td>...</td>\n",
       "      <td>0.0</td>\n",
       "      <td>0.0</td>\n",
       "      <td>0.822562</td>\n",
       "      <td>12.134009</td>\n",
       "      <td>None</td>\n",
       "      <td>erythropterus</td>\n",
       "      <td>None</td>\n",
       "      <td>None</td>\n",
       "      <td>None</td>\n",
       "      <td>0.0</td>\n",
       "    </tr>\n",
       "    <tr>\n",
       "      <th>11591</th>\n",
       "      <td>Hemiculter leucisculus</td>\n",
       "      <td>LC</td>\n",
       "      <td>None</td>\n",
       "      <td>ACTINOPTERYGII</td>\n",
       "      <td>None</td>\n",
       "      <td>None</td>\n",
       "      <td>CYPRINIDAE</td>\n",
       "      <td>Hemiculter</td>\n",
       "      <td>POLYGON ((117.83971049 48.88693271300008, 117....</td>\n",
       "      <td>166193.0</td>\n",
       "      <td>...</td>\n",
       "      <td>0.0</td>\n",
       "      <td>0.0</td>\n",
       "      <td>2.336222</td>\n",
       "      <td>13.899461</td>\n",
       "      <td>None</td>\n",
       "      <td>leucisculus</td>\n",
       "      <td>None</td>\n",
       "      <td>None</td>\n",
       "      <td>None</td>\n",
       "      <td>0.0</td>\n",
       "    </tr>\n",
       "    <tr>\n",
       "      <th>3292</th>\n",
       "      <td>Microphysogobio tungtingensis</td>\n",
       "      <td>NT</td>\n",
       "      <td>None</td>\n",
       "      <td>ACTINOPTERYGII</td>\n",
       "      <td>None</td>\n",
       "      <td>None</td>\n",
       "      <td>CYPRINIDAE</td>\n",
       "      <td>Microphysogobio</td>\n",
       "      <td>POLYGON ((117.83971049 48.88693271300008, 117....</td>\n",
       "      <td>166028.0</td>\n",
       "      <td>...</td>\n",
       "      <td>0.0</td>\n",
       "      <td>0.0</td>\n",
       "      <td>2.629233</td>\n",
       "      <td>16.648915</td>\n",
       "      <td>None</td>\n",
       "      <td>tungtingensis</td>\n",
       "      <td>None</td>\n",
       "      <td>None</td>\n",
       "      <td>None</td>\n",
       "      <td>0.0</td>\n",
       "    </tr>\n",
       "    <tr>\n",
       "      <th>12321</th>\n",
       "      <td>Carassius carassius</td>\n",
       "      <td>LC</td>\n",
       "      <td>None</td>\n",
       "      <td>ACTINOPTERYGII</td>\n",
       "      <td>None</td>\n",
       "      <td>None</td>\n",
       "      <td>CYPRINIDAE</td>\n",
       "      <td>Carassius</td>\n",
       "      <td>POLYGON ((91.22674221500006 48.04201999200006,...</td>\n",
       "      <td>3849.0</td>\n",
       "      <td>...</td>\n",
       "      <td>0.0</td>\n",
       "      <td>0.0</td>\n",
       "      <td>4.347034</td>\n",
       "      <td>15.390500</td>\n",
       "      <td>None</td>\n",
       "      <td>carassius</td>\n",
       "      <td>None</td>\n",
       "      <td>None</td>\n",
       "      <td>None</td>\n",
       "      <td>0.0</td>\n",
       "    </tr>\n",
       "    <tr>\n",
       "      <th>10823</th>\n",
       "      <td>Tinca tinca</td>\n",
       "      <td>LC</td>\n",
       "      <td>None</td>\n",
       "      <td>ACTINOPTERYGII</td>\n",
       "      <td>None</td>\n",
       "      <td>None</td>\n",
       "      <td>CYPRINIDAE</td>\n",
       "      <td>Tinca</td>\n",
       "      <td>POLYGON ((91.22674221500006 48.04201999200006,...</td>\n",
       "      <td>21912.0</td>\n",
       "      <td>...</td>\n",
       "      <td>0.0</td>\n",
       "      <td>0.0</td>\n",
       "      <td>4.347034</td>\n",
       "      <td>15.390500</td>\n",
       "      <td>None</td>\n",
       "      <td>tinca</td>\n",
       "      <td>None</td>\n",
       "      <td>None</td>\n",
       "      <td>None</td>\n",
       "      <td>0.0</td>\n",
       "    </tr>\n",
       "    <tr>\n",
       "      <th>1911</th>\n",
       "      <td>Rhynchocypris czekanowskii</td>\n",
       "      <td>LC</td>\n",
       "      <td>None</td>\n",
       "      <td>ACTINOPTERYGII</td>\n",
       "      <td>None</td>\n",
       "      <td>None</td>\n",
       "      <td>CYPRINIDAE</td>\n",
       "      <td>Rhynchocypris</td>\n",
       "      <td>(POLYGON ((109.5313771560001 50.52026604500003...</td>\n",
       "      <td>135492.0</td>\n",
       "      <td>...</td>\n",
       "      <td>0.0</td>\n",
       "      <td>0.0</td>\n",
       "      <td>4.664014</td>\n",
       "      <td>32.817185</td>\n",
       "      <td>None</td>\n",
       "      <td>czekanowskii</td>\n",
       "      <td>None</td>\n",
       "      <td>None</td>\n",
       "      <td>None</td>\n",
       "      <td>0.0</td>\n",
       "    </tr>\n",
       "    <tr>\n",
       "      <th>6126</th>\n",
       "      <td>Chanodichthys mongolicus</td>\n",
       "      <td>LC</td>\n",
       "      <td>None</td>\n",
       "      <td>ACTINOPTERYGII</td>\n",
       "      <td>None</td>\n",
       "      <td>None</td>\n",
       "      <td>CYPRINIDAE</td>\n",
       "      <td>Chanodichthys</td>\n",
       "      <td>POLYGON ((113.3871466740001 51.08159111800006,...</td>\n",
       "      <td>180698.0</td>\n",
       "      <td>...</td>\n",
       "      <td>0.0</td>\n",
       "      <td>0.0</td>\n",
       "      <td>4.793526</td>\n",
       "      <td>23.142232</td>\n",
       "      <td>None</td>\n",
       "      <td>mongolicus</td>\n",
       "      <td>None</td>\n",
       "      <td>None</td>\n",
       "      <td>None</td>\n",
       "      <td>0.0</td>\n",
       "    </tr>\n",
       "    <tr>\n",
       "      <th>1054</th>\n",
       "      <td>Acipenser baerii</td>\n",
       "      <td>EN</td>\n",
       "      <td>None</td>\n",
       "      <td>ACTINOPTERYGII</td>\n",
       "      <td>None</td>\n",
       "      <td>None</td>\n",
       "      <td>ACIPENSERIDAE</td>\n",
       "      <td>Acipenser</td>\n",
       "      <td>POLYGON ((106.493408882 50.40868665900007, 106...</td>\n",
       "      <td>244.0</td>\n",
       "      <td>...</td>\n",
       "      <td>0.0</td>\n",
       "      <td>0.0</td>\n",
       "      <td>5.865542</td>\n",
       "      <td>22.969322</td>\n",
       "      <td>None</td>\n",
       "      <td>baerii</td>\n",
       "      <td>None</td>\n",
       "      <td>None</td>\n",
       "      <td>None</td>\n",
       "      <td>0.0</td>\n",
       "    </tr>\n",
       "    <tr>\n",
       "      <th>1139</th>\n",
       "      <td>Coregonus pidschian</td>\n",
       "      <td>LC</td>\n",
       "      <td>None</td>\n",
       "      <td>ACTINOPTERYGII</td>\n",
       "      <td>None</td>\n",
       "      <td>None</td>\n",
       "      <td>SALMONIDAE</td>\n",
       "      <td>Coregonus</td>\n",
       "      <td>POLYGON ((98.97140062100004 52.13528951000006,...</td>\n",
       "      <td>5375.0</td>\n",
       "      <td>...</td>\n",
       "      <td>0.0</td>\n",
       "      <td>0.0</td>\n",
       "      <td>6.453679</td>\n",
       "      <td>27.604141</td>\n",
       "      <td>None</td>\n",
       "      <td>pidschian</td>\n",
       "      <td>None</td>\n",
       "      <td>None</td>\n",
       "      <td>None</td>\n",
       "      <td>0.0</td>\n",
       "    </tr>\n",
       "    <tr>\n",
       "      <th>3270</th>\n",
       "      <td>Acipenser fulvescens</td>\n",
       "      <td>LC</td>\n",
       "      <td>NatureServe</td>\n",
       "      <td>ACTINOPTERYGII</td>\n",
       "      <td>Freshwater Biodiversity Unit, IUCN</td>\n",
       "      <td>None</td>\n",
       "      <td>ACIPENSERIDAE</td>\n",
       "      <td>Acipenser</td>\n",
       "      <td>(POLYGON ((-85.38110351499995 46.1002731320000...</td>\n",
       "      <td>223.0</td>\n",
       "      <td>...</td>\n",
       "      <td>0.0</td>\n",
       "      <td>0.0</td>\n",
       "      <td>6.720057</td>\n",
       "      <td>22.015335</td>\n",
       "      <td>Digital Distribution Maps of the Freshwater Fi...</td>\n",
       "      <td>fulvescens</td>\n",
       "      <td>None</td>\n",
       "      <td>None</td>\n",
       "      <td>None</td>\n",
       "      <td>2013.0</td>\n",
       "    </tr>\n",
       "    <tr>\n",
       "      <th>2349</th>\n",
       "      <td>Agosia chrysogaster</td>\n",
       "      <td>LC</td>\n",
       "      <td>NatureServe</td>\n",
       "      <td>ACTINOPTERYGII</td>\n",
       "      <td>Freshwater Biodiversity Unit, IUCN</td>\n",
       "      <td>None</td>\n",
       "      <td>CYPRINIDAE</td>\n",
       "      <td>Agosia</td>\n",
       "      <td>POLYGON ((-109.908333334 26.96666666600004, -1...</td>\n",
       "      <td>191246.0</td>\n",
       "      <td>...</td>\n",
       "      <td>0.0</td>\n",
       "      <td>0.0</td>\n",
       "      <td>9.277168</td>\n",
       "      <td>28.618570</td>\n",
       "      <td>Digital Distribution Maps of the Freshwater Fi...</td>\n",
       "      <td>chrysogaster</td>\n",
       "      <td>None</td>\n",
       "      <td>None</td>\n",
       "      <td>None</td>\n",
       "      <td>2013.0</td>\n",
       "    </tr>\n",
       "    <tr>\n",
       "      <th>10621</th>\n",
       "      <td>Leuciscus idus</td>\n",
       "      <td>LC</td>\n",
       "      <td>None</td>\n",
       "      <td>ACTINOPTERYGII</td>\n",
       "      <td>None</td>\n",
       "      <td>None</td>\n",
       "      <td>CYPRINIDAE</td>\n",
       "      <td>Leuciscus</td>\n",
       "      <td>(POLYGON ((106.4119327120001 50.65637715700007...</td>\n",
       "      <td>11884.0</td>\n",
       "      <td>...</td>\n",
       "      <td>0.0</td>\n",
       "      <td>0.0</td>\n",
       "      <td>14.080754</td>\n",
       "      <td>41.112320</td>\n",
       "      <td>None</td>\n",
       "      <td>idus</td>\n",
       "      <td>None</td>\n",
       "      <td>None</td>\n",
       "      <td>None</td>\n",
       "      <td>0.0</td>\n",
       "    </tr>\n",
       "    <tr>\n",
       "      <th>10718</th>\n",
       "      <td>Coregonus autumnalis</td>\n",
       "      <td>LC</td>\n",
       "      <td>None</td>\n",
       "      <td>ACTINOPTERYGII</td>\n",
       "      <td>None</td>\n",
       "      <td>None</td>\n",
       "      <td>SALMONIDAE</td>\n",
       "      <td>Coregonus</td>\n",
       "      <td>(POLYGON ((-155.875 71.18333333300006, -155.84...</td>\n",
       "      <td>5363.0</td>\n",
       "      <td>...</td>\n",
       "      <td>0.0</td>\n",
       "      <td>0.0</td>\n",
       "      <td>14.810125</td>\n",
       "      <td>93.677611</td>\n",
       "      <td>None</td>\n",
       "      <td>autumnalis</td>\n",
       "      <td>None</td>\n",
       "      <td>None</td>\n",
       "      <td>None</td>\n",
       "      <td>0.0</td>\n",
       "    </tr>\n",
       "    <tr>\n",
       "      <th>9931</th>\n",
       "      <td>Cyprinus rubrofuscus</td>\n",
       "      <td>LC</td>\n",
       "      <td>None</td>\n",
       "      <td>ACTINOPTERYGII</td>\n",
       "      <td>None</td>\n",
       "      <td>None</td>\n",
       "      <td>CYPRINIDAE</td>\n",
       "      <td>Cyprinus</td>\n",
       "      <td>(POLYGON ((113.3871466740001 51.08159111800006...</td>\n",
       "      <td>166052.0</td>\n",
       "      <td>...</td>\n",
       "      <td>0.0</td>\n",
       "      <td>0.0</td>\n",
       "      <td>31.514393</td>\n",
       "      <td>66.080886</td>\n",
       "      <td>None</td>\n",
       "      <td>rubrofuscus</td>\n",
       "      <td>None</td>\n",
       "      <td>None</td>\n",
       "      <td>None</td>\n",
       "      <td>0.0</td>\n",
       "    </tr>\n",
       "    <tr>\n",
       "      <th>12919</th>\n",
       "      <td>Rhodeus sericeus</td>\n",
       "      <td>LR/lc</td>\n",
       "      <td>None</td>\n",
       "      <td>ACTINOPTERYGII</td>\n",
       "      <td>None</td>\n",
       "      <td>None</td>\n",
       "      <td>CYPRINIDAE</td>\n",
       "      <td>Rhodeus</td>\n",
       "      <td>(POLYGON ((113.3871466740001 51.08159111800006...</td>\n",
       "      <td>19671.0</td>\n",
       "      <td>...</td>\n",
       "      <td>0.0</td>\n",
       "      <td>0.0</td>\n",
       "      <td>31.661029</td>\n",
       "      <td>64.959330</td>\n",
       "      <td>None</td>\n",
       "      <td>sericeus</td>\n",
       "      <td>None</td>\n",
       "      <td>None</td>\n",
       "      <td>None</td>\n",
       "      <td>0.0</td>\n",
       "    </tr>\n",
       "    <tr>\n",
       "      <th>10367</th>\n",
       "      <td>Esox lucius</td>\n",
       "      <td>LC</td>\n",
       "      <td>None</td>\n",
       "      <td>ACTINOPTERYGII</td>\n",
       "      <td>None</td>\n",
       "      <td>None</td>\n",
       "      <td>ESOCIDAE</td>\n",
       "      <td>Esox</td>\n",
       "      <td>POLYGON ((106.4119327120001 50.65637715700007,...</td>\n",
       "      <td>135631.0</td>\n",
       "      <td>...</td>\n",
       "      <td>0.0</td>\n",
       "      <td>0.0</td>\n",
       "      <td>31.804175</td>\n",
       "      <td>51.945832</td>\n",
       "      <td>None</td>\n",
       "      <td>lucius</td>\n",
       "      <td>None</td>\n",
       "      <td>None</td>\n",
       "      <td>None</td>\n",
       "      <td>0.0</td>\n",
       "    </tr>\n",
       "    <tr>\n",
       "      <th>9015</th>\n",
       "      <td>Misgurnus anguillicaudatus</td>\n",
       "      <td>LC</td>\n",
       "      <td>None</td>\n",
       "      <td>ACTINOPTERYGII</td>\n",
       "      <td>None</td>\n",
       "      <td>None</td>\n",
       "      <td>COBITIDAE</td>\n",
       "      <td>Misgurnus</td>\n",
       "      <td>(POLYGON ((113.3871466740001 51.08159111800006...</td>\n",
       "      <td>166158.0</td>\n",
       "      <td>...</td>\n",
       "      <td>0.0</td>\n",
       "      <td>0.0</td>\n",
       "      <td>32.143246</td>\n",
       "      <td>63.117779</td>\n",
       "      <td>None</td>\n",
       "      <td>anguillicaudatus</td>\n",
       "      <td>None</td>\n",
       "      <td>None</td>\n",
       "      <td>None</td>\n",
       "      <td>0.0</td>\n",
       "    </tr>\n",
       "    <tr>\n",
       "      <th>8574</th>\n",
       "      <td>Silurus asotus</td>\n",
       "      <td>LC</td>\n",
       "      <td>None</td>\n",
       "      <td>ACTINOPTERYGII</td>\n",
       "      <td>None</td>\n",
       "      <td>None</td>\n",
       "      <td>SILURIDAE</td>\n",
       "      <td>Silurus</td>\n",
       "      <td>(POLYGON ((106.889672852 51.36189490500004, 10...</td>\n",
       "      <td>166951.0</td>\n",
       "      <td>...</td>\n",
       "      <td>0.0</td>\n",
       "      <td>0.0</td>\n",
       "      <td>38.260584</td>\n",
       "      <td>73.292529</td>\n",
       "      <td>None</td>\n",
       "      <td>asotus</td>\n",
       "      <td>None</td>\n",
       "      <td>None</td>\n",
       "      <td>None</td>\n",
       "      <td>0.0</td>\n",
       "    </tr>\n",
       "    <tr>\n",
       "      <th>4163</th>\n",
       "      <td>Pseudorasbora parva</td>\n",
       "      <td>LC</td>\n",
       "      <td>None</td>\n",
       "      <td>ACTINOPTERYGII</td>\n",
       "      <td>None</td>\n",
       "      <td>None</td>\n",
       "      <td>CYPRINIDAE</td>\n",
       "      <td>Pseudorasbora</td>\n",
       "      <td>(POLYGON ((106.889672852 51.36189490500004, 10...</td>\n",
       "      <td>166136.0</td>\n",
       "      <td>...</td>\n",
       "      <td>0.0</td>\n",
       "      <td>0.0</td>\n",
       "      <td>42.024757</td>\n",
       "      <td>82.255443</td>\n",
       "      <td>None</td>\n",
       "      <td>parva</td>\n",
       "      <td>None</td>\n",
       "      <td>None</td>\n",
       "      <td>None</td>\n",
       "      <td>0.0</td>\n",
       "    </tr>\n",
       "    <tr>\n",
       "      <th>4887</th>\n",
       "      <td>Perca fluviatilis</td>\n",
       "      <td>LC</td>\n",
       "      <td>None</td>\n",
       "      <td>ACTINOPTERYGII</td>\n",
       "      <td>None</td>\n",
       "      <td>None</td>\n",
       "      <td>PERCIDAE</td>\n",
       "      <td>Perca</td>\n",
       "      <td>POLYGON ((100.861882527 52.06882680300004, 100...</td>\n",
       "      <td>16580.0</td>\n",
       "      <td>...</td>\n",
       "      <td>0.0</td>\n",
       "      <td>0.0</td>\n",
       "      <td>42.045171</td>\n",
       "      <td>58.419062</td>\n",
       "      <td>None</td>\n",
       "      <td>fluviatilis</td>\n",
       "      <td>None</td>\n",
       "      <td>None</td>\n",
       "      <td>None</td>\n",
       "      <td>0.0</td>\n",
       "    </tr>\n",
       "    <tr>\n",
       "      <th>1086</th>\n",
       "      <td>Cobitis melanoleuca</td>\n",
       "      <td>LC</td>\n",
       "      <td>None</td>\n",
       "      <td>ACTINOPTERYGII</td>\n",
       "      <td>None</td>\n",
       "      <td>None</td>\n",
       "      <td>COBITIDAE</td>\n",
       "      <td>Cobitis</td>\n",
       "      <td>(POLYGON ((106.889672852 51.36189490500004, 10...</td>\n",
       "      <td>135534.0</td>\n",
       "      <td>...</td>\n",
       "      <td>0.0</td>\n",
       "      <td>0.0</td>\n",
       "      <td>42.179838</td>\n",
       "      <td>84.243200</td>\n",
       "      <td>None</td>\n",
       "      <td>melanoleuca</td>\n",
       "      <td>None</td>\n",
       "      <td>None</td>\n",
       "      <td>None</td>\n",
       "      <td>0.0</td>\n",
       "    </tr>\n",
       "    <tr>\n",
       "      <th>9419</th>\n",
       "      <td>Rhynchocypris percnurus</td>\n",
       "      <td>LC</td>\n",
       "      <td>None</td>\n",
       "      <td>ACTINOPTERYGII</td>\n",
       "      <td>None</td>\n",
       "      <td>None</td>\n",
       "      <td>CYPRINIDAE</td>\n",
       "      <td>Rhynchocypris</td>\n",
       "      <td>(POLYGON ((113.3871466740001 51.08159111800006...</td>\n",
       "      <td>17066.0</td>\n",
       "      <td>...</td>\n",
       "      <td>0.0</td>\n",
       "      <td>0.0</td>\n",
       "      <td>45.696883</td>\n",
       "      <td>93.887605</td>\n",
       "      <td>None</td>\n",
       "      <td>percnurus</td>\n",
       "      <td>None</td>\n",
       "      <td>None</td>\n",
       "      <td>None</td>\n",
       "      <td>0.0</td>\n",
       "    </tr>\n",
       "    <tr>\n",
       "      <th>10525</th>\n",
       "      <td>Thymallus arcticus</td>\n",
       "      <td>LC</td>\n",
       "      <td>None</td>\n",
       "      <td>ACTINOPTERYGII</td>\n",
       "      <td>None</td>\n",
       "      <td>None</td>\n",
       "      <td>SALMONIDAE</td>\n",
       "      <td>Thymallus</td>\n",
       "      <td>POLYGON ((99.07571953700005 52.71329345700008,...</td>\n",
       "      <td>135593.0</td>\n",
       "      <td>...</td>\n",
       "      <td>0.0</td>\n",
       "      <td>0.0</td>\n",
       "      <td>48.078823</td>\n",
       "      <td>64.797784</td>\n",
       "      <td>None</td>\n",
       "      <td>arcticus</td>\n",
       "      <td>None</td>\n",
       "      <td>None</td>\n",
       "      <td>None</td>\n",
       "      <td>0.0</td>\n",
       "    </tr>\n",
       "    <tr>\n",
       "      <th>5967</th>\n",
       "      <td>Lota lota</td>\n",
       "      <td>LC</td>\n",
       "      <td>None</td>\n",
       "      <td>ACTINOPTERYGII</td>\n",
       "      <td>None</td>\n",
       "      <td>None</td>\n",
       "      <td>LOTIDAE</td>\n",
       "      <td>Lota</td>\n",
       "      <td>(POLYGON ((99.07571953700005 52.71329345700008...</td>\n",
       "      <td>135675.0</td>\n",
       "      <td>...</td>\n",
       "      <td>0.0</td>\n",
       "      <td>0.0</td>\n",
       "      <td>82.135939</td>\n",
       "      <td>119.112900</td>\n",
       "      <td>None</td>\n",
       "      <td>lota</td>\n",
       "      <td>None</td>\n",
       "      <td>None</td>\n",
       "      <td>None</td>\n",
       "      <td>0.0</td>\n",
       "    </tr>\n",
       "    <tr>\n",
       "      <th>3271</th>\n",
       "      <td>Acipenser fulvescens</td>\n",
       "      <td>LC</td>\n",
       "      <td>None</td>\n",
       "      <td>ACTINOPTERYGII</td>\n",
       "      <td>None</td>\n",
       "      <td>None</td>\n",
       "      <td>ACIPENSERIDAE</td>\n",
       "      <td>Acipenser</td>\n",
       "      <td>(POLYGON ((-112.928940924 50.22398334700006, -...</td>\n",
       "      <td>223.0</td>\n",
       "      <td>...</td>\n",
       "      <td>0.0</td>\n",
       "      <td>0.0</td>\n",
       "      <td>287.725875</td>\n",
       "      <td>387.812730</td>\n",
       "      <td>None</td>\n",
       "      <td>fulvescens</td>\n",
       "      <td>None</td>\n",
       "      <td>None</td>\n",
       "      <td>None</td>\n",
       "      <td>0.0</td>\n",
       "    </tr>\n",
       "    <tr>\n",
       "      <th>3490</th>\n",
       "      <td>Ambassis urotaenia</td>\n",
       "      <td>LC</td>\n",
       "      <td>None</td>\n",
       "      <td>ACTINOPTERYGII</td>\n",
       "      <td>None</td>\n",
       "      <td>None</td>\n",
       "      <td>AMBASSIDAE</td>\n",
       "      <td>Ambassis</td>\n",
       "      <td>(POLYGON ((130.961285061 -1.404733954999926, 1...</td>\n",
       "      <td>155201.0</td>\n",
       "      <td>...</td>\n",
       "      <td>0.0</td>\n",
       "      <td>0.0</td>\n",
       "      <td>295.859696</td>\n",
       "      <td>2415.811485</td>\n",
       "      <td>None</td>\n",
       "      <td>urotaenia</td>\n",
       "      <td>None</td>\n",
       "      <td>None</td>\n",
       "      <td>None</td>\n",
       "      <td>0.0</td>\n",
       "    </tr>\n",
       "  </tbody>\n",
       "</table>\n",
       "<p>28 rows × 26 columns</p>\n",
       "</div>"
      ],
      "text/plain": [
       "                            binomial category  \\\n",
       "3269            Acipenser fulvescens       LC   \n",
       "2312            Sicyopterus sarasini       EN   \n",
       "4669     Chanodichthys erythropterus       LC   \n",
       "11591         Hemiculter leucisculus       LC   \n",
       "3292   Microphysogobio tungtingensis       NT   \n",
       "12321            Carassius carassius       LC   \n",
       "10823                    Tinca tinca       LC   \n",
       "1911      Rhynchocypris czekanowskii       LC   \n",
       "6126        Chanodichthys mongolicus       LC   \n",
       "1054                Acipenser baerii       EN   \n",
       "1139             Coregonus pidschian       LC   \n",
       "3270            Acipenser fulvescens       LC   \n",
       "2349             Agosia chrysogaster       LC   \n",
       "10621                 Leuciscus idus       LC   \n",
       "10718           Coregonus autumnalis       LC   \n",
       "9931            Cyprinus rubrofuscus       LC   \n",
       "12919               Rhodeus sericeus    LR/lc   \n",
       "10367                    Esox lucius       LC   \n",
       "9015      Misgurnus anguillicaudatus       LC   \n",
       "8574                  Silurus asotus       LC   \n",
       "4163             Pseudorasbora parva       LC   \n",
       "4887               Perca fluviatilis       LC   \n",
       "1086             Cobitis melanoleuca       LC   \n",
       "9419         Rhynchocypris percnurus       LC   \n",
       "10525             Thymallus arcticus       LC   \n",
       "5967                       Lota lota       LC   \n",
       "3271            Acipenser fulvescens       LC   \n",
       "3490              Ambassis urotaenia       LC   \n",
       "\n",
       "                                 citation      class_name  \\\n",
       "3269   Freshwater Biodiversity Unit, IUCN  ACTINOPTERYGII   \n",
       "2312                                 None  ACTINOPTERYGII   \n",
       "4669                                 None  ACTINOPTERYGII   \n",
       "11591                                None  ACTINOPTERYGII   \n",
       "3292                                 None  ACTINOPTERYGII   \n",
       "12321                                None  ACTINOPTERYGII   \n",
       "10823                                None  ACTINOPTERYGII   \n",
       "1911                                 None  ACTINOPTERYGII   \n",
       "6126                                 None  ACTINOPTERYGII   \n",
       "1054                                 None  ACTINOPTERYGII   \n",
       "1139                                 None  ACTINOPTERYGII   \n",
       "3270                          NatureServe  ACTINOPTERYGII   \n",
       "2349                          NatureServe  ACTINOPTERYGII   \n",
       "10621                                None  ACTINOPTERYGII   \n",
       "10718                                None  ACTINOPTERYGII   \n",
       "9931                                 None  ACTINOPTERYGII   \n",
       "12919                                None  ACTINOPTERYGII   \n",
       "10367                                None  ACTINOPTERYGII   \n",
       "9015                                 None  ACTINOPTERYGII   \n",
       "8574                                 None  ACTINOPTERYGII   \n",
       "4163                                 None  ACTINOPTERYGII   \n",
       "4887                                 None  ACTINOPTERYGII   \n",
       "1086                                 None  ACTINOPTERYGII   \n",
       "9419                                 None  ACTINOPTERYGII   \n",
       "10525                                None  ACTINOPTERYGII   \n",
       "5967                                 None  ACTINOPTERYGII   \n",
       "3271                                 None  ACTINOPTERYGII   \n",
       "3490                                 None  ACTINOPTERYGII   \n",
       "\n",
       "                                 compiler dist_comm     family_nam  \\\n",
       "3269                                 IUCN      None  ACIPENSERIDAE   \n",
       "2312                                 None      None       GOBIIDAE   \n",
       "4669                                 None      None     CYPRINIDAE   \n",
       "11591                                None      None     CYPRINIDAE   \n",
       "3292                                 None      None     CYPRINIDAE   \n",
       "12321                                None      None     CYPRINIDAE   \n",
       "10823                                None      None     CYPRINIDAE   \n",
       "1911                                 None      None     CYPRINIDAE   \n",
       "6126                                 None      None     CYPRINIDAE   \n",
       "1054                                 None      None  ACIPENSERIDAE   \n",
       "1139                                 None      None     SALMONIDAE   \n",
       "3270   Freshwater Biodiversity Unit, IUCN      None  ACIPENSERIDAE   \n",
       "2349   Freshwater Biodiversity Unit, IUCN      None     CYPRINIDAE   \n",
       "10621                                None      None     CYPRINIDAE   \n",
       "10718                                None      None     SALMONIDAE   \n",
       "9931                                 None      None     CYPRINIDAE   \n",
       "12919                                None      None     CYPRINIDAE   \n",
       "10367                                None      None       ESOCIDAE   \n",
       "9015                                 None      None      COBITIDAE   \n",
       "8574                                 None      None      SILURIDAE   \n",
       "4163                                 None      None     CYPRINIDAE   \n",
       "4887                                 None      None       PERCIDAE   \n",
       "1086                                 None      None      COBITIDAE   \n",
       "9419                                 None      None     CYPRINIDAE   \n",
       "10525                                None      None     SALMONIDAE   \n",
       "5967                                 None      None        LOTIDAE   \n",
       "3271                                 None      None  ACIPENSERIDAE   \n",
       "3490                                 None      None     AMBASSIDAE   \n",
       "\n",
       "            genus_name                                           geometry  \\\n",
       "3269         Acipenser  (POLYGON ((-77.20221048999997 44.0297339540000...   \n",
       "2312       Sicyopterus  (POLYGON ((165.0041666660001 -21.3374999999999...   \n",
       "4669     Chanodichthys  (POLYGON ((117.40221049 48.42859937900005, 117...   \n",
       "11591       Hemiculter  POLYGON ((117.83971049 48.88693271300008, 117....   \n",
       "3292   Microphysogobio  POLYGON ((117.83971049 48.88693271300008, 117....   \n",
       "12321        Carassius  POLYGON ((91.22674221500006 48.04201999200006,...   \n",
       "10823            Tinca  POLYGON ((91.22674221500006 48.04201999200006,...   \n",
       "1911     Rhynchocypris  (POLYGON ((109.5313771560001 50.52026604500003...   \n",
       "6126     Chanodichthys  POLYGON ((113.3871466740001 51.08159111800006,...   \n",
       "1054         Acipenser  POLYGON ((106.493408882 50.40868665900007, 106...   \n",
       "1139         Coregonus  POLYGON ((98.97140062100004 52.13528951000006,...   \n",
       "3270         Acipenser  (POLYGON ((-85.38110351499995 46.1002731320000...   \n",
       "2349            Agosia  POLYGON ((-109.908333334 26.96666666600004, -1...   \n",
       "10621        Leuciscus  (POLYGON ((106.4119327120001 50.65637715700007...   \n",
       "10718        Coregonus  (POLYGON ((-155.875 71.18333333300006, -155.84...   \n",
       "9931          Cyprinus  (POLYGON ((113.3871466740001 51.08159111800006...   \n",
       "12919          Rhodeus  (POLYGON ((113.3871466740001 51.08159111800006...   \n",
       "10367             Esox  POLYGON ((106.4119327120001 50.65637715700007,...   \n",
       "9015         Misgurnus  (POLYGON ((113.3871466740001 51.08159111800006...   \n",
       "8574           Silurus  (POLYGON ((106.889672852 51.36189490500004, 10...   \n",
       "4163     Pseudorasbora  (POLYGON ((106.889672852 51.36189490500004, 10...   \n",
       "4887             Perca  POLYGON ((100.861882527 52.06882680300004, 100...   \n",
       "1086           Cobitis  (POLYGON ((106.889672852 51.36189490500004, 10...   \n",
       "9419     Rhynchocypris  (POLYGON ((113.3871466740001 51.08159111800006...   \n",
       "10525        Thymallus  POLYGON ((99.07571953700005 52.71329345700008,...   \n",
       "5967              Lota  (POLYGON ((99.07571953700005 52.71329345700008...   \n",
       "3271         Acipenser  (POLYGON ((-112.928940924 50.22398334700006, -...   \n",
       "3490          Ambassis  (POLYGON ((130.961285061 -1.404733954999926, 1...   \n",
       "\n",
       "          id_no   ...   presence seasonal  shape_area   shape_leng  \\\n",
       "3269      223.0   ...        0.0      0.0    0.061229     5.069857   \n",
       "2312   196370.0   ...        0.0      0.0    0.299701     4.962775   \n",
       "4669   166143.0   ...        0.0      0.0    0.822562    12.134009   \n",
       "11591  166193.0   ...        0.0      0.0    2.336222    13.899461   \n",
       "3292   166028.0   ...        0.0      0.0    2.629233    16.648915   \n",
       "12321    3849.0   ...        0.0      0.0    4.347034    15.390500   \n",
       "10823   21912.0   ...        0.0      0.0    4.347034    15.390500   \n",
       "1911   135492.0   ...        0.0      0.0    4.664014    32.817185   \n",
       "6126   180698.0   ...        0.0      0.0    4.793526    23.142232   \n",
       "1054      244.0   ...        0.0      0.0    5.865542    22.969322   \n",
       "1139     5375.0   ...        0.0      0.0    6.453679    27.604141   \n",
       "3270      223.0   ...        0.0      0.0    6.720057    22.015335   \n",
       "2349   191246.0   ...        0.0      0.0    9.277168    28.618570   \n",
       "10621   11884.0   ...        0.0      0.0   14.080754    41.112320   \n",
       "10718    5363.0   ...        0.0      0.0   14.810125    93.677611   \n",
       "9931   166052.0   ...        0.0      0.0   31.514393    66.080886   \n",
       "12919   19671.0   ...        0.0      0.0   31.661029    64.959330   \n",
       "10367  135631.0   ...        0.0      0.0   31.804175    51.945832   \n",
       "9015   166158.0   ...        0.0      0.0   32.143246    63.117779   \n",
       "8574   166951.0   ...        0.0      0.0   38.260584    73.292529   \n",
       "4163   166136.0   ...        0.0      0.0   42.024757    82.255443   \n",
       "4887    16580.0   ...        0.0      0.0   42.045171    58.419062   \n",
       "1086   135534.0   ...        0.0      0.0   42.179838    84.243200   \n",
       "9419    17066.0   ...        0.0      0.0   45.696883    93.887605   \n",
       "10525  135593.0   ...        0.0      0.0   48.078823    64.797784   \n",
       "5967   135675.0   ...        0.0      0.0   82.135939   119.112900   \n",
       "3271      223.0   ...        0.0      0.0  287.725875   387.812730   \n",
       "3490   155201.0   ...        0.0      0.0  295.859696  2415.811485   \n",
       "\n",
       "                                                  source        species_na  \\\n",
       "3269                                 Page and Burr, 1991        fulvescens   \n",
       "2312                                                None          sarasini   \n",
       "4669                                                None     erythropterus   \n",
       "11591                                               None       leucisculus   \n",
       "3292                                                None     tungtingensis   \n",
       "12321                                               None         carassius   \n",
       "10823                                               None             tinca   \n",
       "1911                                                None      czekanowskii   \n",
       "6126                                                None        mongolicus   \n",
       "1054                                                None            baerii   \n",
       "1139                                                None         pidschian   \n",
       "3270   Digital Distribution Maps of the Freshwater Fi...        fulvescens   \n",
       "2349   Digital Distribution Maps of the Freshwater Fi...      chrysogaster   \n",
       "10621                                               None              idus   \n",
       "10718                                               None        autumnalis   \n",
       "9931                                                None       rubrofuscus   \n",
       "12919                                               None          sericeus   \n",
       "10367                                               None            lucius   \n",
       "9015                                                None  anguillicaudatus   \n",
       "8574                                                None            asotus   \n",
       "4163                                                None             parva   \n",
       "4887                                                None       fluviatilis   \n",
       "1086                                                None       melanoleuca   \n",
       "9419                                                None         percnurus   \n",
       "10525                                               None          arcticus   \n",
       "5967                                                None              lota   \n",
       "3271                                                None        fulvescens   \n",
       "3490                                                None         urotaenia   \n",
       "\n",
       "       subpop  subspecies  tax_comm    year  \n",
       "3269     None        None      None  2013.0  \n",
       "2312     None        None      None     0.0  \n",
       "4669     None        None      None     0.0  \n",
       "11591    None        None      None     0.0  \n",
       "3292     None        None      None     0.0  \n",
       "12321    None        None      None     0.0  \n",
       "10823    None        None      None     0.0  \n",
       "1911     None        None      None     0.0  \n",
       "6126     None        None      None     0.0  \n",
       "1054     None        None      None     0.0  \n",
       "1139     None        None      None     0.0  \n",
       "3270     None        None      None  2013.0  \n",
       "2349     None        None      None  2013.0  \n",
       "10621    None        None      None     0.0  \n",
       "10718    None        None      None     0.0  \n",
       "9931     None        None      None     0.0  \n",
       "12919    None        None      None     0.0  \n",
       "10367    None        None      None     0.0  \n",
       "9015     None        None      None     0.0  \n",
       "8574     None        None      None     0.0  \n",
       "4163     None        None      None     0.0  \n",
       "4887     None        None      None     0.0  \n",
       "1086     None        None      None     0.0  \n",
       "9419     None        None      None     0.0  \n",
       "10525    None        None      None     0.0  \n",
       "5967     None        None      None     0.0  \n",
       "3271     None        None      None     0.0  \n",
       "3490     None        None      None     0.0  \n",
       "\n",
       "[28 rows x 26 columns]"
      ]
     },
     "execution_count": 10,
     "metadata": {},
     "output_type": "execute_result"
    }
   ],
   "source": [
    "fish_data[~fish_data.presence.isin([1,2,3,4,5,6])]"
   ]
  },
  {
   "cell_type": "markdown",
   "metadata": {},
   "source": [
    "Apparently there are 28 species for which the \"presence\" is set to 0 in some regions. Their binomials are:"
   ]
  },
  {
   "cell_type": "code",
   "execution_count": 11,
   "metadata": {
    "collapsed": false
   },
   "outputs": [
    {
     "data": {
      "text/plain": [
       "3269              Acipenser fulvescens\n",
       "2312              Sicyopterus sarasini\n",
       "4669       Chanodichthys erythropterus\n",
       "11591           Hemiculter leucisculus\n",
       "3292     Microphysogobio tungtingensis\n",
       "12321              Carassius carassius\n",
       "10823                      Tinca tinca\n",
       "1911        Rhynchocypris czekanowskii\n",
       "6126          Chanodichthys mongolicus\n",
       "1054                  Acipenser baerii\n",
       "1139               Coregonus pidschian\n",
       "3270              Acipenser fulvescens\n",
       "2349               Agosia chrysogaster\n",
       "10621                   Leuciscus idus\n",
       "10718             Coregonus autumnalis\n",
       "9931              Cyprinus rubrofuscus\n",
       "12919                 Rhodeus sericeus\n",
       "10367                      Esox lucius\n",
       "9015        Misgurnus anguillicaudatus\n",
       "8574                    Silurus asotus\n",
       "4163               Pseudorasbora parva\n",
       "4887                 Perca fluviatilis\n",
       "1086               Cobitis melanoleuca\n",
       "9419           Rhynchocypris percnurus\n",
       "10525               Thymallus arcticus\n",
       "5967                         Lota lota\n",
       "3271              Acipenser fulvescens\n",
       "3490                Ambassis urotaenia\n",
       "Name: binomial, dtype: object"
      ]
     },
     "execution_count": 11,
     "metadata": {},
     "output_type": "execute_result"
    }
   ],
   "source": [
    "fish_data[~fish_data.presence.isin([1,2,3,4,5,6])]['binomial']"
   ]
  },
  {
   "cell_type": "markdown",
   "metadata": {},
   "source": [
    "Actually it's 26, since \"Acipenser fulvescens\" has 3 separate records (polygons)"
   ]
  },
  {
   "cell_type": "markdown",
   "metadata": {},
   "source": [
    "\"For the (possibly) extant species, we will include their entire range (including polygons from which they are \n",
    "currently extinct)\"\n",
    "\n",
    "As an example, here is a species with both extant and extinct areas"
   ]
  },
  {
   "cell_type": "code",
   "execution_count": 12,
   "metadata": {
    "collapsed": false,
    "scrolled": true
   },
   "outputs": [
    {
     "data": {
      "text/html": [
       "<div>\n",
       "<table border=\"1\" class=\"dataframe\">\n",
       "  <thead>\n",
       "    <tr style=\"text-align: right;\">\n",
       "      <th></th>\n",
       "      <th>binomial</th>\n",
       "      <th>category</th>\n",
       "      <th>citation</th>\n",
       "      <th>class_name</th>\n",
       "      <th>compiler</th>\n",
       "      <th>dist_comm</th>\n",
       "      <th>family_nam</th>\n",
       "      <th>genus_name</th>\n",
       "      <th>geometry</th>\n",
       "      <th>id_no</th>\n",
       "      <th>...</th>\n",
       "      <th>presence</th>\n",
       "      <th>seasonal</th>\n",
       "      <th>shape_area</th>\n",
       "      <th>shape_leng</th>\n",
       "      <th>source</th>\n",
       "      <th>species_na</th>\n",
       "      <th>subpop</th>\n",
       "      <th>subspecies</th>\n",
       "      <th>tax_comm</th>\n",
       "      <th>year</th>\n",
       "    </tr>\n",
       "  </thead>\n",
       "  <tbody>\n",
       "    <tr>\n",
       "      <th>2154</th>\n",
       "      <td>Acantharchus pomotis</td>\n",
       "      <td>LC</td>\n",
       "      <td>NatureServe</td>\n",
       "      <td>ACTINOPTERYGII</td>\n",
       "      <td>Freshwater Biodiversity Unit, IUCN</td>\n",
       "      <td>None</td>\n",
       "      <td>CENTRARCHIDAE</td>\n",
       "      <td>Acantharchus</td>\n",
       "      <td>POLYGON ((-83.63333333299994 31.23750000000007...</td>\n",
       "      <td>201938.0</td>\n",
       "      <td>...</td>\n",
       "      <td>5.0</td>\n",
       "      <td>0.0</td>\n",
       "      <td>0.024246</td>\n",
       "      <td>0.796963</td>\n",
       "      <td>Digital Distribution Maps of the Freshwater Fi...</td>\n",
       "      <td>pomotis</td>\n",
       "      <td>None</td>\n",
       "      <td>None</td>\n",
       "      <td>None</td>\n",
       "      <td>2013.0</td>\n",
       "    </tr>\n",
       "    <tr>\n",
       "      <th>2156</th>\n",
       "      <td>Acantharchus pomotis</td>\n",
       "      <td>LC</td>\n",
       "      <td>None</td>\n",
       "      <td>ACTINOPTERYGII</td>\n",
       "      <td>None</td>\n",
       "      <td>None</td>\n",
       "      <td>CENTRARCHIDAE</td>\n",
       "      <td>Acantharchus</td>\n",
       "      <td>(POLYGON ((-83.94131181499995 32.4517130540000...</td>\n",
       "      <td>201938.0</td>\n",
       "      <td>...</td>\n",
       "      <td>1.0</td>\n",
       "      <td>0.0</td>\n",
       "      <td>2.006039</td>\n",
       "      <td>18.544973</td>\n",
       "      <td>None</td>\n",
       "      <td>pomotis</td>\n",
       "      <td>None</td>\n",
       "      <td>None</td>\n",
       "      <td>None</td>\n",
       "      <td>0.0</td>\n",
       "    </tr>\n",
       "    <tr>\n",
       "      <th>2155</th>\n",
       "      <td>Acantharchus pomotis</td>\n",
       "      <td>LC</td>\n",
       "      <td>NatureServe</td>\n",
       "      <td>ACTINOPTERYGII</td>\n",
       "      <td>Freshwater Biodiversity Unit, IUCN</td>\n",
       "      <td>None</td>\n",
       "      <td>CENTRARCHIDAE</td>\n",
       "      <td>Acantharchus</td>\n",
       "      <td>(POLYGON ((-84.33333333299998 30.0500000000000...</td>\n",
       "      <td>201938.0</td>\n",
       "      <td>...</td>\n",
       "      <td>1.0</td>\n",
       "      <td>0.0</td>\n",
       "      <td>25.110455</td>\n",
       "      <td>170.717198</td>\n",
       "      <td>Digital Distribution Maps of the Freshwater Fi...</td>\n",
       "      <td>pomotis</td>\n",
       "      <td>None</td>\n",
       "      <td>None</td>\n",
       "      <td>None</td>\n",
       "      <td>2013.0</td>\n",
       "    </tr>\n",
       "  </tbody>\n",
       "</table>\n",
       "<p>3 rows × 26 columns</p>\n",
       "</div>"
      ],
      "text/plain": [
       "                  binomial category     citation      class_name  \\\n",
       "2154  Acantharchus pomotis       LC  NatureServe  ACTINOPTERYGII   \n",
       "2156  Acantharchus pomotis       LC         None  ACTINOPTERYGII   \n",
       "2155  Acantharchus pomotis       LC  NatureServe  ACTINOPTERYGII   \n",
       "\n",
       "                                compiler dist_comm     family_nam  \\\n",
       "2154  Freshwater Biodiversity Unit, IUCN      None  CENTRARCHIDAE   \n",
       "2156                                None      None  CENTRARCHIDAE   \n",
       "2155  Freshwater Biodiversity Unit, IUCN      None  CENTRARCHIDAE   \n",
       "\n",
       "        genus_name                                           geometry  \\\n",
       "2154  Acantharchus  POLYGON ((-83.63333333299994 31.23750000000007...   \n",
       "2156  Acantharchus  (POLYGON ((-83.94131181499995 32.4517130540000...   \n",
       "2155  Acantharchus  (POLYGON ((-84.33333333299998 30.0500000000000...   \n",
       "\n",
       "         id_no   ...   presence seasonal shape_area  shape_leng  \\\n",
       "2154  201938.0   ...        5.0      0.0   0.024246    0.796963   \n",
       "2156  201938.0   ...        1.0      0.0   2.006039   18.544973   \n",
       "2155  201938.0   ...        1.0      0.0  25.110455  170.717198   \n",
       "\n",
       "                                                 source species_na  subpop  \\\n",
       "2154  Digital Distribution Maps of the Freshwater Fi...    pomotis    None   \n",
       "2156                                               None    pomotis    None   \n",
       "2155  Digital Distribution Maps of the Freshwater Fi...    pomotis    None   \n",
       "\n",
       "      subspecies  tax_comm    year  \n",
       "2154        None      None  2013.0  \n",
       "2156        None      None     0.0  \n",
       "2155        None      None  2013.0  \n",
       "\n",
       "[3 rows x 26 columns]"
      ]
     },
     "execution_count": 12,
     "metadata": {},
     "output_type": "execute_result"
    }
   ],
   "source": [
    "fish_data[fish_data.binomial=='Acantharchus pomotis']"
   ]
  },
  {
   "cell_type": "markdown",
   "metadata": {},
   "source": [
    "Plenty of columns, let's just select the 'binomial', 'presence', 'geometry', and 'shape_area' to have a clearer overview"
   ]
  },
  {
   "cell_type": "code",
   "execution_count": 13,
   "metadata": {
    "collapsed": false
   },
   "outputs": [
    {
     "data": {
      "text/html": [
       "<div>\n",
       "<table border=\"1\" class=\"dataframe\">\n",
       "  <thead>\n",
       "    <tr style=\"text-align: right;\">\n",
       "      <th></th>\n",
       "      <th>binomial</th>\n",
       "      <th>presence</th>\n",
       "      <th>geometry</th>\n",
       "      <th>shape_area</th>\n",
       "    </tr>\n",
       "  </thead>\n",
       "  <tbody>\n",
       "    <tr>\n",
       "      <th>2154</th>\n",
       "      <td>Acantharchus pomotis</td>\n",
       "      <td>5.0</td>\n",
       "      <td>POLYGON ((-83.63333333299994 31.23750000000007...</td>\n",
       "      <td>0.024246</td>\n",
       "    </tr>\n",
       "    <tr>\n",
       "      <th>2156</th>\n",
       "      <td>Acantharchus pomotis</td>\n",
       "      <td>1.0</td>\n",
       "      <td>(POLYGON ((-83.94131181499995 32.4517130540000...</td>\n",
       "      <td>2.006039</td>\n",
       "    </tr>\n",
       "    <tr>\n",
       "      <th>2155</th>\n",
       "      <td>Acantharchus pomotis</td>\n",
       "      <td>1.0</td>\n",
       "      <td>(POLYGON ((-84.33333333299998 30.0500000000000...</td>\n",
       "      <td>25.110455</td>\n",
       "    </tr>\n",
       "  </tbody>\n",
       "</table>\n",
       "</div>"
      ],
      "text/plain": [
       "                  binomial  presence  \\\n",
       "2154  Acantharchus pomotis       5.0   \n",
       "2156  Acantharchus pomotis       1.0   \n",
       "2155  Acantharchus pomotis       1.0   \n",
       "\n",
       "                                               geometry  shape_area  \n",
       "2154  POLYGON ((-83.63333333299994 31.23750000000007...    0.024246  \n",
       "2156  (POLYGON ((-83.94131181499995 32.4517130540000...    2.006039  \n",
       "2155  (POLYGON ((-84.33333333299998 30.0500000000000...   25.110455  "
      ]
     },
     "execution_count": 13,
     "metadata": {},
     "output_type": "execute_result"
    }
   ],
   "source": [
    "fish_data[fish_data.binomial=='Acantharchus pomotis'][['binomial','presence', 'geometry','shape_area']]"
   ]
  },
  {
   "cell_type": "markdown",
   "metadata": {},
   "source": [
    "As agreed, we want to keep the first (extinct==5) polygon when there are other regions (the next two records) where the species is not extinct. There is a function that can do the filtering out in a simple way."
   ]
  },
  {
   "cell_type": "code",
   "execution_count": 14,
   "metadata": {
    "collapsed": false
   },
   "outputs": [
    {
     "name": "stderr",
     "output_type": "stream",
     "text": [
      "There are currently 6328 unique species. \n",
      "\n",
      "Filtering out the following extinct species: ['Alburnus akili', 'Alburnus nicaeensis', 'Aphanius splendens', \"Aplocheilichthys sp. nov. 'Naivasha'\", 'Barbus microbarbis', 'Catostomus bernardini', 'Chasmistes muriei', 'Coregonus bezola', 'Coregonus fera', 'Coregonus gutturosus', 'Coregonus hiemalis', 'Coregonus johannae', 'Coregonus oxyrinchus', 'Coregonus restrictus', 'Cottus bendirei', 'Cottus echinatus', 'Cyprinodon arcuatus', 'Cyprinus micristius', 'Empetrichthys latos', 'Empetrichthys merriami', \"Eudontomyzon sp. nov. 'migratory'\", 'Fundulus albolineatus', 'Gambusia amistadensis', 'Gambusia georgei', 'Gambusia senilis', 'Gasterosteus crenobiontus', 'Gila crassicauda', 'Ictalurus pricei', 'Lepidomeda altivelis', 'Mirogrex hulensis', 'Moxostoma lacerum', 'Noturus trautmani', 'Pantanodon madagascariensis', 'Platytropius siamensis', 'Pogonichthys ciscoides', 'Prototroctes oxyrhynchus', 'Ptychochromis onilahy', 'Ptychochromoides itasy', 'Rhinichthys deaconi', 'Romanogobio antipai', 'Salmo pallaryi', 'Salmo schiefermuelleri', 'Salvelinus agassizii', 'Salvelinus neocomensis', 'Salvelinus profundus', 'Sphaerophysa dianchiensis', 'Tristramella intermedia', 'Xenocypris yunnanensis'] \n",
      "\n",
      "There are now 6280 unique species after dropping out extinct ones.\n"
     ]
    }
   ],
   "source": [
    "fish.drop_extinct_species()"
   ]
  },
  {
   "cell_type": "code",
   "execution_count": 15,
   "metadata": {
    "collapsed": false
   },
   "outputs": [
    {
     "name": "stderr",
     "output_type": "stream",
     "text": [
      "Saved data: ../data/fish/selection/non_extinct.pkl \n",
      "Type of data: <class 'geopandas.geodataframe.GeoDataFrame'> \n"
     ]
    }
   ],
   "source": [
    "fish.save_data(\"../data/fish/selection/non_extinct.pkl\", method=\"pickle\")"
   ]
  },
  {
   "cell_type": "code",
   "execution_count": 16,
   "metadata": {
    "collapsed": true
   },
   "outputs": [],
   "source": [
    "non_extinct_fish = fish.get_data()"
   ]
  },
  {
   "cell_type": "markdown",
   "metadata": {},
   "source": [
    "### Cross-check with GBIF records\n",
    "\n",
    "#### How many freshwater fish observation records do we have (without any filtering)\n"
   ]
  },
  {
   "cell_type": "code",
   "execution_count": 17,
   "metadata": {
    "collapsed": true
   },
   "outputs": [],
   "source": [
    "total_records = 0\n",
    "# download the file \"merged.msg\" from here: (My Google Drive)\n",
    "# https://drive.google.com/open?id=0B9cazFzBtPuCTHcyTmVXV0pNT0k\n",
    "# and place it the subfolder \"selection\"\n",
    "# The \"merged.msg\" file contains all datagrames for all individual species.\n",
    "for df in pd.read_msgpack(\"../data/fish/selection/merged.msg\", iterator=True):\n",
    "    total_records += df.shape[0]    "
   ]
  },
  {
   "cell_type": "code",
   "execution_count": 18,
   "metadata": {
    "collapsed": false
   },
   "outputs": [
    {
     "data": {
      "text/plain": [
       "4733792"
      ]
     },
     "execution_count": 18,
     "metadata": {},
     "output_type": "execute_result"
    }
   ],
   "source": [
    "total_records"
   ]
  },
  {
   "cell_type": "markdown",
   "metadata": {},
   "source": [
    "#### 1. Problematic/unavailable locality\n",
    "Which species have **no latitude/longitude information, and how many \"observations\" are there for them?** What is the basis of record for such species? (Suspicion is that these are old museum/journals records)"
   ]
  },
  {
   "cell_type": "code",
   "execution_count": 19,
   "metadata": {
    "collapsed": false
   },
   "outputs": [],
   "source": [
    "important_columns = ['species', 'dateidentified','basisofrecord', 'verbatimlocality', 'day', 'month', 'year' ]\n",
    "result_no_lat_long = pd.DataFrame(columns=important_columns)\n",
    "\n",
    "for df in pd.read_msgpack(\"../data/fish/selection/merged.msg\", iterator=True):\n",
    "    if \"decimallatitude\" not in df.columns.tolist() or \"decimallongitude\" not in df.columns.tolist():\n",
    "        common_columns = list(set(important_columns).intersection(set(df.columns.tolist())))\n",
    "        result_no_lat_long = result_no_lat_long.append(df[common_columns], ignore_index=True)\n",
    "      "
   ]
  },
  {
   "cell_type": "markdown",
   "metadata": {},
   "source": [
    "#### How many unique species are there, without lat/lon?"
   ]
  },
  {
   "cell_type": "code",
   "execution_count": 20,
   "metadata": {
    "collapsed": false
   },
   "outputs": [
    {
     "data": {
      "text/plain": [
       "600"
      ]
     },
     "execution_count": 20,
     "metadata": {},
     "output_type": "execute_result"
    }
   ],
   "source": [
    "result_no_lat_long['species'].unique().size"
   ]
  },
  {
   "cell_type": "markdown",
   "metadata": {},
   "source": [
    "Warning: this does not mean that the species ONLY has such records. It could be that particular species also has records WITH latitude/longitude information.\n",
    "\n",
    "##### So then what percentage of the total number of records?"
   ]
  },
  {
   "cell_type": "code",
   "execution_count": 21,
   "metadata": {
    "collapsed": false
   },
   "outputs": [
    {
     "data": {
      "text/plain": [
       "0.16261804489931117"
      ]
     },
     "execution_count": 21,
     "metadata": {},
     "output_type": "execute_result"
    }
   ],
   "source": [
    "(result_no_lat_long.shape[0]/total_records) * 100 # not that bad, only about 0.2%"
   ]
  },
  {
   "cell_type": "markdown",
   "metadata": {},
   "source": [
    "#### What about verbatim locality? Is that helpful? These records have a verbatim locality"
   ]
  },
  {
   "cell_type": "code",
   "execution_count": 22,
   "metadata": {
    "collapsed": false
   },
   "outputs": [
    {
     "data": {
      "text/html": [
       "<div>\n",
       "<table border=\"1\" class=\"dataframe\">\n",
       "  <thead>\n",
       "    <tr style=\"text-align: right;\">\n",
       "      <th></th>\n",
       "      <th>species</th>\n",
       "      <th>verbatimlocality</th>\n",
       "    </tr>\n",
       "  </thead>\n",
       "  <tbody>\n",
       "    <tr>\n",
       "      <th>27</th>\n",
       "      <td>Salmo stomachicus</td>\n",
       "      <td>; ; ; ; ; ; ;</td>\n",
       "    </tr>\n",
       "    <tr>\n",
       "      <th>42</th>\n",
       "      <td>Clypeobarbus bellcrossi</td>\n",
       "      <td>Africa | Zambia | Western Province</td>\n",
       "    </tr>\n",
       "    <tr>\n",
       "      <th>114</th>\n",
       "      <td>Squalidus atromaculatus</td>\n",
       "      <td>Hainan</td>\n",
       "    </tr>\n",
       "    <tr>\n",
       "      <th>869</th>\n",
       "      <td>Salvelinus perisii</td>\n",
       "      <td>; ; ; ; ; ; ;</td>\n",
       "    </tr>\n",
       "    <tr>\n",
       "      <th>1285</th>\n",
       "      <td>Barbus fritschii</td>\n",
       "      <td>Berkana</td>\n",
       "    </tr>\n",
       "    <tr>\n",
       "      <th>1290</th>\n",
       "      <td>Barbus fritschii</td>\n",
       "      <td>Oued Tensift</td>\n",
       "    </tr>\n",
       "    <tr>\n",
       "      <th>1292</th>\n",
       "      <td>Barbus fritschii</td>\n",
       "      <td>Oued Za</td>\n",
       "    </tr>\n",
       "    <tr>\n",
       "      <th>1293</th>\n",
       "      <td>Barbus fritschii</td>\n",
       "      <td>Ras-el-Ain</td>\n",
       "    </tr>\n",
       "    <tr>\n",
       "      <th>1341</th>\n",
       "      <td>Hara horai</td>\n",
       "      <td>unspecified</td>\n",
       "    </tr>\n",
       "    <tr>\n",
       "      <th>1367</th>\n",
       "      <td>Barbus callensis</td>\n",
       "      <td>Oued Tensift</td>\n",
       "    </tr>\n",
       "    <tr>\n",
       "      <th>1368</th>\n",
       "      <td>Barbus callensis</td>\n",
       "      <td>Oued Tensift</td>\n",
       "    </tr>\n",
       "    <tr>\n",
       "      <th>1599</th>\n",
       "      <td>Coregonus vandesius</td>\n",
       "      <td>; [Scotland; U.K.]; ; ; ; ; ; Lochmaben; Dumfr...</td>\n",
       "    </tr>\n",
       "    <tr>\n",
       "      <th>1708</th>\n",
       "      <td>Barbodes wynaadensis</td>\n",
       "      <td>Vithry [India or Pakistan]</td>\n",
       "    </tr>\n",
       "    <tr>\n",
       "      <th>2066</th>\n",
       "      <td>Barbus callensis</td>\n",
       "      <td>Oued Tensift</td>\n",
       "    </tr>\n",
       "    <tr>\n",
       "      <th>2113</th>\n",
       "      <td>Nannocharax wittei</td>\n",
       "      <td>Between Kermani and Kasai [Belge Congo]</td>\n",
       "    </tr>\n",
       "    <tr>\n",
       "      <th>3247</th>\n",
       "      <td>Barbus nasus</td>\n",
       "      <td>Fes</td>\n",
       "    </tr>\n",
       "    <tr>\n",
       "      <th>3248</th>\n",
       "      <td>Barbus nasus</td>\n",
       "      <td>Fes</td>\n",
       "    </tr>\n",
       "    <tr>\n",
       "      <th>3362</th>\n",
       "      <td>Luciobarbus brachycephalus</td>\n",
       "      <td>Eurasia | Union Of Soviet Socialist Republics ...</td>\n",
       "    </tr>\n",
       "    <tr>\n",
       "      <th>3369</th>\n",
       "      <td>Luciobarbus brachycephalus</td>\n",
       "      <td>Leukoran; Rec'd 24 Dec. 1885.</td>\n",
       "    </tr>\n",
       "    <tr>\n",
       "      <th>3446</th>\n",
       "      <td>Triplophysa grahami</td>\n",
       "      <td>; W. China; ; ; ; ; ; Yunnanfu</td>\n",
       "    </tr>\n",
       "    <tr>\n",
       "      <th>3465</th>\n",
       "      <td>Barbus petenyi</td>\n",
       "      <td>Milcov R. at Focsani, S Moldavia;  Vrancea</td>\n",
       "    </tr>\n",
       "    <tr>\n",
       "      <th>3466</th>\n",
       "      <td>Barbus petenyi</td>\n",
       "      <td>Cerna R. at Baile-Herculane, Banat;  Caras-Sev...</td>\n",
       "    </tr>\n",
       "    <tr>\n",
       "      <th>3467</th>\n",
       "      <td>Barbus petenyi</td>\n",
       "      <td>Hirtibaciu R., indirect trib. to Olt R. at Moh...</td>\n",
       "    </tr>\n",
       "    <tr>\n",
       "      <th>3666</th>\n",
       "      <td>Barbus petenyi</td>\n",
       "      <td>Croatia</td>\n",
       "    </tr>\n",
       "    <tr>\n",
       "      <th>4095</th>\n",
       "      <td>Sabanejewia bulgarica</td>\n",
       "      <td>Confluence of Arges R. with Danube R. at Olten...</td>\n",
       "    </tr>\n",
       "    <tr>\n",
       "      <th>4205</th>\n",
       "      <td>Coregonus nilssoni</td>\n",
       "      <td>Lake Ring, Scania</td>\n",
       "    </tr>\n",
       "    <tr>\n",
       "      <th>4209</th>\n",
       "      <td>Coregonus nilssoni</td>\n",
       "      <td>Lake Ring, Scania</td>\n",
       "    </tr>\n",
       "    <tr>\n",
       "      <th>4375</th>\n",
       "      <td>Haplochromis xenostoma</td>\n",
       "      <td>Lake Victoria [exact locality unknown]</td>\n",
       "    </tr>\n",
       "    <tr>\n",
       "      <th>4603</th>\n",
       "      <td>Haplochromis bartoni</td>\n",
       "      <td>Aquarium stock; originating from Lake Victoria.</td>\n",
       "    </tr>\n",
       "    <tr>\n",
       "      <th>4820</th>\n",
       "      <td>Sabanejewia vallachica</td>\n",
       "      <td>Milcov R. at Focsani, S Moldavia;  Vrancea</td>\n",
       "    </tr>\n",
       "    <tr>\n",
       "      <th>4823</th>\n",
       "      <td>Sabanejewia vallachica</td>\n",
       "      <td>Ialomita R. at Crivina, N of Bucharest;  Ilfov</td>\n",
       "    </tr>\n",
       "    <tr>\n",
       "      <th>6480</th>\n",
       "      <td>Devario kakhienensis</td>\n",
       "      <td>Phagna Dam.</td>\n",
       "    </tr>\n",
       "    <tr>\n",
       "      <th>6514</th>\n",
       "      <td>Devario browni</td>\n",
       "      <td>~25 km N Mae Hong Son town, on road to Chiang ...</td>\n",
       "    </tr>\n",
       "    <tr>\n",
       "      <th>6515</th>\n",
       "      <td>Devario browni</td>\n",
       "      <td>Mae Sariang district, 20 km SE of  Mae Sariang...</td>\n",
       "    </tr>\n",
       "    <tr>\n",
       "      <th>6516</th>\n",
       "      <td>Devario browni</td>\n",
       "      <td>~8 km SW Mae Hong Son town, Huey Sertao, (old ...</td>\n",
       "    </tr>\n",
       "    <tr>\n",
       "      <th>6517</th>\n",
       "      <td>Devario browni</td>\n",
       "      <td>village of Mae Sam Laep, just above Huey Khong...</td>\n",
       "    </tr>\n",
       "    <tr>\n",
       "      <th>6518</th>\n",
       "      <td>Devario browni</td>\n",
       "      <td>~25 km N Mae Hong Son town, on road to Chiang ...</td>\n",
       "    </tr>\n",
       "    <tr>\n",
       "      <th>6519</th>\n",
       "      <td>Devario browni</td>\n",
       "      <td>~35 km S Mae Hong Son town in small stream;  M...</td>\n",
       "    </tr>\n",
       "    <tr>\n",
       "      <th>6520</th>\n",
       "      <td>Devario browni</td>\n",
       "      <td>Pong Kan Stream, ~25 km S Mae Hong Son, Pong K...</td>\n",
       "    </tr>\n",
       "    <tr>\n",
       "      <th>6525</th>\n",
       "      <td>Devario browni</td>\n",
       "      <td>no data</td>\n",
       "    </tr>\n",
       "    <tr>\n",
       "      <th>6530</th>\n",
       "      <td>Devario browni</td>\n",
       "      <td>no data</td>\n",
       "    </tr>\n",
       "    <tr>\n",
       "      <th>6579</th>\n",
       "      <td>Chondrostoma cyri</td>\n",
       "      <td>R. Kurza; Rec'd. 4 Nov. 1891.</td>\n",
       "    </tr>\n",
       "    <tr>\n",
       "      <th>6862</th>\n",
       "      <td>Barbus callensis</td>\n",
       "      <td>Oued Za</td>\n",
       "    </tr>\n",
       "    <tr>\n",
       "      <th>6872</th>\n",
       "      <td>Barbus callensis</td>\n",
       "      <td>Qued Ksol</td>\n",
       "    </tr>\n",
       "    <tr>\n",
       "      <th>6877</th>\n",
       "      <td>Barbus callensis</td>\n",
       "      <td>Berkare</td>\n",
       "    </tr>\n",
       "    <tr>\n",
       "      <th>6885</th>\n",
       "      <td>Barbus callensis</td>\n",
       "      <td>[no verbatim locality data]</td>\n",
       "    </tr>\n",
       "    <tr>\n",
       "      <th>6889</th>\n",
       "      <td>Barbus callensis</td>\n",
       "      <td>Oued Tensift</td>\n",
       "    </tr>\n",
       "    <tr>\n",
       "      <th>7115</th>\n",
       "      <td>Barbus callensis</td>\n",
       "      <td>West Algeria</td>\n",
       "    </tr>\n",
       "    <tr>\n",
       "      <th>7116</th>\n",
       "      <td>Barbus callensis</td>\n",
       "      <td>[no verbatim locality data]</td>\n",
       "    </tr>\n",
       "    <tr>\n",
       "      <th>7117</th>\n",
       "      <td>Barbus callensis</td>\n",
       "      <td>West Algerian Sahara</td>\n",
       "    </tr>\n",
       "    <tr>\n",
       "      <th>7415</th>\n",
       "      <td>Synodontis omias</td>\n",
       "      <td>[no verbatim locality data]</td>\n",
       "    </tr>\n",
       "    <tr>\n",
       "      <th>7449</th>\n",
       "      <td>Pollimyrus guttatus</td>\n",
       "      <td>30 km East of Kribi, Cameroons</td>\n",
       "    </tr>\n",
       "  </tbody>\n",
       "</table>\n",
       "</div>"
      ],
      "text/plain": [
       "                         species  \\\n",
       "27             Salmo stomachicus   \n",
       "42       Clypeobarbus bellcrossi   \n",
       "114      Squalidus atromaculatus   \n",
       "869           Salvelinus perisii   \n",
       "1285            Barbus fritschii   \n",
       "1290            Barbus fritschii   \n",
       "1292            Barbus fritschii   \n",
       "1293            Barbus fritschii   \n",
       "1341                  Hara horai   \n",
       "1367            Barbus callensis   \n",
       "1368            Barbus callensis   \n",
       "1599         Coregonus vandesius   \n",
       "1708        Barbodes wynaadensis   \n",
       "2066            Barbus callensis   \n",
       "2113          Nannocharax wittei   \n",
       "3247                Barbus nasus   \n",
       "3248                Barbus nasus   \n",
       "3362  Luciobarbus brachycephalus   \n",
       "3369  Luciobarbus brachycephalus   \n",
       "3446         Triplophysa grahami   \n",
       "3465              Barbus petenyi   \n",
       "3466              Barbus petenyi   \n",
       "3467              Barbus petenyi   \n",
       "3666              Barbus petenyi   \n",
       "4095       Sabanejewia bulgarica   \n",
       "4205          Coregonus nilssoni   \n",
       "4209          Coregonus nilssoni   \n",
       "4375      Haplochromis xenostoma   \n",
       "4603        Haplochromis bartoni   \n",
       "4820      Sabanejewia vallachica   \n",
       "4823      Sabanejewia vallachica   \n",
       "6480        Devario kakhienensis   \n",
       "6514              Devario browni   \n",
       "6515              Devario browni   \n",
       "6516              Devario browni   \n",
       "6517              Devario browni   \n",
       "6518              Devario browni   \n",
       "6519              Devario browni   \n",
       "6520              Devario browni   \n",
       "6525              Devario browni   \n",
       "6530              Devario browni   \n",
       "6579           Chondrostoma cyri   \n",
       "6862            Barbus callensis   \n",
       "6872            Barbus callensis   \n",
       "6877            Barbus callensis   \n",
       "6885            Barbus callensis   \n",
       "6889            Barbus callensis   \n",
       "7115            Barbus callensis   \n",
       "7116            Barbus callensis   \n",
       "7117            Barbus callensis   \n",
       "7415            Synodontis omias   \n",
       "7449         Pollimyrus guttatus   \n",
       "\n",
       "                                       verbatimlocality  \n",
       "27                                        ; ; ; ; ; ; ;  \n",
       "42                   Africa | Zambia | Western Province  \n",
       "114                                              Hainan  \n",
       "869                                       ; ; ; ; ; ; ;  \n",
       "1285                                            Berkana  \n",
       "1290                                       Oued Tensift  \n",
       "1292                                            Oued Za  \n",
       "1293                                         Ras-el-Ain  \n",
       "1341                                        unspecified  \n",
       "1367                                       Oued Tensift  \n",
       "1368                                       Oued Tensift  \n",
       "1599  ; [Scotland; U.K.]; ; ; ; ; ; Lochmaben; Dumfr...  \n",
       "1708                         Vithry [India or Pakistan]  \n",
       "2066                                       Oued Tensift  \n",
       "2113            Between Kermani and Kasai [Belge Congo]  \n",
       "3247                                                Fes  \n",
       "3248                                                Fes  \n",
       "3362  Eurasia | Union Of Soviet Socialist Republics ...  \n",
       "3369                      Leukoran; Rec'd 24 Dec. 1885.  \n",
       "3446                     ; W. China; ; ; ; ; ; Yunnanfu  \n",
       "3465         Milcov R. at Focsani, S Moldavia;  Vrancea  \n",
       "3466  Cerna R. at Baile-Herculane, Banat;  Caras-Sev...  \n",
       "3467  Hirtibaciu R., indirect trib. to Olt R. at Moh...  \n",
       "3666                                            Croatia  \n",
       "4095  Confluence of Arges R. with Danube R. at Olten...  \n",
       "4205                                  Lake Ring, Scania  \n",
       "4209                                  Lake Ring, Scania  \n",
       "4375             Lake Victoria [exact locality unknown]  \n",
       "4603    Aquarium stock; originating from Lake Victoria.  \n",
       "4820         Milcov R. at Focsani, S Moldavia;  Vrancea  \n",
       "4823     Ialomita R. at Crivina, N of Bucharest;  Ilfov  \n",
       "6480                                        Phagna Dam.  \n",
       "6514  ~25 km N Mae Hong Son town, on road to Chiang ...  \n",
       "6515  Mae Sariang district, 20 km SE of  Mae Sariang...  \n",
       "6516  ~8 km SW Mae Hong Son town, Huey Sertao, (old ...  \n",
       "6517  village of Mae Sam Laep, just above Huey Khong...  \n",
       "6518  ~25 km N Mae Hong Son town, on road to Chiang ...  \n",
       "6519  ~35 km S Mae Hong Son town in small stream;  M...  \n",
       "6520  Pong Kan Stream, ~25 km S Mae Hong Son, Pong K...  \n",
       "6525                                            no data  \n",
       "6530                                            no data  \n",
       "6579                      R. Kurza; Rec'd. 4 Nov. 1891.  \n",
       "6862                                            Oued Za  \n",
       "6872                                          Qued Ksol  \n",
       "6877                                            Berkare  \n",
       "6885                        [no verbatim locality data]  \n",
       "6889                                       Oued Tensift  \n",
       "7115                                       West Algeria  \n",
       "7116                        [no verbatim locality data]  \n",
       "7117                               West Algerian Sahara  \n",
       "7415                        [no verbatim locality data]  \n",
       "7449                     30 km East of Kribi, Cameroons  "
      ]
     },
     "execution_count": 22,
     "metadata": {},
     "output_type": "execute_result"
    }
   ],
   "source": [
    "result_no_lat_long[['species', 'verbatimlocality']][result_no_lat_long.verbatimlocality.notnull()]"
   ]
  },
  {
   "cell_type": "markdown",
   "metadata": {},
   "source": [
    "How many records with verbatim locality?"
   ]
  },
  {
   "cell_type": "code",
   "execution_count": 23,
   "metadata": {
    "collapsed": false
   },
   "outputs": [
    {
     "data": {
      "text/plain": [
       "52"
      ]
     },
     "execution_count": 23,
     "metadata": {},
     "output_type": "execute_result"
    }
   ],
   "source": [
    "result_no_lat_long[['species', 'verbatimlocality']][result_no_lat_long.verbatimlocality.notnull()].shape[0]"
   ]
  },
  {
   "cell_type": "markdown",
   "metadata": {},
   "source": [
    "#### If we group them by the basisofrecord, how many?"
   ]
  },
  {
   "cell_type": "code",
   "execution_count": 24,
   "metadata": {
    "collapsed": false
   },
   "outputs": [
    {
     "data": {
      "text/html": [
       "<div>\n",
       "<table border=\"1\" class=\"dataframe\">\n",
       "  <thead>\n",
       "    <tr style=\"text-align: right;\">\n",
       "      <th></th>\n",
       "      <th></th>\n",
       "      <th>count</th>\n",
       "    </tr>\n",
       "    <tr>\n",
       "      <th>species</th>\n",
       "      <th>basisofrecord</th>\n",
       "      <th></th>\n",
       "    </tr>\n",
       "  </thead>\n",
       "  <tbody>\n",
       "    <tr>\n",
       "      <th>Abactochromis labrosus</th>\n",
       "      <th>PRESERVED_SPECIMEN</th>\n",
       "      <td>6</td>\n",
       "    </tr>\n",
       "    <tr>\n",
       "      <th>Acanthobrama microlepis</th>\n",
       "      <th>PRESERVED_SPECIMEN</th>\n",
       "      <td>12</td>\n",
       "    </tr>\n",
       "    <tr>\n",
       "      <th>Acanthocobitis pavonacea</th>\n",
       "      <th>PRESERVED_SPECIMEN</th>\n",
       "      <td>1</td>\n",
       "    </tr>\n",
       "    <tr>\n",
       "      <th>Acentrogobius therezieni</th>\n",
       "      <th>PRESERVED_SPECIMEN</th>\n",
       "      <td>9</td>\n",
       "    </tr>\n",
       "    <tr>\n",
       "      <th>Acheilognathus deignani</th>\n",
       "      <th>PRESERVED_SPECIMEN</th>\n",
       "      <td>2</td>\n",
       "    </tr>\n",
       "    <tr>\n",
       "      <th>Acheilognathus meridianus</th>\n",
       "      <th>PRESERVED_SPECIMEN</th>\n",
       "      <td>1</td>\n",
       "    </tr>\n",
       "    <tr>\n",
       "      <th>Acrochordonichthys gyrinus</th>\n",
       "      <th>PRESERVED_SPECIMEN</th>\n",
       "      <td>2</td>\n",
       "    </tr>\n",
       "    <tr>\n",
       "      <th>Acrossocheilus microstoma</th>\n",
       "      <th>PRESERVED_SPECIMEN</th>\n",
       "      <td>1</td>\n",
       "    </tr>\n",
       "    <tr>\n",
       "      <th>Ailiichthys punctata</th>\n",
       "      <th>PRESERVED_SPECIMEN</th>\n",
       "      <td>4</td>\n",
       "    </tr>\n",
       "    <tr>\n",
       "      <th>Akysis manipurensis</th>\n",
       "      <th>PRESERVED_SPECIMEN</th>\n",
       "      <td>4</td>\n",
       "    </tr>\n",
       "    <tr>\n",
       "      <th>Akysis pictus</th>\n",
       "      <th>PRESERVED_SPECIMEN</th>\n",
       "      <td>4</td>\n",
       "    </tr>\n",
       "    <tr>\n",
       "      <th>Akysis portellus</th>\n",
       "      <th>PRESERVED_SPECIMEN</th>\n",
       "      <td>1</td>\n",
       "    </tr>\n",
       "    <tr>\n",
       "      <th>Alburnoides eichwaldii</th>\n",
       "      <th>PRESERVED_SPECIMEN</th>\n",
       "      <td>18</td>\n",
       "    </tr>\n",
       "    <tr>\n",
       "      <th>Alburnoides fasciatus</th>\n",
       "      <th>PRESERVED_SPECIMEN</th>\n",
       "      <td>14</td>\n",
       "    </tr>\n",
       "    <tr>\n",
       "      <th>Alburnoides gmelini</th>\n",
       "      <th>PRESERVED_SPECIMEN</th>\n",
       "      <td>4</td>\n",
       "    </tr>\n",
       "    <tr>\n",
       "      <th>Alburnoides kubanicus</th>\n",
       "      <th>PRESERVED_SPECIMEN</th>\n",
       "      <td>5</td>\n",
       "    </tr>\n",
       "    <tr>\n",
       "      <th>Alburnoides maculatus</th>\n",
       "      <th>PRESERVED_SPECIMEN</th>\n",
       "      <td>8</td>\n",
       "    </tr>\n",
       "    <tr>\n",
       "      <th>Alburnoides rossicus</th>\n",
       "      <th>PRESERVED_SPECIMEN</th>\n",
       "      <td>23</td>\n",
       "    </tr>\n",
       "    <tr>\n",
       "      <th>Alburnus escherichii</th>\n",
       "      <th>PRESERVED_SPECIMEN</th>\n",
       "      <td>4</td>\n",
       "    </tr>\n",
       "    <tr>\n",
       "      <th>Alburnus filippii</th>\n",
       "      <th>PRESERVED_SPECIMEN</th>\n",
       "      <td>38</td>\n",
       "    </tr>\n",
       "    <tr>\n",
       "      <th>Alburnus tarichi</th>\n",
       "      <th>PRESERVED_SPECIMEN</th>\n",
       "      <td>4</td>\n",
       "    </tr>\n",
       "    <tr>\n",
       "      <th>Alosa killarnensis</th>\n",
       "      <th>PRESERVED_SPECIMEN</th>\n",
       "      <td>1</td>\n",
       "    </tr>\n",
       "    <tr>\n",
       "      <th rowspan=\"2\" valign=\"top\">Ambastaia nigrolineata</th>\n",
       "      <th>OBSERVATION</th>\n",
       "      <td>1</td>\n",
       "    </tr>\n",
       "    <tr>\n",
       "      <th>PRESERVED_SPECIMEN</th>\n",
       "      <td>1</td>\n",
       "    </tr>\n",
       "    <tr>\n",
       "      <th>Ambastaia sidthimunki</th>\n",
       "      <th>PRESERVED_SPECIMEN</th>\n",
       "      <td>1</td>\n",
       "    </tr>\n",
       "    <tr>\n",
       "      <th>Amblyceps carinatum</th>\n",
       "      <th>PRESERVED_SPECIMEN</th>\n",
       "      <td>1</td>\n",
       "    </tr>\n",
       "    <tr>\n",
       "      <th>Amblyceps protentum</th>\n",
       "      <th>PRESERVED_SPECIMEN</th>\n",
       "      <td>1</td>\n",
       "    </tr>\n",
       "    <tr>\n",
       "      <th>Anabarilius alburnops</th>\n",
       "      <th>PRESERVED_SPECIMEN</th>\n",
       "      <td>6</td>\n",
       "    </tr>\n",
       "    <tr>\n",
       "      <th>Aphyosemion abacinum</th>\n",
       "      <th>PRESERVED_SPECIMEN</th>\n",
       "      <td>9</td>\n",
       "    </tr>\n",
       "    <tr>\n",
       "      <th>Aphyosemion alpha</th>\n",
       "      <th>PRESERVED_SPECIMEN</th>\n",
       "      <td>5</td>\n",
       "    </tr>\n",
       "  </tbody>\n",
       "</table>\n",
       "</div>"
      ],
      "text/plain": [
       "                                               count\n",
       "species                    basisofrecord            \n",
       "Abactochromis labrosus     PRESERVED_SPECIMEN      6\n",
       "Acanthobrama microlepis    PRESERVED_SPECIMEN     12\n",
       "Acanthocobitis pavonacea   PRESERVED_SPECIMEN      1\n",
       "Acentrogobius therezieni   PRESERVED_SPECIMEN      9\n",
       "Acheilognathus deignani    PRESERVED_SPECIMEN      2\n",
       "Acheilognathus meridianus  PRESERVED_SPECIMEN      1\n",
       "Acrochordonichthys gyrinus PRESERVED_SPECIMEN      2\n",
       "Acrossocheilus microstoma  PRESERVED_SPECIMEN      1\n",
       "Ailiichthys punctata       PRESERVED_SPECIMEN      4\n",
       "Akysis manipurensis        PRESERVED_SPECIMEN      4\n",
       "Akysis pictus              PRESERVED_SPECIMEN      4\n",
       "Akysis portellus           PRESERVED_SPECIMEN      1\n",
       "Alburnoides eichwaldii     PRESERVED_SPECIMEN     18\n",
       "Alburnoides fasciatus      PRESERVED_SPECIMEN     14\n",
       "Alburnoides gmelini        PRESERVED_SPECIMEN      4\n",
       "Alburnoides kubanicus      PRESERVED_SPECIMEN      5\n",
       "Alburnoides maculatus      PRESERVED_SPECIMEN      8\n",
       "Alburnoides rossicus       PRESERVED_SPECIMEN     23\n",
       "Alburnus escherichii       PRESERVED_SPECIMEN      4\n",
       "Alburnus filippii          PRESERVED_SPECIMEN     38\n",
       "Alburnus tarichi           PRESERVED_SPECIMEN      4\n",
       "Alosa killarnensis         PRESERVED_SPECIMEN      1\n",
       "Ambastaia nigrolineata     OBSERVATION             1\n",
       "                           PRESERVED_SPECIMEN      1\n",
       "Ambastaia sidthimunki      PRESERVED_SPECIMEN      1\n",
       "Amblyceps carinatum        PRESERVED_SPECIMEN      1\n",
       "Amblyceps protentum        PRESERVED_SPECIMEN      1\n",
       "Anabarilius alburnops      PRESERVED_SPECIMEN      6\n",
       "Aphyosemion abacinum       PRESERVED_SPECIMEN      9\n",
       "Aphyosemion alpha          PRESERVED_SPECIMEN      5"
      ]
     },
     "execution_count": 24,
     "metadata": {},
     "output_type": "execute_result"
    }
   ],
   "source": [
    "grouped_no_lat_lon = pd.DataFrame()\n",
    "grouped_no_lat_lon['count'] = result_no_lat_long.groupby(['species', 'basisofrecord']).apply(lambda x: x['basisofrecord'].count())\n",
    "grouped_no_lat_lon.head(30)"
   ]
  },
  {
   "cell_type": "markdown",
   "metadata": {},
   "source": [
    "#### Which ones have at least 50 records (more likely we need at least 100 records in total per species, but let's keep the bar low still)"
   ]
  },
  {
   "cell_type": "code",
   "execution_count": 25,
   "metadata": {
    "collapsed": false
   },
   "outputs": [
    {
     "data": {
      "text/html": [
       "<div>\n",
       "<table border=\"1\" class=\"dataframe\">\n",
       "  <thead>\n",
       "    <tr style=\"text-align: right;\">\n",
       "      <th></th>\n",
       "      <th></th>\n",
       "      <th>count</th>\n",
       "    </tr>\n",
       "    <tr>\n",
       "      <th>species</th>\n",
       "      <th>basisofrecord</th>\n",
       "      <th></th>\n",
       "    </tr>\n",
       "  </thead>\n",
       "  <tbody>\n",
       "    <tr>\n",
       "      <th>Aphyosemion mimbon</th>\n",
       "      <th>PRESERVED_SPECIMEN</th>\n",
       "      <td>61</td>\n",
       "    </tr>\n",
       "    <tr>\n",
       "      <th>Barbus callensis</th>\n",
       "      <th>PRESERVED_SPECIMEN</th>\n",
       "      <td>122</td>\n",
       "    </tr>\n",
       "    <tr>\n",
       "      <th>Barbus ciscaucasicus</th>\n",
       "      <th>PRESERVED_SPECIMEN</th>\n",
       "      <td>673</td>\n",
       "    </tr>\n",
       "    <tr>\n",
       "      <th>Barbus fritschii</th>\n",
       "      <th>PRESERVED_SPECIMEN</th>\n",
       "      <td>95</td>\n",
       "    </tr>\n",
       "    <tr>\n",
       "      <th>Barbus petenyi</th>\n",
       "      <th>PRESERVED_SPECIMEN</th>\n",
       "      <td>553</td>\n",
       "    </tr>\n",
       "    <tr>\n",
       "      <th>Chondrostoma oxyrhynchum</th>\n",
       "      <th>PRESERVED_SPECIMEN</th>\n",
       "      <td>72</td>\n",
       "    </tr>\n",
       "    <tr>\n",
       "      <th>Cobitis stephanidisi</th>\n",
       "      <th>PRESERVED_SPECIMEN</th>\n",
       "      <td>62</td>\n",
       "    </tr>\n",
       "    <tr>\n",
       "      <th>Coregonus nilssoni</th>\n",
       "      <th>PRESERVED_SPECIMEN</th>\n",
       "      <td>59</td>\n",
       "    </tr>\n",
       "    <tr>\n",
       "      <th>Distichodus nefasch</th>\n",
       "      <th>PRESERVED_SPECIMEN</th>\n",
       "      <td>54</td>\n",
       "    </tr>\n",
       "    <tr>\n",
       "      <th>Haplochromis bareli</th>\n",
       "      <th>PRESERVED_SPECIMEN</th>\n",
       "      <td>117</td>\n",
       "    </tr>\n",
       "    <tr>\n",
       "      <th>Haplochromis crocopeplus</th>\n",
       "      <th>PRESERVED_SPECIMEN</th>\n",
       "      <td>65</td>\n",
       "    </tr>\n",
       "    <tr>\n",
       "      <th>Haplochromis dentex</th>\n",
       "      <th>PRESERVED_SPECIMEN</th>\n",
       "      <td>186</td>\n",
       "    </tr>\n",
       "    <tr>\n",
       "      <th>Haplochromis heusinkveldi</th>\n",
       "      <th>PRESERVED_SPECIMEN</th>\n",
       "      <td>1062</td>\n",
       "    </tr>\n",
       "    <tr>\n",
       "      <th>Haplochromis mento</th>\n",
       "      <th>PRESERVED_SPECIMEN</th>\n",
       "      <td>63</td>\n",
       "    </tr>\n",
       "    <tr>\n",
       "      <th>Haplochromis michaeli</th>\n",
       "      <th>PRESERVED_SPECIMEN</th>\n",
       "      <td>173</td>\n",
       "    </tr>\n",
       "    <tr>\n",
       "      <th>Haplochromis perrieri</th>\n",
       "      <th>PRESERVED_SPECIMEN</th>\n",
       "      <td>340</td>\n",
       "    </tr>\n",
       "    <tr>\n",
       "      <th>Haplochromis pyrrhopteryx</th>\n",
       "      <th>PRESERVED_SPECIMEN</th>\n",
       "      <td>54</td>\n",
       "    </tr>\n",
       "    <tr>\n",
       "      <th>Haplochromis tanaos</th>\n",
       "      <th>PRESERVED_SPECIMEN</th>\n",
       "      <td>140</td>\n",
       "    </tr>\n",
       "    <tr>\n",
       "      <th>Haplochromis xenostoma</th>\n",
       "      <th>PRESERVED_SPECIMEN</th>\n",
       "      <td>53</td>\n",
       "    </tr>\n",
       "    <tr>\n",
       "      <th>Oxynoemacheilus brandtii</th>\n",
       "      <th>PRESERVED_SPECIMEN</th>\n",
       "      <td>52</td>\n",
       "    </tr>\n",
       "  </tbody>\n",
       "</table>\n",
       "</div>"
      ],
      "text/plain": [
       "                                              count\n",
       "species                   basisofrecord            \n",
       "Aphyosemion mimbon        PRESERVED_SPECIMEN     61\n",
       "Barbus callensis          PRESERVED_SPECIMEN    122\n",
       "Barbus ciscaucasicus      PRESERVED_SPECIMEN    673\n",
       "Barbus fritschii          PRESERVED_SPECIMEN     95\n",
       "Barbus petenyi            PRESERVED_SPECIMEN    553\n",
       "Chondrostoma oxyrhynchum  PRESERVED_SPECIMEN     72\n",
       "Cobitis stephanidisi      PRESERVED_SPECIMEN     62\n",
       "Coregonus nilssoni        PRESERVED_SPECIMEN     59\n",
       "Distichodus nefasch       PRESERVED_SPECIMEN     54\n",
       "Haplochromis bareli       PRESERVED_SPECIMEN    117\n",
       "Haplochromis crocopeplus  PRESERVED_SPECIMEN     65\n",
       "Haplochromis dentex       PRESERVED_SPECIMEN    186\n",
       "Haplochromis heusinkveldi PRESERVED_SPECIMEN   1062\n",
       "Haplochromis mento        PRESERVED_SPECIMEN     63\n",
       "Haplochromis michaeli     PRESERVED_SPECIMEN    173\n",
       "Haplochromis perrieri     PRESERVED_SPECIMEN    340\n",
       "Haplochromis pyrrhopteryx PRESERVED_SPECIMEN     54\n",
       "Haplochromis tanaos       PRESERVED_SPECIMEN    140\n",
       "Haplochromis xenostoma    PRESERVED_SPECIMEN     53\n",
       "Oxynoemacheilus brandtii  PRESERVED_SPECIMEN     52"
      ]
     },
     "execution_count": 25,
     "metadata": {},
     "output_type": "execute_result"
    }
   ],
   "source": [
    "grouped_no_lat_lon[grouped_no_lat_lon['count']>50]"
   ]
  },
  {
   "cell_type": "markdown",
   "metadata": {},
   "source": [
    "According to http://gbif.github.io/gbif-api/apidocs/org/gbif/api/vocabulary/BasisOfRecord.html\n",
    "these are different from \"real\" human observations. But I'm not sure what PRESERVED_SPECIMEN is exactly?"
   ]
  },
  {
   "cell_type": "markdown",
   "metadata": {},
   "source": [
    "#### What about the year in which these observations have been recorded? For those after 1960... (note that not all records have a year or any date information)"
   ]
  },
  {
   "cell_type": "code",
   "execution_count": 26,
   "metadata": {
    "collapsed": false
   },
   "outputs": [
    {
     "data": {
      "text/html": [
       "<div>\n",
       "<table border=\"1\" class=\"dataframe\">\n",
       "  <thead>\n",
       "    <tr style=\"text-align: right;\">\n",
       "      <th></th>\n",
       "      <th>year</th>\n",
       "    </tr>\n",
       "    <tr>\n",
       "      <th>species</th>\n",
       "      <th></th>\n",
       "    </tr>\n",
       "  </thead>\n",
       "  <tbody>\n",
       "    <tr>\n",
       "      <th>Acanthobrama microlepis</th>\n",
       "      <td>[2006.0, 2006.0, 1966.0, 1966.0, 1966.0]</td>\n",
       "    </tr>\n",
       "    <tr>\n",
       "      <th>Acentrogobius therezieni</th>\n",
       "      <td>[1963.0, 1963.0, 1963.0]</td>\n",
       "    </tr>\n",
       "    <tr>\n",
       "      <th>Acrochordonichthys gyrinus</th>\n",
       "      <td>[1995.0, 1995.0]</td>\n",
       "    </tr>\n",
       "    <tr>\n",
       "      <th>Alburnoides eichwaldii</th>\n",
       "      <td>[2006.0, 2006.0, 2006.0, 2006.0, 2006.0]</td>\n",
       "    </tr>\n",
       "    <tr>\n",
       "      <th>Alburnoides fasciatus</th>\n",
       "      <td>[2010.0, 2010.0, 2007.0, 2007.0, 2007.0, 2006....</td>\n",
       "    </tr>\n",
       "    <tr>\n",
       "      <th>Alburnoides gmelini</th>\n",
       "      <td>[2004.0, 2004.0, 2004.0, 2004.0]</td>\n",
       "    </tr>\n",
       "    <tr>\n",
       "      <th>Alburnoides rossicus</th>\n",
       "      <td>[2012.0, 2012.0, 2012.0, 2012.0]</td>\n",
       "    </tr>\n",
       "    <tr>\n",
       "      <th>Alburnus escherichii</th>\n",
       "      <td>[2006.0, 2006.0, 1990.0, 1990.0]</td>\n",
       "    </tr>\n",
       "    <tr>\n",
       "      <th>Alburnus filippii</th>\n",
       "      <td>[2012.0, 2010.0, 2006.0]</td>\n",
       "    </tr>\n",
       "    <tr>\n",
       "      <th>Ambastaia nigrolineata</th>\n",
       "      <td>[2011.0]</td>\n",
       "    </tr>\n",
       "    <tr>\n",
       "      <th>Ambastaia sidthimunki</th>\n",
       "      <td>[2007.0]</td>\n",
       "    </tr>\n",
       "    <tr>\n",
       "      <th>Amblyceps protentum</th>\n",
       "      <td>[2012.0]</td>\n",
       "    </tr>\n",
       "    <tr>\n",
       "      <th>Aphyosemion abacinum</th>\n",
       "      <td>[1976.0, 1976.0]</td>\n",
       "    </tr>\n",
       "    <tr>\n",
       "      <th>Aphyosemion alpha</th>\n",
       "      <td>[1994.0, 1993.0, 1993.0, 1993.0]</td>\n",
       "    </tr>\n",
       "    <tr>\n",
       "      <th>Aphyosemion chauchei</th>\n",
       "      <td>[1978.0, 1978.0]</td>\n",
       "    </tr>\n",
       "    <tr>\n",
       "      <th>Aphyosemion congicum</th>\n",
       "      <td>[1971.0]</td>\n",
       "    </tr>\n",
       "    <tr>\n",
       "      <th>Aphyosemion exigoideum</th>\n",
       "      <td>[1977.0, 1976.0]</td>\n",
       "    </tr>\n",
       "    <tr>\n",
       "      <th>Aphyosemion mimbon</th>\n",
       "      <td>[1976.0]</td>\n",
       "    </tr>\n",
       "    <tr>\n",
       "      <th>Aphyosemion seegersi</th>\n",
       "      <td>[1978.0, 1978.0]</td>\n",
       "    </tr>\n",
       "    <tr>\n",
       "      <th>Aplocheilichthys antinorii</th>\n",
       "      <td>[1982.0]</td>\n",
       "    </tr>\n",
       "    <tr>\n",
       "      <th>Arius madagascariensis</th>\n",
       "      <td>[2002.0, 1988.0, 1988.0, 1964.0, 1962.0, 1962.0]</td>\n",
       "    </tr>\n",
       "    <tr>\n",
       "      <th>Astatoreochromis vanderhorsti</th>\n",
       "      <td>[1992.0, 1992.0, 1992.0, 1991.0, 1983.0]</td>\n",
       "    </tr>\n",
       "    <tr>\n",
       "      <th>Astatotilapia flaviijosephi</th>\n",
       "      <td>[2002.0, 1972.0]</td>\n",
       "    </tr>\n",
       "    <tr>\n",
       "      <th>Aulonocara ethelwynnae</th>\n",
       "      <td>[1985.0, 1985.0]</td>\n",
       "    </tr>\n",
       "    <tr>\n",
       "      <th>Aulonocara hansbaenschi</th>\n",
       "      <td>[1985.0, 1985.0]</td>\n",
       "    </tr>\n",
       "    <tr>\n",
       "      <th>Aulonocara korneliae</th>\n",
       "      <td>[1985.0, 1985.0]</td>\n",
       "    </tr>\n",
       "    <tr>\n",
       "      <th>Aulonocara maylandi</th>\n",
       "      <td>[1985.0, 1984.0, 1980.0]</td>\n",
       "    </tr>\n",
       "    <tr>\n",
       "      <th>Aulonocara steveni</th>\n",
       "      <td>[1985.0, 1985.0]</td>\n",
       "    </tr>\n",
       "    <tr>\n",
       "      <th>Aulonocara stonemani</th>\n",
       "      <td>[1973.0, 1971.0, 1971.0, 1971.0]</td>\n",
       "    </tr>\n",
       "    <tr>\n",
       "      <th>Barbus aliciae</th>\n",
       "      <td>[1980.0]</td>\n",
       "    </tr>\n",
       "  </tbody>\n",
       "</table>\n",
       "</div>"
      ],
      "text/plain": [
       "                                                                            year\n",
       "species                                                                         \n",
       "Acanthobrama microlepis                 [2006.0, 2006.0, 1966.0, 1966.0, 1966.0]\n",
       "Acentrogobius therezieni                                [1963.0, 1963.0, 1963.0]\n",
       "Acrochordonichthys gyrinus                                      [1995.0, 1995.0]\n",
       "Alburnoides eichwaldii                  [2006.0, 2006.0, 2006.0, 2006.0, 2006.0]\n",
       "Alburnoides fasciatus          [2010.0, 2010.0, 2007.0, 2007.0, 2007.0, 2006....\n",
       "Alburnoides gmelini                             [2004.0, 2004.0, 2004.0, 2004.0]\n",
       "Alburnoides rossicus                            [2012.0, 2012.0, 2012.0, 2012.0]\n",
       "Alburnus escherichii                            [2006.0, 2006.0, 1990.0, 1990.0]\n",
       "Alburnus filippii                                       [2012.0, 2010.0, 2006.0]\n",
       "Ambastaia nigrolineata                                                  [2011.0]\n",
       "Ambastaia sidthimunki                                                   [2007.0]\n",
       "Amblyceps protentum                                                     [2012.0]\n",
       "Aphyosemion abacinum                                            [1976.0, 1976.0]\n",
       "Aphyosemion alpha                               [1994.0, 1993.0, 1993.0, 1993.0]\n",
       "Aphyosemion chauchei                                            [1978.0, 1978.0]\n",
       "Aphyosemion congicum                                                    [1971.0]\n",
       "Aphyosemion exigoideum                                          [1977.0, 1976.0]\n",
       "Aphyosemion mimbon                                                      [1976.0]\n",
       "Aphyosemion seegersi                                            [1978.0, 1978.0]\n",
       "Aplocheilichthys antinorii                                              [1982.0]\n",
       "Arius madagascariensis          [2002.0, 1988.0, 1988.0, 1964.0, 1962.0, 1962.0]\n",
       "Astatoreochromis vanderhorsti           [1992.0, 1992.0, 1992.0, 1991.0, 1983.0]\n",
       "Astatotilapia flaviijosephi                                     [2002.0, 1972.0]\n",
       "Aulonocara ethelwynnae                                          [1985.0, 1985.0]\n",
       "Aulonocara hansbaenschi                                         [1985.0, 1985.0]\n",
       "Aulonocara korneliae                                            [1985.0, 1985.0]\n",
       "Aulonocara maylandi                                     [1985.0, 1984.0, 1980.0]\n",
       "Aulonocara steveni                                              [1985.0, 1985.0]\n",
       "Aulonocara stonemani                            [1973.0, 1971.0, 1971.0, 1971.0]\n",
       "Barbus aliciae                                                          [1980.0]"
      ]
     },
     "execution_count": 26,
     "metadata": {},
     "output_type": "execute_result"
    }
   ],
   "source": [
    "result_no_lat_long_years = result_no_lat_long[['species','year']][result_no_lat_long.year > 1960].groupby('species')['year'].apply(lambda x:x.tolist())\n",
    "pd.DataFrame(result_no_lat_long_years).head(30)"
   ]
  },
  {
   "cell_type": "code",
   "execution_count": null,
   "metadata": {
    "collapsed": false
   },
   "outputs": [
    {
     "data": {
      "text/plain": [
       "228"
      ]
     },
     "execution_count": 27,
     "metadata": {},
     "output_type": "execute_result"
    }
   ],
   "source": [
    "pd.DataFrame(result_no_lat_long_years).shape[0]"
   ]
  },
  {
   "cell_type": "markdown",
   "metadata": {},
   "source": [
    "228 unique species with records after 1960, but no useful locality info about them anyways. I think all records without lat/lon will need to be discarded, for the 600 species.\n",
    "\n",
    "Further selection criteria..."
   ]
  },
  {
   "cell_type": "markdown",
   "metadata": {},
   "source": [
    "#### 2. Records with latitude/longitude: how many? how many with year>1960? year>1990? Without any date? accuracy of location?\n",
    "warning: below takes long to run, processes occurrences for more than 5000 unique species"
   ]
  },
  {
   "cell_type": "code",
   "execution_count": null,
   "metadata": {
    "collapsed": false
   },
   "outputs": [
    {
     "name": "stdout",
     "output_type": "stream",
     "text": [
      "Processing..  100\n",
      "Processing..  200\n",
      "Processing..  300\n",
      "Processing..  400\n",
      "Processing..  500\n",
      "Processing..  600\n",
      "Processing..  700\n",
      "Processing..  800\n",
      "Processing..  900\n",
      "Processing..  1000\n",
      "Processing..  1100\n",
      "Processing..  1200\n",
      "Processing..  1300\n",
      "Processing..  1400\n",
      "Processing..  1500\n",
      "Processing..  1600\n",
      "Processing..  1700\n",
      "Processing..  1800\n",
      "Processing..  1900\n",
      "Processing..  2000\n"
     ]
    }
   ],
   "source": [
    "import pandas as pd\n",
    "important_columns1 = ['species', 'dateidentified', 'eventdate', 'basisofrecord', 'decimallatitude','decimallongitude', 'day', 'month', 'year' ]\n",
    "result_with_lat_long = pd.DataFrame(columns=important_columns1)\n",
    "counter = 0\n",
    "for df in pd.read_msgpack(\"../data/fish/selection/merged.msg\", iterator=True):\n",
    "    counter += 1\n",
    "    if (counter%100==0):\n",
    "        print(\"Processing.. \", counter)\n",
    "    if \"decimallatitude\" in df.columns.tolist() and \"decimallongitude\" in df.columns.tolist():\n",
    "        common_columns = list(set(important_columns1).intersection(set(df.columns.tolist())))\n",
    "        result_with_lat_long = result_with_lat_long.append(df[common_columns], ignore_index=True)\n",
    "      "
   ]
  },
  {
   "cell_type": "code",
   "execution_count": null,
   "metadata": {
    "collapsed": false
   },
   "outputs": [],
   "source": [
    "result_with_lat_long = result_with_lat_long[result_with_lat_long.decimallatitude.notnull() & result_with_lat_long.decimallongitude.notnull()]"
   ]
  },
  {
   "cell_type": "code",
   "execution_count": null,
   "metadata": {
    "collapsed": false
   },
   "outputs": [],
   "source": [
    "result_with_lat_long.shape[0] # this-many occurrence records"
   ]
  },
  {
   "cell_type": "code",
   "execution_count": null,
   "metadata": {
    "collapsed": false
   },
   "outputs": [],
   "source": [
    "result_with_lat_long.shape[0]/ total_records * 100 # percentage of records out of *ALL* species records"
   ]
  },
  {
   "cell_type": "markdown",
   "metadata": {},
   "source": [
    "### How many unique species have occurrence records with latitude/longitude?"
   ]
  },
  {
   "cell_type": "code",
   "execution_count": null,
   "metadata": {
    "collapsed": false
   },
   "outputs": [],
   "source": [
    "result_with_lat_long['species'].unique().size"
   ]
  },
  {
   "cell_type": "markdown",
   "metadata": {},
   "source": [
    "### What percentage of the occurrence records HAVE latitude/longitude, but NO event date?"
   ]
  },
  {
   "cell_type": "code",
   "execution_count": null,
   "metadata": {
    "collapsed": false
   },
   "outputs": [],
   "source": [
    "result_with_lat_long_no_date = result_with_lat_long[(result_with_lat_long.eventdate.isnull()) & (result_with_lat_long.year.isnull())]"
   ]
  },
  {
   "cell_type": "code",
   "execution_count": null,
   "metadata": {
    "collapsed": false
   },
   "outputs": [],
   "source": [
    "result_with_lat_long_no_date.shape[0]/result_with_lat_long.shape[0] * 100 # 12% "
   ]
  },
  {
   "cell_type": "markdown",
   "metadata": {},
   "source": [
    "Best to take into account all observations which have either \"year\" or \"eventdate\" present. (or both)\n",
    "Let's group them by species name, and count the number of observation records."
   ]
  },
  {
   "cell_type": "code",
   "execution_count": null,
   "metadata": {
    "collapsed": false
   },
   "outputs": [],
   "source": [
    "grouped_lat_long_year_or_eventdate = pd.DataFrame()\n",
    "grouped_lat_long_year_or_eventdate['count'] = result_with_lat_long[result_with_lat_long.eventdate.notnull() | result_with_lat_long.year.notnull()].groupby(['species']).apply(lambda x: x['species'].count())\n",
    "grouped_lat_long_year_or_eventdate.head(10) # peak at the top 10 only"
   ]
  },
  {
   "cell_type": "markdown",
   "metadata": {},
   "source": [
    "Notice that some of them have very few observations. We will filter them out later.\n",
    "### How many unique species HAVE records with latitude/longitude, AND date of event (at least year)"
   ]
  },
  {
   "cell_type": "code",
   "execution_count": null,
   "metadata": {
    "collapsed": false
   },
   "outputs": [],
   "source": [
    "grouped_lat_long_year_or_eventdate.shape[0]"
   ]
  },
  {
   "cell_type": "markdown",
   "metadata": {},
   "source": [
    "#### What percentage of observations is that?"
   ]
  },
  {
   "cell_type": "code",
   "execution_count": null,
   "metadata": {
    "collapsed": false
   },
   "outputs": [],
   "source": [
    "100 * result_with_lat_long[result_with_lat_long.eventdate.notnull() | result_with_lat_long.year.notnull()].shape[0] / result_with_lat_long.shape[0]"
   ]
  },
  {
   "cell_type": "markdown",
   "metadata": {},
   "source": [
    "### How many unique species with latitude/longitude, AND event date after 1960?"
   ]
  },
  {
   "cell_type": "code",
   "execution_count": null,
   "metadata": {
    "collapsed": false
   },
   "outputs": [],
   "source": [
    "year_or_eventdate_1960 = result_with_lat_long[['species', 'year', 'eventdate']][(result_with_lat_long.year>1960) | (result_with_lat_long.eventdate>\"1960\")]\n",
    "\n",
    "grouped_year_or_eventdate_1960 = pd.DataFrame()\n",
    "grouped_year_or_eventdate_1960['numobservations'] = year_or_eventdate_1960.groupby(['species']).apply(lambda x: x['species'].count())\n",
    "grouped_year_or_eventdate_1960.shape[0]"
   ]
  },
  {
   "cell_type": "markdown",
   "metadata": {},
   "source": [
    "#### What percentage of observations is that?  (out of all records with latitude/longitude)?"
   ]
  },
  {
   "cell_type": "code",
   "execution_count": null,
   "metadata": {
    "collapsed": false
   },
   "outputs": [],
   "source": [
    "year_or_eventdate_1960.shape[0]/result_with_lat_long.shape[0] * 100"
   ]
  },
  {
   "cell_type": "markdown",
   "metadata": {},
   "source": [
    "### From these above, how many species have 50+ observations?"
   ]
  },
  {
   "cell_type": "code",
   "execution_count": null,
   "metadata": {
    "collapsed": false
   },
   "outputs": [],
   "source": [
    "grouped_year_or_eventdate_1960[grouped_year_or_eventdate_1960.numobservations>=50]"
   ]
  },
  {
   "cell_type": "markdown",
   "metadata": {},
   "source": [
    "Not that many. 1283 species.\n",
    "\n",
    "#### What percentage is that (out of all records with latitude/longitude)?"
   ]
  },
  {
   "cell_type": "code",
   "execution_count": null,
   "metadata": {
    "collapsed": false
   },
   "outputs": [],
   "source": [
    "(grouped_year_or_eventdate_1960[grouped_year_or_eventdate_1960.numobservations>50].numobservations.sum() / result_with_lat_long.shape[0]) * 100"
   ]
  },
  {
   "cell_type": "markdown",
   "metadata": {},
   "source": [
    "So 80% of all records with latitude and longitude, **are** with year>1960 **and** more than 50 occurrences per species.\n",
    "But  **note that this still covers only 1281 uniqute species (out of 6280 that we started with) **"
   ]
  },
  {
   "cell_type": "markdown",
   "metadata": {},
   "source": [
    "#### What percentage is that (out of all records with latitude/longitude AND year>1960)?"
   ]
  },
  {
   "cell_type": "code",
   "execution_count": null,
   "metadata": {
    "collapsed": false
   },
   "outputs": [],
   "source": [
    "100 * grouped_year_or_eventdate_1960[grouped_year_or_eventdate_1960.numobservations>50].numobservations.sum() / grouped_year_or_eventdate_1960.numobservations.sum()"
   ]
  },
  {
   "cell_type": "markdown",
   "metadata": {},
   "source": [
    "Ok that means most (98%) species with latitude/longitude after year 1960, **have** more than 50 records."
   ]
  },
  {
   "cell_type": "markdown",
   "metadata": {},
   "source": [
    "### If we limit to records >1990, it becomes even more worrying."
   ]
  },
  {
   "cell_type": "code",
   "execution_count": null,
   "metadata": {
    "collapsed": false
   },
   "outputs": [],
   "source": [
    "year_or_eventdate_1990 = result_with_lat_long[['species', 'year', 'eventdate', 'basisofrecord']][(result_with_lat_long.year>=1990) | (result_with_lat_long.eventdate>=\"1990\")]\n",
    "\n",
    "grouped_year_or_eventdate_1990 = pd.DataFrame()\n",
    "grouped_year_or_eventdate_1990['numobservations'] = year_or_eventdate_1990.groupby(['species']).apply(lambda x: x['species'].count())\n",
    "grouped_year_or_eventdate_1990.shape[0] # number of unique species"
   ]
  },
  {
   "cell_type": "markdown",
   "metadata": {},
   "source": [
    "#### What percentage of observations is that?  (out of all records with latitude/longitude)?"
   ]
  },
  {
   "cell_type": "code",
   "execution_count": null,
   "metadata": {
    "collapsed": false
   },
   "outputs": [],
   "source": [
    "year_or_eventdate_1990.shape[0]/result_with_lat_long.shape[0] * 100"
   ]
  },
  {
   "cell_type": "markdown",
   "metadata": {},
   "source": [
    "### From these, how many species have 50+ observations?"
   ]
  },
  {
   "cell_type": "code",
   "execution_count": null,
   "metadata": {
    "collapsed": false
   },
   "outputs": [],
   "source": [
    "grouped_year_or_eventdate_1990[grouped_year_or_eventdate_1990.numobservations>=50]"
   ]
  },
  {
   "cell_type": "markdown",
   "metadata": {},
   "source": [
    "## Select a representative set of species for testing workflow\n",
    "From meeting: ***The test set should include at least 1) the species for which lab test data on thermal tolerance are available and 2) species with very small and very large ranges, in order to find out whether the point sampling and modelling also works for these extremes.***"
   ]
  },
  {
   "cell_type": "markdown",
   "metadata": {},
   "source": [
    "The non_extinct_fish dataframe is sorted in ascending order, according to the area size. Take the last binomial.\n",
    "\n",
    "### Largest area"
   ]
  },
  {
   "cell_type": "code",
   "execution_count": null,
   "metadata": {
    "collapsed": false
   },
   "outputs": [],
   "source": [
    "non_extinct_fish.tail(1).binomial"
   ]
  },
  {
   "cell_type": "markdown",
   "metadata": {},
   "source": [
    "See all the records(areas) for this binomial"
   ]
  },
  {
   "cell_type": "code",
   "execution_count": null,
   "metadata": {
    "collapsed": false
   },
   "outputs": [],
   "source": [
    "non_extinct_fish[non_extinct_fish.binomial==\"Esox lucius\"]"
   ]
  },
  {
   "cell_type": "code",
   "execution_count": null,
   "metadata": {
    "collapsed": false
   },
   "outputs": [],
   "source": [
    "esox_lucius = IUCNSpecies(name_species=\"Esox lucius\")"
   ]
  },
  {
   "cell_type": "code",
   "execution_count": null,
   "metadata": {
    "collapsed": true
   },
   "outputs": [],
   "source": [
    "esox_lucius.set_data(non_extinct_fish[non_extinct_fish.binomial==\"Esox lucius\"])"
   ]
  },
  {
   "cell_type": "code",
   "execution_count": null,
   "metadata": {
    "collapsed": false
   },
   "outputs": [],
   "source": [
    "esox_lucius.save_shapefile(\"../data/fish/selection/esox_lucius\")"
   ]
  },
  {
   "cell_type": "code",
   "execution_count": null,
   "metadata": {
    "collapsed": false
   },
   "outputs": [],
   "source": [
    "esox_lucius.plot_species_occurrence()"
   ]
  },
  {
   "cell_type": "markdown",
   "metadata": {},
   "source": [
    "### One with the smallest area"
   ]
  },
  {
   "cell_type": "code",
   "execution_count": null,
   "metadata": {
    "collapsed": false
   },
   "outputs": [],
   "source": [
    "non_extinct_fish.head(1).binomial"
   ]
  },
  {
   "cell_type": "markdown",
   "metadata": {},
   "source": [
    "See all the records(areas) for this binomial"
   ]
  },
  {
   "cell_type": "code",
   "execution_count": null,
   "metadata": {
    "collapsed": false
   },
   "outputs": [],
   "source": [
    "non_extinct_fish[non_extinct_fish.binomial==\"Astatotilapia burtoni\"]"
   ]
  },
  {
   "cell_type": "code",
   "execution_count": null,
   "metadata": {
    "collapsed": false
   },
   "outputs": [],
   "source": [
    "astatotilapia_burtoni = IUCNSpecies(name_species=\"Astatotilapia burtoni\")"
   ]
  },
  {
   "cell_type": "code",
   "execution_count": null,
   "metadata": {
    "collapsed": true
   },
   "outputs": [],
   "source": [
    "astatotilapia_burtoni.set_data(non_extinct_fish[non_extinct_fish.binomial==\"Astatotilapia burtoni\"])"
   ]
  },
  {
   "cell_type": "code",
   "execution_count": null,
   "metadata": {
    "collapsed": false
   },
   "outputs": [],
   "source": [
    "astatotilapia_burtoni.save_shapefile(\"../data/fish/selection/astatotilapia_burtoni\")"
   ]
  },
  {
   "cell_type": "code",
   "execution_count": null,
   "metadata": {
    "collapsed": false
   },
   "outputs": [],
   "source": [
    "astatotilapia_burtoni.plot_species_occurrence()"
   ]
  },
  {
   "cell_type": "markdown",
   "metadata": {},
   "source": [
    "This below is just another way of saving the data, i.e., not in a shapefile (which produces multiple files in a separate folder), but a \"pickled\" data in a single file, compressed. It is usually a lot faster than saving as a shape file, when there is big amounts of data to be saved."
   ]
  },
  {
   "cell_type": "code",
   "execution_count": null,
   "metadata": {
    "collapsed": false
   },
   "outputs": [],
   "source": [
    "astatotilapia_burtoni.save_data(dir_name=\"../data/fish/selection/\", method=\"pickle\")"
   ]
  },
  {
   "cell_type": "code",
   "execution_count": null,
   "metadata": {
    "collapsed": false
   },
   "outputs": [],
   "source": [
    "esox_lucius.save_data(dir_name=\"../data/fish/selection/\", method=\"pickle\")"
   ]
  },
  {
   "cell_type": "markdown",
   "metadata": {},
   "source": [
    "Since the records are individual shapes, and there could be multiple per species (binomial), let's group them\n",
    "by the species name, and apply a sum on the shape_area column. This will give us the total area (sum of all polygons) per-species. We want this in order to decide what our \"average\" species selection will be, for testing the workflow."
   ]
  },
  {
   "cell_type": "code",
   "execution_count": null,
   "metadata": {
    "collapsed": false
   },
   "outputs": [],
   "source": [
    "species_area_sum = non_extinct_fish.groupby('binomial')['shape_area'].apply(np.sum)"
   ]
  },
  {
   "cell_type": "code",
   "execution_count": null,
   "metadata": {
    "collapsed": false
   },
   "outputs": [],
   "source": [
    "species_area_sum.sort(inplace=True)"
   ]
  },
  {
   "cell_type": "code",
   "execution_count": null,
   "metadata": {
    "collapsed": false
   },
   "outputs": [],
   "source": [
    "species_area_sum.head(10)"
   ]
  },
  {
   "cell_type": "code",
   "execution_count": null,
   "metadata": {
    "collapsed": false
   },
   "outputs": [],
   "source": [
    "species_area_sum.tail(10)"
   ]
  },
  {
   "cell_type": "code",
   "execution_count": null,
   "metadata": {
    "collapsed": false
   },
   "outputs": [],
   "source": [
    "species_area_sum.hist(bins=100)"
   ]
  },
  {
   "cell_type": "markdown",
   "metadata": {},
   "source": [
    "The distribution of areas (in km^2?) is exponential. The median value is rather low:"
   ]
  },
  {
   "cell_type": "code",
   "execution_count": null,
   "metadata": {
    "collapsed": false
   },
   "outputs": [],
   "source": [
    "species_area_sum.median()"
   ]
  },
  {
   "cell_type": "code",
   "execution_count": null,
   "metadata": {
    "collapsed": false
   },
   "outputs": [],
   "source": [
    "np.average(species_area_sum)"
   ]
  },
  {
   "cell_type": "code",
   "execution_count": null,
   "metadata": {
    "collapsed": false
   },
   "outputs": [],
   "source": [
    "species_area_sum[(species_area_sum>45) & (species_area_sum<46)]"
   ]
  },
  {
   "cell_type": "markdown",
   "metadata": {},
   "source": [
    "### This below is an interesting \"average case\" with 3 regions, two of which are rather small. It also has a region extending all the way into sea/ocean water"
   ]
  },
  {
   "cell_type": "code",
   "execution_count": null,
   "metadata": {
    "collapsed": false
   },
   "outputs": [],
   "source": [
    "non_extinct_fish[non_extinct_fish.binomial==\"Acrocheilus alutaceus\"]"
   ]
  },
  {
   "cell_type": "code",
   "execution_count": null,
   "metadata": {
    "collapsed": false
   },
   "outputs": [],
   "source": [
    "acrocheilus_alutaceus = IUCNSpecies(name_species=\"Acrocheilus alutaceus\")"
   ]
  },
  {
   "cell_type": "code",
   "execution_count": null,
   "metadata": {
    "collapsed": true
   },
   "outputs": [],
   "source": [
    "acrocheilus_alutaceus.set_data(non_extinct_fish[non_extinct_fish.binomial==\"Acrocheilus alutaceus\"])"
   ]
  },
  {
   "cell_type": "code",
   "execution_count": null,
   "metadata": {
    "collapsed": false
   },
   "outputs": [],
   "source": [
    "acrocheilus_alutaceus.plot_species_occurrence()"
   ]
  },
  {
   "cell_type": "code",
   "execution_count": null,
   "metadata": {
    "collapsed": false
   },
   "outputs": [],
   "source": [
    "acrocheilus_alutaceus.save_data(dir_name=\"../data/fish/selection/\", method=\"pickle\")"
   ]
  },
  {
   "cell_type": "code",
   "execution_count": null,
   "metadata": {
    "collapsed": false
   },
   "outputs": [],
   "source": [
    "acrocheilus_alutaceus.save_shapefile(\"../data/fish/selection/acrocheilus_alutaceus\")"
   ]
  },
  {
   "cell_type": "markdown",
   "metadata": {},
   "source": [
    "The individual polygons are below. They are also \"not valid\" geometries, makes them interesting for case study."
   ]
  },
  {
   "cell_type": "code",
   "execution_count": null,
   "metadata": {
    "collapsed": false
   },
   "outputs": [],
   "source": [
    "non_extinct_fish.loc[10322].geometry"
   ]
  },
  {
   "cell_type": "code",
   "execution_count": null,
   "metadata": {
    "collapsed": false
   },
   "outputs": [],
   "source": [
    "non_extinct_fish.loc[10320].geometry"
   ]
  },
  {
   "cell_type": "code",
   "execution_count": null,
   "metadata": {
    "collapsed": false
   },
   "outputs": [],
   "source": [
    "non_extinct_fish.loc[10321].geometry"
   ]
  },
  {
   "cell_type": "code",
   "execution_count": null,
   "metadata": {
    "collapsed": false
   },
   "outputs": [],
   "source": [
    "non_extinct_binomials = non_extinct_fish.binomial.unique().tolist()"
   ]
  },
  {
   "cell_type": "markdown",
   "metadata": {},
   "source": [
    "Just persist on storage the list of non-extinct binomials we got from IUCN, so we don't have to filter out again."
   ]
  },
  {
   "cell_type": "code",
   "execution_count": null,
   "metadata": {
    "collapsed": false
   },
   "outputs": [],
   "source": [
    "import pickle\n",
    "pickle.dump(non_extinct_binomials, open(\"../data/fish/selection/non_extinct_binomials.pkl\",\"wb\"))"
   ]
  },
  {
   "cell_type": "code",
   "execution_count": null,
   "metadata": {
    "collapsed": false
   },
   "outputs": [],
   "source": [
    "non_extinct_binomials.index(\"Perca fluviatilis\")"
   ]
  },
  {
   "cell_type": "markdown",
   "metadata": {},
   "source": [
    "Let's read Aafke's Excel with lab test data on thermal tolerance for species"
   ]
  },
  {
   "cell_type": "code",
   "execution_count": null,
   "metadata": {
    "collapsed": false
   },
   "outputs": [],
   "source": [
    "thermal_tolerance_df = pd.read_excel(\"../data/fish/selection/Lethal_temperature_freshwater_fish_July2016.xlsx\")\n",
    "thermal_tolerance_df.head(10)"
   ]
  },
  {
   "cell_type": "code",
   "execution_count": null,
   "metadata": {
    "collapsed": false
   },
   "outputs": [],
   "source": [
    "thermal_tolerance_df.columns"
   ]
  },
  {
   "cell_type": "code",
   "execution_count": null,
   "metadata": {
    "collapsed": false
   },
   "outputs": [],
   "source": [
    "lab_data_list = thermal_tolerance_df['Species '].tolist()"
   ]
  },
  {
   "cell_type": "code",
   "execution_count": null,
   "metadata": {
    "collapsed": true
   },
   "outputs": [],
   "source": [
    "species_with_lat_lon_after_1960 = year_or_eventdate_1960['species'].unique().tolist()"
   ]
  },
  {
   "cell_type": "markdown",
   "metadata": {},
   "source": [
    "For every species that is in the lab data list, select it if it is also in the IUCN list of non-extinct binomials, AND in the GBIF filtered-out list of species with latitude/longitude information and event year > 1960:"
   ]
  },
  {
   "cell_type": "code",
   "execution_count": null,
   "metadata": {
    "collapsed": false
   },
   "outputs": [],
   "source": [
    "filtered_list = []\n",
    "for species_name in lab_data_list:\n",
    "    if species_name.strip() in non_extinct_binomials and species_name.strip() in species_with_lat_lon_after_1960:\n",
    "        filtered_list.append(species_name.strip()) # strip() is just to remove spaces in names"
   ]
  },
  {
   "cell_type": "markdown",
   "metadata": {},
   "source": [
    "Now get the number of point records for this list of lab species (cross-checked with filtered GBIF records)"
   ]
  },
  {
   "cell_type": "code",
   "execution_count": null,
   "metadata": {
    "collapsed": false
   },
   "outputs": [],
   "source": [
    "year_or_eventdate_1960[year_or_eventdate_1960.species.isin(filtered_list)].groupby('species')['species'].apply(lambda x: x.count())"
   ]
  },
  {
   "cell_type": "code",
   "execution_count": null,
   "metadata": {
    "collapsed": false
   },
   "outputs": [],
   "source": [
    "tmp_series = year_or_eventdate_1960[year_or_eventdate_1960.species.isin(filtered_list)].groupby('species')['species'].apply(lambda x: x.count())"
   ]
  },
  {
   "cell_type": "code",
   "execution_count": null,
   "metadata": {
    "collapsed": false
   },
   "outputs": [],
   "source": [
    "tmp_series[tmp_series>100] # species with more than 50 records"
   ]
  },
  {
   "cell_type": "markdown",
   "metadata": {},
   "source": [
    "So this is our potential list to choose a representative example from"
   ]
  },
  {
   "cell_type": "code",
   "execution_count": null,
   "metadata": {
    "collapsed": false
   },
   "outputs": [],
   "source": [
    "tmp_series[tmp_series>100].keys()"
   ]
  },
  {
   "cell_type": "code",
   "execution_count": null,
   "metadata": {
    "collapsed": false
   },
   "outputs": [],
   "source": [
    "len(tmp_series[tmp_series>100].keys())"
   ]
  },
  {
   "cell_type": "code",
   "execution_count": null,
   "metadata": {
    "collapsed": false
   },
   "outputs": [],
   "source": [
    "len(filtered_list) # so 20 records are out of the original list because of not enough point-records"
   ]
  },
  {
   "cell_type": "code",
   "execution_count": null,
   "metadata": {
    "collapsed": false
   },
   "outputs": [],
   "source": [
    "tmp_series[tmp_series>100].sort_values()"
   ]
  },
  {
   "cell_type": "markdown",
   "metadata": {},
   "source": [
    "Get the GBIF/IUCN data on the first and the last species in the sorted list. That would be our representative choise for testing workflow."
   ]
  },
  {
   "cell_type": "code",
   "execution_count": null,
   "metadata": {
    "collapsed": false
   },
   "outputs": [],
   "source": [
    "lepidomeda_mollispinis = IUCNSpecies(name_species=\"Lepidomeda mollispinis\")\n",
    "lepidomeda_mollispinis.set_data(non_extinct_fish[non_extinct_fish.binomial==\"Lepidomeda mollispinis\"])\n",
    "lepidomeda_mollispinis.save_shapefile(\"../data/fish/selection/lepidomeda_mollispinis\")\n",
    "lepidomeda_mollispinis.plot_species_occurrence()\n",
    "\n",
    "my_species = GBIFSpecies(name_species=\"Lepidomeda mollispinis\")\n",
    "# download point-records on these species from: https://drive.google.com/open?id=0B9cazFzBtPuCMGlLMnQzb3hsQm8\n",
    "data = my_species.load_data(\"../data/fish/selection/Lepidomeda mollispinis2361895.pkl\")\n",
    "my_species.plot_species_occurrence()"
   ]
  },
  {
   "cell_type": "code",
   "execution_count": null,
   "metadata": {
    "collapsed": false
   },
   "outputs": [],
   "source": [
    "salmo_trutta = IUCNSpecies(name_species=\"Salmo trutta\")\n",
    "salmo_trutta.set_data(non_extinct_fish[non_extinct_fish.binomial==\"Salmo trutta\"])\n",
    "salmo_trutta.save_shapefile(\"../data/fish/selection/salmo_trutta\")\n",
    "salmo_trutta.plot_species_occurrence()\n",
    "\n",
    "my_species = GBIFSpecies(name_species=\"Salmo trutta\")\n",
    "# download point-records on these species from: https://drive.google.com/open?id=0B9cazFzBtPuCWEIySU5oU2ZfT2M \n",
    "data = my_species.load_data(\"../data/fish/selection/Salmo trutta8215487.pkl\")\n",
    "my_species.plot_species_occurrence() # warning: a lot of point-records, may take a while!!"
   ]
  },
  {
   "cell_type": "markdown",
   "metadata": {},
   "source": [
    "Interesting, lots of point-records outside the expert range? in particular in the US."
   ]
  },
  {
   "cell_type": "markdown",
   "metadata": {},
   "source": [
    "###  Let's overlay the point-records with the range-maps. This will filter-out only the point records that belong to the rangemap area.\n",
    "\n",
    "my_species contains the GBIF records, salmo_trutta contains the geometries."
   ]
  },
  {
   "cell_type": "code",
   "execution_count": null,
   "metadata": {
    "collapsed": false
   },
   "outputs": [],
   "source": [
    "my_species.overlay(salmo_trutta)"
   ]
  },
  {
   "cell_type": "code",
   "execution_count": null,
   "metadata": {
    "collapsed": false
   },
   "outputs": [],
   "source": [
    "my_species.plot_species_occurrence()"
   ]
  },
  {
   "cell_type": "code",
   "execution_count": null,
   "metadata": {
    "collapsed": true
   },
   "outputs": [],
   "source": []
  }
 ],
 "metadata": {
  "kernelspec": {
   "display_name": "Python 3",
   "language": "python",
   "name": "python3"
  },
  "language_info": {
   "codemirror_mode": {
    "name": "ipython",
    "version": 3
   },
   "file_extension": ".py",
   "mimetype": "text/x-python",
   "name": "python",
   "nbconvert_exporter": "python",
   "pygments_lexer": "ipython3",
   "version": "3.4.4"
  }
 },
 "nbformat": 4,
 "nbformat_minor": 0
}
