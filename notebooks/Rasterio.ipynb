{
 "cells": [
  {
   "cell_type": "code",
   "execution_count": 102,
   "metadata": {
    "collapsed": false
   },
   "outputs": [],
   "source": [
    "from geopandas import GeoDataFrame\n",
    "geoframe = GeoDataFrame.from_file(\"./TURTLES_FILTERED.shp\")"
   ]
  },
  {
   "cell_type": "code",
   "execution_count": 103,
   "metadata": {
    "collapsed": false
   },
   "outputs": [],
   "source": [
    "%matplotlib inline\n",
    "import matplotlib.pyplot as plt\n",
    "geometry = geoframe.geometry"
   ]
  },
  {
   "cell_type": "code",
   "execution_count": 104,
   "metadata": {
    "collapsed": false
   },
   "outputs": [],
   "source": [
    "my_geometry = geoframe.geometry.unary_union\n",
    "my_geometry.bounds\n",
    "no_data_value=0\n",
    "pixel_size=0.5\n",
    "#x_res=10\n",
    "#y_res=10\n",
    "x_min, y_min, x_max, y_max = my_geometry.bounds"
   ]
  },
  {
   "cell_type": "code",
   "execution_count": 105,
   "metadata": {
    "collapsed": false
   },
   "outputs": [
    {
     "data": {
      "text/plain": [
       "(-65.141845703125, -30.6082763671875, -57.53692626953125, -21.495849609375)"
      ]
     },
     "execution_count": 105,
     "metadata": {},
     "output_type": "execute_result"
    }
   ],
   "source": [
    "my_geometry.bounds"
   ]
  },
  {
   "cell_type": "code",
   "execution_count": 106,
   "metadata": {
    "collapsed": false
   },
   "outputs": [],
   "source": [
    "x_res = int((x_max - x_min) / pixel_size)\n",
    "y_res = int((y_max - y_min) / pixel_size)"
   ]
  },
  {
   "cell_type": "code",
   "execution_count": 107,
   "metadata": {
    "collapsed": false
   },
   "outputs": [
    {
     "name": "stdout",
     "output_type": "stream",
     "text": [
      "(-65.141845703125, 0.0002777777777777778, 0.0, -21.495849609375, 0.0, -0.0002777777777777778)\n"
     ]
    }
   ],
   "source": [
    "from rasterio.transform import Affine\n",
    "def transform_from_corner(ulx, uly, dx, dy):\n",
    "    return Affine.translation(ulx, uly)*Affine.scale(dx, -dy)\n",
    "\n",
    "print transform_from_corner(bounds[0], bounds[3], 1.0/3600, 1.0/3600).to_gdal()"
   ]
  },
  {
   "cell_type": "code",
   "execution_count": 110,
   "metadata": {
    "collapsed": false
   },
   "outputs": [
    {
     "name": "stdout",
     "output_type": "stream",
     "text": [
      "[[ 11  11  11  11 255 255  11  11  11 255 255  11  11  11  11]\n",
      " [ 11  11  11  11 255 255 255 255 255 255 255  11  11  11  11]\n",
      " [ 11  11  11  11  11 255 255 255 255 255 255 255  11  11  11]\n",
      " [ 11  11  11 255 255 255 255 255 255 255 255 255  11  11  11]\n",
      " [ 11  11  11  11  11 255 255 255 255 255 255 255  11  11  11]\n",
      " [ 11  11  11  11  11 255 255 255 255 255 255 255  11  11  11]\n",
      " [ 11  11 255 255 255 255 255 255 255 255 255 255 255  11  11]\n",
      " [255 255 255 255 255 255 255 255 255 255 255 255 255 255  11]\n",
      " [ 11 255 255 255 255 255 255 255 255 255 255 255 255 255  11]\n",
      " [ 11  11 255 255 255 255 255 255 255 255 255 255 255 255  11]\n",
      " [ 11  11  11 255 255 255 255 255 255 255 255 255 255 255 255]\n",
      " [ 11  11  11 255 255 255 255 255 255 255 255 255  11  11  11]\n",
      " [ 11  11  11 255 255 255 255 255 255 255 255 255  11  11  11]\n",
      " [ 11  11  11  11 255 255 255 255 255 255 255 255  11  11  11]\n",
      " [ 11  11  11  11 255 255 255 255 255 255 255  11  11  11  11]\n",
      " [ 11  11  11  11  11 255 255 255 255 255 255  11  11  11  11]\n",
      " [ 11  11  11  11  11  11  11 255 255 255  11  11  11  11  11]\n",
      " [ 11  11  11  11  11  11  11  11  11 255  11  11  11  11  11]]\n"
     ]
    }
   ],
   "source": [
    "from rasterio.features import rasterize\n",
    "from shapely.geometry import Polygon, mapping\n",
    "\n",
    "# image transform\n",
    "bounds = my_geometry.bounds\n",
    "\n",
    "# transform = transform_from_corner(x_min, y_max, pixel_size, pixel_size)\n",
    "transform = Affine.translation(x_min, y_max)*Affine.scale(pixel_size, -pixel_size)\n",
    "# Make raster image, burn in vector data which lies completely inside the bounding box\n",
    "output = rasterize([(my_geometry,255)], transform=transform, out_shape=(y_res, x_res), fill=11, default_value=1)\n",
    "print output"
   ]
  },
  {
   "cell_type": "code",
   "execution_count": 95,
   "metadata": {
    "collapsed": false
   },
   "outputs": [
    {
     "data": {
      "text/plain": [
       "<matplotlib.image.AxesImage at 0x7f6879e2d5d0>"
      ]
     },
     "execution_count": 95,
     "metadata": {},
     "output_type": "execute_result"
    },
    {
     "data": {
      "image/png": "[encoded data removed]",
      "text/plain": [
       "<matplotlib.figure.Figure at 0x7f6879e4b050>"
      ]
     },
     "metadata": {},
     "output_type": "display_data"
    }
   ],
   "source": [
    "plt.imshow(output, cmap=\"hot\", interpolation=\"none\")"
   ]
  },
  {
   "cell_type": "code",
   "execution_count": 111,
   "metadata": {
    "collapsed": false
   },
   "outputs": [],
   "source": [
    "import rasterio\n",
    "import numpy as np\n",
    "with rasterio.open(\n",
    "            \"test.tif\",\n",
    "            'w',\n",
    "            driver='GTiff',\n",
    "            width=x_res,\n",
    "            height=y_res,\n",
    "            count=1,\n",
    "            dtype=np.uint8,\n",
    "            nodata=no_data_value,\n",
    "            transform=transform,\n",
    "            crs={'init': \"EPSG:4326\"}) as out:\n",
    "        out.write(output.astype(np.uint8), indexes=1)\n",
    "\n",
    "out.close()"
   ]
  },
  {
   "cell_type": "code",
   "execution_count": null,
   "metadata": {
    "collapsed": false
   },
   "outputs": [],
   "source": []
  },
  {
   "cell_type": "code",
   "execution_count": null,
   "metadata": {
    "collapsed": true
   },
   "outputs": [],
   "source": []
  }
 ],
 "metadata": {
  "kernelspec": {
   "display_name": "Python 3",
   "language": "python",
   "name": "python3"
  },
  "language_info": {
   "codemirror_mode": {
    "name": "ipython",
    "version": 3
   },
   "file_extension": ".py",
   "mimetype": "text/x-python",
   "name": "python",
   "nbconvert_exporter": "python",
   "pygments_lexer": "ipython3",
   "version": "3.4.4"
  }
 },
 "nbformat": 4,
 "nbformat_minor": 0
}
